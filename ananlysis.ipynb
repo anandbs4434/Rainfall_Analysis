{
 "cells": [
  {
   "cell_type": "code",
   "execution_count": 13,
   "metadata": {},
   "outputs": [],
   "source": [
    "import pandas as pd\n",
    "import numpy as np\n",
    "import seaborn as sns\n",
    "import plotly.express as px\n",
    "import plotly.graph_objects as go\n",
    "import matplotlib.pyplot as plt"
   ]
  },
  {
   "cell_type": "code",
   "execution_count": 26,
   "metadata": {},
   "outputs": [
    {
     "data": {
      "text/html": [
       "<div>\n",
       "<style scoped>\n",
       "    .dataframe tbody tr th:only-of-type {\n",
       "        vertical-align: middle;\n",
       "    }\n",
       "\n",
       "    .dataframe tbody tr th {\n",
       "        vertical-align: top;\n",
       "    }\n",
       "\n",
       "    .dataframe thead th {\n",
       "        text-align: right;\n",
       "    }\n",
       "</style>\n",
       "<table border=\"1\" class=\"dataframe\">\n",
       "  <thead>\n",
       "    <tr style=\"text-align: right;\">\n",
       "      <th></th>\n",
       "      <th>Name</th>\n",
       "      <th>SUBDIVISION</th>\n",
       "      <th>YEAR</th>\n",
       "      <th>JAN</th>\n",
       "      <th>FEB</th>\n",
       "      <th>MAR</th>\n",
       "      <th>APR</th>\n",
       "      <th>MAY</th>\n",
       "      <th>JUN</th>\n",
       "      <th>JUL</th>\n",
       "      <th>...</th>\n",
       "      <th>OCT</th>\n",
       "      <th>NOV</th>\n",
       "      <th>DEC</th>\n",
       "      <th>ANNUAL</th>\n",
       "      <th>Jan-Feb</th>\n",
       "      <th>Mar-May</th>\n",
       "      <th>June-September</th>\n",
       "      <th>Oct-Dec</th>\n",
       "      <th>Latitude</th>\n",
       "      <th>Longitude</th>\n",
       "    </tr>\n",
       "  </thead>\n",
       "  <tbody>\n",
       "    <tr>\n",
       "      <th>0</th>\n",
       "      <td>ROW1</td>\n",
       "      <td>Andaman &amp; Nicobar Islands</td>\n",
       "      <td>1901</td>\n",
       "      <td>49.2</td>\n",
       "      <td>87.1</td>\n",
       "      <td>29.2</td>\n",
       "      <td>2.3</td>\n",
       "      <td>528.8</td>\n",
       "      <td>517.5</td>\n",
       "      <td>365.1</td>\n",
       "      <td>...</td>\n",
       "      <td>388.5</td>\n",
       "      <td>558.2</td>\n",
       "      <td>33.6</td>\n",
       "      <td>3373.2</td>\n",
       "      <td>136.3</td>\n",
       "      <td>560.3</td>\n",
       "      <td>1696.3</td>\n",
       "      <td>980.3</td>\n",
       "      <td>12.611240</td>\n",
       "      <td>92.831650</td>\n",
       "    </tr>\n",
       "    <tr>\n",
       "      <th>1</th>\n",
       "      <td>ROW2</td>\n",
       "      <td>Andaman &amp; Nicobar Islands</td>\n",
       "      <td>1902</td>\n",
       "      <td>0.0</td>\n",
       "      <td>159.8</td>\n",
       "      <td>12.2</td>\n",
       "      <td>0.0</td>\n",
       "      <td>446.1</td>\n",
       "      <td>537.1</td>\n",
       "      <td>228.9</td>\n",
       "      <td>...</td>\n",
       "      <td>197.2</td>\n",
       "      <td>359.0</td>\n",
       "      <td>160.5</td>\n",
       "      <td>3520.7</td>\n",
       "      <td>159.8</td>\n",
       "      <td>458.3</td>\n",
       "      <td>2185.9</td>\n",
       "      <td>716.7</td>\n",
       "      <td>12.611240</td>\n",
       "      <td>92.831650</td>\n",
       "    </tr>\n",
       "    <tr>\n",
       "      <th>2</th>\n",
       "      <td>ROW3</td>\n",
       "      <td>Andaman &amp; Nicobar Islands</td>\n",
       "      <td>1903</td>\n",
       "      <td>12.7</td>\n",
       "      <td>144.0</td>\n",
       "      <td>0.0</td>\n",
       "      <td>1.0</td>\n",
       "      <td>235.1</td>\n",
       "      <td>479.9</td>\n",
       "      <td>728.4</td>\n",
       "      <td>...</td>\n",
       "      <td>181.2</td>\n",
       "      <td>284.4</td>\n",
       "      <td>225.0</td>\n",
       "      <td>2957.4</td>\n",
       "      <td>156.7</td>\n",
       "      <td>236.1</td>\n",
       "      <td>1874.0</td>\n",
       "      <td>690.6</td>\n",
       "      <td>12.611240</td>\n",
       "      <td>92.831650</td>\n",
       "    </tr>\n",
       "    <tr>\n",
       "      <th>3</th>\n",
       "      <td>ROW4</td>\n",
       "      <td>Andaman &amp; Nicobar Islands</td>\n",
       "      <td>1904</td>\n",
       "      <td>9.4</td>\n",
       "      <td>14.7</td>\n",
       "      <td>0.0</td>\n",
       "      <td>202.4</td>\n",
       "      <td>304.5</td>\n",
       "      <td>495.1</td>\n",
       "      <td>502.0</td>\n",
       "      <td>...</td>\n",
       "      <td>222.2</td>\n",
       "      <td>308.7</td>\n",
       "      <td>40.1</td>\n",
       "      <td>3079.6</td>\n",
       "      <td>24.1</td>\n",
       "      <td>506.9</td>\n",
       "      <td>1977.6</td>\n",
       "      <td>571.0</td>\n",
       "      <td>12.611240</td>\n",
       "      <td>92.831650</td>\n",
       "    </tr>\n",
       "    <tr>\n",
       "      <th>4</th>\n",
       "      <td>ROW5</td>\n",
       "      <td>Andaman &amp; Nicobar Islands</td>\n",
       "      <td>1905</td>\n",
       "      <td>1.3</td>\n",
       "      <td>0.0</td>\n",
       "      <td>3.3</td>\n",
       "      <td>26.9</td>\n",
       "      <td>279.5</td>\n",
       "      <td>628.7</td>\n",
       "      <td>368.7</td>\n",
       "      <td>...</td>\n",
       "      <td>260.7</td>\n",
       "      <td>25.4</td>\n",
       "      <td>344.7</td>\n",
       "      <td>2566.7</td>\n",
       "      <td>1.3</td>\n",
       "      <td>309.7</td>\n",
       "      <td>1624.9</td>\n",
       "      <td>630.8</td>\n",
       "      <td>12.611240</td>\n",
       "      <td>92.831650</td>\n",
       "    </tr>\n",
       "    <tr>\n",
       "      <th>...</th>\n",
       "      <td>...</td>\n",
       "      <td>...</td>\n",
       "      <td>...</td>\n",
       "      <td>...</td>\n",
       "      <td>...</td>\n",
       "      <td>...</td>\n",
       "      <td>...</td>\n",
       "      <td>...</td>\n",
       "      <td>...</td>\n",
       "      <td>...</td>\n",
       "      <td>...</td>\n",
       "      <td>...</td>\n",
       "      <td>...</td>\n",
       "      <td>...</td>\n",
       "      <td>...</td>\n",
       "      <td>...</td>\n",
       "      <td>...</td>\n",
       "      <td>...</td>\n",
       "      <td>...</td>\n",
       "      <td>...</td>\n",
       "      <td>...</td>\n",
       "    </tr>\n",
       "    <tr>\n",
       "      <th>4182</th>\n",
       "      <td>ROW4183</td>\n",
       "      <td>Lakshadweep</td>\n",
       "      <td>2012</td>\n",
       "      <td>19.2</td>\n",
       "      <td>0.1</td>\n",
       "      <td>1.6</td>\n",
       "      <td>76.8</td>\n",
       "      <td>21.2</td>\n",
       "      <td>327.0</td>\n",
       "      <td>231.5</td>\n",
       "      <td>...</td>\n",
       "      <td>145.9</td>\n",
       "      <td>12.4</td>\n",
       "      <td>8.8</td>\n",
       "      <td>1405.5</td>\n",
       "      <td>19.3</td>\n",
       "      <td>99.6</td>\n",
       "      <td>1119.5</td>\n",
       "      <td>167.1</td>\n",
       "      <td>10.160618</td>\n",
       "      <td>73.518509</td>\n",
       "    </tr>\n",
       "    <tr>\n",
       "      <th>4183</th>\n",
       "      <td>ROW4184</td>\n",
       "      <td>Lakshadweep</td>\n",
       "      <td>2013</td>\n",
       "      <td>26.2</td>\n",
       "      <td>34.4</td>\n",
       "      <td>37.5</td>\n",
       "      <td>5.3</td>\n",
       "      <td>88.3</td>\n",
       "      <td>426.2</td>\n",
       "      <td>296.4</td>\n",
       "      <td>...</td>\n",
       "      <td>72.8</td>\n",
       "      <td>78.1</td>\n",
       "      <td>26.7</td>\n",
       "      <td>1426.3</td>\n",
       "      <td>60.6</td>\n",
       "      <td>131.1</td>\n",
       "      <td>1057.0</td>\n",
       "      <td>177.6</td>\n",
       "      <td>10.160618</td>\n",
       "      <td>73.518509</td>\n",
       "    </tr>\n",
       "    <tr>\n",
       "      <th>4184</th>\n",
       "      <td>ROW4185</td>\n",
       "      <td>Lakshadweep</td>\n",
       "      <td>2014</td>\n",
       "      <td>53.2</td>\n",
       "      <td>16.1</td>\n",
       "      <td>4.4</td>\n",
       "      <td>14.9</td>\n",
       "      <td>57.4</td>\n",
       "      <td>244.1</td>\n",
       "      <td>116.1</td>\n",
       "      <td>...</td>\n",
       "      <td>169.2</td>\n",
       "      <td>59.0</td>\n",
       "      <td>62.3</td>\n",
       "      <td>1395.0</td>\n",
       "      <td>69.3</td>\n",
       "      <td>76.7</td>\n",
       "      <td>958.5</td>\n",
       "      <td>290.5</td>\n",
       "      <td>10.160618</td>\n",
       "      <td>73.518509</td>\n",
       "    </tr>\n",
       "    <tr>\n",
       "      <th>4185</th>\n",
       "      <td>ROW4186</td>\n",
       "      <td>Lakshadweep</td>\n",
       "      <td>2015</td>\n",
       "      <td>2.2</td>\n",
       "      <td>0.5</td>\n",
       "      <td>3.7</td>\n",
       "      <td>87.1</td>\n",
       "      <td>133.1</td>\n",
       "      <td>296.6</td>\n",
       "      <td>257.5</td>\n",
       "      <td>...</td>\n",
       "      <td>165.4</td>\n",
       "      <td>231.0</td>\n",
       "      <td>159.0</td>\n",
       "      <td>1642.9</td>\n",
       "      <td>2.7</td>\n",
       "      <td>223.9</td>\n",
       "      <td>860.9</td>\n",
       "      <td>555.4</td>\n",
       "      <td>10.160618</td>\n",
       "      <td>73.518509</td>\n",
       "    </tr>\n",
       "    <tr>\n",
       "      <th>4186</th>\n",
       "      <td>ROW4187</td>\n",
       "      <td>Lakshadweep</td>\n",
       "      <td>2016</td>\n",
       "      <td>59.6</td>\n",
       "      <td>12.1</td>\n",
       "      <td>3.2</td>\n",
       "      <td>2.6</td>\n",
       "      <td>77.4</td>\n",
       "      <td>321.1</td>\n",
       "      <td>262.6</td>\n",
       "      <td>...</td>\n",
       "      <td>58.6</td>\n",
       "      <td>32.0</td>\n",
       "      <td>74.7</td>\n",
       "      <td>1065.7</td>\n",
       "      <td>71.7</td>\n",
       "      <td>83.2</td>\n",
       "      <td>745.5</td>\n",
       "      <td>165.3</td>\n",
       "      <td>10.160618</td>\n",
       "      <td>73.518509</td>\n",
       "    </tr>\n",
       "  </tbody>\n",
       "</table>\n",
       "<p>4187 rows × 22 columns</p>\n",
       "</div>"
      ],
      "text/plain": [
       "         Name                SUBDIVISION  YEAR   JAN    FEB   MAR    APR  \\\n",
       "0        ROW1  Andaman & Nicobar Islands  1901  49.2   87.1  29.2    2.3   \n",
       "1        ROW2  Andaman & Nicobar Islands  1902   0.0  159.8  12.2    0.0   \n",
       "2        ROW3  Andaman & Nicobar Islands  1903  12.7  144.0   0.0    1.0   \n",
       "3        ROW4  Andaman & Nicobar Islands  1904   9.4   14.7   0.0  202.4   \n",
       "4        ROW5  Andaman & Nicobar Islands  1905   1.3    0.0   3.3   26.9   \n",
       "...       ...                        ...   ...   ...    ...   ...    ...   \n",
       "4182  ROW4183                Lakshadweep  2012  19.2    0.1   1.6   76.8   \n",
       "4183  ROW4184                Lakshadweep  2013  26.2   34.4  37.5    5.3   \n",
       "4184  ROW4185                Lakshadweep  2014  53.2   16.1   4.4   14.9   \n",
       "4185  ROW4186                Lakshadweep  2015   2.2    0.5   3.7   87.1   \n",
       "4186  ROW4187                Lakshadweep  2016  59.6   12.1   3.2    2.6   \n",
       "\n",
       "        MAY    JUN    JUL  ...    OCT    NOV    DEC  ANNUAL  Jan-Feb  Mar-May  \\\n",
       "0     528.8  517.5  365.1  ...  388.5  558.2   33.6  3373.2    136.3    560.3   \n",
       "1     446.1  537.1  228.9  ...  197.2  359.0  160.5  3520.7    159.8    458.3   \n",
       "2     235.1  479.9  728.4  ...  181.2  284.4  225.0  2957.4    156.7    236.1   \n",
       "3     304.5  495.1  502.0  ...  222.2  308.7   40.1  3079.6     24.1    506.9   \n",
       "4     279.5  628.7  368.7  ...  260.7   25.4  344.7  2566.7      1.3    309.7   \n",
       "...     ...    ...    ...  ...    ...    ...    ...     ...      ...      ...   \n",
       "4182   21.2  327.0  231.5  ...  145.9   12.4    8.8  1405.5     19.3     99.6   \n",
       "4183   88.3  426.2  296.4  ...   72.8   78.1   26.7  1426.3     60.6    131.1   \n",
       "4184   57.4  244.1  116.1  ...  169.2   59.0   62.3  1395.0     69.3     76.7   \n",
       "4185  133.1  296.6  257.5  ...  165.4  231.0  159.0  1642.9      2.7    223.9   \n",
       "4186   77.4  321.1  262.6  ...   58.6   32.0   74.7  1065.7     71.7     83.2   \n",
       "\n",
       "      June-September  Oct-Dec   Latitude  Longitude  \n",
       "0             1696.3    980.3  12.611240  92.831650  \n",
       "1             2185.9    716.7  12.611240  92.831650  \n",
       "2             1874.0    690.6  12.611240  92.831650  \n",
       "3             1977.6    571.0  12.611240  92.831650  \n",
       "4             1624.9    630.8  12.611240  92.831650  \n",
       "...              ...      ...        ...        ...  \n",
       "4182          1119.5    167.1  10.160618  73.518509  \n",
       "4183          1057.0    177.6  10.160618  73.518509  \n",
       "4184           958.5    290.5  10.160618  73.518509  \n",
       "4185           860.9    555.4  10.160618  73.518509  \n",
       "4186           745.5    165.3  10.160618  73.518509  \n",
       "\n",
       "[4187 rows x 22 columns]"
      ]
     },
     "execution_count": 26,
     "metadata": {},
     "output_type": "execute_result"
    }
   ],
   "source": [
    "rain = pd.read_csv('dataset/data.csv')\n",
    "rain"
   ]
  },
  {
   "cell_type": "code",
   "execution_count": 27,
   "metadata": {},
   "outputs": [
    {
     "data": {
      "text/plain": [
       "Name              0\n",
       "SUBDIVISION       0\n",
       "YEAR              0\n",
       "JAN               0\n",
       "FEB               0\n",
       "MAR               0\n",
       "APR               0\n",
       "MAY               0\n",
       "JUN               0\n",
       "JUL               0\n",
       "AUG               0\n",
       "SEP               0\n",
       "OCT               0\n",
       "NOV               0\n",
       "DEC               0\n",
       "ANNUAL            0\n",
       "Jan-Feb           0\n",
       "Mar-May           0\n",
       "June-September    0\n",
       "Oct-Dec           0\n",
       "Latitude          0\n",
       "Longitude         0\n",
       "dtype: int64"
      ]
     },
     "execution_count": 27,
     "metadata": {},
     "output_type": "execute_result"
    }
   ],
   "source": [
    "rain.isnull().sum()"
   ]
  },
  {
   "cell_type": "code",
   "execution_count": 61,
   "metadata": {},
   "outputs": [
    {
     "name": "stderr",
     "output_type": "stream",
     "text": [
      "C:\\Users\\Akshat\\AppData\\Local\\Temp\\ipykernel_13156\\3508233450.py:2: FutureWarning:\n",
      "\n",
      "The default value of numeric_only in DataFrameGroupBy.sum is deprecated. In a future version, numeric_only will default to False. Either specify numeric_only or select only columns which should be valid for the function.\n",
      "\n"
     ]
    },
    {
     "data": {
      "text/html": [
       "<div>\n",
       "<style scoped>\n",
       "    .dataframe tbody tr th:only-of-type {\n",
       "        vertical-align: middle;\n",
       "    }\n",
       "\n",
       "    .dataframe tbody tr th {\n",
       "        vertical-align: top;\n",
       "    }\n",
       "\n",
       "    .dataframe thead th {\n",
       "        text-align: right;\n",
       "    }\n",
       "</style>\n",
       "<table border=\"1\" class=\"dataframe\">\n",
       "  <thead>\n",
       "    <tr style=\"text-align: right;\">\n",
       "      <th></th>\n",
       "      <th>JAN</th>\n",
       "      <th>FEB</th>\n",
       "      <th>MAR</th>\n",
       "      <th>APR</th>\n",
       "      <th>MAY</th>\n",
       "      <th>JUN</th>\n",
       "      <th>JUL</th>\n",
       "      <th>AUG</th>\n",
       "      <th>SEP</th>\n",
       "      <th>OCT</th>\n",
       "      <th>NOV</th>\n",
       "      <th>DEC</th>\n",
       "      <th>ANNUAL</th>\n",
       "      <th>Jan-Feb</th>\n",
       "      <th>Mar-May</th>\n",
       "      <th>June-September</th>\n",
       "      <th>Oct-Dec</th>\n",
       "      <th>Latitude</th>\n",
       "      <th>Longitude</th>\n",
       "    </tr>\n",
       "    <tr>\n",
       "      <th>YEAR</th>\n",
       "      <th></th>\n",
       "      <th></th>\n",
       "      <th></th>\n",
       "      <th></th>\n",
       "      <th></th>\n",
       "      <th></th>\n",
       "      <th></th>\n",
       "      <th></th>\n",
       "      <th></th>\n",
       "      <th></th>\n",
       "      <th></th>\n",
       "      <th></th>\n",
       "      <th></th>\n",
       "      <th></th>\n",
       "      <th></th>\n",
       "      <th></th>\n",
       "      <th></th>\n",
       "      <th></th>\n",
       "      <th></th>\n",
       "    </tr>\n",
       "  </thead>\n",
       "  <tbody>\n",
       "    <tr>\n",
       "      <th>1901</th>\n",
       "      <td>1232.7</td>\n",
       "      <td>1417.8</td>\n",
       "      <td>738.4</td>\n",
       "      <td>1623.6</td>\n",
       "      <td>2465.2</td>\n",
       "      <td>6811.3</td>\n",
       "      <td>10192.3</td>\n",
       "      <td>10546.4</td>\n",
       "      <td>4695.4</td>\n",
       "      <td>2579.4</td>\n",
       "      <td>2266.500000</td>\n",
       "      <td>378.300000</td>\n",
       "      <td>44947.300000</td>\n",
       "      <td>2650.5</td>\n",
       "      <td>4827.2</td>\n",
       "      <td>32245.4</td>\n",
       "      <td>5224.200000</td>\n",
       "      <td>761.092501</td>\n",
       "      <td>2784.849817</td>\n",
       "    </tr>\n",
       "    <tr>\n",
       "      <th>1902</th>\n",
       "      <td>298.2</td>\n",
       "      <td>290.7</td>\n",
       "      <td>733.3</td>\n",
       "      <td>1602.0</td>\n",
       "      <td>2521.4</td>\n",
       "      <td>5908.7</td>\n",
       "      <td>12290.1</td>\n",
       "      <td>8393.0</td>\n",
       "      <td>9051.4</td>\n",
       "      <td>3035.0</td>\n",
       "      <td>1521.000000</td>\n",
       "      <td>1160.300000</td>\n",
       "      <td>46805.100000</td>\n",
       "      <td>588.9</td>\n",
       "      <td>4856.7</td>\n",
       "      <td>35643.2</td>\n",
       "      <td>5716.300000</td>\n",
       "      <td>761.092501</td>\n",
       "      <td>2784.849817</td>\n",
       "    </tr>\n",
       "    <tr>\n",
       "      <th>1903</th>\n",
       "      <td>589.8</td>\n",
       "      <td>502.0</td>\n",
       "      <td>930.2</td>\n",
       "      <td>594.1</td>\n",
       "      <td>2808.3</td>\n",
       "      <td>6019.6</td>\n",
       "      <td>12673.8</td>\n",
       "      <td>10481.9</td>\n",
       "      <td>7581.7</td>\n",
       "      <td>4387.1</td>\n",
       "      <td>1689.290685</td>\n",
       "      <td>777.534858</td>\n",
       "      <td>49035.325542</td>\n",
       "      <td>1091.8</td>\n",
       "      <td>4332.6</td>\n",
       "      <td>36757.0</td>\n",
       "      <td>6853.925542</td>\n",
       "      <td>761.092501</td>\n",
       "      <td>2784.849817</td>\n",
       "    </tr>\n",
       "    <tr>\n",
       "      <th>1904</th>\n",
       "      <td>409.4</td>\n",
       "      <td>328.7</td>\n",
       "      <td>1010.8</td>\n",
       "      <td>1449.1</td>\n",
       "      <td>3235.9</td>\n",
       "      <td>8312.0</td>\n",
       "      <td>10919.0</td>\n",
       "      <td>7595.5</td>\n",
       "      <td>5859.1</td>\n",
       "      <td>2959.3</td>\n",
       "      <td>691.500000</td>\n",
       "      <td>517.000000</td>\n",
       "      <td>43287.300000</td>\n",
       "      <td>738.1</td>\n",
       "      <td>5695.8</td>\n",
       "      <td>32685.6</td>\n",
       "      <td>4167.800000</td>\n",
       "      <td>761.092501</td>\n",
       "      <td>2784.849817</td>\n",
       "    </tr>\n",
       "    <tr>\n",
       "      <th>1905</th>\n",
       "      <td>812.0</td>\n",
       "      <td>716.7</td>\n",
       "      <td>1432.9</td>\n",
       "      <td>1216.4</td>\n",
       "      <td>2675.3</td>\n",
       "      <td>5768.2</td>\n",
       "      <td>10091.0</td>\n",
       "      <td>8637.3</td>\n",
       "      <td>6274.1</td>\n",
       "      <td>2735.9</td>\n",
       "      <td>560.900000</td>\n",
       "      <td>595.200000</td>\n",
       "      <td>41515.900000</td>\n",
       "      <td>1528.7</td>\n",
       "      <td>5324.6</td>\n",
       "      <td>30770.6</td>\n",
       "      <td>3892.000000</td>\n",
       "      <td>761.092501</td>\n",
       "      <td>2784.849817</td>\n",
       "    </tr>\n",
       "    <tr>\n",
       "      <th>...</th>\n",
       "      <td>...</td>\n",
       "      <td>...</td>\n",
       "      <td>...</td>\n",
       "      <td>...</td>\n",
       "      <td>...</td>\n",
       "      <td>...</td>\n",
       "      <td>...</td>\n",
       "      <td>...</td>\n",
       "      <td>...</td>\n",
       "      <td>...</td>\n",
       "      <td>...</td>\n",
       "      <td>...</td>\n",
       "      <td>...</td>\n",
       "      <td>...</td>\n",
       "      <td>...</td>\n",
       "      <td>...</td>\n",
       "      <td>...</td>\n",
       "      <td>...</td>\n",
       "      <td>...</td>\n",
       "    </tr>\n",
       "    <tr>\n",
       "      <th>2013</th>\n",
       "      <td>435.9</td>\n",
       "      <td>1316.3</td>\n",
       "      <td>629.2</td>\n",
       "      <td>1137.6</td>\n",
       "      <td>2980.9</td>\n",
       "      <td>10707.1</td>\n",
       "      <td>13412.4</td>\n",
       "      <td>9516.2</td>\n",
       "      <td>6452.9</td>\n",
       "      <td>5213.3</td>\n",
       "      <td>986.100000</td>\n",
       "      <td>317.500000</td>\n",
       "      <td>53105.400000</td>\n",
       "      <td>1752.2</td>\n",
       "      <td>4747.7</td>\n",
       "      <td>40088.6</td>\n",
       "      <td>6516.900000</td>\n",
       "      <td>789.186271</td>\n",
       "      <td>2879.441947</td>\n",
       "    </tr>\n",
       "    <tr>\n",
       "      <th>2014</th>\n",
       "      <td>582.5</td>\n",
       "      <td>923.3</td>\n",
       "      <td>1059.9</td>\n",
       "      <td>793.9</td>\n",
       "      <td>3276.5</td>\n",
       "      <td>5121.4</td>\n",
       "      <td>11150.4</td>\n",
       "      <td>10484.1</td>\n",
       "      <td>7141.4</td>\n",
       "      <td>2921.5</td>\n",
       "      <td>760.100000</td>\n",
       "      <td>582.000000</td>\n",
       "      <td>44797.000000</td>\n",
       "      <td>1505.8</td>\n",
       "      <td>5130.3</td>\n",
       "      <td>33897.3</td>\n",
       "      <td>4263.600000</td>\n",
       "      <td>789.186271</td>\n",
       "      <td>2879.441947</td>\n",
       "    </tr>\n",
       "    <tr>\n",
       "      <th>2015</th>\n",
       "      <td>685.9</td>\n",
       "      <td>605.7</td>\n",
       "      <td>1862.3</td>\n",
       "      <td>2744.1</td>\n",
       "      <td>2718.9</td>\n",
       "      <td>8616.8</td>\n",
       "      <td>9715.4</td>\n",
       "      <td>8485.7</td>\n",
       "      <td>5690.2</td>\n",
       "      <td>2204.3</td>\n",
       "      <td>2000.400000</td>\n",
       "      <td>770.800000</td>\n",
       "      <td>46100.500000</td>\n",
       "      <td>1291.6</td>\n",
       "      <td>7325.3</td>\n",
       "      <td>32508.1</td>\n",
       "      <td>4975.500000</td>\n",
       "      <td>789.186271</td>\n",
       "      <td>2879.441947</td>\n",
       "    </tr>\n",
       "    <tr>\n",
       "      <th>2016</th>\n",
       "      <td>369.1</td>\n",
       "      <td>379.0</td>\n",
       "      <td>984.2</td>\n",
       "      <td>1148.9</td>\n",
       "      <td>3036.0</td>\n",
       "      <td>7714.9</td>\n",
       "      <td>12592.0</td>\n",
       "      <td>8731.0</td>\n",
       "      <td>7143.1</td>\n",
       "      <td>2378.2</td>\n",
       "      <td>521.100000</td>\n",
       "      <td>855.900000</td>\n",
       "      <td>45853.400000</td>\n",
       "      <td>748.1</td>\n",
       "      <td>5169.1</td>\n",
       "      <td>36181.0</td>\n",
       "      <td>3755.200000</td>\n",
       "      <td>789.186271</td>\n",
       "      <td>2879.441947</td>\n",
       "    </tr>\n",
       "    <tr>\n",
       "      <th>2017</th>\n",
       "      <td>895.1</td>\n",
       "      <td>328.4</td>\n",
       "      <td>1110.1</td>\n",
       "      <td>1721.9</td>\n",
       "      <td>2638.1</td>\n",
       "      <td>7850.8</td>\n",
       "      <td>11430.9</td>\n",
       "      <td>9780.6</td>\n",
       "      <td>6660.3</td>\n",
       "      <td>3599.0</td>\n",
       "      <td>741.400000</td>\n",
       "      <td>752.400000</td>\n",
       "      <td>47509.000000</td>\n",
       "      <td>1223.5</td>\n",
       "      <td>5470.1</td>\n",
       "      <td>35722.6</td>\n",
       "      <td>5092.800000</td>\n",
       "      <td>779.025653</td>\n",
       "      <td>2805.923438</td>\n",
       "    </tr>\n",
       "  </tbody>\n",
       "</table>\n",
       "<p>117 rows × 19 columns</p>\n",
       "</div>"
      ],
      "text/plain": [
       "         JAN     FEB     MAR     APR     MAY      JUN      JUL      AUG  \\\n",
       "YEAR                                                                      \n",
       "1901  1232.7  1417.8   738.4  1623.6  2465.2   6811.3  10192.3  10546.4   \n",
       "1902   298.2   290.7   733.3  1602.0  2521.4   5908.7  12290.1   8393.0   \n",
       "1903   589.8   502.0   930.2   594.1  2808.3   6019.6  12673.8  10481.9   \n",
       "1904   409.4   328.7  1010.8  1449.1  3235.9   8312.0  10919.0   7595.5   \n",
       "1905   812.0   716.7  1432.9  1216.4  2675.3   5768.2  10091.0   8637.3   \n",
       "...      ...     ...     ...     ...     ...      ...      ...      ...   \n",
       "2013   435.9  1316.3   629.2  1137.6  2980.9  10707.1  13412.4   9516.2   \n",
       "2014   582.5   923.3  1059.9   793.9  3276.5   5121.4  11150.4  10484.1   \n",
       "2015   685.9   605.7  1862.3  2744.1  2718.9   8616.8   9715.4   8485.7   \n",
       "2016   369.1   379.0   984.2  1148.9  3036.0   7714.9  12592.0   8731.0   \n",
       "2017   895.1   328.4  1110.1  1721.9  2638.1   7850.8  11430.9   9780.6   \n",
       "\n",
       "         SEP     OCT          NOV          DEC        ANNUAL  Jan-Feb  \\\n",
       "YEAR                                                                    \n",
       "1901  4695.4  2579.4  2266.500000   378.300000  44947.300000   2650.5   \n",
       "1902  9051.4  3035.0  1521.000000  1160.300000  46805.100000    588.9   \n",
       "1903  7581.7  4387.1  1689.290685   777.534858  49035.325542   1091.8   \n",
       "1904  5859.1  2959.3   691.500000   517.000000  43287.300000    738.1   \n",
       "1905  6274.1  2735.9   560.900000   595.200000  41515.900000   1528.7   \n",
       "...      ...     ...          ...          ...           ...      ...   \n",
       "2013  6452.9  5213.3   986.100000   317.500000  53105.400000   1752.2   \n",
       "2014  7141.4  2921.5   760.100000   582.000000  44797.000000   1505.8   \n",
       "2015  5690.2  2204.3  2000.400000   770.800000  46100.500000   1291.6   \n",
       "2016  7143.1  2378.2   521.100000   855.900000  45853.400000    748.1   \n",
       "2017  6660.3  3599.0   741.400000   752.400000  47509.000000   1223.5   \n",
       "\n",
       "      Mar-May  June-September      Oct-Dec    Latitude    Longitude  \n",
       "YEAR                                                                 \n",
       "1901   4827.2         32245.4  5224.200000  761.092501  2784.849817  \n",
       "1902   4856.7         35643.2  5716.300000  761.092501  2784.849817  \n",
       "1903   4332.6         36757.0  6853.925542  761.092501  2784.849817  \n",
       "1904   5695.8         32685.6  4167.800000  761.092501  2784.849817  \n",
       "1905   5324.6         30770.6  3892.000000  761.092501  2784.849817  \n",
       "...       ...             ...          ...         ...          ...  \n",
       "2013   4747.7         40088.6  6516.900000  789.186271  2879.441947  \n",
       "2014   5130.3         33897.3  4263.600000  789.186271  2879.441947  \n",
       "2015   7325.3         32508.1  4975.500000  789.186271  2879.441947  \n",
       "2016   5169.1         36181.0  3755.200000  789.186271  2879.441947  \n",
       "2017   5470.1         35722.6  5092.800000  779.025653  2805.923438  \n",
       "\n",
       "[117 rows x 19 columns]"
      ]
     },
     "execution_count": 61,
     "metadata": {},
     "output_type": "execute_result"
    }
   ],
   "source": [
    "# YEARLY DATA \n",
    "grouped_obj = rain.groupby([\"YEAR\"]).sum()\n",
    "grouped_obj"
   ]
  },
  {
   "cell_type": "code",
   "execution_count": 79,
   "metadata": {},
   "outputs": [
    {
     "data": {
      "application/vnd.plotly.v1+json": {
       "config": {
        "plotlyServerURL": "https://plot.ly"
       },
       "data": [
        {
         "fillpattern": {
          "shape": ""
         },
         "hovertemplate": "SUBDIVISION=%{x}<br>ANNUAL=%{y}<extra></extra>",
         "legendgroup": "",
         "line": {
          "color": "#636efa"
         },
         "marker": {
          "symbol": "circle"
         },
         "mode": "lines",
         "name": "",
         "orientation": "v",
         "showlegend": false,
         "stackgroup": "1",
         "type": "scatter",
         "x": [
          "Andaman & Nicobar Islands",
          "Arunachal Pradesh",
          "Assam & Meghalaya",
          "Bihar",
          "Chhattisgarh",
          "Coastal Andhra Pradesh",
          "Coastal Karnataka",
          "East Madhya Pradesh",
          "East Rajasthan",
          "East Uttar Pradesh",
          "Gangetic West Bengal",
          "Gujarat Region",
          "Haryana Delhi & Chandigarh",
          "Himachal Pradesh",
          "Jammu & Kashmir",
          "Jharkhand",
          "Kerala",
          "Konkan & Goa",
          "Lakshadweep",
          "Madhya Maharashtra",
          "Matathwada",
          "Naga Mani Mizo Tripura",
          "North Interior Karnataka",
          "Orissa",
          "Punjab",
          "Rayalseema",
          "Saurashtra & Kutch",
          "South Interior Karnataka",
          "Sub Himalayan West Bengal & Sikkim",
          "Tamil Nadu",
          "Telangana",
          "Uttarakhand",
          "Vidarbha",
          "West Madhya Pradesh",
          "West Rajasthan",
          "West Uttar Pradesh"
         ],
         "xaxis": "x",
         "y": [
          324990.8991800317,
          337666.5251477027,
          301758.60000000003,
          139998.3,
          160189.6,
          122885.6,
          397264.7377719341,
          140755.5,
          76810.1,
          114175.6,
          174402.5,
          107381.8,
          61826.8,
          147042.8,
          133209.48932232347,
          152999.8,
          340968,
          349540.2,
          182673.60169806075,
          103126.2,
          92632.59999999999,
          284630.10000000003,
          83910.9,
          170287.6,
          69198.7,
          89503.59999999999,
          58076.5,
          121392.9,
          321813,
          110036.9,
          111496.9,
          171339.1,
          127945,
          110157.20437380497,
          34411.5,
          96396
         ],
         "yaxis": "y"
        }
       ],
       "layout": {
        "annotations": [
         {
          "bgcolor": "grey",
          "font": {
           "size": 12
          },
          "showarrow": false,
          "text": "The graph shows the yearly rainfall.",
          "x": 0.5,
          "xref": "paper",
          "y": 1,
          "yref": "paper"
         }
        ],
        "legend": {
         "tracegroupgap": 0
        },
        "template": {
         "data": {
          "bar": [
           {
            "error_x": {
             "color": "#2a3f5f"
            },
            "error_y": {
             "color": "#2a3f5f"
            },
            "marker": {
             "line": {
              "color": "#E5ECF6",
              "width": 0.5
             },
             "pattern": {
              "fillmode": "overlay",
              "size": 10,
              "solidity": 0.2
             }
            },
            "type": "bar"
           }
          ],
          "barpolar": [
           {
            "marker": {
             "line": {
              "color": "#E5ECF6",
              "width": 0.5
             },
             "pattern": {
              "fillmode": "overlay",
              "size": 10,
              "solidity": 0.2
             }
            },
            "type": "barpolar"
           }
          ],
          "carpet": [
           {
            "aaxis": {
             "endlinecolor": "#2a3f5f",
             "gridcolor": "white",
             "linecolor": "white",
             "minorgridcolor": "white",
             "startlinecolor": "#2a3f5f"
            },
            "baxis": {
             "endlinecolor": "#2a3f5f",
             "gridcolor": "white",
             "linecolor": "white",
             "minorgridcolor": "white",
             "startlinecolor": "#2a3f5f"
            },
            "type": "carpet"
           }
          ],
          "choropleth": [
           {
            "colorbar": {
             "outlinewidth": 0,
             "ticks": ""
            },
            "type": "choropleth"
           }
          ],
          "contour": [
           {
            "colorbar": {
             "outlinewidth": 0,
             "ticks": ""
            },
            "colorscale": [
             [
              0,
              "#0d0887"
             ],
             [
              0.1111111111111111,
              "#46039f"
             ],
             [
              0.2222222222222222,
              "#7201a8"
             ],
             [
              0.3333333333333333,
              "#9c179e"
             ],
             [
              0.4444444444444444,
              "#bd3786"
             ],
             [
              0.5555555555555556,
              "#d8576b"
             ],
             [
              0.6666666666666666,
              "#ed7953"
             ],
             [
              0.7777777777777778,
              "#fb9f3a"
             ],
             [
              0.8888888888888888,
              "#fdca26"
             ],
             [
              1,
              "#f0f921"
             ]
            ],
            "type": "contour"
           }
          ],
          "contourcarpet": [
           {
            "colorbar": {
             "outlinewidth": 0,
             "ticks": ""
            },
            "type": "contourcarpet"
           }
          ],
          "heatmap": [
           {
            "colorbar": {
             "outlinewidth": 0,
             "ticks": ""
            },
            "colorscale": [
             [
              0,
              "#0d0887"
             ],
             [
              0.1111111111111111,
              "#46039f"
             ],
             [
              0.2222222222222222,
              "#7201a8"
             ],
             [
              0.3333333333333333,
              "#9c179e"
             ],
             [
              0.4444444444444444,
              "#bd3786"
             ],
             [
              0.5555555555555556,
              "#d8576b"
             ],
             [
              0.6666666666666666,
              "#ed7953"
             ],
             [
              0.7777777777777778,
              "#fb9f3a"
             ],
             [
              0.8888888888888888,
              "#fdca26"
             ],
             [
              1,
              "#f0f921"
             ]
            ],
            "type": "heatmap"
           }
          ],
          "heatmapgl": [
           {
            "colorbar": {
             "outlinewidth": 0,
             "ticks": ""
            },
            "colorscale": [
             [
              0,
              "#0d0887"
             ],
             [
              0.1111111111111111,
              "#46039f"
             ],
             [
              0.2222222222222222,
              "#7201a8"
             ],
             [
              0.3333333333333333,
              "#9c179e"
             ],
             [
              0.4444444444444444,
              "#bd3786"
             ],
             [
              0.5555555555555556,
              "#d8576b"
             ],
             [
              0.6666666666666666,
              "#ed7953"
             ],
             [
              0.7777777777777778,
              "#fb9f3a"
             ],
             [
              0.8888888888888888,
              "#fdca26"
             ],
             [
              1,
              "#f0f921"
             ]
            ],
            "type": "heatmapgl"
           }
          ],
          "histogram": [
           {
            "marker": {
             "pattern": {
              "fillmode": "overlay",
              "size": 10,
              "solidity": 0.2
             }
            },
            "type": "histogram"
           }
          ],
          "histogram2d": [
           {
            "colorbar": {
             "outlinewidth": 0,
             "ticks": ""
            },
            "colorscale": [
             [
              0,
              "#0d0887"
             ],
             [
              0.1111111111111111,
              "#46039f"
             ],
             [
              0.2222222222222222,
              "#7201a8"
             ],
             [
              0.3333333333333333,
              "#9c179e"
             ],
             [
              0.4444444444444444,
              "#bd3786"
             ],
             [
              0.5555555555555556,
              "#d8576b"
             ],
             [
              0.6666666666666666,
              "#ed7953"
             ],
             [
              0.7777777777777778,
              "#fb9f3a"
             ],
             [
              0.8888888888888888,
              "#fdca26"
             ],
             [
              1,
              "#f0f921"
             ]
            ],
            "type": "histogram2d"
           }
          ],
          "histogram2dcontour": [
           {
            "colorbar": {
             "outlinewidth": 0,
             "ticks": ""
            },
            "colorscale": [
             [
              0,
              "#0d0887"
             ],
             [
              0.1111111111111111,
              "#46039f"
             ],
             [
              0.2222222222222222,
              "#7201a8"
             ],
             [
              0.3333333333333333,
              "#9c179e"
             ],
             [
              0.4444444444444444,
              "#bd3786"
             ],
             [
              0.5555555555555556,
              "#d8576b"
             ],
             [
              0.6666666666666666,
              "#ed7953"
             ],
             [
              0.7777777777777778,
              "#fb9f3a"
             ],
             [
              0.8888888888888888,
              "#fdca26"
             ],
             [
              1,
              "#f0f921"
             ]
            ],
            "type": "histogram2dcontour"
           }
          ],
          "mesh3d": [
           {
            "colorbar": {
             "outlinewidth": 0,
             "ticks": ""
            },
            "type": "mesh3d"
           }
          ],
          "parcoords": [
           {
            "line": {
             "colorbar": {
              "outlinewidth": 0,
              "ticks": ""
             }
            },
            "type": "parcoords"
           }
          ],
          "pie": [
           {
            "automargin": true,
            "type": "pie"
           }
          ],
          "scatter": [
           {
            "fillpattern": {
             "fillmode": "overlay",
             "size": 10,
             "solidity": 0.2
            },
            "type": "scatter"
           }
          ],
          "scatter3d": [
           {
            "line": {
             "colorbar": {
              "outlinewidth": 0,
              "ticks": ""
             }
            },
            "marker": {
             "colorbar": {
              "outlinewidth": 0,
              "ticks": ""
             }
            },
            "type": "scatter3d"
           }
          ],
          "scattercarpet": [
           {
            "marker": {
             "colorbar": {
              "outlinewidth": 0,
              "ticks": ""
             }
            },
            "type": "scattercarpet"
           }
          ],
          "scattergeo": [
           {
            "marker": {
             "colorbar": {
              "outlinewidth": 0,
              "ticks": ""
             }
            },
            "type": "scattergeo"
           }
          ],
          "scattergl": [
           {
            "marker": {
             "colorbar": {
              "outlinewidth": 0,
              "ticks": ""
             }
            },
            "type": "scattergl"
           }
          ],
          "scattermapbox": [
           {
            "marker": {
             "colorbar": {
              "outlinewidth": 0,
              "ticks": ""
             }
            },
            "type": "scattermapbox"
           }
          ],
          "scatterpolar": [
           {
            "marker": {
             "colorbar": {
              "outlinewidth": 0,
              "ticks": ""
             }
            },
            "type": "scatterpolar"
           }
          ],
          "scatterpolargl": [
           {
            "marker": {
             "colorbar": {
              "outlinewidth": 0,
              "ticks": ""
             }
            },
            "type": "scatterpolargl"
           }
          ],
          "scatterternary": [
           {
            "marker": {
             "colorbar": {
              "outlinewidth": 0,
              "ticks": ""
             }
            },
            "type": "scatterternary"
           }
          ],
          "surface": [
           {
            "colorbar": {
             "outlinewidth": 0,
             "ticks": ""
            },
            "colorscale": [
             [
              0,
              "#0d0887"
             ],
             [
              0.1111111111111111,
              "#46039f"
             ],
             [
              0.2222222222222222,
              "#7201a8"
             ],
             [
              0.3333333333333333,
              "#9c179e"
             ],
             [
              0.4444444444444444,
              "#bd3786"
             ],
             [
              0.5555555555555556,
              "#d8576b"
             ],
             [
              0.6666666666666666,
              "#ed7953"
             ],
             [
              0.7777777777777778,
              "#fb9f3a"
             ],
             [
              0.8888888888888888,
              "#fdca26"
             ],
             [
              1,
              "#f0f921"
             ]
            ],
            "type": "surface"
           }
          ],
          "table": [
           {
            "cells": {
             "fill": {
              "color": "#EBF0F8"
             },
             "line": {
              "color": "white"
             }
            },
            "header": {
             "fill": {
              "color": "#C8D4E3"
             },
             "line": {
              "color": "white"
             }
            },
            "type": "table"
           }
          ]
         },
         "layout": {
          "annotationdefaults": {
           "arrowcolor": "#2a3f5f",
           "arrowhead": 0,
           "arrowwidth": 1
          },
          "autotypenumbers": "strict",
          "coloraxis": {
           "colorbar": {
            "outlinewidth": 0,
            "ticks": ""
           }
          },
          "colorscale": {
           "diverging": [
            [
             0,
             "#8e0152"
            ],
            [
             0.1,
             "#c51b7d"
            ],
            [
             0.2,
             "#de77ae"
            ],
            [
             0.3,
             "#f1b6da"
            ],
            [
             0.4,
             "#fde0ef"
            ],
            [
             0.5,
             "#f7f7f7"
            ],
            [
             0.6,
             "#e6f5d0"
            ],
            [
             0.7,
             "#b8e186"
            ],
            [
             0.8,
             "#7fbc41"
            ],
            [
             0.9,
             "#4d9221"
            ],
            [
             1,
             "#276419"
            ]
           ],
           "sequential": [
            [
             0,
             "#0d0887"
            ],
            [
             0.1111111111111111,
             "#46039f"
            ],
            [
             0.2222222222222222,
             "#7201a8"
            ],
            [
             0.3333333333333333,
             "#9c179e"
            ],
            [
             0.4444444444444444,
             "#bd3786"
            ],
            [
             0.5555555555555556,
             "#d8576b"
            ],
            [
             0.6666666666666666,
             "#ed7953"
            ],
            [
             0.7777777777777778,
             "#fb9f3a"
            ],
            [
             0.8888888888888888,
             "#fdca26"
            ],
            [
             1,
             "#f0f921"
            ]
           ],
           "sequentialminus": [
            [
             0,
             "#0d0887"
            ],
            [
             0.1111111111111111,
             "#46039f"
            ],
            [
             0.2222222222222222,
             "#7201a8"
            ],
            [
             0.3333333333333333,
             "#9c179e"
            ],
            [
             0.4444444444444444,
             "#bd3786"
            ],
            [
             0.5555555555555556,
             "#d8576b"
            ],
            [
             0.6666666666666666,
             "#ed7953"
            ],
            [
             0.7777777777777778,
             "#fb9f3a"
            ],
            [
             0.8888888888888888,
             "#fdca26"
            ],
            [
             1,
             "#f0f921"
            ]
           ]
          },
          "colorway": [
           "#636efa",
           "#EF553B",
           "#00cc96",
           "#ab63fa",
           "#FFA15A",
           "#19d3f3",
           "#FF6692",
           "#B6E880",
           "#FF97FF",
           "#FECB52"
          ],
          "font": {
           "color": "#2a3f5f"
          },
          "geo": {
           "bgcolor": "white",
           "lakecolor": "white",
           "landcolor": "#E5ECF6",
           "showlakes": true,
           "showland": true,
           "subunitcolor": "white"
          },
          "hoverlabel": {
           "align": "left"
          },
          "hovermode": "closest",
          "mapbox": {
           "style": "light"
          },
          "paper_bgcolor": "white",
          "plot_bgcolor": "#E5ECF6",
          "polar": {
           "angularaxis": {
            "gridcolor": "white",
            "linecolor": "white",
            "ticks": ""
           },
           "bgcolor": "#E5ECF6",
           "radialaxis": {
            "gridcolor": "white",
            "linecolor": "white",
            "ticks": ""
           }
          },
          "scene": {
           "xaxis": {
            "backgroundcolor": "#E5ECF6",
            "gridcolor": "white",
            "gridwidth": 2,
            "linecolor": "white",
            "showbackground": true,
            "ticks": "",
            "zerolinecolor": "white"
           },
           "yaxis": {
            "backgroundcolor": "#E5ECF6",
            "gridcolor": "white",
            "gridwidth": 2,
            "linecolor": "white",
            "showbackground": true,
            "ticks": "",
            "zerolinecolor": "white"
           },
           "zaxis": {
            "backgroundcolor": "#E5ECF6",
            "gridcolor": "white",
            "gridwidth": 2,
            "linecolor": "white",
            "showbackground": true,
            "ticks": "",
            "zerolinecolor": "white"
           }
          },
          "shapedefaults": {
           "line": {
            "color": "#2a3f5f"
           }
          },
          "ternary": {
           "aaxis": {
            "gridcolor": "white",
            "linecolor": "white",
            "ticks": ""
           },
           "baxis": {
            "gridcolor": "white",
            "linecolor": "white",
            "ticks": ""
           },
           "bgcolor": "#E5ECF6",
           "caxis": {
            "gridcolor": "white",
            "linecolor": "white",
            "ticks": ""
           }
          },
          "title": {
           "x": 0.05
          },
          "xaxis": {
           "automargin": true,
           "gridcolor": "white",
           "linecolor": "white",
           "ticks": "",
           "title": {
            "standoff": 15
           },
           "zerolinecolor": "white",
           "zerolinewidth": 2
          },
          "yaxis": {
           "automargin": true,
           "gridcolor": "white",
           "linecolor": "white",
           "ticks": "",
           "title": {
            "standoff": 15
           },
           "zerolinecolor": "white",
           "zerolinewidth": 2
          }
         }
        },
        "title": {
         "text": "Rainfall year-wise"
        },
        "xaxis": {
         "anchor": "y",
         "domain": [
          0,
          1
         ],
         "title": {
          "text": "SUBDIVISION"
         }
        },
        "yaxis": {
         "anchor": "x",
         "domain": [
          0,
          1
         ],
         "title": {
          "text": "ANNUAL"
         }
        }
       }
      }
     },
     "metadata": {},
     "output_type": "display_data"
    }
   ],
   "source": [
    "fig = px.area(grouped_obj, x=grouped_obj.index, y='ANNUAL', title='Rainfall year-wise')\n",
    "conclusion = 'The graph shows the yearly rainfall.'\n",
    "fig.add_annotation(text=conclusion, xref='paper', yref='paper', x=.5, y=1, bgcolor='grey', showarrow=False, font=dict(size=12))\n"
   ]
  },
  {
   "cell_type": "code",
   "execution_count": 80,
   "metadata": {},
   "outputs": [
    {
     "data": {
      "application/vnd.plotly.v1+json": {
       "config": {
        "plotlyServerURL": "https://plot.ly"
       },
       "data": [
        {
         "alignmentgroup": "True",
         "hovertemplate": "SUBDIVISION=%{x}<br>ANNUAL=%{y}<extra></extra>",
         "legendgroup": "",
         "marker": {
          "color": "#636efa",
          "pattern": {
           "shape": ""
          }
         },
         "name": "",
         "offsetgroup": "",
         "orientation": "v",
         "showlegend": false,
         "textposition": "auto",
         "type": "bar",
         "x": [
          "Andaman & Nicobar Islands",
          "Arunachal Pradesh",
          "Assam & Meghalaya",
          "Bihar",
          "Chhattisgarh",
          "Coastal Andhra Pradesh",
          "Coastal Karnataka",
          "East Madhya Pradesh",
          "East Rajasthan",
          "East Uttar Pradesh",
          "Gangetic West Bengal",
          "Gujarat Region",
          "Haryana Delhi & Chandigarh",
          "Himachal Pradesh",
          "Jammu & Kashmir",
          "Jharkhand",
          "Kerala",
          "Konkan & Goa",
          "Lakshadweep",
          "Madhya Maharashtra",
          "Matathwada",
          "Naga Mani Mizo Tripura",
          "North Interior Karnataka",
          "Orissa",
          "Punjab",
          "Rayalseema",
          "Saurashtra & Kutch",
          "South Interior Karnataka",
          "Sub Himalayan West Bengal & Sikkim",
          "Tamil Nadu",
          "Telangana",
          "Uttarakhand",
          "Vidarbha",
          "West Madhya Pradesh",
          "West Rajasthan",
          "West Uttar Pradesh"
         ],
         "xaxis": "x",
         "y": [
          324990.8991800317,
          337666.5251477027,
          301758.60000000003,
          139998.3,
          160189.6,
          122885.6,
          397264.7377719341,
          140755.5,
          76810.1,
          114175.6,
          174402.5,
          107381.8,
          61826.8,
          147042.8,
          133209.48932232347,
          152999.8,
          340968,
          349540.2,
          182673.60169806075,
          103126.2,
          92632.59999999999,
          284630.10000000003,
          83910.9,
          170287.6,
          69198.7,
          89503.59999999999,
          58076.5,
          121392.9,
          321813,
          110036.9,
          111496.9,
          171339.1,
          127945,
          110157.20437380497,
          34411.5,
          96396
         ],
         "yaxis": "y"
        }
       ],
       "layout": {
        "annotations": [
         {
          "bgcolor": "grey",
          "font": {
           "size": 12
          },
          "showarrow": false,
          "text": "The graph shows the yearly rainfall.",
          "x": 0.5,
          "xref": "paper",
          "y": 1,
          "yref": "paper"
         }
        ],
        "barmode": "relative",
        "legend": {
         "tracegroupgap": 0
        },
        "template": {
         "data": {
          "bar": [
           {
            "error_x": {
             "color": "#2a3f5f"
            },
            "error_y": {
             "color": "#2a3f5f"
            },
            "marker": {
             "line": {
              "color": "#E5ECF6",
              "width": 0.5
             },
             "pattern": {
              "fillmode": "overlay",
              "size": 10,
              "solidity": 0.2
             }
            },
            "type": "bar"
           }
          ],
          "barpolar": [
           {
            "marker": {
             "line": {
              "color": "#E5ECF6",
              "width": 0.5
             },
             "pattern": {
              "fillmode": "overlay",
              "size": 10,
              "solidity": 0.2
             }
            },
            "type": "barpolar"
           }
          ],
          "carpet": [
           {
            "aaxis": {
             "endlinecolor": "#2a3f5f",
             "gridcolor": "white",
             "linecolor": "white",
             "minorgridcolor": "white",
             "startlinecolor": "#2a3f5f"
            },
            "baxis": {
             "endlinecolor": "#2a3f5f",
             "gridcolor": "white",
             "linecolor": "white",
             "minorgridcolor": "white",
             "startlinecolor": "#2a3f5f"
            },
            "type": "carpet"
           }
          ],
          "choropleth": [
           {
            "colorbar": {
             "outlinewidth": 0,
             "ticks": ""
            },
            "type": "choropleth"
           }
          ],
          "contour": [
           {
            "colorbar": {
             "outlinewidth": 0,
             "ticks": ""
            },
            "colorscale": [
             [
              0,
              "#0d0887"
             ],
             [
              0.1111111111111111,
              "#46039f"
             ],
             [
              0.2222222222222222,
              "#7201a8"
             ],
             [
              0.3333333333333333,
              "#9c179e"
             ],
             [
              0.4444444444444444,
              "#bd3786"
             ],
             [
              0.5555555555555556,
              "#d8576b"
             ],
             [
              0.6666666666666666,
              "#ed7953"
             ],
             [
              0.7777777777777778,
              "#fb9f3a"
             ],
             [
              0.8888888888888888,
              "#fdca26"
             ],
             [
              1,
              "#f0f921"
             ]
            ],
            "type": "contour"
           }
          ],
          "contourcarpet": [
           {
            "colorbar": {
             "outlinewidth": 0,
             "ticks": ""
            },
            "type": "contourcarpet"
           }
          ],
          "heatmap": [
           {
            "colorbar": {
             "outlinewidth": 0,
             "ticks": ""
            },
            "colorscale": [
             [
              0,
              "#0d0887"
             ],
             [
              0.1111111111111111,
              "#46039f"
             ],
             [
              0.2222222222222222,
              "#7201a8"
             ],
             [
              0.3333333333333333,
              "#9c179e"
             ],
             [
              0.4444444444444444,
              "#bd3786"
             ],
             [
              0.5555555555555556,
              "#d8576b"
             ],
             [
              0.6666666666666666,
              "#ed7953"
             ],
             [
              0.7777777777777778,
              "#fb9f3a"
             ],
             [
              0.8888888888888888,
              "#fdca26"
             ],
             [
              1,
              "#f0f921"
             ]
            ],
            "type": "heatmap"
           }
          ],
          "heatmapgl": [
           {
            "colorbar": {
             "outlinewidth": 0,
             "ticks": ""
            },
            "colorscale": [
             [
              0,
              "#0d0887"
             ],
             [
              0.1111111111111111,
              "#46039f"
             ],
             [
              0.2222222222222222,
              "#7201a8"
             ],
             [
              0.3333333333333333,
              "#9c179e"
             ],
             [
              0.4444444444444444,
              "#bd3786"
             ],
             [
              0.5555555555555556,
              "#d8576b"
             ],
             [
              0.6666666666666666,
              "#ed7953"
             ],
             [
              0.7777777777777778,
              "#fb9f3a"
             ],
             [
              0.8888888888888888,
              "#fdca26"
             ],
             [
              1,
              "#f0f921"
             ]
            ],
            "type": "heatmapgl"
           }
          ],
          "histogram": [
           {
            "marker": {
             "pattern": {
              "fillmode": "overlay",
              "size": 10,
              "solidity": 0.2
             }
            },
            "type": "histogram"
           }
          ],
          "histogram2d": [
           {
            "colorbar": {
             "outlinewidth": 0,
             "ticks": ""
            },
            "colorscale": [
             [
              0,
              "#0d0887"
             ],
             [
              0.1111111111111111,
              "#46039f"
             ],
             [
              0.2222222222222222,
              "#7201a8"
             ],
             [
              0.3333333333333333,
              "#9c179e"
             ],
             [
              0.4444444444444444,
              "#bd3786"
             ],
             [
              0.5555555555555556,
              "#d8576b"
             ],
             [
              0.6666666666666666,
              "#ed7953"
             ],
             [
              0.7777777777777778,
              "#fb9f3a"
             ],
             [
              0.8888888888888888,
              "#fdca26"
             ],
             [
              1,
              "#f0f921"
             ]
            ],
            "type": "histogram2d"
           }
          ],
          "histogram2dcontour": [
           {
            "colorbar": {
             "outlinewidth": 0,
             "ticks": ""
            },
            "colorscale": [
             [
              0,
              "#0d0887"
             ],
             [
              0.1111111111111111,
              "#46039f"
             ],
             [
              0.2222222222222222,
              "#7201a8"
             ],
             [
              0.3333333333333333,
              "#9c179e"
             ],
             [
              0.4444444444444444,
              "#bd3786"
             ],
             [
              0.5555555555555556,
              "#d8576b"
             ],
             [
              0.6666666666666666,
              "#ed7953"
             ],
             [
              0.7777777777777778,
              "#fb9f3a"
             ],
             [
              0.8888888888888888,
              "#fdca26"
             ],
             [
              1,
              "#f0f921"
             ]
            ],
            "type": "histogram2dcontour"
           }
          ],
          "mesh3d": [
           {
            "colorbar": {
             "outlinewidth": 0,
             "ticks": ""
            },
            "type": "mesh3d"
           }
          ],
          "parcoords": [
           {
            "line": {
             "colorbar": {
              "outlinewidth": 0,
              "ticks": ""
             }
            },
            "type": "parcoords"
           }
          ],
          "pie": [
           {
            "automargin": true,
            "type": "pie"
           }
          ],
          "scatter": [
           {
            "fillpattern": {
             "fillmode": "overlay",
             "size": 10,
             "solidity": 0.2
            },
            "type": "scatter"
           }
          ],
          "scatter3d": [
           {
            "line": {
             "colorbar": {
              "outlinewidth": 0,
              "ticks": ""
             }
            },
            "marker": {
             "colorbar": {
              "outlinewidth": 0,
              "ticks": ""
             }
            },
            "type": "scatter3d"
           }
          ],
          "scattercarpet": [
           {
            "marker": {
             "colorbar": {
              "outlinewidth": 0,
              "ticks": ""
             }
            },
            "type": "scattercarpet"
           }
          ],
          "scattergeo": [
           {
            "marker": {
             "colorbar": {
              "outlinewidth": 0,
              "ticks": ""
             }
            },
            "type": "scattergeo"
           }
          ],
          "scattergl": [
           {
            "marker": {
             "colorbar": {
              "outlinewidth": 0,
              "ticks": ""
             }
            },
            "type": "scattergl"
           }
          ],
          "scattermapbox": [
           {
            "marker": {
             "colorbar": {
              "outlinewidth": 0,
              "ticks": ""
             }
            },
            "type": "scattermapbox"
           }
          ],
          "scatterpolar": [
           {
            "marker": {
             "colorbar": {
              "outlinewidth": 0,
              "ticks": ""
             }
            },
            "type": "scatterpolar"
           }
          ],
          "scatterpolargl": [
           {
            "marker": {
             "colorbar": {
              "outlinewidth": 0,
              "ticks": ""
             }
            },
            "type": "scatterpolargl"
           }
          ],
          "scatterternary": [
           {
            "marker": {
             "colorbar": {
              "outlinewidth": 0,
              "ticks": ""
             }
            },
            "type": "scatterternary"
           }
          ],
          "surface": [
           {
            "colorbar": {
             "outlinewidth": 0,
             "ticks": ""
            },
            "colorscale": [
             [
              0,
              "#0d0887"
             ],
             [
              0.1111111111111111,
              "#46039f"
             ],
             [
              0.2222222222222222,
              "#7201a8"
             ],
             [
              0.3333333333333333,
              "#9c179e"
             ],
             [
              0.4444444444444444,
              "#bd3786"
             ],
             [
              0.5555555555555556,
              "#d8576b"
             ],
             [
              0.6666666666666666,
              "#ed7953"
             ],
             [
              0.7777777777777778,
              "#fb9f3a"
             ],
             [
              0.8888888888888888,
              "#fdca26"
             ],
             [
              1,
              "#f0f921"
             ]
            ],
            "type": "surface"
           }
          ],
          "table": [
           {
            "cells": {
             "fill": {
              "color": "#EBF0F8"
             },
             "line": {
              "color": "white"
             }
            },
            "header": {
             "fill": {
              "color": "#C8D4E3"
             },
             "line": {
              "color": "white"
             }
            },
            "type": "table"
           }
          ]
         },
         "layout": {
          "annotationdefaults": {
           "arrowcolor": "#2a3f5f",
           "arrowhead": 0,
           "arrowwidth": 1
          },
          "autotypenumbers": "strict",
          "coloraxis": {
           "colorbar": {
            "outlinewidth": 0,
            "ticks": ""
           }
          },
          "colorscale": {
           "diverging": [
            [
             0,
             "#8e0152"
            ],
            [
             0.1,
             "#c51b7d"
            ],
            [
             0.2,
             "#de77ae"
            ],
            [
             0.3,
             "#f1b6da"
            ],
            [
             0.4,
             "#fde0ef"
            ],
            [
             0.5,
             "#f7f7f7"
            ],
            [
             0.6,
             "#e6f5d0"
            ],
            [
             0.7,
             "#b8e186"
            ],
            [
             0.8,
             "#7fbc41"
            ],
            [
             0.9,
             "#4d9221"
            ],
            [
             1,
             "#276419"
            ]
           ],
           "sequential": [
            [
             0,
             "#0d0887"
            ],
            [
             0.1111111111111111,
             "#46039f"
            ],
            [
             0.2222222222222222,
             "#7201a8"
            ],
            [
             0.3333333333333333,
             "#9c179e"
            ],
            [
             0.4444444444444444,
             "#bd3786"
            ],
            [
             0.5555555555555556,
             "#d8576b"
            ],
            [
             0.6666666666666666,
             "#ed7953"
            ],
            [
             0.7777777777777778,
             "#fb9f3a"
            ],
            [
             0.8888888888888888,
             "#fdca26"
            ],
            [
             1,
             "#f0f921"
            ]
           ],
           "sequentialminus": [
            [
             0,
             "#0d0887"
            ],
            [
             0.1111111111111111,
             "#46039f"
            ],
            [
             0.2222222222222222,
             "#7201a8"
            ],
            [
             0.3333333333333333,
             "#9c179e"
            ],
            [
             0.4444444444444444,
             "#bd3786"
            ],
            [
             0.5555555555555556,
             "#d8576b"
            ],
            [
             0.6666666666666666,
             "#ed7953"
            ],
            [
             0.7777777777777778,
             "#fb9f3a"
            ],
            [
             0.8888888888888888,
             "#fdca26"
            ],
            [
             1,
             "#f0f921"
            ]
           ]
          },
          "colorway": [
           "#636efa",
           "#EF553B",
           "#00cc96",
           "#ab63fa",
           "#FFA15A",
           "#19d3f3",
           "#FF6692",
           "#B6E880",
           "#FF97FF",
           "#FECB52"
          ],
          "font": {
           "color": "#2a3f5f"
          },
          "geo": {
           "bgcolor": "white",
           "lakecolor": "white",
           "landcolor": "#E5ECF6",
           "showlakes": true,
           "showland": true,
           "subunitcolor": "white"
          },
          "hoverlabel": {
           "align": "left"
          },
          "hovermode": "closest",
          "mapbox": {
           "style": "light"
          },
          "paper_bgcolor": "white",
          "plot_bgcolor": "#E5ECF6",
          "polar": {
           "angularaxis": {
            "gridcolor": "white",
            "linecolor": "white",
            "ticks": ""
           },
           "bgcolor": "#E5ECF6",
           "radialaxis": {
            "gridcolor": "white",
            "linecolor": "white",
            "ticks": ""
           }
          },
          "scene": {
           "xaxis": {
            "backgroundcolor": "#E5ECF6",
            "gridcolor": "white",
            "gridwidth": 2,
            "linecolor": "white",
            "showbackground": true,
            "ticks": "",
            "zerolinecolor": "white"
           },
           "yaxis": {
            "backgroundcolor": "#E5ECF6",
            "gridcolor": "white",
            "gridwidth": 2,
            "linecolor": "white",
            "showbackground": true,
            "ticks": "",
            "zerolinecolor": "white"
           },
           "zaxis": {
            "backgroundcolor": "#E5ECF6",
            "gridcolor": "white",
            "gridwidth": 2,
            "linecolor": "white",
            "showbackground": true,
            "ticks": "",
            "zerolinecolor": "white"
           }
          },
          "shapedefaults": {
           "line": {
            "color": "#2a3f5f"
           }
          },
          "ternary": {
           "aaxis": {
            "gridcolor": "white",
            "linecolor": "white",
            "ticks": ""
           },
           "baxis": {
            "gridcolor": "white",
            "linecolor": "white",
            "ticks": ""
           },
           "bgcolor": "#E5ECF6",
           "caxis": {
            "gridcolor": "white",
            "linecolor": "white",
            "ticks": ""
           }
          },
          "title": {
           "x": 0.05
          },
          "xaxis": {
           "automargin": true,
           "gridcolor": "white",
           "linecolor": "white",
           "ticks": "",
           "title": {
            "standoff": 15
           },
           "zerolinecolor": "white",
           "zerolinewidth": 2
          },
          "yaxis": {
           "automargin": true,
           "gridcolor": "white",
           "linecolor": "white",
           "ticks": "",
           "title": {
            "standoff": 15
           },
           "zerolinecolor": "white",
           "zerolinewidth": 2
          }
         }
        },
        "title": {
         "text": "Rainfall year-wise"
        },
        "xaxis": {
         "anchor": "y",
         "domain": [
          0,
          1
         ],
         "title": {
          "text": "SUBDIVISION"
         }
        },
        "yaxis": {
         "anchor": "x",
         "domain": [
          0,
          1
         ],
         "title": {
          "text": "ANNUAL"
         }
        }
       }
      }
     },
     "metadata": {},
     "output_type": "display_data"
    }
   ],
   "source": [
    "fig = px.bar(grouped_obj, x=grouped_obj.index, y='ANNUAL', title='Rainfall year-wise')\n",
    "conclusion = 'The graph shows the yearly rainfall.'\n",
    "fig.add_annotation(text=conclusion, xref='paper', yref='paper', x=.5, y=1, bgcolor='grey', showarrow=False, font=dict(size=12))\n"
   ]
  },
  {
   "cell_type": "code",
   "execution_count": 78,
   "metadata": {},
   "outputs": [
    {
     "data": {
      "application/vnd.plotly.v1+json": {
       "config": {
        "plotlyServerURL": "https://plot.ly"
       },
       "data": [
        {
         "hovertemplate": "SUBDIVISION=%{x}<br>ANNUAL=%{y}<extra></extra>",
         "legendgroup": "",
         "marker": {
          "color": "#636efa",
          "symbol": "circle"
         },
         "mode": "markers",
         "name": "",
         "orientation": "v",
         "showlegend": false,
         "type": "scatter",
         "x": [
          "Andaman & Nicobar Islands",
          "Arunachal Pradesh",
          "Assam & Meghalaya",
          "Bihar",
          "Chhattisgarh",
          "Coastal Andhra Pradesh",
          "Coastal Karnataka",
          "East Madhya Pradesh",
          "East Rajasthan",
          "East Uttar Pradesh",
          "Gangetic West Bengal",
          "Gujarat Region",
          "Haryana Delhi & Chandigarh",
          "Himachal Pradesh",
          "Jammu & Kashmir",
          "Jharkhand",
          "Kerala",
          "Konkan & Goa",
          "Lakshadweep",
          "Madhya Maharashtra",
          "Matathwada",
          "Naga Mani Mizo Tripura",
          "North Interior Karnataka",
          "Orissa",
          "Punjab",
          "Rayalseema",
          "Saurashtra & Kutch",
          "South Interior Karnataka",
          "Sub Himalayan West Bengal & Sikkim",
          "Tamil Nadu",
          "Telangana",
          "Uttarakhand",
          "Vidarbha",
          "West Madhya Pradesh",
          "West Rajasthan",
          "West Uttar Pradesh"
         ],
         "xaxis": "x",
         "y": [
          324990.8991800317,
          337666.5251477027,
          301758.60000000003,
          139998.3,
          160189.6,
          122885.6,
          397264.7377719341,
          140755.5,
          76810.1,
          114175.6,
          174402.5,
          107381.8,
          61826.8,
          147042.8,
          133209.48932232347,
          152999.8,
          340968,
          349540.2,
          182673.60169806075,
          103126.2,
          92632.59999999999,
          284630.10000000003,
          83910.9,
          170287.6,
          69198.7,
          89503.59999999999,
          58076.5,
          121392.9,
          321813,
          110036.9,
          111496.9,
          171339.1,
          127945,
          110157.20437380497,
          34411.5,
          96396
         ],
         "yaxis": "y"
        }
       ],
       "layout": {
        "annotations": [
         {
          "bgcolor": "grey",
          "font": {
           "size": 12
          },
          "showarrow": false,
          "text": "The graph shows the yearly rainfall.",
          "x": 0.5,
          "xref": "paper",
          "y": 1,
          "yref": "paper"
         }
        ],
        "legend": {
         "tracegroupgap": 0
        },
        "template": {
         "data": {
          "bar": [
           {
            "error_x": {
             "color": "#2a3f5f"
            },
            "error_y": {
             "color": "#2a3f5f"
            },
            "marker": {
             "line": {
              "color": "#E5ECF6",
              "width": 0.5
             },
             "pattern": {
              "fillmode": "overlay",
              "size": 10,
              "solidity": 0.2
             }
            },
            "type": "bar"
           }
          ],
          "barpolar": [
           {
            "marker": {
             "line": {
              "color": "#E5ECF6",
              "width": 0.5
             },
             "pattern": {
              "fillmode": "overlay",
              "size": 10,
              "solidity": 0.2
             }
            },
            "type": "barpolar"
           }
          ],
          "carpet": [
           {
            "aaxis": {
             "endlinecolor": "#2a3f5f",
             "gridcolor": "white",
             "linecolor": "white",
             "minorgridcolor": "white",
             "startlinecolor": "#2a3f5f"
            },
            "baxis": {
             "endlinecolor": "#2a3f5f",
             "gridcolor": "white",
             "linecolor": "white",
             "minorgridcolor": "white",
             "startlinecolor": "#2a3f5f"
            },
            "type": "carpet"
           }
          ],
          "choropleth": [
           {
            "colorbar": {
             "outlinewidth": 0,
             "ticks": ""
            },
            "type": "choropleth"
           }
          ],
          "contour": [
           {
            "colorbar": {
             "outlinewidth": 0,
             "ticks": ""
            },
            "colorscale": [
             [
              0,
              "#0d0887"
             ],
             [
              0.1111111111111111,
              "#46039f"
             ],
             [
              0.2222222222222222,
              "#7201a8"
             ],
             [
              0.3333333333333333,
              "#9c179e"
             ],
             [
              0.4444444444444444,
              "#bd3786"
             ],
             [
              0.5555555555555556,
              "#d8576b"
             ],
             [
              0.6666666666666666,
              "#ed7953"
             ],
             [
              0.7777777777777778,
              "#fb9f3a"
             ],
             [
              0.8888888888888888,
              "#fdca26"
             ],
             [
              1,
              "#f0f921"
             ]
            ],
            "type": "contour"
           }
          ],
          "contourcarpet": [
           {
            "colorbar": {
             "outlinewidth": 0,
             "ticks": ""
            },
            "type": "contourcarpet"
           }
          ],
          "heatmap": [
           {
            "colorbar": {
             "outlinewidth": 0,
             "ticks": ""
            },
            "colorscale": [
             [
              0,
              "#0d0887"
             ],
             [
              0.1111111111111111,
              "#46039f"
             ],
             [
              0.2222222222222222,
              "#7201a8"
             ],
             [
              0.3333333333333333,
              "#9c179e"
             ],
             [
              0.4444444444444444,
              "#bd3786"
             ],
             [
              0.5555555555555556,
              "#d8576b"
             ],
             [
              0.6666666666666666,
              "#ed7953"
             ],
             [
              0.7777777777777778,
              "#fb9f3a"
             ],
             [
              0.8888888888888888,
              "#fdca26"
             ],
             [
              1,
              "#f0f921"
             ]
            ],
            "type": "heatmap"
           }
          ],
          "heatmapgl": [
           {
            "colorbar": {
             "outlinewidth": 0,
             "ticks": ""
            },
            "colorscale": [
             [
              0,
              "#0d0887"
             ],
             [
              0.1111111111111111,
              "#46039f"
             ],
             [
              0.2222222222222222,
              "#7201a8"
             ],
             [
              0.3333333333333333,
              "#9c179e"
             ],
             [
              0.4444444444444444,
              "#bd3786"
             ],
             [
              0.5555555555555556,
              "#d8576b"
             ],
             [
              0.6666666666666666,
              "#ed7953"
             ],
             [
              0.7777777777777778,
              "#fb9f3a"
             ],
             [
              0.8888888888888888,
              "#fdca26"
             ],
             [
              1,
              "#f0f921"
             ]
            ],
            "type": "heatmapgl"
           }
          ],
          "histogram": [
           {
            "marker": {
             "pattern": {
              "fillmode": "overlay",
              "size": 10,
              "solidity": 0.2
             }
            },
            "type": "histogram"
           }
          ],
          "histogram2d": [
           {
            "colorbar": {
             "outlinewidth": 0,
             "ticks": ""
            },
            "colorscale": [
             [
              0,
              "#0d0887"
             ],
             [
              0.1111111111111111,
              "#46039f"
             ],
             [
              0.2222222222222222,
              "#7201a8"
             ],
             [
              0.3333333333333333,
              "#9c179e"
             ],
             [
              0.4444444444444444,
              "#bd3786"
             ],
             [
              0.5555555555555556,
              "#d8576b"
             ],
             [
              0.6666666666666666,
              "#ed7953"
             ],
             [
              0.7777777777777778,
              "#fb9f3a"
             ],
             [
              0.8888888888888888,
              "#fdca26"
             ],
             [
              1,
              "#f0f921"
             ]
            ],
            "type": "histogram2d"
           }
          ],
          "histogram2dcontour": [
           {
            "colorbar": {
             "outlinewidth": 0,
             "ticks": ""
            },
            "colorscale": [
             [
              0,
              "#0d0887"
             ],
             [
              0.1111111111111111,
              "#46039f"
             ],
             [
              0.2222222222222222,
              "#7201a8"
             ],
             [
              0.3333333333333333,
              "#9c179e"
             ],
             [
              0.4444444444444444,
              "#bd3786"
             ],
             [
              0.5555555555555556,
              "#d8576b"
             ],
             [
              0.6666666666666666,
              "#ed7953"
             ],
             [
              0.7777777777777778,
              "#fb9f3a"
             ],
             [
              0.8888888888888888,
              "#fdca26"
             ],
             [
              1,
              "#f0f921"
             ]
            ],
            "type": "histogram2dcontour"
           }
          ],
          "mesh3d": [
           {
            "colorbar": {
             "outlinewidth": 0,
             "ticks": ""
            },
            "type": "mesh3d"
           }
          ],
          "parcoords": [
           {
            "line": {
             "colorbar": {
              "outlinewidth": 0,
              "ticks": ""
             }
            },
            "type": "parcoords"
           }
          ],
          "pie": [
           {
            "automargin": true,
            "type": "pie"
           }
          ],
          "scatter": [
           {
            "fillpattern": {
             "fillmode": "overlay",
             "size": 10,
             "solidity": 0.2
            },
            "type": "scatter"
           }
          ],
          "scatter3d": [
           {
            "line": {
             "colorbar": {
              "outlinewidth": 0,
              "ticks": ""
             }
            },
            "marker": {
             "colorbar": {
              "outlinewidth": 0,
              "ticks": ""
             }
            },
            "type": "scatter3d"
           }
          ],
          "scattercarpet": [
           {
            "marker": {
             "colorbar": {
              "outlinewidth": 0,
              "ticks": ""
             }
            },
            "type": "scattercarpet"
           }
          ],
          "scattergeo": [
           {
            "marker": {
             "colorbar": {
              "outlinewidth": 0,
              "ticks": ""
             }
            },
            "type": "scattergeo"
           }
          ],
          "scattergl": [
           {
            "marker": {
             "colorbar": {
              "outlinewidth": 0,
              "ticks": ""
             }
            },
            "type": "scattergl"
           }
          ],
          "scattermapbox": [
           {
            "marker": {
             "colorbar": {
              "outlinewidth": 0,
              "ticks": ""
             }
            },
            "type": "scattermapbox"
           }
          ],
          "scatterpolar": [
           {
            "marker": {
             "colorbar": {
              "outlinewidth": 0,
              "ticks": ""
             }
            },
            "type": "scatterpolar"
           }
          ],
          "scatterpolargl": [
           {
            "marker": {
             "colorbar": {
              "outlinewidth": 0,
              "ticks": ""
             }
            },
            "type": "scatterpolargl"
           }
          ],
          "scatterternary": [
           {
            "marker": {
             "colorbar": {
              "outlinewidth": 0,
              "ticks": ""
             }
            },
            "type": "scatterternary"
           }
          ],
          "surface": [
           {
            "colorbar": {
             "outlinewidth": 0,
             "ticks": ""
            },
            "colorscale": [
             [
              0,
              "#0d0887"
             ],
             [
              0.1111111111111111,
              "#46039f"
             ],
             [
              0.2222222222222222,
              "#7201a8"
             ],
             [
              0.3333333333333333,
              "#9c179e"
             ],
             [
              0.4444444444444444,
              "#bd3786"
             ],
             [
              0.5555555555555556,
              "#d8576b"
             ],
             [
              0.6666666666666666,
              "#ed7953"
             ],
             [
              0.7777777777777778,
              "#fb9f3a"
             ],
             [
              0.8888888888888888,
              "#fdca26"
             ],
             [
              1,
              "#f0f921"
             ]
            ],
            "type": "surface"
           }
          ],
          "table": [
           {
            "cells": {
             "fill": {
              "color": "#EBF0F8"
             },
             "line": {
              "color": "white"
             }
            },
            "header": {
             "fill": {
              "color": "#C8D4E3"
             },
             "line": {
              "color": "white"
             }
            },
            "type": "table"
           }
          ]
         },
         "layout": {
          "annotationdefaults": {
           "arrowcolor": "#2a3f5f",
           "arrowhead": 0,
           "arrowwidth": 1
          },
          "autotypenumbers": "strict",
          "coloraxis": {
           "colorbar": {
            "outlinewidth": 0,
            "ticks": ""
           }
          },
          "colorscale": {
           "diverging": [
            [
             0,
             "#8e0152"
            ],
            [
             0.1,
             "#c51b7d"
            ],
            [
             0.2,
             "#de77ae"
            ],
            [
             0.3,
             "#f1b6da"
            ],
            [
             0.4,
             "#fde0ef"
            ],
            [
             0.5,
             "#f7f7f7"
            ],
            [
             0.6,
             "#e6f5d0"
            ],
            [
             0.7,
             "#b8e186"
            ],
            [
             0.8,
             "#7fbc41"
            ],
            [
             0.9,
             "#4d9221"
            ],
            [
             1,
             "#276419"
            ]
           ],
           "sequential": [
            [
             0,
             "#0d0887"
            ],
            [
             0.1111111111111111,
             "#46039f"
            ],
            [
             0.2222222222222222,
             "#7201a8"
            ],
            [
             0.3333333333333333,
             "#9c179e"
            ],
            [
             0.4444444444444444,
             "#bd3786"
            ],
            [
             0.5555555555555556,
             "#d8576b"
            ],
            [
             0.6666666666666666,
             "#ed7953"
            ],
            [
             0.7777777777777778,
             "#fb9f3a"
            ],
            [
             0.8888888888888888,
             "#fdca26"
            ],
            [
             1,
             "#f0f921"
            ]
           ],
           "sequentialminus": [
            [
             0,
             "#0d0887"
            ],
            [
             0.1111111111111111,
             "#46039f"
            ],
            [
             0.2222222222222222,
             "#7201a8"
            ],
            [
             0.3333333333333333,
             "#9c179e"
            ],
            [
             0.4444444444444444,
             "#bd3786"
            ],
            [
             0.5555555555555556,
             "#d8576b"
            ],
            [
             0.6666666666666666,
             "#ed7953"
            ],
            [
             0.7777777777777778,
             "#fb9f3a"
            ],
            [
             0.8888888888888888,
             "#fdca26"
            ],
            [
             1,
             "#f0f921"
            ]
           ]
          },
          "colorway": [
           "#636efa",
           "#EF553B",
           "#00cc96",
           "#ab63fa",
           "#FFA15A",
           "#19d3f3",
           "#FF6692",
           "#B6E880",
           "#FF97FF",
           "#FECB52"
          ],
          "font": {
           "color": "#2a3f5f"
          },
          "geo": {
           "bgcolor": "white",
           "lakecolor": "white",
           "landcolor": "#E5ECF6",
           "showlakes": true,
           "showland": true,
           "subunitcolor": "white"
          },
          "hoverlabel": {
           "align": "left"
          },
          "hovermode": "closest",
          "mapbox": {
           "style": "light"
          },
          "paper_bgcolor": "white",
          "plot_bgcolor": "#E5ECF6",
          "polar": {
           "angularaxis": {
            "gridcolor": "white",
            "linecolor": "white",
            "ticks": ""
           },
           "bgcolor": "#E5ECF6",
           "radialaxis": {
            "gridcolor": "white",
            "linecolor": "white",
            "ticks": ""
           }
          },
          "scene": {
           "xaxis": {
            "backgroundcolor": "#E5ECF6",
            "gridcolor": "white",
            "gridwidth": 2,
            "linecolor": "white",
            "showbackground": true,
            "ticks": "",
            "zerolinecolor": "white"
           },
           "yaxis": {
            "backgroundcolor": "#E5ECF6",
            "gridcolor": "white",
            "gridwidth": 2,
            "linecolor": "white",
            "showbackground": true,
            "ticks": "",
            "zerolinecolor": "white"
           },
           "zaxis": {
            "backgroundcolor": "#E5ECF6",
            "gridcolor": "white",
            "gridwidth": 2,
            "linecolor": "white",
            "showbackground": true,
            "ticks": "",
            "zerolinecolor": "white"
           }
          },
          "shapedefaults": {
           "line": {
            "color": "#2a3f5f"
           }
          },
          "ternary": {
           "aaxis": {
            "gridcolor": "white",
            "linecolor": "white",
            "ticks": ""
           },
           "baxis": {
            "gridcolor": "white",
            "linecolor": "white",
            "ticks": ""
           },
           "bgcolor": "#E5ECF6",
           "caxis": {
            "gridcolor": "white",
            "linecolor": "white",
            "ticks": ""
           }
          },
          "title": {
           "x": 0.05
          },
          "xaxis": {
           "automargin": true,
           "gridcolor": "white",
           "linecolor": "white",
           "ticks": "",
           "title": {
            "standoff": 15
           },
           "zerolinecolor": "white",
           "zerolinewidth": 2
          },
          "yaxis": {
           "automargin": true,
           "gridcolor": "white",
           "linecolor": "white",
           "ticks": "",
           "title": {
            "standoff": 15
           },
           "zerolinecolor": "white",
           "zerolinewidth": 2
          }
         }
        },
        "title": {
         "text": "Rainfall year-wise"
        },
        "xaxis": {
         "anchor": "y",
         "domain": [
          0,
          1
         ],
         "title": {
          "text": "SUBDIVISION"
         }
        },
        "yaxis": {
         "anchor": "x",
         "domain": [
          0,
          1
         ],
         "title": {
          "text": "ANNUAL"
         }
        }
       }
      }
     },
     "metadata": {},
     "output_type": "display_data"
    }
   ],
   "source": [
    "fig = px.scatter(grouped_obj, x=grouped_obj.index, y='ANNUAL', title='Rainfall year-wise')\n",
    "conclusion = 'The graph shows the yearly rainfall.'\n",
    "fig.add_annotation(text=conclusion, xref='paper', yref='paper', x=.5, y=1, bgcolor='grey', showarrow=False, font=dict(size=12))\n"
   ]
  },
  {
   "cell_type": "code",
   "execution_count": 64,
   "metadata": {},
   "outputs": [
    {
     "name": "stderr",
     "output_type": "stream",
     "text": [
      "C:\\Users\\Akshat\\AppData\\Local\\Temp\\ipykernel_13156\\95058988.py:2: FutureWarning:\n",
      "\n",
      "The default value of numeric_only in DataFrameGroupBy.sum is deprecated. In a future version, numeric_only will default to False. Either specify numeric_only or select only columns which should be valid for the function.\n",
      "\n"
     ]
    },
    {
     "data": {
      "text/html": [
       "<div>\n",
       "<style scoped>\n",
       "    .dataframe tbody tr th:only-of-type {\n",
       "        vertical-align: middle;\n",
       "    }\n",
       "\n",
       "    .dataframe tbody tr th {\n",
       "        vertical-align: top;\n",
       "    }\n",
       "\n",
       "    .dataframe thead th {\n",
       "        text-align: right;\n",
       "    }\n",
       "</style>\n",
       "<table border=\"1\" class=\"dataframe\">\n",
       "  <thead>\n",
       "    <tr style=\"text-align: right;\">\n",
       "      <th></th>\n",
       "      <th>JAN</th>\n",
       "      <th>FEB</th>\n",
       "      <th>MAR</th>\n",
       "      <th>APR</th>\n",
       "      <th>MAY</th>\n",
       "      <th>JUN</th>\n",
       "      <th>JUL</th>\n",
       "      <th>AUG</th>\n",
       "      <th>SEP</th>\n",
       "      <th>OCT</th>\n",
       "      <th>NOV</th>\n",
       "      <th>DEC</th>\n",
       "      <th>ANNUAL</th>\n",
       "      <th>Jan-Feb</th>\n",
       "      <th>Mar-May</th>\n",
       "      <th>June-September</th>\n",
       "      <th>Oct-Dec</th>\n",
       "      <th>Latitude</th>\n",
       "      <th>Longitude</th>\n",
       "    </tr>\n",
       "    <tr>\n",
       "      <th>SUBDIVISION</th>\n",
       "      <th></th>\n",
       "      <th></th>\n",
       "      <th></th>\n",
       "      <th></th>\n",
       "      <th></th>\n",
       "      <th></th>\n",
       "      <th></th>\n",
       "      <th></th>\n",
       "      <th></th>\n",
       "      <th></th>\n",
       "      <th></th>\n",
       "      <th></th>\n",
       "      <th></th>\n",
       "      <th></th>\n",
       "      <th></th>\n",
       "      <th></th>\n",
       "      <th></th>\n",
       "      <th></th>\n",
       "      <th></th>\n",
       "    </tr>\n",
       "  </thead>\n",
       "  <tbody>\n",
       "    <tr>\n",
       "      <th>Andaman &amp; Nicobar Islands</th>\n",
       "      <td>6090.800000</td>\n",
       "      <td>3100.800000</td>\n",
       "      <td>3530.191007</td>\n",
       "      <td>7996.963423</td>\n",
       "      <td>39471.746511</td>\n",
       "      <td>52169.295409</td>\n",
       "      <td>44589.32756</td>\n",
       "      <td>44427.024313</td>\n",
       "      <td>48593.63559</td>\n",
       "      <td>32089.429426</td>\n",
       "      <td>25710.981370</td>\n",
       "      <td>17220.704573</td>\n",
       "      <td>324990.899180</td>\n",
       "      <td>9191.600000</td>\n",
       "      <td>50998.900941</td>\n",
       "      <td>189779.282871</td>\n",
       "      <td>75021.115368</td>\n",
       "      <td>1412.458880</td>\n",
       "      <td>10397.144800</td>\n",
       "    </tr>\n",
       "    <tr>\n",
       "      <th>Arunachal Pradesh</th>\n",
       "      <td>4597.137772</td>\n",
       "      <td>8928.204374</td>\n",
       "      <td>14990.091007</td>\n",
       "      <td>26273.400000</td>\n",
       "      <td>35312.700000</td>\n",
       "      <td>63128.147704</td>\n",
       "      <td>68081.26378</td>\n",
       "      <td>48639.400000</td>\n",
       "      <td>42768.50000</td>\n",
       "      <td>19085.629426</td>\n",
       "      <td>3488.481370</td>\n",
       "      <td>2373.569715</td>\n",
       "      <td>337666.525148</td>\n",
       "      <td>13525.342146</td>\n",
       "      <td>76576.191007</td>\n",
       "      <td>222617.311484</td>\n",
       "      <td>24947.680511</td>\n",
       "      <td>2781.283230</td>\n",
       "      <td>9364.620870</td>\n",
       "    </tr>\n",
       "    <tr>\n",
       "      <th>Assam &amp; Meghalaya</th>\n",
       "      <td>1972.700000</td>\n",
       "      <td>3669.500000</td>\n",
       "      <td>9268.900000</td>\n",
       "      <td>23997.000000</td>\n",
       "      <td>39879.400000</td>\n",
       "      <td>59522.800000</td>\n",
       "      <td>57864.20000</td>\n",
       "      <td>47196.600000</td>\n",
       "      <td>36351.10000</td>\n",
       "      <td>17842.200000</td>\n",
       "      <td>3146.400000</td>\n",
       "      <td>1047.800000</td>\n",
       "      <td>301758.600000</td>\n",
       "      <td>5642.200000</td>\n",
       "      <td>73145.300000</td>\n",
       "      <td>200934.700000</td>\n",
       "      <td>22036.400000</td>\n",
       "      <td>3032.008510</td>\n",
       "      <td>10745.836695</td>\n",
       "    </tr>\n",
       "    <tr>\n",
       "      <th>Bihar</th>\n",
       "      <td>1549.400000</td>\n",
       "      <td>1655.900000</td>\n",
       "      <td>1192.700000</td>\n",
       "      <td>1971.300000</td>\n",
       "      <td>6268.100000</td>\n",
       "      <td>20259.600000</td>\n",
       "      <td>38047.10000</td>\n",
       "      <td>34952.600000</td>\n",
       "      <td>25486.70000</td>\n",
       "      <td>7364.500000</td>\n",
       "      <td>825.500000</td>\n",
       "      <td>424.900000</td>\n",
       "      <td>139998.300000</td>\n",
       "      <td>3205.300000</td>\n",
       "      <td>9432.100000</td>\n",
       "      <td>118746.000000</td>\n",
       "      <td>8614.900000</td>\n",
       "      <td>3000.357360</td>\n",
       "      <td>10051.061670</td>\n",
       "    </tr>\n",
       "    <tr>\n",
       "      <th>Chhattisgarh</th>\n",
       "      <td>1640.800000</td>\n",
       "      <td>2219.100000</td>\n",
       "      <td>1783.700000</td>\n",
       "      <td>1934.100000</td>\n",
       "      <td>2455.800000</td>\n",
       "      <td>23149.600000</td>\n",
       "      <td>46575.70000</td>\n",
       "      <td>45492.900000</td>\n",
       "      <td>25518.00000</td>\n",
       "      <td>7462.300000</td>\n",
       "      <td>1354.000000</td>\n",
       "      <td>603.600000</td>\n",
       "      <td>160189.600000</td>\n",
       "      <td>3859.900000</td>\n",
       "      <td>6173.600000</td>\n",
       "      <td>140736.200000</td>\n",
       "      <td>9419.900000</td>\n",
       "      <td>2534.657580</td>\n",
       "      <td>9575.354880</td>\n",
       "    </tr>\n",
       "    <tr>\n",
       "      <th>Coastal Andhra Pradesh</th>\n",
       "      <td>863.200000</td>\n",
       "      <td>1487.100000</td>\n",
       "      <td>1536.500000</td>\n",
       "      <td>3087.000000</td>\n",
       "      <td>7344.800000</td>\n",
       "      <td>14563.500000</td>\n",
       "      <td>20274.50000</td>\n",
       "      <td>20579.800000</td>\n",
       "      <td>21262.60000</td>\n",
       "      <td>21516.500000</td>\n",
       "      <td>9018.700000</td>\n",
       "      <td>1351.400000</td>\n",
       "      <td>122885.600000</td>\n",
       "      <td>2350.300000</td>\n",
       "      <td>11968.300000</td>\n",
       "      <td>76680.400000</td>\n",
       "      <td>31886.600000</td>\n",
       "      <td>2051.968575</td>\n",
       "      <td>9654.852845</td>\n",
       "    </tr>\n",
       "    <tr>\n",
       "      <th>Coastal Karnataka</th>\n",
       "      <td>241.437772</td>\n",
       "      <td>174.600000</td>\n",
       "      <td>733.800000</td>\n",
       "      <td>3568.700000</td>\n",
       "      <td>14343.900000</td>\n",
       "      <td>98547.000000</td>\n",
       "      <td>131191.50000</td>\n",
       "      <td>83162.600000</td>\n",
       "      <td>35002.40000</td>\n",
       "      <td>21486.600000</td>\n",
       "      <td>7348.700000</td>\n",
       "      <td>1463.500000</td>\n",
       "      <td>397264.737772</td>\n",
       "      <td>416.037772</td>\n",
       "      <td>18646.400000</td>\n",
       "      <td>347903.500000</td>\n",
       "      <td>30298.800000</td>\n",
       "      <td>1619.643227</td>\n",
       "      <td>8739.298175</td>\n",
       "    </tr>\n",
       "    <tr>\n",
       "      <th>East Madhya Pradesh</th>\n",
       "      <td>2256.000000</td>\n",
       "      <td>2158.600000</td>\n",
       "      <td>1587.900000</td>\n",
       "      <td>826.800000</td>\n",
       "      <td>1095.700000</td>\n",
       "      <td>16436.400000</td>\n",
       "      <td>43614.50000</td>\n",
       "      <td>43118.800000</td>\n",
       "      <td>22620.80000</td>\n",
       "      <td>4611.700000</td>\n",
       "      <td>1461.800000</td>\n",
       "      <td>966.500000</td>\n",
       "      <td>140755.500000</td>\n",
       "      <td>4414.600000</td>\n",
       "      <td>3510.400000</td>\n",
       "      <td>125790.500000</td>\n",
       "      <td>7040.000000</td>\n",
       "      <td>2800.700789</td>\n",
       "      <td>9490.013049</td>\n",
       "    </tr>\n",
       "    <tr>\n",
       "      <th>East Rajasthan</th>\n",
       "      <td>747.600000</td>\n",
       "      <td>623.400000</td>\n",
       "      <td>528.700000</td>\n",
       "      <td>362.300000</td>\n",
       "      <td>1153.900000</td>\n",
       "      <td>7442.500000</td>\n",
       "      <td>26304.50000</td>\n",
       "      <td>25624.800000</td>\n",
       "      <td>11354.10000</td>\n",
       "      <td>1684.100000</td>\n",
       "      <td>560.900000</td>\n",
       "      <td>423.300000</td>\n",
       "      <td>76810.100000</td>\n",
       "      <td>1371.000000</td>\n",
       "      <td>2044.900000</td>\n",
       "      <td>70725.900000</td>\n",
       "      <td>2668.300000</td>\n",
       "      <td>3112.125511</td>\n",
       "      <td>8983.518647</td>\n",
       "    </tr>\n",
       "    <tr>\n",
       "      <th>East Uttar Pradesh</th>\n",
       "      <td>1856.400000</td>\n",
       "      <td>1826.900000</td>\n",
       "      <td>1038.200000</td>\n",
       "      <td>741.500000</td>\n",
       "      <td>2044.400000</td>\n",
       "      <td>12859.800000</td>\n",
       "      <td>34082.40000</td>\n",
       "      <td>32105.100000</td>\n",
       "      <td>21463.90000</td>\n",
       "      <td>4964.800000</td>\n",
       "      <td>527.900000</td>\n",
       "      <td>664.300000</td>\n",
       "      <td>114175.600000</td>\n",
       "      <td>3683.300000</td>\n",
       "      <td>3824.100000</td>\n",
       "      <td>100511.200000</td>\n",
       "      <td>6157.000000</td>\n",
       "      <td>3114.390703</td>\n",
       "      <td>9695.671891</td>\n",
       "    </tr>\n",
       "    <tr>\n",
       "      <th>Gangetic West Bengal</th>\n",
       "      <td>1459.800000</td>\n",
       "      <td>2619.900000</td>\n",
       "      <td>3395.300000</td>\n",
       "      <td>5193.400000</td>\n",
       "      <td>12613.800000</td>\n",
       "      <td>28794.000000</td>\n",
       "      <td>38357.40000</td>\n",
       "      <td>36490.200000</td>\n",
       "      <td>28681.80000</td>\n",
       "      <td>13605.800000</td>\n",
       "      <td>2522.700000</td>\n",
       "      <td>668.400000</td>\n",
       "      <td>174402.500000</td>\n",
       "      <td>4079.700000</td>\n",
       "      <td>21202.500000</td>\n",
       "      <td>132323.400000</td>\n",
       "      <td>16796.900000</td>\n",
       "      <td>2876.594810</td>\n",
       "      <td>10292.253245</td>\n",
       "    </tr>\n",
       "    <tr>\n",
       "      <th>Gujarat Region</th>\n",
       "      <td>205.400000</td>\n",
       "      <td>137.000000</td>\n",
       "      <td>141.000000</td>\n",
       "      <td>128.400000</td>\n",
       "      <td>668.700000</td>\n",
       "      <td>14117.200000</td>\n",
       "      <td>40994.80000</td>\n",
       "      <td>30290.800000</td>\n",
       "      <td>17289.30000</td>\n",
       "      <td>2447.400000</td>\n",
       "      <td>796.800000</td>\n",
       "      <td>165.000000</td>\n",
       "      <td>107381.800000</td>\n",
       "      <td>342.400000</td>\n",
       "      <td>938.100000</td>\n",
       "      <td>102692.100000</td>\n",
       "      <td>3409.200000</td>\n",
       "      <td>2698.017762</td>\n",
       "      <td>8532.924024</td>\n",
       "    </tr>\n",
       "    <tr>\n",
       "      <th>Haryana Delhi &amp; Chandigarh</th>\n",
       "      <td>1976.500000</td>\n",
       "      <td>2006.300000</td>\n",
       "      <td>1515.500000</td>\n",
       "      <td>882.800000</td>\n",
       "      <td>1708.400000</td>\n",
       "      <td>5749.000000</td>\n",
       "      <td>17480.80000</td>\n",
       "      <td>17556.200000</td>\n",
       "      <td>10262.60000</td>\n",
       "      <td>1479.900000</td>\n",
       "      <td>377.200000</td>\n",
       "      <td>831.600000</td>\n",
       "      <td>61826.800000</td>\n",
       "      <td>3982.800000</td>\n",
       "      <td>4106.700000</td>\n",
       "      <td>51048.600000</td>\n",
       "      <td>2688.700000</td>\n",
       "      <td>3446.315175</td>\n",
       "      <td>8984.714708</td>\n",
       "    </tr>\n",
       "    <tr>\n",
       "      <th>Himachal Pradesh</th>\n",
       "      <td>9858.100000</td>\n",
       "      <td>10537.600000</td>\n",
       "      <td>11803.600000</td>\n",
       "      <td>7314.800000</td>\n",
       "      <td>6820.200000</td>\n",
       "      <td>10714.800000</td>\n",
       "      <td>32642.80000</td>\n",
       "      <td>32048.100000</td>\n",
       "      <td>15135.40000</td>\n",
       "      <td>3602.600000</td>\n",
       "      <td>1926.900000</td>\n",
       "      <td>4637.900000</td>\n",
       "      <td>147042.800000</td>\n",
       "      <td>20395.700000</td>\n",
       "      <td>25938.600000</td>\n",
       "      <td>90541.100000</td>\n",
       "      <td>10167.400000</td>\n",
       "      <td>3722.560920</td>\n",
       "      <td>9049.870440</td>\n",
       "    </tr>\n",
       "    <tr>\n",
       "      <th>Jammu &amp; Kashmir</th>\n",
       "      <td>12023.500000</td>\n",
       "      <td>13427.600000</td>\n",
       "      <td>15384.900000</td>\n",
       "      <td>11014.500000</td>\n",
       "      <td>7856.700000</td>\n",
       "      <td>7608.400000</td>\n",
       "      <td>21222.26378</td>\n",
       "      <td>21155.100000</td>\n",
       "      <td>10356.70000</td>\n",
       "      <td>3932.800000</td>\n",
       "      <td>2801.990685</td>\n",
       "      <td>6425.034858</td>\n",
       "      <td>133209.489322</td>\n",
       "      <td>25451.100000</td>\n",
       "      <td>34256.100000</td>\n",
       "      <td>60342.463780</td>\n",
       "      <td>13159.825542</td>\n",
       "      <td>3926.221650</td>\n",
       "      <td>8782.197840</td>\n",
       "    </tr>\n",
       "    <tr>\n",
       "      <th>Jharkhand</th>\n",
       "      <td>2044.200000</td>\n",
       "      <td>2789.100000</td>\n",
       "      <td>2140.700000</td>\n",
       "      <td>2234.300000</td>\n",
       "      <td>5685.200000</td>\n",
       "      <td>22616.600000</td>\n",
       "      <td>39545.30000</td>\n",
       "      <td>38076.900000</td>\n",
       "      <td>26575.00000</td>\n",
       "      <td>9350.800000</td>\n",
       "      <td>1373.500000</td>\n",
       "      <td>568.200000</td>\n",
       "      <td>152999.800000</td>\n",
       "      <td>4833.300000</td>\n",
       "      <td>10060.200000</td>\n",
       "      <td>126813.800000</td>\n",
       "      <td>11292.500000</td>\n",
       "      <td>2744.349660</td>\n",
       "      <td>9974.920410</td>\n",
       "    </tr>\n",
       "    <tr>\n",
       "      <th>Kerala</th>\n",
       "      <td>1424.100000</td>\n",
       "      <td>1798.800000</td>\n",
       "      <td>4343.900000</td>\n",
       "      <td>12802.100000</td>\n",
       "      <td>26908.100000</td>\n",
       "      <td>76420.300000</td>\n",
       "      <td>81429.60000</td>\n",
       "      <td>49221.000000</td>\n",
       "      <td>28765.80000</td>\n",
       "      <td>34157.200000</td>\n",
       "      <td>19019.400000</td>\n",
       "      <td>4677.700000</td>\n",
       "      <td>340968.000000</td>\n",
       "      <td>3222.900000</td>\n",
       "      <td>44054.100000</td>\n",
       "      <td>235836.700000</td>\n",
       "      <td>57854.300000</td>\n",
       "      <td>1211.285790</td>\n",
       "      <td>8951.908680</td>\n",
       "    </tr>\n",
       "    <tr>\n",
       "      <th>Konkan &amp; Goa</th>\n",
       "      <td>145.200000</td>\n",
       "      <td>63.000000</td>\n",
       "      <td>160.100000</td>\n",
       "      <td>490.900000</td>\n",
       "      <td>3903.400000</td>\n",
       "      <td>80832.400000</td>\n",
       "      <td>125821.10000</td>\n",
       "      <td>80065.200000</td>\n",
       "      <td>41371.80000</td>\n",
       "      <td>13302.700000</td>\n",
       "      <td>2839.900000</td>\n",
       "      <td>544.500000</td>\n",
       "      <td>349540.200000</td>\n",
       "      <td>208.200000</td>\n",
       "      <td>4554.400000</td>\n",
       "      <td>328090.500000</td>\n",
       "      <td>16687.100000</td>\n",
       "      <td>1790.152650</td>\n",
       "      <td>8668.004670</td>\n",
       "    </tr>\n",
       "    <tr>\n",
       "      <th>Lakshadweep</th>\n",
       "      <td>3176.875544</td>\n",
       "      <td>1823.004374</td>\n",
       "      <td>1665.291007</td>\n",
       "      <td>5147.063423</td>\n",
       "      <td>18604.793021</td>\n",
       "      <td>37475.495409</td>\n",
       "      <td>32597.89134</td>\n",
       "      <td>23961.024313</td>\n",
       "      <td>18779.43559</td>\n",
       "      <td>18851.344139</td>\n",
       "      <td>13751.744109</td>\n",
       "      <td>6839.639430</td>\n",
       "      <td>182673.601698</td>\n",
       "      <td>4999.879918</td>\n",
       "      <td>25417.147451</td>\n",
       "      <td>112813.846651</td>\n",
       "      <td>39442.727678</td>\n",
       "      <td>1168.471045</td>\n",
       "      <td>8454.628586</td>\n",
       "    </tr>\n",
       "    <tr>\n",
       "      <th>Madhya Maharashtra</th>\n",
       "      <td>351.300000</td>\n",
       "      <td>169.500000</td>\n",
       "      <td>421.100000</td>\n",
       "      <td>1054.100000</td>\n",
       "      <td>2664.200000</td>\n",
       "      <td>17243.900000</td>\n",
       "      <td>29233.20000</td>\n",
       "      <td>21630.400000</td>\n",
       "      <td>18442.50000</td>\n",
       "      <td>8247.600000</td>\n",
       "      <td>2989.800000</td>\n",
       "      <td>678.600000</td>\n",
       "      <td>103126.200000</td>\n",
       "      <td>520.800000</td>\n",
       "      <td>4139.400000</td>\n",
       "      <td>86550.000000</td>\n",
       "      <td>11916.000000</td>\n",
       "      <td>2239.948670</td>\n",
       "      <td>8748.329542</td>\n",
       "    </tr>\n",
       "    <tr>\n",
       "      <th>Matathwada</th>\n",
       "      <td>575.100000</td>\n",
       "      <td>514.100000</td>\n",
       "      <td>832.600000</td>\n",
       "      <td>876.400000</td>\n",
       "      <td>1809.000000</td>\n",
       "      <td>16089.700000</td>\n",
       "      <td>21133.20000</td>\n",
       "      <td>19465.300000</td>\n",
       "      <td>20974.00000</td>\n",
       "      <td>6937.900000</td>\n",
       "      <td>2582.600000</td>\n",
       "      <td>842.700000</td>\n",
       "      <td>92632.600000</td>\n",
       "      <td>1089.200000</td>\n",
       "      <td>3518.000000</td>\n",
       "      <td>77662.200000</td>\n",
       "      <td>10363.200000</td>\n",
       "      <td>2235.090827</td>\n",
       "      <td>9037.544615</td>\n",
       "    </tr>\n",
       "    <tr>\n",
       "      <th>Naga Mani Mizo Tripura</th>\n",
       "      <td>1622.200000</td>\n",
       "      <td>4260.400000</td>\n",
       "      <td>9060.800000</td>\n",
       "      <td>20047.300000</td>\n",
       "      <td>33928.900000</td>\n",
       "      <td>52038.400000</td>\n",
       "      <td>51206.40000</td>\n",
       "      <td>48159.700000</td>\n",
       "      <td>36798.50000</td>\n",
       "      <td>20528.000000</td>\n",
       "      <td>5483.800000</td>\n",
       "      <td>1495.700000</td>\n",
       "      <td>284630.100000</td>\n",
       "      <td>5882.600000</td>\n",
       "      <td>63037.000000</td>\n",
       "      <td>188203.000000</td>\n",
       "      <td>27507.500000</td>\n",
       "      <td>2898.906068</td>\n",
       "      <td>10891.775159</td>\n",
       "    </tr>\n",
       "    <tr>\n",
       "      <th>North Interior Karnataka</th>\n",
       "      <td>346.800000</td>\n",
       "      <td>365.200000</td>\n",
       "      <td>836.000000</td>\n",
       "      <td>2815.500000</td>\n",
       "      <td>5503.900000</td>\n",
       "      <td>11882.300000</td>\n",
       "      <td>16170.50000</td>\n",
       "      <td>13913.600000</td>\n",
       "      <td>16799.80000</td>\n",
       "      <td>11180.800000</td>\n",
       "      <td>3366.900000</td>\n",
       "      <td>729.600000</td>\n",
       "      <td>83910.900000</td>\n",
       "      <td>712.000000</td>\n",
       "      <td>9155.400000</td>\n",
       "      <td>58766.200000</td>\n",
       "      <td>15277.300000</td>\n",
       "      <td>1895.472119</td>\n",
       "      <td>8824.397439</td>\n",
       "    </tr>\n",
       "    <tr>\n",
       "      <th>Orissa</th>\n",
       "      <td>1421.800000</td>\n",
       "      <td>2284.400000</td>\n",
       "      <td>2475.500000</td>\n",
       "      <td>3945.700000</td>\n",
       "      <td>7592.000000</td>\n",
       "      <td>24622.700000</td>\n",
       "      <td>41014.90000</td>\n",
       "      <td>41491.500000</td>\n",
       "      <td>28219.80000</td>\n",
       "      <td>13317.700000</td>\n",
       "      <td>3256.000000</td>\n",
       "      <td>645.600000</td>\n",
       "      <td>170287.600000</td>\n",
       "      <td>3706.200000</td>\n",
       "      <td>14013.200000</td>\n",
       "      <td>135348.900000</td>\n",
       "      <td>17219.300000</td>\n",
       "      <td>2403.545040</td>\n",
       "      <td>9908.698410</td>\n",
       "    </tr>\n",
       "    <tr>\n",
       "      <th>Punjab</th>\n",
       "      <td>2952.200000</td>\n",
       "      <td>3089.500000</td>\n",
       "      <td>2769.000000</td>\n",
       "      <td>1469.000000</td>\n",
       "      <td>1662.800000</td>\n",
       "      <td>5507.100000</td>\n",
       "      <td>19678.30000</td>\n",
       "      <td>18456.300000</td>\n",
       "      <td>10060.90000</td>\n",
       "      <td>1593.100000</td>\n",
       "      <td>481.800000</td>\n",
       "      <td>1478.700000</td>\n",
       "      <td>69198.700000</td>\n",
       "      <td>6041.700000</td>\n",
       "      <td>5900.800000</td>\n",
       "      <td>53702.600000</td>\n",
       "      <td>3553.600000</td>\n",
       "      <td>3618.730440</td>\n",
       "      <td>8833.556160</td>\n",
       "    </tr>\n",
       "    <tr>\n",
       "      <th>Rayalseema</th>\n",
       "      <td>1146.600000</td>\n",
       "      <td>653.200000</td>\n",
       "      <td>942.400000</td>\n",
       "      <td>2287.200000</td>\n",
       "      <td>5925.100000</td>\n",
       "      <td>7662.900000</td>\n",
       "      <td>11232.60000</td>\n",
       "      <td>12576.900000</td>\n",
       "      <td>15433.20000</td>\n",
       "      <td>15797.900000</td>\n",
       "      <td>11843.900000</td>\n",
       "      <td>4001.700000</td>\n",
       "      <td>89503.600000</td>\n",
       "      <td>1799.800000</td>\n",
       "      <td>9154.700000</td>\n",
       "      <td>46905.600000</td>\n",
       "      <td>31643.500000</td>\n",
       "      <td>1704.904194</td>\n",
       "      <td>9129.124112</td>\n",
       "    </tr>\n",
       "    <tr>\n",
       "      <th>Saurashtra &amp; Kutch</th>\n",
       "      <td>131.100000</td>\n",
       "      <td>185.800000</td>\n",
       "      <td>149.400000</td>\n",
       "      <td>136.100000</td>\n",
       "      <td>537.400000</td>\n",
       "      <td>8665.800000</td>\n",
       "      <td>22900.20000</td>\n",
       "      <td>14028.100000</td>\n",
       "      <td>8774.50000</td>\n",
       "      <td>1738.200000</td>\n",
       "      <td>701.100000</td>\n",
       "      <td>128.800000</td>\n",
       "      <td>58076.500000</td>\n",
       "      <td>316.900000</td>\n",
       "      <td>822.900000</td>\n",
       "      <td>54368.600000</td>\n",
       "      <td>2568.100000</td>\n",
       "      <td>2712.203648</td>\n",
       "      <td>8256.562953</td>\n",
       "    </tr>\n",
       "    <tr>\n",
       "      <th>South Interior Karnataka</th>\n",
       "      <td>345.400000</td>\n",
       "      <td>479.200000</td>\n",
       "      <td>1110.800000</td>\n",
       "      <td>4905.200000</td>\n",
       "      <td>10824.400000</td>\n",
       "      <td>16542.800000</td>\n",
       "      <td>26928.70000</td>\n",
       "      <td>20304.800000</td>\n",
       "      <td>16104.20000</td>\n",
       "      <td>16201.700000</td>\n",
       "      <td>6282.500000</td>\n",
       "      <td>1363.200000</td>\n",
       "      <td>121392.900000</td>\n",
       "      <td>824.600000</td>\n",
       "      <td>16840.400000</td>\n",
       "      <td>79880.500000</td>\n",
       "      <td>23847.400000</td>\n",
       "      <td>1524.873849</td>\n",
       "      <td>9045.486296</td>\n",
       "    </tr>\n",
       "    <tr>\n",
       "      <th>Sub Himalayan West Bengal &amp; Sikkim</th>\n",
       "      <td>1643.300000</td>\n",
       "      <td>2654.300000</td>\n",
       "      <td>5144.100000</td>\n",
       "      <td>12976.600000</td>\n",
       "      <td>31412.000000</td>\n",
       "      <td>62827.800000</td>\n",
       "      <td>75547.00000</td>\n",
       "      <td>60875.600000</td>\n",
       "      <td>49338.70000</td>\n",
       "      <td>16841.400000</td>\n",
       "      <td>1854.000000</td>\n",
       "      <td>698.200000</td>\n",
       "      <td>321813.000000</td>\n",
       "      <td>4297.600000</td>\n",
       "      <td>49532.700000</td>\n",
       "      <td>248589.100000</td>\n",
       "      <td>19393.600000</td>\n",
       "      <td>3086.916003</td>\n",
       "      <td>10314.857023</td>\n",
       "    </tr>\n",
       "    <tr>\n",
       "      <th>Tamil Nadu</th>\n",
       "      <td>2779.000000</td>\n",
       "      <td>1545.500000</td>\n",
       "      <td>2278.200000</td>\n",
       "      <td>5198.100000</td>\n",
       "      <td>8216.900000</td>\n",
       "      <td>6097.400000</td>\n",
       "      <td>8330.00000</td>\n",
       "      <td>11241.600000</td>\n",
       "      <td>13048.00000</td>\n",
       "      <td>21288.900000</td>\n",
       "      <td>20519.200000</td>\n",
       "      <td>9494.100000</td>\n",
       "      <td>110036.900000</td>\n",
       "      <td>4324.500000</td>\n",
       "      <td>15693.200000</td>\n",
       "      <td>38717.000000</td>\n",
       "      <td>51302.200000</td>\n",
       "      <td>1276.403310</td>\n",
       "      <td>9168.884010</td>\n",
       "    </tr>\n",
       "    <tr>\n",
       "      <th>Telangana</th>\n",
       "      <td>887.000000</td>\n",
       "      <td>1114.400000</td>\n",
       "      <td>1470.900000</td>\n",
       "      <td>2098.800000</td>\n",
       "      <td>2995.500000</td>\n",
       "      <td>16740.700000</td>\n",
       "      <td>28841.40000</td>\n",
       "      <td>25069.700000</td>\n",
       "      <td>20634.50000</td>\n",
       "      <td>8721.100000</td>\n",
       "      <td>2331.200000</td>\n",
       "      <td>591.700000</td>\n",
       "      <td>111496.900000</td>\n",
       "      <td>2001.400000</td>\n",
       "      <td>6565.200000</td>\n",
       "      <td>91286.300000</td>\n",
       "      <td>11644.000000</td>\n",
       "      <td>2088.402030</td>\n",
       "      <td>9256.474890</td>\n",
       "    </tr>\n",
       "    <tr>\n",
       "      <th>Uttarakhand</th>\n",
       "      <td>6228.700000</td>\n",
       "      <td>7339.800000</td>\n",
       "      <td>6676.600000</td>\n",
       "      <td>4106.800000</td>\n",
       "      <td>6571.400000</td>\n",
       "      <td>19043.400000</td>\n",
       "      <td>45899.60000</td>\n",
       "      <td>44590.200000</td>\n",
       "      <td>22875.90000</td>\n",
       "      <td>4509.000000</td>\n",
       "      <td>941.800000</td>\n",
       "      <td>2555.900000</td>\n",
       "      <td>171339.100000</td>\n",
       "      <td>13568.500000</td>\n",
       "      <td>17354.800000</td>\n",
       "      <td>132409.100000</td>\n",
       "      <td>8006.700000</td>\n",
       "      <td>3514.883580</td>\n",
       "      <td>9253.493730</td>\n",
       "    </tr>\n",
       "    <tr>\n",
       "      <th>Vidarbha</th>\n",
       "      <td>1215.700000</td>\n",
       "      <td>1383.200000</td>\n",
       "      <td>1391.500000</td>\n",
       "      <td>1090.200000</td>\n",
       "      <td>1348.100000</td>\n",
       "      <td>20274.800000</td>\n",
       "      <td>38626.70000</td>\n",
       "      <td>33244.300000</td>\n",
       "      <td>20537.80000</td>\n",
       "      <td>6129.600000</td>\n",
       "      <td>1791.400000</td>\n",
       "      <td>911.700000</td>\n",
       "      <td>127945.000000</td>\n",
       "      <td>2598.900000</td>\n",
       "      <td>3829.800000</td>\n",
       "      <td>112683.600000</td>\n",
       "      <td>8832.700000</td>\n",
       "      <td>2440.445356</td>\n",
       "      <td>9275.343677</td>\n",
       "    </tr>\n",
       "    <tr>\n",
       "      <th>West Madhya Pradesh</th>\n",
       "      <td>1072.600000</td>\n",
       "      <td>742.804374</td>\n",
       "      <td>598.800000</td>\n",
       "      <td>273.400000</td>\n",
       "      <td>897.500000</td>\n",
       "      <td>13086.000000</td>\n",
       "      <td>35568.70000</td>\n",
       "      <td>33701.000000</td>\n",
       "      <td>18786.60000</td>\n",
       "      <td>3284.100000</td>\n",
       "      <td>1419.600000</td>\n",
       "      <td>726.100000</td>\n",
       "      <td>110157.204374</td>\n",
       "      <td>1815.404374</td>\n",
       "      <td>1769.700000</td>\n",
       "      <td>101142.300000</td>\n",
       "      <td>5429.800000</td>\n",
       "      <td>2681.580759</td>\n",
       "      <td>8779.186667</td>\n",
       "    </tr>\n",
       "    <tr>\n",
       "      <th>West Rajasthan</th>\n",
       "      <td>388.800000</td>\n",
       "      <td>568.900000</td>\n",
       "      <td>469.300000</td>\n",
       "      <td>414.400000</td>\n",
       "      <td>1116.100000</td>\n",
       "      <td>3408.400000</td>\n",
       "      <td>11244.40000</td>\n",
       "      <td>11108.900000</td>\n",
       "      <td>4671.60000</td>\n",
       "      <td>607.800000</td>\n",
       "      <td>192.300000</td>\n",
       "      <td>220.600000</td>\n",
       "      <td>34411.500000</td>\n",
       "      <td>957.700000</td>\n",
       "      <td>1999.800000</td>\n",
       "      <td>30433.300000</td>\n",
       "      <td>1020.700000</td>\n",
       "      <td>3137.387342</td>\n",
       "      <td>8307.398075</td>\n",
       "    </tr>\n",
       "    <tr>\n",
       "      <th>West Uttar Pradesh</th>\n",
       "      <td>2055.700000</td>\n",
       "      <td>2060.900000</td>\n",
       "      <td>1337.000000</td>\n",
       "      <td>721.000000</td>\n",
       "      <td>1457.000000</td>\n",
       "      <td>9068.800000</td>\n",
       "      <td>28883.30000</td>\n",
       "      <td>29212.100000</td>\n",
       "      <td>17004.70000</td>\n",
       "      <td>3319.600000</td>\n",
       "      <td>456.100000</td>\n",
       "      <td>819.800000</td>\n",
       "      <td>96396.000000</td>\n",
       "      <td>4116.600000</td>\n",
       "      <td>3515.000000</td>\n",
       "      <td>84168.900000</td>\n",
       "      <td>4595.500000</td>\n",
       "      <td>3242.471354</td>\n",
       "      <td>9160.945355</td>\n",
       "    </tr>\n",
       "  </tbody>\n",
       "</table>\n",
       "</div>"
      ],
      "text/plain": [
       "                                             JAN           FEB           MAR  \\\n",
       "SUBDIVISION                                                                    \n",
       "Andaman & Nicobar Islands            6090.800000   3100.800000   3530.191007   \n",
       "Arunachal Pradesh                    4597.137772   8928.204374  14990.091007   \n",
       "Assam & Meghalaya                    1972.700000   3669.500000   9268.900000   \n",
       "Bihar                                1549.400000   1655.900000   1192.700000   \n",
       "Chhattisgarh                         1640.800000   2219.100000   1783.700000   \n",
       "Coastal Andhra Pradesh                863.200000   1487.100000   1536.500000   \n",
       "Coastal Karnataka                     241.437772    174.600000    733.800000   \n",
       "East Madhya Pradesh                  2256.000000   2158.600000   1587.900000   \n",
       "East Rajasthan                        747.600000    623.400000    528.700000   \n",
       "East Uttar Pradesh                   1856.400000   1826.900000   1038.200000   \n",
       "Gangetic West Bengal                 1459.800000   2619.900000   3395.300000   \n",
       "Gujarat Region                        205.400000    137.000000    141.000000   \n",
       "Haryana Delhi & Chandigarh           1976.500000   2006.300000   1515.500000   \n",
       "Himachal Pradesh                     9858.100000  10537.600000  11803.600000   \n",
       "Jammu & Kashmir                     12023.500000  13427.600000  15384.900000   \n",
       "Jharkhand                            2044.200000   2789.100000   2140.700000   \n",
       "Kerala                               1424.100000   1798.800000   4343.900000   \n",
       "Konkan & Goa                          145.200000     63.000000    160.100000   \n",
       "Lakshadweep                          3176.875544   1823.004374   1665.291007   \n",
       "Madhya Maharashtra                    351.300000    169.500000    421.100000   \n",
       "Matathwada                            575.100000    514.100000    832.600000   \n",
       "Naga Mani Mizo Tripura               1622.200000   4260.400000   9060.800000   \n",
       "North Interior Karnataka              346.800000    365.200000    836.000000   \n",
       "Orissa                               1421.800000   2284.400000   2475.500000   \n",
       "Punjab                               2952.200000   3089.500000   2769.000000   \n",
       "Rayalseema                           1146.600000    653.200000    942.400000   \n",
       "Saurashtra & Kutch                    131.100000    185.800000    149.400000   \n",
       "South Interior Karnataka              345.400000    479.200000   1110.800000   \n",
       "Sub Himalayan West Bengal & Sikkim   1643.300000   2654.300000   5144.100000   \n",
       "Tamil Nadu                           2779.000000   1545.500000   2278.200000   \n",
       "Telangana                             887.000000   1114.400000   1470.900000   \n",
       "Uttarakhand                          6228.700000   7339.800000   6676.600000   \n",
       "Vidarbha                             1215.700000   1383.200000   1391.500000   \n",
       "West Madhya Pradesh                  1072.600000    742.804374    598.800000   \n",
       "West Rajasthan                        388.800000    568.900000    469.300000   \n",
       "West Uttar Pradesh                   2055.700000   2060.900000   1337.000000   \n",
       "\n",
       "                                             APR           MAY           JUN  \\\n",
       "SUBDIVISION                                                                    \n",
       "Andaman & Nicobar Islands            7996.963423  39471.746511  52169.295409   \n",
       "Arunachal Pradesh                   26273.400000  35312.700000  63128.147704   \n",
       "Assam & Meghalaya                   23997.000000  39879.400000  59522.800000   \n",
       "Bihar                                1971.300000   6268.100000  20259.600000   \n",
       "Chhattisgarh                         1934.100000   2455.800000  23149.600000   \n",
       "Coastal Andhra Pradesh               3087.000000   7344.800000  14563.500000   \n",
       "Coastal Karnataka                    3568.700000  14343.900000  98547.000000   \n",
       "East Madhya Pradesh                   826.800000   1095.700000  16436.400000   \n",
       "East Rajasthan                        362.300000   1153.900000   7442.500000   \n",
       "East Uttar Pradesh                    741.500000   2044.400000  12859.800000   \n",
       "Gangetic West Bengal                 5193.400000  12613.800000  28794.000000   \n",
       "Gujarat Region                        128.400000    668.700000  14117.200000   \n",
       "Haryana Delhi & Chandigarh            882.800000   1708.400000   5749.000000   \n",
       "Himachal Pradesh                     7314.800000   6820.200000  10714.800000   \n",
       "Jammu & Kashmir                     11014.500000   7856.700000   7608.400000   \n",
       "Jharkhand                            2234.300000   5685.200000  22616.600000   \n",
       "Kerala                              12802.100000  26908.100000  76420.300000   \n",
       "Konkan & Goa                          490.900000   3903.400000  80832.400000   \n",
       "Lakshadweep                          5147.063423  18604.793021  37475.495409   \n",
       "Madhya Maharashtra                   1054.100000   2664.200000  17243.900000   \n",
       "Matathwada                            876.400000   1809.000000  16089.700000   \n",
       "Naga Mani Mizo Tripura              20047.300000  33928.900000  52038.400000   \n",
       "North Interior Karnataka             2815.500000   5503.900000  11882.300000   \n",
       "Orissa                               3945.700000   7592.000000  24622.700000   \n",
       "Punjab                               1469.000000   1662.800000   5507.100000   \n",
       "Rayalseema                           2287.200000   5925.100000   7662.900000   \n",
       "Saurashtra & Kutch                    136.100000    537.400000   8665.800000   \n",
       "South Interior Karnataka             4905.200000  10824.400000  16542.800000   \n",
       "Sub Himalayan West Bengal & Sikkim  12976.600000  31412.000000  62827.800000   \n",
       "Tamil Nadu                           5198.100000   8216.900000   6097.400000   \n",
       "Telangana                            2098.800000   2995.500000  16740.700000   \n",
       "Uttarakhand                          4106.800000   6571.400000  19043.400000   \n",
       "Vidarbha                             1090.200000   1348.100000  20274.800000   \n",
       "West Madhya Pradesh                   273.400000    897.500000  13086.000000   \n",
       "West Rajasthan                        414.400000   1116.100000   3408.400000   \n",
       "West Uttar Pradesh                    721.000000   1457.000000   9068.800000   \n",
       "\n",
       "                                             JUL           AUG          SEP  \\\n",
       "SUBDIVISION                                                                   \n",
       "Andaman & Nicobar Islands            44589.32756  44427.024313  48593.63559   \n",
       "Arunachal Pradesh                    68081.26378  48639.400000  42768.50000   \n",
       "Assam & Meghalaya                    57864.20000  47196.600000  36351.10000   \n",
       "Bihar                                38047.10000  34952.600000  25486.70000   \n",
       "Chhattisgarh                         46575.70000  45492.900000  25518.00000   \n",
       "Coastal Andhra Pradesh               20274.50000  20579.800000  21262.60000   \n",
       "Coastal Karnataka                   131191.50000  83162.600000  35002.40000   \n",
       "East Madhya Pradesh                  43614.50000  43118.800000  22620.80000   \n",
       "East Rajasthan                       26304.50000  25624.800000  11354.10000   \n",
       "East Uttar Pradesh                   34082.40000  32105.100000  21463.90000   \n",
       "Gangetic West Bengal                 38357.40000  36490.200000  28681.80000   \n",
       "Gujarat Region                       40994.80000  30290.800000  17289.30000   \n",
       "Haryana Delhi & Chandigarh           17480.80000  17556.200000  10262.60000   \n",
       "Himachal Pradesh                     32642.80000  32048.100000  15135.40000   \n",
       "Jammu & Kashmir                      21222.26378  21155.100000  10356.70000   \n",
       "Jharkhand                            39545.30000  38076.900000  26575.00000   \n",
       "Kerala                               81429.60000  49221.000000  28765.80000   \n",
       "Konkan & Goa                        125821.10000  80065.200000  41371.80000   \n",
       "Lakshadweep                          32597.89134  23961.024313  18779.43559   \n",
       "Madhya Maharashtra                   29233.20000  21630.400000  18442.50000   \n",
       "Matathwada                           21133.20000  19465.300000  20974.00000   \n",
       "Naga Mani Mizo Tripura               51206.40000  48159.700000  36798.50000   \n",
       "North Interior Karnataka             16170.50000  13913.600000  16799.80000   \n",
       "Orissa                               41014.90000  41491.500000  28219.80000   \n",
       "Punjab                               19678.30000  18456.300000  10060.90000   \n",
       "Rayalseema                           11232.60000  12576.900000  15433.20000   \n",
       "Saurashtra & Kutch                   22900.20000  14028.100000   8774.50000   \n",
       "South Interior Karnataka             26928.70000  20304.800000  16104.20000   \n",
       "Sub Himalayan West Bengal & Sikkim   75547.00000  60875.600000  49338.70000   \n",
       "Tamil Nadu                            8330.00000  11241.600000  13048.00000   \n",
       "Telangana                            28841.40000  25069.700000  20634.50000   \n",
       "Uttarakhand                          45899.60000  44590.200000  22875.90000   \n",
       "Vidarbha                             38626.70000  33244.300000  20537.80000   \n",
       "West Madhya Pradesh                  35568.70000  33701.000000  18786.60000   \n",
       "West Rajasthan                       11244.40000  11108.900000   4671.60000   \n",
       "West Uttar Pradesh                   28883.30000  29212.100000  17004.70000   \n",
       "\n",
       "                                             OCT           NOV           DEC  \\\n",
       "SUBDIVISION                                                                    \n",
       "Andaman & Nicobar Islands           32089.429426  25710.981370  17220.704573   \n",
       "Arunachal Pradesh                   19085.629426   3488.481370   2373.569715   \n",
       "Assam & Meghalaya                   17842.200000   3146.400000   1047.800000   \n",
       "Bihar                                7364.500000    825.500000    424.900000   \n",
       "Chhattisgarh                         7462.300000   1354.000000    603.600000   \n",
       "Coastal Andhra Pradesh              21516.500000   9018.700000   1351.400000   \n",
       "Coastal Karnataka                   21486.600000   7348.700000   1463.500000   \n",
       "East Madhya Pradesh                  4611.700000   1461.800000    966.500000   \n",
       "East Rajasthan                       1684.100000    560.900000    423.300000   \n",
       "East Uttar Pradesh                   4964.800000    527.900000    664.300000   \n",
       "Gangetic West Bengal                13605.800000   2522.700000    668.400000   \n",
       "Gujarat Region                       2447.400000    796.800000    165.000000   \n",
       "Haryana Delhi & Chandigarh           1479.900000    377.200000    831.600000   \n",
       "Himachal Pradesh                     3602.600000   1926.900000   4637.900000   \n",
       "Jammu & Kashmir                      3932.800000   2801.990685   6425.034858   \n",
       "Jharkhand                            9350.800000   1373.500000    568.200000   \n",
       "Kerala                              34157.200000  19019.400000   4677.700000   \n",
       "Konkan & Goa                        13302.700000   2839.900000    544.500000   \n",
       "Lakshadweep                         18851.344139  13751.744109   6839.639430   \n",
       "Madhya Maharashtra                   8247.600000   2989.800000    678.600000   \n",
       "Matathwada                           6937.900000   2582.600000    842.700000   \n",
       "Naga Mani Mizo Tripura              20528.000000   5483.800000   1495.700000   \n",
       "North Interior Karnataka            11180.800000   3366.900000    729.600000   \n",
       "Orissa                              13317.700000   3256.000000    645.600000   \n",
       "Punjab                               1593.100000    481.800000   1478.700000   \n",
       "Rayalseema                          15797.900000  11843.900000   4001.700000   \n",
       "Saurashtra & Kutch                   1738.200000    701.100000    128.800000   \n",
       "South Interior Karnataka            16201.700000   6282.500000   1363.200000   \n",
       "Sub Himalayan West Bengal & Sikkim  16841.400000   1854.000000    698.200000   \n",
       "Tamil Nadu                          21288.900000  20519.200000   9494.100000   \n",
       "Telangana                            8721.100000   2331.200000    591.700000   \n",
       "Uttarakhand                          4509.000000    941.800000   2555.900000   \n",
       "Vidarbha                             6129.600000   1791.400000    911.700000   \n",
       "West Madhya Pradesh                  3284.100000   1419.600000    726.100000   \n",
       "West Rajasthan                        607.800000    192.300000    220.600000   \n",
       "West Uttar Pradesh                   3319.600000    456.100000    819.800000   \n",
       "\n",
       "                                           ANNUAL       Jan-Feb       Mar-May  \\\n",
       "SUBDIVISION                                                                     \n",
       "Andaman & Nicobar Islands           324990.899180   9191.600000  50998.900941   \n",
       "Arunachal Pradesh                   337666.525148  13525.342146  76576.191007   \n",
       "Assam & Meghalaya                   301758.600000   5642.200000  73145.300000   \n",
       "Bihar                               139998.300000   3205.300000   9432.100000   \n",
       "Chhattisgarh                        160189.600000   3859.900000   6173.600000   \n",
       "Coastal Andhra Pradesh              122885.600000   2350.300000  11968.300000   \n",
       "Coastal Karnataka                   397264.737772    416.037772  18646.400000   \n",
       "East Madhya Pradesh                 140755.500000   4414.600000   3510.400000   \n",
       "East Rajasthan                       76810.100000   1371.000000   2044.900000   \n",
       "East Uttar Pradesh                  114175.600000   3683.300000   3824.100000   \n",
       "Gangetic West Bengal                174402.500000   4079.700000  21202.500000   \n",
       "Gujarat Region                      107381.800000    342.400000    938.100000   \n",
       "Haryana Delhi & Chandigarh           61826.800000   3982.800000   4106.700000   \n",
       "Himachal Pradesh                    147042.800000  20395.700000  25938.600000   \n",
       "Jammu & Kashmir                     133209.489322  25451.100000  34256.100000   \n",
       "Jharkhand                           152999.800000   4833.300000  10060.200000   \n",
       "Kerala                              340968.000000   3222.900000  44054.100000   \n",
       "Konkan & Goa                        349540.200000    208.200000   4554.400000   \n",
       "Lakshadweep                         182673.601698   4999.879918  25417.147451   \n",
       "Madhya Maharashtra                  103126.200000    520.800000   4139.400000   \n",
       "Matathwada                           92632.600000   1089.200000   3518.000000   \n",
       "Naga Mani Mizo Tripura              284630.100000   5882.600000  63037.000000   \n",
       "North Interior Karnataka             83910.900000    712.000000   9155.400000   \n",
       "Orissa                              170287.600000   3706.200000  14013.200000   \n",
       "Punjab                               69198.700000   6041.700000   5900.800000   \n",
       "Rayalseema                           89503.600000   1799.800000   9154.700000   \n",
       "Saurashtra & Kutch                   58076.500000    316.900000    822.900000   \n",
       "South Interior Karnataka            121392.900000    824.600000  16840.400000   \n",
       "Sub Himalayan West Bengal & Sikkim  321813.000000   4297.600000  49532.700000   \n",
       "Tamil Nadu                          110036.900000   4324.500000  15693.200000   \n",
       "Telangana                           111496.900000   2001.400000   6565.200000   \n",
       "Uttarakhand                         171339.100000  13568.500000  17354.800000   \n",
       "Vidarbha                            127945.000000   2598.900000   3829.800000   \n",
       "West Madhya Pradesh                 110157.204374   1815.404374   1769.700000   \n",
       "West Rajasthan                       34411.500000    957.700000   1999.800000   \n",
       "West Uttar Pradesh                   96396.000000   4116.600000   3515.000000   \n",
       "\n",
       "                                    June-September       Oct-Dec     Latitude  \\\n",
       "SUBDIVISION                                                                     \n",
       "Andaman & Nicobar Islands            189779.282871  75021.115368  1412.458880   \n",
       "Arunachal Pradesh                    222617.311484  24947.680511  2781.283230   \n",
       "Assam & Meghalaya                    200934.700000  22036.400000  3032.008510   \n",
       "Bihar                                118746.000000   8614.900000  3000.357360   \n",
       "Chhattisgarh                         140736.200000   9419.900000  2534.657580   \n",
       "Coastal Andhra Pradesh                76680.400000  31886.600000  2051.968575   \n",
       "Coastal Karnataka                    347903.500000  30298.800000  1619.643227   \n",
       "East Madhya Pradesh                  125790.500000   7040.000000  2800.700789   \n",
       "East Rajasthan                        70725.900000   2668.300000  3112.125511   \n",
       "East Uttar Pradesh                   100511.200000   6157.000000  3114.390703   \n",
       "Gangetic West Bengal                 132323.400000  16796.900000  2876.594810   \n",
       "Gujarat Region                       102692.100000   3409.200000  2698.017762   \n",
       "Haryana Delhi & Chandigarh            51048.600000   2688.700000  3446.315175   \n",
       "Himachal Pradesh                      90541.100000  10167.400000  3722.560920   \n",
       "Jammu & Kashmir                       60342.463780  13159.825542  3926.221650   \n",
       "Jharkhand                            126813.800000  11292.500000  2744.349660   \n",
       "Kerala                               235836.700000  57854.300000  1211.285790   \n",
       "Konkan & Goa                         328090.500000  16687.100000  1790.152650   \n",
       "Lakshadweep                          112813.846651  39442.727678  1168.471045   \n",
       "Madhya Maharashtra                    86550.000000  11916.000000  2239.948670   \n",
       "Matathwada                            77662.200000  10363.200000  2235.090827   \n",
       "Naga Mani Mizo Tripura               188203.000000  27507.500000  2898.906068   \n",
       "North Interior Karnataka              58766.200000  15277.300000  1895.472119   \n",
       "Orissa                               135348.900000  17219.300000  2403.545040   \n",
       "Punjab                                53702.600000   3553.600000  3618.730440   \n",
       "Rayalseema                            46905.600000  31643.500000  1704.904194   \n",
       "Saurashtra & Kutch                    54368.600000   2568.100000  2712.203648   \n",
       "South Interior Karnataka              79880.500000  23847.400000  1524.873849   \n",
       "Sub Himalayan West Bengal & Sikkim   248589.100000  19393.600000  3086.916003   \n",
       "Tamil Nadu                            38717.000000  51302.200000  1276.403310   \n",
       "Telangana                             91286.300000  11644.000000  2088.402030   \n",
       "Uttarakhand                          132409.100000   8006.700000  3514.883580   \n",
       "Vidarbha                             112683.600000   8832.700000  2440.445356   \n",
       "West Madhya Pradesh                  101142.300000   5429.800000  2681.580759   \n",
       "West Rajasthan                        30433.300000   1020.700000  3137.387342   \n",
       "West Uttar Pradesh                    84168.900000   4595.500000  3242.471354   \n",
       "\n",
       "                                       Longitude  \n",
       "SUBDIVISION                                       \n",
       "Andaman & Nicobar Islands           10397.144800  \n",
       "Arunachal Pradesh                    9364.620870  \n",
       "Assam & Meghalaya                   10745.836695  \n",
       "Bihar                               10051.061670  \n",
       "Chhattisgarh                         9575.354880  \n",
       "Coastal Andhra Pradesh               9654.852845  \n",
       "Coastal Karnataka                    8739.298175  \n",
       "East Madhya Pradesh                  9490.013049  \n",
       "East Rajasthan                       8983.518647  \n",
       "East Uttar Pradesh                   9695.671891  \n",
       "Gangetic West Bengal                10292.253245  \n",
       "Gujarat Region                       8532.924024  \n",
       "Haryana Delhi & Chandigarh           8984.714708  \n",
       "Himachal Pradesh                     9049.870440  \n",
       "Jammu & Kashmir                      8782.197840  \n",
       "Jharkhand                            9974.920410  \n",
       "Kerala                               8951.908680  \n",
       "Konkan & Goa                         8668.004670  \n",
       "Lakshadweep                          8454.628586  \n",
       "Madhya Maharashtra                   8748.329542  \n",
       "Matathwada                           9037.544615  \n",
       "Naga Mani Mizo Tripura              10891.775159  \n",
       "North Interior Karnataka             8824.397439  \n",
       "Orissa                               9908.698410  \n",
       "Punjab                               8833.556160  \n",
       "Rayalseema                           9129.124112  \n",
       "Saurashtra & Kutch                   8256.562953  \n",
       "South Interior Karnataka             9045.486296  \n",
       "Sub Himalayan West Bengal & Sikkim  10314.857023  \n",
       "Tamil Nadu                           9168.884010  \n",
       "Telangana                            9256.474890  \n",
       "Uttarakhand                          9253.493730  \n",
       "Vidarbha                             9275.343677  \n",
       "West Madhya Pradesh                  8779.186667  \n",
       "West Rajasthan                       8307.398075  \n",
       "West Uttar Pradesh                   9160.945355  "
      ]
     },
     "execution_count": 64,
     "metadata": {},
     "output_type": "execute_result"
    }
   ],
   "source": [
    "# STATE-WISE DATA \n",
    "grouped_obj = rain.groupby([\"SUBDIVISION\"]).sum()\n",
    "grouped_obj.drop(['YEAR'], axis=1, inplace=True)\n",
    "grouped_obj"
   ]
  },
  {
   "cell_type": "code",
   "execution_count": 65,
   "metadata": {},
   "outputs": [
    {
     "data": {
      "application/vnd.plotly.v1+json": {
       "config": {
        "plotlyServerURL": "https://plot.ly"
       },
       "data": [
        {
         "fillpattern": {
          "shape": ""
         },
         "hovertemplate": "SUBDIVISION=%{x}<br>ANNUAL=%{y}<extra></extra>",
         "legendgroup": "",
         "line": {
          "color": "#636efa"
         },
         "marker": {
          "symbol": "circle"
         },
         "mode": "lines",
         "name": "",
         "orientation": "v",
         "showlegend": false,
         "stackgroup": "1",
         "type": "scatter",
         "x": [
          "Andaman & Nicobar Islands",
          "Arunachal Pradesh",
          "Assam & Meghalaya",
          "Bihar",
          "Chhattisgarh",
          "Coastal Andhra Pradesh",
          "Coastal Karnataka",
          "East Madhya Pradesh",
          "East Rajasthan",
          "East Uttar Pradesh",
          "Gangetic West Bengal",
          "Gujarat Region",
          "Haryana Delhi & Chandigarh",
          "Himachal Pradesh",
          "Jammu & Kashmir",
          "Jharkhand",
          "Kerala",
          "Konkan & Goa",
          "Lakshadweep",
          "Madhya Maharashtra",
          "Matathwada",
          "Naga Mani Mizo Tripura",
          "North Interior Karnataka",
          "Orissa",
          "Punjab",
          "Rayalseema",
          "Saurashtra & Kutch",
          "South Interior Karnataka",
          "Sub Himalayan West Bengal & Sikkim",
          "Tamil Nadu",
          "Telangana",
          "Uttarakhand",
          "Vidarbha",
          "West Madhya Pradesh",
          "West Rajasthan",
          "West Uttar Pradesh"
         ],
         "xaxis": "x",
         "y": [
          324990.8991800317,
          337666.5251477027,
          301758.60000000003,
          139998.3,
          160189.6,
          122885.6,
          397264.7377719341,
          140755.5,
          76810.1,
          114175.6,
          174402.5,
          107381.8,
          61826.8,
          147042.8,
          133209.48932232347,
          152999.8,
          340968,
          349540.2,
          182673.60169806075,
          103126.2,
          92632.59999999999,
          284630.10000000003,
          83910.9,
          170287.6,
          69198.7,
          89503.59999999999,
          58076.5,
          121392.9,
          321813,
          110036.9,
          111496.9,
          171339.1,
          127945,
          110157.20437380497,
          34411.5,
          96396
         ],
         "yaxis": "y"
        }
       ],
       "layout": {
        "annotations": [
         {
          "bgcolor": "grey",
          "font": {
           "size": 12
          },
          "showarrow": false,
          "text": "The graph shows rainfall from every State and UT.",
          "x": 0.5,
          "xref": "paper",
          "y": 1,
          "yref": "paper"
         }
        ],
        "legend": {
         "tracegroupgap": 0
        },
        "template": {
         "data": {
          "bar": [
           {
            "error_x": {
             "color": "#2a3f5f"
            },
            "error_y": {
             "color": "#2a3f5f"
            },
            "marker": {
             "line": {
              "color": "#E5ECF6",
              "width": 0.5
             },
             "pattern": {
              "fillmode": "overlay",
              "size": 10,
              "solidity": 0.2
             }
            },
            "type": "bar"
           }
          ],
          "barpolar": [
           {
            "marker": {
             "line": {
              "color": "#E5ECF6",
              "width": 0.5
             },
             "pattern": {
              "fillmode": "overlay",
              "size": 10,
              "solidity": 0.2
             }
            },
            "type": "barpolar"
           }
          ],
          "carpet": [
           {
            "aaxis": {
             "endlinecolor": "#2a3f5f",
             "gridcolor": "white",
             "linecolor": "white",
             "minorgridcolor": "white",
             "startlinecolor": "#2a3f5f"
            },
            "baxis": {
             "endlinecolor": "#2a3f5f",
             "gridcolor": "white",
             "linecolor": "white",
             "minorgridcolor": "white",
             "startlinecolor": "#2a3f5f"
            },
            "type": "carpet"
           }
          ],
          "choropleth": [
           {
            "colorbar": {
             "outlinewidth": 0,
             "ticks": ""
            },
            "type": "choropleth"
           }
          ],
          "contour": [
           {
            "colorbar": {
             "outlinewidth": 0,
             "ticks": ""
            },
            "colorscale": [
             [
              0,
              "#0d0887"
             ],
             [
              0.1111111111111111,
              "#46039f"
             ],
             [
              0.2222222222222222,
              "#7201a8"
             ],
             [
              0.3333333333333333,
              "#9c179e"
             ],
             [
              0.4444444444444444,
              "#bd3786"
             ],
             [
              0.5555555555555556,
              "#d8576b"
             ],
             [
              0.6666666666666666,
              "#ed7953"
             ],
             [
              0.7777777777777778,
              "#fb9f3a"
             ],
             [
              0.8888888888888888,
              "#fdca26"
             ],
             [
              1,
              "#f0f921"
             ]
            ],
            "type": "contour"
           }
          ],
          "contourcarpet": [
           {
            "colorbar": {
             "outlinewidth": 0,
             "ticks": ""
            },
            "type": "contourcarpet"
           }
          ],
          "heatmap": [
           {
            "colorbar": {
             "outlinewidth": 0,
             "ticks": ""
            },
            "colorscale": [
             [
              0,
              "#0d0887"
             ],
             [
              0.1111111111111111,
              "#46039f"
             ],
             [
              0.2222222222222222,
              "#7201a8"
             ],
             [
              0.3333333333333333,
              "#9c179e"
             ],
             [
              0.4444444444444444,
              "#bd3786"
             ],
             [
              0.5555555555555556,
              "#d8576b"
             ],
             [
              0.6666666666666666,
              "#ed7953"
             ],
             [
              0.7777777777777778,
              "#fb9f3a"
             ],
             [
              0.8888888888888888,
              "#fdca26"
             ],
             [
              1,
              "#f0f921"
             ]
            ],
            "type": "heatmap"
           }
          ],
          "heatmapgl": [
           {
            "colorbar": {
             "outlinewidth": 0,
             "ticks": ""
            },
            "colorscale": [
             [
              0,
              "#0d0887"
             ],
             [
              0.1111111111111111,
              "#46039f"
             ],
             [
              0.2222222222222222,
              "#7201a8"
             ],
             [
              0.3333333333333333,
              "#9c179e"
             ],
             [
              0.4444444444444444,
              "#bd3786"
             ],
             [
              0.5555555555555556,
              "#d8576b"
             ],
             [
              0.6666666666666666,
              "#ed7953"
             ],
             [
              0.7777777777777778,
              "#fb9f3a"
             ],
             [
              0.8888888888888888,
              "#fdca26"
             ],
             [
              1,
              "#f0f921"
             ]
            ],
            "type": "heatmapgl"
           }
          ],
          "histogram": [
           {
            "marker": {
             "pattern": {
              "fillmode": "overlay",
              "size": 10,
              "solidity": 0.2
             }
            },
            "type": "histogram"
           }
          ],
          "histogram2d": [
           {
            "colorbar": {
             "outlinewidth": 0,
             "ticks": ""
            },
            "colorscale": [
             [
              0,
              "#0d0887"
             ],
             [
              0.1111111111111111,
              "#46039f"
             ],
             [
              0.2222222222222222,
              "#7201a8"
             ],
             [
              0.3333333333333333,
              "#9c179e"
             ],
             [
              0.4444444444444444,
              "#bd3786"
             ],
             [
              0.5555555555555556,
              "#d8576b"
             ],
             [
              0.6666666666666666,
              "#ed7953"
             ],
             [
              0.7777777777777778,
              "#fb9f3a"
             ],
             [
              0.8888888888888888,
              "#fdca26"
             ],
             [
              1,
              "#f0f921"
             ]
            ],
            "type": "histogram2d"
           }
          ],
          "histogram2dcontour": [
           {
            "colorbar": {
             "outlinewidth": 0,
             "ticks": ""
            },
            "colorscale": [
             [
              0,
              "#0d0887"
             ],
             [
              0.1111111111111111,
              "#46039f"
             ],
             [
              0.2222222222222222,
              "#7201a8"
             ],
             [
              0.3333333333333333,
              "#9c179e"
             ],
             [
              0.4444444444444444,
              "#bd3786"
             ],
             [
              0.5555555555555556,
              "#d8576b"
             ],
             [
              0.6666666666666666,
              "#ed7953"
             ],
             [
              0.7777777777777778,
              "#fb9f3a"
             ],
             [
              0.8888888888888888,
              "#fdca26"
             ],
             [
              1,
              "#f0f921"
             ]
            ],
            "type": "histogram2dcontour"
           }
          ],
          "mesh3d": [
           {
            "colorbar": {
             "outlinewidth": 0,
             "ticks": ""
            },
            "type": "mesh3d"
           }
          ],
          "parcoords": [
           {
            "line": {
             "colorbar": {
              "outlinewidth": 0,
              "ticks": ""
             }
            },
            "type": "parcoords"
           }
          ],
          "pie": [
           {
            "automargin": true,
            "type": "pie"
           }
          ],
          "scatter": [
           {
            "fillpattern": {
             "fillmode": "overlay",
             "size": 10,
             "solidity": 0.2
            },
            "type": "scatter"
           }
          ],
          "scatter3d": [
           {
            "line": {
             "colorbar": {
              "outlinewidth": 0,
              "ticks": ""
             }
            },
            "marker": {
             "colorbar": {
              "outlinewidth": 0,
              "ticks": ""
             }
            },
            "type": "scatter3d"
           }
          ],
          "scattercarpet": [
           {
            "marker": {
             "colorbar": {
              "outlinewidth": 0,
              "ticks": ""
             }
            },
            "type": "scattercarpet"
           }
          ],
          "scattergeo": [
           {
            "marker": {
             "colorbar": {
              "outlinewidth": 0,
              "ticks": ""
             }
            },
            "type": "scattergeo"
           }
          ],
          "scattergl": [
           {
            "marker": {
             "colorbar": {
              "outlinewidth": 0,
              "ticks": ""
             }
            },
            "type": "scattergl"
           }
          ],
          "scattermapbox": [
           {
            "marker": {
             "colorbar": {
              "outlinewidth": 0,
              "ticks": ""
             }
            },
            "type": "scattermapbox"
           }
          ],
          "scatterpolar": [
           {
            "marker": {
             "colorbar": {
              "outlinewidth": 0,
              "ticks": ""
             }
            },
            "type": "scatterpolar"
           }
          ],
          "scatterpolargl": [
           {
            "marker": {
             "colorbar": {
              "outlinewidth": 0,
              "ticks": ""
             }
            },
            "type": "scatterpolargl"
           }
          ],
          "scatterternary": [
           {
            "marker": {
             "colorbar": {
              "outlinewidth": 0,
              "ticks": ""
             }
            },
            "type": "scatterternary"
           }
          ],
          "surface": [
           {
            "colorbar": {
             "outlinewidth": 0,
             "ticks": ""
            },
            "colorscale": [
             [
              0,
              "#0d0887"
             ],
             [
              0.1111111111111111,
              "#46039f"
             ],
             [
              0.2222222222222222,
              "#7201a8"
             ],
             [
              0.3333333333333333,
              "#9c179e"
             ],
             [
              0.4444444444444444,
              "#bd3786"
             ],
             [
              0.5555555555555556,
              "#d8576b"
             ],
             [
              0.6666666666666666,
              "#ed7953"
             ],
             [
              0.7777777777777778,
              "#fb9f3a"
             ],
             [
              0.8888888888888888,
              "#fdca26"
             ],
             [
              1,
              "#f0f921"
             ]
            ],
            "type": "surface"
           }
          ],
          "table": [
           {
            "cells": {
             "fill": {
              "color": "#EBF0F8"
             },
             "line": {
              "color": "white"
             }
            },
            "header": {
             "fill": {
              "color": "#C8D4E3"
             },
             "line": {
              "color": "white"
             }
            },
            "type": "table"
           }
          ]
         },
         "layout": {
          "annotationdefaults": {
           "arrowcolor": "#2a3f5f",
           "arrowhead": 0,
           "arrowwidth": 1
          },
          "autotypenumbers": "strict",
          "coloraxis": {
           "colorbar": {
            "outlinewidth": 0,
            "ticks": ""
           }
          },
          "colorscale": {
           "diverging": [
            [
             0,
             "#8e0152"
            ],
            [
             0.1,
             "#c51b7d"
            ],
            [
             0.2,
             "#de77ae"
            ],
            [
             0.3,
             "#f1b6da"
            ],
            [
             0.4,
             "#fde0ef"
            ],
            [
             0.5,
             "#f7f7f7"
            ],
            [
             0.6,
             "#e6f5d0"
            ],
            [
             0.7,
             "#b8e186"
            ],
            [
             0.8,
             "#7fbc41"
            ],
            [
             0.9,
             "#4d9221"
            ],
            [
             1,
             "#276419"
            ]
           ],
           "sequential": [
            [
             0,
             "#0d0887"
            ],
            [
             0.1111111111111111,
             "#46039f"
            ],
            [
             0.2222222222222222,
             "#7201a8"
            ],
            [
             0.3333333333333333,
             "#9c179e"
            ],
            [
             0.4444444444444444,
             "#bd3786"
            ],
            [
             0.5555555555555556,
             "#d8576b"
            ],
            [
             0.6666666666666666,
             "#ed7953"
            ],
            [
             0.7777777777777778,
             "#fb9f3a"
            ],
            [
             0.8888888888888888,
             "#fdca26"
            ],
            [
             1,
             "#f0f921"
            ]
           ],
           "sequentialminus": [
            [
             0,
             "#0d0887"
            ],
            [
             0.1111111111111111,
             "#46039f"
            ],
            [
             0.2222222222222222,
             "#7201a8"
            ],
            [
             0.3333333333333333,
             "#9c179e"
            ],
            [
             0.4444444444444444,
             "#bd3786"
            ],
            [
             0.5555555555555556,
             "#d8576b"
            ],
            [
             0.6666666666666666,
             "#ed7953"
            ],
            [
             0.7777777777777778,
             "#fb9f3a"
            ],
            [
             0.8888888888888888,
             "#fdca26"
            ],
            [
             1,
             "#f0f921"
            ]
           ]
          },
          "colorway": [
           "#636efa",
           "#EF553B",
           "#00cc96",
           "#ab63fa",
           "#FFA15A",
           "#19d3f3",
           "#FF6692",
           "#B6E880",
           "#FF97FF",
           "#FECB52"
          ],
          "font": {
           "color": "#2a3f5f"
          },
          "geo": {
           "bgcolor": "white",
           "lakecolor": "white",
           "landcolor": "#E5ECF6",
           "showlakes": true,
           "showland": true,
           "subunitcolor": "white"
          },
          "hoverlabel": {
           "align": "left"
          },
          "hovermode": "closest",
          "mapbox": {
           "style": "light"
          },
          "paper_bgcolor": "white",
          "plot_bgcolor": "#E5ECF6",
          "polar": {
           "angularaxis": {
            "gridcolor": "white",
            "linecolor": "white",
            "ticks": ""
           },
           "bgcolor": "#E5ECF6",
           "radialaxis": {
            "gridcolor": "white",
            "linecolor": "white",
            "ticks": ""
           }
          },
          "scene": {
           "xaxis": {
            "backgroundcolor": "#E5ECF6",
            "gridcolor": "white",
            "gridwidth": 2,
            "linecolor": "white",
            "showbackground": true,
            "ticks": "",
            "zerolinecolor": "white"
           },
           "yaxis": {
            "backgroundcolor": "#E5ECF6",
            "gridcolor": "white",
            "gridwidth": 2,
            "linecolor": "white",
            "showbackground": true,
            "ticks": "",
            "zerolinecolor": "white"
           },
           "zaxis": {
            "backgroundcolor": "#E5ECF6",
            "gridcolor": "white",
            "gridwidth": 2,
            "linecolor": "white",
            "showbackground": true,
            "ticks": "",
            "zerolinecolor": "white"
           }
          },
          "shapedefaults": {
           "line": {
            "color": "#2a3f5f"
           }
          },
          "ternary": {
           "aaxis": {
            "gridcolor": "white",
            "linecolor": "white",
            "ticks": ""
           },
           "baxis": {
            "gridcolor": "white",
            "linecolor": "white",
            "ticks": ""
           },
           "bgcolor": "#E5ECF6",
           "caxis": {
            "gridcolor": "white",
            "linecolor": "white",
            "ticks": ""
           }
          },
          "title": {
           "x": 0.05
          },
          "xaxis": {
           "automargin": true,
           "gridcolor": "white",
           "linecolor": "white",
           "ticks": "",
           "title": {
            "standoff": 15
           },
           "zerolinecolor": "white",
           "zerolinewidth": 2
          },
          "yaxis": {
           "automargin": true,
           "gridcolor": "white",
           "linecolor": "white",
           "ticks": "",
           "title": {
            "standoff": 15
           },
           "zerolinecolor": "white",
           "zerolinewidth": 2
          }
         }
        },
        "title": {
         "text": "Rainfall year-wise"
        },
        "xaxis": {
         "anchor": "y",
         "domain": [
          0,
          1
         ],
         "title": {
          "text": "SUBDIVISION"
         }
        },
        "yaxis": {
         "anchor": "x",
         "domain": [
          0,
          1
         ],
         "title": {
          "text": "ANNUAL"
         }
        }
       }
      }
     },
     "metadata": {},
     "output_type": "display_data"
    }
   ],
   "source": [
    "# rainfall state-wise\n",
    "fig = px.area(grouped_obj, x=grouped_obj.index, y='ANNUAL', title='Rainfall year-wise')\n",
    "conclusion = 'The graph shows rainfall from every State and UT.'\n",
    "fig.add_annotation(text=conclusion, xref='paper', yref='paper', x=.5, y=1, bgcolor='grey', showarrow=False, font=dict(size=12))\n",
    "fig.show()"
   ]
  },
  {
   "cell_type": "code",
   "execution_count": 66,
   "metadata": {},
   "outputs": [
    {
     "data": {
      "application/vnd.plotly.v1+json": {
       "config": {
        "plotlyServerURL": "https://plot.ly"
       },
       "data": [
        {
         "fillpattern": {
          "shape": ""
         },
         "hovertemplate": "variable=ANNUAL<br>SUBDIVISION=%{x}<br>value=%{y}<extra></extra>",
         "legendgroup": "ANNUAL",
         "line": {
          "color": "#636efa"
         },
         "marker": {
          "symbol": "circle"
         },
         "mode": "lines",
         "name": "ANNUAL",
         "orientation": "v",
         "showlegend": true,
         "stackgroup": "1",
         "type": "scatter",
         "x": [
          "Andaman & Nicobar Islands",
          "Andaman & Nicobar Islands",
          "Andaman & Nicobar Islands",
          "Andaman & Nicobar Islands",
          "Andaman & Nicobar Islands",
          "Andaman & Nicobar Islands",
          "Andaman & Nicobar Islands",
          "Andaman & Nicobar Islands",
          "Andaman & Nicobar Islands",
          "Andaman & Nicobar Islands",
          "Andaman & Nicobar Islands",
          "Andaman & Nicobar Islands",
          "Andaman & Nicobar Islands",
          "Andaman & Nicobar Islands",
          "Andaman & Nicobar Islands",
          "Andaman & Nicobar Islands",
          "Andaman & Nicobar Islands",
          "Andaman & Nicobar Islands",
          "Andaman & Nicobar Islands",
          "Andaman & Nicobar Islands",
          "Andaman & Nicobar Islands",
          "Andaman & Nicobar Islands",
          "Andaman & Nicobar Islands",
          "Andaman & Nicobar Islands",
          "Andaman & Nicobar Islands",
          "Andaman & Nicobar Islands",
          "Andaman & Nicobar Islands",
          "Andaman & Nicobar Islands",
          "Andaman & Nicobar Islands",
          "Andaman & Nicobar Islands",
          "Andaman & Nicobar Islands",
          "Andaman & Nicobar Islands",
          "Andaman & Nicobar Islands",
          "Andaman & Nicobar Islands",
          "Andaman & Nicobar Islands",
          "Andaman & Nicobar Islands",
          "Andaman & Nicobar Islands",
          "Andaman & Nicobar Islands",
          "Andaman & Nicobar Islands",
          "Andaman & Nicobar Islands",
          "Andaman & Nicobar Islands",
          "Andaman & Nicobar Islands",
          "Andaman & Nicobar Islands",
          "Andaman & Nicobar Islands",
          "Andaman & Nicobar Islands",
          "Andaman & Nicobar Islands",
          "Andaman & Nicobar Islands",
          "Andaman & Nicobar Islands",
          "Andaman & Nicobar Islands",
          "Andaman & Nicobar Islands",
          "Andaman & Nicobar Islands",
          "Andaman & Nicobar Islands",
          "Andaman & Nicobar Islands",
          "Andaman & Nicobar Islands",
          "Andaman & Nicobar Islands",
          "Andaman & Nicobar Islands",
          "Andaman & Nicobar Islands",
          "Andaman & Nicobar Islands",
          "Andaman & Nicobar Islands",
          "Andaman & Nicobar Islands",
          "Andaman & Nicobar Islands",
          "Andaman & Nicobar Islands",
          "Andaman & Nicobar Islands",
          "Andaman & Nicobar Islands",
          "Andaman & Nicobar Islands",
          "Andaman & Nicobar Islands",
          "Andaman & Nicobar Islands",
          "Andaman & Nicobar Islands",
          "Andaman & Nicobar Islands",
          "Andaman & Nicobar Islands",
          "Andaman & Nicobar Islands",
          "Andaman & Nicobar Islands",
          "Andaman & Nicobar Islands",
          "Andaman & Nicobar Islands",
          "Andaman & Nicobar Islands",
          "Andaman & Nicobar Islands",
          "Andaman & Nicobar Islands",
          "Andaman & Nicobar Islands",
          "Andaman & Nicobar Islands",
          "Andaman & Nicobar Islands",
          "Andaman & Nicobar Islands",
          "Andaman & Nicobar Islands",
          "Andaman & Nicobar Islands",
          "Andaman & Nicobar Islands",
          "Andaman & Nicobar Islands",
          "Andaman & Nicobar Islands",
          "Andaman & Nicobar Islands",
          "Andaman & Nicobar Islands",
          "Andaman & Nicobar Islands",
          "Andaman & Nicobar Islands",
          "Andaman & Nicobar Islands",
          "Andaman & Nicobar Islands",
          "Andaman & Nicobar Islands",
          "Andaman & Nicobar Islands",
          "Andaman & Nicobar Islands",
          "Andaman & Nicobar Islands",
          "Andaman & Nicobar Islands",
          "Andaman & Nicobar Islands",
          "Andaman & Nicobar Islands",
          "Andaman & Nicobar Islands",
          "Andaman & Nicobar Islands",
          "Andaman & Nicobar Islands",
          "Andaman & Nicobar Islands",
          "Andaman & Nicobar Islands",
          "Andaman & Nicobar Islands",
          "Andaman & Nicobar Islands",
          "Andaman & Nicobar Islands",
          "Andaman & Nicobar Islands",
          "Andaman & Nicobar Islands",
          "Andaman & Nicobar Islands",
          "Andaman & Nicobar Islands",
          "Andaman & Nicobar Islands",
          "Arunachal Pradesh",
          "Arunachal Pradesh",
          "Arunachal Pradesh",
          "Arunachal Pradesh",
          "Arunachal Pradesh",
          "Arunachal Pradesh",
          "Arunachal Pradesh",
          "Arunachal Pradesh",
          "Arunachal Pradesh",
          "Arunachal Pradesh",
          "Arunachal Pradesh",
          "Arunachal Pradesh",
          "Arunachal Pradesh",
          "Arunachal Pradesh",
          "Arunachal Pradesh",
          "Arunachal Pradesh",
          "Arunachal Pradesh",
          "Arunachal Pradesh",
          "Arunachal Pradesh",
          "Arunachal Pradesh",
          "Arunachal Pradesh",
          "Arunachal Pradesh",
          "Arunachal Pradesh",
          "Arunachal Pradesh",
          "Arunachal Pradesh",
          "Arunachal Pradesh",
          "Arunachal Pradesh",
          "Arunachal Pradesh",
          "Arunachal Pradesh",
          "Arunachal Pradesh",
          "Arunachal Pradesh",
          "Arunachal Pradesh",
          "Arunachal Pradesh",
          "Arunachal Pradesh",
          "Arunachal Pradesh",
          "Arunachal Pradesh",
          "Arunachal Pradesh",
          "Arunachal Pradesh",
          "Arunachal Pradesh",
          "Arunachal Pradesh",
          "Arunachal Pradesh",
          "Arunachal Pradesh",
          "Arunachal Pradesh",
          "Arunachal Pradesh",
          "Arunachal Pradesh",
          "Arunachal Pradesh",
          "Arunachal Pradesh",
          "Arunachal Pradesh",
          "Arunachal Pradesh",
          "Arunachal Pradesh",
          "Arunachal Pradesh",
          "Arunachal Pradesh",
          "Arunachal Pradesh",
          "Arunachal Pradesh",
          "Arunachal Pradesh",
          "Arunachal Pradesh",
          "Arunachal Pradesh",
          "Arunachal Pradesh",
          "Arunachal Pradesh",
          "Arunachal Pradesh",
          "Arunachal Pradesh",
          "Arunachal Pradesh",
          "Arunachal Pradesh",
          "Arunachal Pradesh",
          "Arunachal Pradesh",
          "Arunachal Pradesh",
          "Arunachal Pradesh",
          "Arunachal Pradesh",
          "Arunachal Pradesh",
          "Arunachal Pradesh",
          "Arunachal Pradesh",
          "Arunachal Pradesh",
          "Arunachal Pradesh",
          "Arunachal Pradesh",
          "Arunachal Pradesh",
          "Arunachal Pradesh",
          "Arunachal Pradesh",
          "Arunachal Pradesh",
          "Arunachal Pradesh",
          "Arunachal Pradesh",
          "Arunachal Pradesh",
          "Arunachal Pradesh",
          "Arunachal Pradesh",
          "Arunachal Pradesh",
          "Arunachal Pradesh",
          "Arunachal Pradesh",
          "Arunachal Pradesh",
          "Arunachal Pradesh",
          "Arunachal Pradesh",
          "Arunachal Pradesh",
          "Arunachal Pradesh",
          "Arunachal Pradesh",
          "Arunachal Pradesh",
          "Arunachal Pradesh",
          "Arunachal Pradesh",
          "Arunachal Pradesh",
          "Arunachal Pradesh",
          "Arunachal Pradesh",
          "Arunachal Pradesh",
          "Assam & Meghalaya",
          "Assam & Meghalaya",
          "Assam & Meghalaya",
          "Assam & Meghalaya",
          "Assam & Meghalaya",
          "Assam & Meghalaya",
          "Assam & Meghalaya",
          "Assam & Meghalaya",
          "Assam & Meghalaya",
          "Assam & Meghalaya",
          "Assam & Meghalaya",
          "Assam & Meghalaya",
          "Assam & Meghalaya",
          "Assam & Meghalaya",
          "Assam & Meghalaya",
          "Assam & Meghalaya",
          "Assam & Meghalaya",
          "Assam & Meghalaya",
          "Assam & Meghalaya",
          "Assam & Meghalaya",
          "Assam & Meghalaya",
          "Assam & Meghalaya",
          "Assam & Meghalaya",
          "Assam & Meghalaya",
          "Assam & Meghalaya",
          "Assam & Meghalaya",
          "Assam & Meghalaya",
          "Assam & Meghalaya",
          "Assam & Meghalaya",
          "Assam & Meghalaya",
          "Assam & Meghalaya",
          "Assam & Meghalaya",
          "Assam & Meghalaya",
          "Assam & Meghalaya",
          "Assam & Meghalaya",
          "Assam & Meghalaya",
          "Assam & Meghalaya",
          "Assam & Meghalaya",
          "Assam & Meghalaya",
          "Assam & Meghalaya",
          "Assam & Meghalaya",
          "Assam & Meghalaya",
          "Assam & Meghalaya",
          "Assam & Meghalaya",
          "Assam & Meghalaya",
          "Assam & Meghalaya",
          "Assam & Meghalaya",
          "Assam & Meghalaya",
          "Assam & Meghalaya",
          "Assam & Meghalaya",
          "Assam & Meghalaya",
          "Assam & Meghalaya",
          "Assam & Meghalaya",
          "Assam & Meghalaya",
          "Assam & Meghalaya",
          "Assam & Meghalaya",
          "Assam & Meghalaya",
          "Assam & Meghalaya",
          "Assam & Meghalaya",
          "Assam & Meghalaya",
          "Assam & Meghalaya",
          "Assam & Meghalaya",
          "Assam & Meghalaya",
          "Assam & Meghalaya",
          "Assam & Meghalaya",
          "Assam & Meghalaya",
          "Assam & Meghalaya",
          "Assam & Meghalaya",
          "Assam & Meghalaya",
          "Assam & Meghalaya",
          "Assam & Meghalaya",
          "Assam & Meghalaya",
          "Assam & Meghalaya",
          "Assam & Meghalaya",
          "Assam & Meghalaya",
          "Assam & Meghalaya",
          "Assam & Meghalaya",
          "Assam & Meghalaya",
          "Assam & Meghalaya",
          "Assam & Meghalaya",
          "Assam & Meghalaya",
          "Assam & Meghalaya",
          "Assam & Meghalaya",
          "Assam & Meghalaya",
          "Assam & Meghalaya",
          "Assam & Meghalaya",
          "Assam & Meghalaya",
          "Assam & Meghalaya",
          "Assam & Meghalaya",
          "Assam & Meghalaya",
          "Assam & Meghalaya",
          "Assam & Meghalaya",
          "Assam & Meghalaya",
          "Assam & Meghalaya",
          "Assam & Meghalaya",
          "Assam & Meghalaya",
          "Assam & Meghalaya",
          "Assam & Meghalaya",
          "Assam & Meghalaya",
          "Assam & Meghalaya",
          "Assam & Meghalaya",
          "Assam & Meghalaya",
          "Assam & Meghalaya",
          "Assam & Meghalaya",
          "Assam & Meghalaya",
          "Assam & Meghalaya",
          "Assam & Meghalaya",
          "Assam & Meghalaya",
          "Assam & Meghalaya",
          "Assam & Meghalaya",
          "Assam & Meghalaya",
          "Assam & Meghalaya",
          "Assam & Meghalaya",
          "Assam & Meghalaya",
          "Assam & Meghalaya",
          "Assam & Meghalaya",
          "Assam & Meghalaya",
          "Naga Mani Mizo Tripura",
          "Naga Mani Mizo Tripura",
          "Naga Mani Mizo Tripura",
          "Naga Mani Mizo Tripura",
          "Naga Mani Mizo Tripura",
          "Naga Mani Mizo Tripura",
          "Naga Mani Mizo Tripura",
          "Naga Mani Mizo Tripura",
          "Naga Mani Mizo Tripura",
          "Naga Mani Mizo Tripura",
          "Naga Mani Mizo Tripura",
          "Naga Mani Mizo Tripura",
          "Naga Mani Mizo Tripura",
          "Naga Mani Mizo Tripura",
          "Naga Mani Mizo Tripura",
          "Naga Mani Mizo Tripura",
          "Naga Mani Mizo Tripura",
          "Naga Mani Mizo Tripura",
          "Naga Mani Mizo Tripura",
          "Naga Mani Mizo Tripura",
          "Naga Mani Mizo Tripura",
          "Naga Mani Mizo Tripura",
          "Naga Mani Mizo Tripura",
          "Naga Mani Mizo Tripura",
          "Naga Mani Mizo Tripura",
          "Naga Mani Mizo Tripura",
          "Naga Mani Mizo Tripura",
          "Naga Mani Mizo Tripura",
          "Naga Mani Mizo Tripura",
          "Naga Mani Mizo Tripura",
          "Naga Mani Mizo Tripura",
          "Naga Mani Mizo Tripura",
          "Naga Mani Mizo Tripura",
          "Naga Mani Mizo Tripura",
          "Naga Mani Mizo Tripura",
          "Naga Mani Mizo Tripura",
          "Naga Mani Mizo Tripura",
          "Naga Mani Mizo Tripura",
          "Naga Mani Mizo Tripura",
          "Naga Mani Mizo Tripura",
          "Naga Mani Mizo Tripura",
          "Naga Mani Mizo Tripura",
          "Naga Mani Mizo Tripura",
          "Naga Mani Mizo Tripura",
          "Naga Mani Mizo Tripura",
          "Naga Mani Mizo Tripura",
          "Naga Mani Mizo Tripura",
          "Naga Mani Mizo Tripura",
          "Naga Mani Mizo Tripura",
          "Naga Mani Mizo Tripura",
          "Naga Mani Mizo Tripura",
          "Naga Mani Mizo Tripura",
          "Naga Mani Mizo Tripura",
          "Naga Mani Mizo Tripura",
          "Naga Mani Mizo Tripura",
          "Naga Mani Mizo Tripura",
          "Naga Mani Mizo Tripura",
          "Naga Mani Mizo Tripura",
          "Naga Mani Mizo Tripura",
          "Naga Mani Mizo Tripura",
          "Naga Mani Mizo Tripura",
          "Naga Mani Mizo Tripura",
          "Naga Mani Mizo Tripura",
          "Naga Mani Mizo Tripura",
          "Naga Mani Mizo Tripura",
          "Naga Mani Mizo Tripura",
          "Naga Mani Mizo Tripura",
          "Naga Mani Mizo Tripura",
          "Naga Mani Mizo Tripura",
          "Naga Mani Mizo Tripura",
          "Naga Mani Mizo Tripura",
          "Naga Mani Mizo Tripura",
          "Naga Mani Mizo Tripura",
          "Naga Mani Mizo Tripura",
          "Naga Mani Mizo Tripura",
          "Naga Mani Mizo Tripura",
          "Naga Mani Mizo Tripura",
          "Naga Mani Mizo Tripura",
          "Naga Mani Mizo Tripura",
          "Naga Mani Mizo Tripura",
          "Naga Mani Mizo Tripura",
          "Naga Mani Mizo Tripura",
          "Naga Mani Mizo Tripura",
          "Naga Mani Mizo Tripura",
          "Naga Mani Mizo Tripura",
          "Naga Mani Mizo Tripura",
          "Naga Mani Mizo Tripura",
          "Naga Mani Mizo Tripura",
          "Naga Mani Mizo Tripura",
          "Naga Mani Mizo Tripura",
          "Naga Mani Mizo Tripura",
          "Naga Mani Mizo Tripura",
          "Naga Mani Mizo Tripura",
          "Naga Mani Mizo Tripura",
          "Naga Mani Mizo Tripura",
          "Naga Mani Mizo Tripura",
          "Naga Mani Mizo Tripura",
          "Naga Mani Mizo Tripura",
          "Naga Mani Mizo Tripura",
          "Naga Mani Mizo Tripura",
          "Naga Mani Mizo Tripura",
          "Naga Mani Mizo Tripura",
          "Naga Mani Mizo Tripura",
          "Naga Mani Mizo Tripura",
          "Naga Mani Mizo Tripura",
          "Naga Mani Mizo Tripura",
          "Naga Mani Mizo Tripura",
          "Naga Mani Mizo Tripura",
          "Naga Mani Mizo Tripura",
          "Naga Mani Mizo Tripura",
          "Naga Mani Mizo Tripura",
          "Naga Mani Mizo Tripura",
          "Naga Mani Mizo Tripura",
          "Naga Mani Mizo Tripura",
          "Naga Mani Mizo Tripura",
          "Naga Mani Mizo Tripura",
          "Naga Mani Mizo Tripura",
          "Sub Himalayan West Bengal & Sikkim",
          "Sub Himalayan West Bengal & Sikkim",
          "Sub Himalayan West Bengal & Sikkim",
          "Sub Himalayan West Bengal & Sikkim",
          "Sub Himalayan West Bengal & Sikkim",
          "Sub Himalayan West Bengal & Sikkim",
          "Sub Himalayan West Bengal & Sikkim",
          "Sub Himalayan West Bengal & Sikkim",
          "Sub Himalayan West Bengal & Sikkim",
          "Sub Himalayan West Bengal & Sikkim",
          "Sub Himalayan West Bengal & Sikkim",
          "Sub Himalayan West Bengal & Sikkim",
          "Sub Himalayan West Bengal & Sikkim",
          "Sub Himalayan West Bengal & Sikkim",
          "Sub Himalayan West Bengal & Sikkim",
          "Sub Himalayan West Bengal & Sikkim",
          "Sub Himalayan West Bengal & Sikkim",
          "Sub Himalayan West Bengal & Sikkim",
          "Sub Himalayan West Bengal & Sikkim",
          "Sub Himalayan West Bengal & Sikkim",
          "Sub Himalayan West Bengal & Sikkim",
          "Sub Himalayan West Bengal & Sikkim",
          "Sub Himalayan West Bengal & Sikkim",
          "Sub Himalayan West Bengal & Sikkim",
          "Sub Himalayan West Bengal & Sikkim",
          "Sub Himalayan West Bengal & Sikkim",
          "Sub Himalayan West Bengal & Sikkim",
          "Sub Himalayan West Bengal & Sikkim",
          "Sub Himalayan West Bengal & Sikkim",
          "Sub Himalayan West Bengal & Sikkim",
          "Sub Himalayan West Bengal & Sikkim",
          "Sub Himalayan West Bengal & Sikkim",
          "Sub Himalayan West Bengal & Sikkim",
          "Sub Himalayan West Bengal & Sikkim",
          "Sub Himalayan West Bengal & Sikkim",
          "Sub Himalayan West Bengal & Sikkim",
          "Sub Himalayan West Bengal & Sikkim",
          "Sub Himalayan West Bengal & Sikkim",
          "Sub Himalayan West Bengal & Sikkim",
          "Sub Himalayan West Bengal & Sikkim",
          "Sub Himalayan West Bengal & Sikkim",
          "Sub Himalayan West Bengal & Sikkim",
          "Sub Himalayan West Bengal & Sikkim",
          "Sub Himalayan West Bengal & Sikkim",
          "Sub Himalayan West Bengal & Sikkim",
          "Sub Himalayan West Bengal & Sikkim",
          "Sub Himalayan West Bengal & Sikkim",
          "Sub Himalayan West Bengal & Sikkim",
          "Sub Himalayan West Bengal & Sikkim",
          "Sub Himalayan West Bengal & Sikkim",
          "Sub Himalayan West Bengal & Sikkim",
          "Sub Himalayan West Bengal & Sikkim",
          "Sub Himalayan West Bengal & Sikkim",
          "Sub Himalayan West Bengal & Sikkim",
          "Sub Himalayan West Bengal & Sikkim",
          "Sub Himalayan West Bengal & Sikkim",
          "Sub Himalayan West Bengal & Sikkim",
          "Sub Himalayan West Bengal & Sikkim",
          "Sub Himalayan West Bengal & Sikkim",
          "Sub Himalayan West Bengal & Sikkim",
          "Sub Himalayan West Bengal & Sikkim",
          "Sub Himalayan West Bengal & Sikkim",
          "Sub Himalayan West Bengal & Sikkim",
          "Sub Himalayan West Bengal & Sikkim",
          "Sub Himalayan West Bengal & Sikkim",
          "Sub Himalayan West Bengal & Sikkim",
          "Sub Himalayan West Bengal & Sikkim",
          "Sub Himalayan West Bengal & Sikkim",
          "Sub Himalayan West Bengal & Sikkim",
          "Sub Himalayan West Bengal & Sikkim",
          "Sub Himalayan West Bengal & Sikkim",
          "Sub Himalayan West Bengal & Sikkim",
          "Sub Himalayan West Bengal & Sikkim",
          "Sub Himalayan West Bengal & Sikkim",
          "Sub Himalayan West Bengal & Sikkim",
          "Sub Himalayan West Bengal & Sikkim",
          "Sub Himalayan West Bengal & Sikkim",
          "Sub Himalayan West Bengal & Sikkim",
          "Sub Himalayan West Bengal & Sikkim",
          "Sub Himalayan West Bengal & Sikkim",
          "Sub Himalayan West Bengal & Sikkim",
          "Sub Himalayan West Bengal & Sikkim",
          "Sub Himalayan West Bengal & Sikkim",
          "Sub Himalayan West Bengal & Sikkim",
          "Sub Himalayan West Bengal & Sikkim",
          "Sub Himalayan West Bengal & Sikkim",
          "Sub Himalayan West Bengal & Sikkim",
          "Sub Himalayan West Bengal & Sikkim",
          "Sub Himalayan West Bengal & Sikkim",
          "Sub Himalayan West Bengal & Sikkim",
          "Sub Himalayan West Bengal & Sikkim",
          "Sub Himalayan West Bengal & Sikkim",
          "Sub Himalayan West Bengal & Sikkim",
          "Sub Himalayan West Bengal & Sikkim",
          "Sub Himalayan West Bengal & Sikkim",
          "Sub Himalayan West Bengal & Sikkim",
          "Sub Himalayan West Bengal & Sikkim",
          "Sub Himalayan West Bengal & Sikkim",
          "Sub Himalayan West Bengal & Sikkim",
          "Sub Himalayan West Bengal & Sikkim",
          "Sub Himalayan West Bengal & Sikkim",
          "Sub Himalayan West Bengal & Sikkim",
          "Sub Himalayan West Bengal & Sikkim",
          "Sub Himalayan West Bengal & Sikkim",
          "Sub Himalayan West Bengal & Sikkim",
          "Sub Himalayan West Bengal & Sikkim",
          "Sub Himalayan West Bengal & Sikkim",
          "Sub Himalayan West Bengal & Sikkim",
          "Sub Himalayan West Bengal & Sikkim",
          "Sub Himalayan West Bengal & Sikkim",
          "Sub Himalayan West Bengal & Sikkim",
          "Sub Himalayan West Bengal & Sikkim",
          "Sub Himalayan West Bengal & Sikkim",
          "Sub Himalayan West Bengal & Sikkim",
          "Sub Himalayan West Bengal & Sikkim",
          "Sub Himalayan West Bengal & Sikkim",
          "Sub Himalayan West Bengal & Sikkim",
          "Gangetic West Bengal",
          "Gangetic West Bengal",
          "Gangetic West Bengal",
          "Gangetic West Bengal",
          "Gangetic West Bengal",
          "Gangetic West Bengal",
          "Gangetic West Bengal",
          "Gangetic West Bengal",
          "Gangetic West Bengal",
          "Gangetic West Bengal",
          "Gangetic West Bengal",
          "Gangetic West Bengal",
          "Gangetic West Bengal",
          "Gangetic West Bengal",
          "Gangetic West Bengal",
          "Gangetic West Bengal",
          "Gangetic West Bengal",
          "Gangetic West Bengal",
          "Gangetic West Bengal",
          "Gangetic West Bengal",
          "Gangetic West Bengal",
          "Gangetic West Bengal",
          "Gangetic West Bengal",
          "Gangetic West Bengal",
          "Gangetic West Bengal",
          "Gangetic West Bengal",
          "Gangetic West Bengal",
          "Gangetic West Bengal",
          "Gangetic West Bengal",
          "Gangetic West Bengal",
          "Gangetic West Bengal",
          "Gangetic West Bengal",
          "Gangetic West Bengal",
          "Gangetic West Bengal",
          "Gangetic West Bengal",
          "Gangetic West Bengal",
          "Gangetic West Bengal",
          "Gangetic West Bengal",
          "Gangetic West Bengal",
          "Gangetic West Bengal",
          "Gangetic West Bengal",
          "Gangetic West Bengal",
          "Gangetic West Bengal",
          "Gangetic West Bengal",
          "Gangetic West Bengal",
          "Gangetic West Bengal",
          "Gangetic West Bengal",
          "Gangetic West Bengal",
          "Gangetic West Bengal",
          "Gangetic West Bengal",
          "Gangetic West Bengal",
          "Gangetic West Bengal",
          "Gangetic West Bengal",
          "Gangetic West Bengal",
          "Gangetic West Bengal",
          "Gangetic West Bengal",
          "Gangetic West Bengal",
          "Gangetic West Bengal",
          "Gangetic West Bengal",
          "Gangetic West Bengal",
          "Gangetic West Bengal",
          "Gangetic West Bengal",
          "Gangetic West Bengal",
          "Gangetic West Bengal",
          "Gangetic West Bengal",
          "Gangetic West Bengal",
          "Gangetic West Bengal",
          "Gangetic West Bengal",
          "Gangetic West Bengal",
          "Gangetic West Bengal",
          "Gangetic West Bengal",
          "Gangetic West Bengal",
          "Gangetic West Bengal",
          "Gangetic West Bengal",
          "Gangetic West Bengal",
          "Gangetic West Bengal",
          "Gangetic West Bengal",
          "Gangetic West Bengal",
          "Gangetic West Bengal",
          "Gangetic West Bengal",
          "Gangetic West Bengal",
          "Gangetic West Bengal",
          "Gangetic West Bengal",
          "Gangetic West Bengal",
          "Gangetic West Bengal",
          "Gangetic West Bengal",
          "Gangetic West Bengal",
          "Gangetic West Bengal",
          "Gangetic West Bengal",
          "Gangetic West Bengal",
          "Gangetic West Bengal",
          "Gangetic West Bengal",
          "Gangetic West Bengal",
          "Gangetic West Bengal",
          "Gangetic West Bengal",
          "Gangetic West Bengal",
          "Gangetic West Bengal",
          "Gangetic West Bengal",
          "Gangetic West Bengal",
          "Gangetic West Bengal",
          "Gangetic West Bengal",
          "Gangetic West Bengal",
          "Gangetic West Bengal",
          "Gangetic West Bengal",
          "Gangetic West Bengal",
          "Gangetic West Bengal",
          "Gangetic West Bengal",
          "Gangetic West Bengal",
          "Gangetic West Bengal",
          "Gangetic West Bengal",
          "Gangetic West Bengal",
          "Gangetic West Bengal",
          "Gangetic West Bengal",
          "Gangetic West Bengal",
          "Gangetic West Bengal",
          "Gangetic West Bengal",
          "Gangetic West Bengal",
          "Orissa",
          "Orissa",
          "Orissa",
          "Orissa",
          "Orissa",
          "Orissa",
          "Orissa",
          "Orissa",
          "Orissa",
          "Orissa",
          "Orissa",
          "Orissa",
          "Orissa",
          "Orissa",
          "Orissa",
          "Orissa",
          "Orissa",
          "Orissa",
          "Orissa",
          "Orissa",
          "Orissa",
          "Orissa",
          "Orissa",
          "Orissa",
          "Orissa",
          "Orissa",
          "Orissa",
          "Orissa",
          "Orissa",
          "Orissa",
          "Orissa",
          "Orissa",
          "Orissa",
          "Orissa",
          "Orissa",
          "Orissa",
          "Orissa",
          "Orissa",
          "Orissa",
          "Orissa",
          "Orissa",
          "Orissa",
          "Orissa",
          "Orissa",
          "Orissa",
          "Orissa",
          "Orissa",
          "Orissa",
          "Orissa",
          "Orissa",
          "Orissa",
          "Orissa",
          "Orissa",
          "Orissa",
          "Orissa",
          "Orissa",
          "Orissa",
          "Orissa",
          "Orissa",
          "Orissa",
          "Orissa",
          "Orissa",
          "Orissa",
          "Orissa",
          "Orissa",
          "Orissa",
          "Orissa",
          "Orissa",
          "Orissa",
          "Orissa",
          "Orissa",
          "Orissa",
          "Orissa",
          "Orissa",
          "Orissa",
          "Orissa",
          "Orissa",
          "Orissa",
          "Orissa",
          "Orissa",
          "Orissa",
          "Orissa",
          "Orissa",
          "Orissa",
          "Orissa",
          "Orissa",
          "Orissa",
          "Orissa",
          "Orissa",
          "Orissa",
          "Orissa",
          "Orissa",
          "Orissa",
          "Orissa",
          "Orissa",
          "Orissa",
          "Orissa",
          "Orissa",
          "Orissa",
          "Orissa",
          "Orissa",
          "Orissa",
          "Orissa",
          "Orissa",
          "Orissa",
          "Orissa",
          "Orissa",
          "Orissa",
          "Orissa",
          "Orissa",
          "Orissa",
          "Orissa",
          "Orissa",
          "Orissa",
          "Orissa",
          "Orissa",
          "Orissa",
          "Jharkhand",
          "Jharkhand",
          "Jharkhand",
          "Jharkhand",
          "Jharkhand",
          "Jharkhand",
          "Jharkhand",
          "Jharkhand",
          "Jharkhand",
          "Jharkhand",
          "Jharkhand",
          "Jharkhand",
          "Jharkhand",
          "Jharkhand",
          "Jharkhand",
          "Jharkhand",
          "Jharkhand",
          "Jharkhand",
          "Jharkhand",
          "Jharkhand",
          "Jharkhand",
          "Jharkhand",
          "Jharkhand",
          "Jharkhand",
          "Jharkhand",
          "Jharkhand",
          "Jharkhand",
          "Jharkhand",
          "Jharkhand",
          "Jharkhand",
          "Jharkhand",
          "Jharkhand",
          "Jharkhand",
          "Jharkhand",
          "Jharkhand",
          "Jharkhand",
          "Jharkhand",
          "Jharkhand",
          "Jharkhand",
          "Jharkhand",
          "Jharkhand",
          "Jharkhand",
          "Jharkhand",
          "Jharkhand",
          "Jharkhand",
          "Jharkhand",
          "Jharkhand",
          "Jharkhand",
          "Jharkhand",
          "Jharkhand",
          "Jharkhand",
          "Jharkhand",
          "Jharkhand",
          "Jharkhand",
          "Jharkhand",
          "Jharkhand",
          "Jharkhand",
          "Jharkhand",
          "Jharkhand",
          "Jharkhand",
          "Jharkhand",
          "Jharkhand",
          "Jharkhand",
          "Jharkhand",
          "Jharkhand",
          "Jharkhand",
          "Jharkhand",
          "Jharkhand",
          "Jharkhand",
          "Jharkhand",
          "Jharkhand",
          "Jharkhand",
          "Jharkhand",
          "Jharkhand",
          "Jharkhand",
          "Jharkhand",
          "Jharkhand",
          "Jharkhand",
          "Jharkhand",
          "Jharkhand",
          "Jharkhand",
          "Jharkhand",
          "Jharkhand",
          "Jharkhand",
          "Jharkhand",
          "Jharkhand",
          "Jharkhand",
          "Jharkhand",
          "Jharkhand",
          "Jharkhand",
          "Jharkhand",
          "Jharkhand",
          "Jharkhand",
          "Jharkhand",
          "Jharkhand",
          "Jharkhand",
          "Jharkhand",
          "Jharkhand",
          "Jharkhand",
          "Jharkhand",
          "Jharkhand",
          "Jharkhand",
          "Jharkhand",
          "Jharkhand",
          "Jharkhand",
          "Jharkhand",
          "Jharkhand",
          "Jharkhand",
          "Jharkhand",
          "Jharkhand",
          "Jharkhand",
          "Jharkhand",
          "Jharkhand",
          "Jharkhand",
          "Jharkhand",
          "Jharkhand",
          "Jharkhand",
          "Bihar",
          "Bihar",
          "Bihar",
          "Bihar",
          "Bihar",
          "Bihar",
          "Bihar",
          "Bihar",
          "Bihar",
          "Bihar",
          "Bihar",
          "Bihar",
          "Bihar",
          "Bihar",
          "Bihar",
          "Bihar",
          "Bihar",
          "Bihar",
          "Bihar",
          "Bihar",
          "Bihar",
          "Bihar",
          "Bihar",
          "Bihar",
          "Bihar",
          "Bihar",
          "Bihar",
          "Bihar",
          "Bihar",
          "Bihar",
          "Bihar",
          "Bihar",
          "Bihar",
          "Bihar",
          "Bihar",
          "Bihar",
          "Bihar",
          "Bihar",
          "Bihar",
          "Bihar",
          "Bihar",
          "Bihar",
          "Bihar",
          "Bihar",
          "Bihar",
          "Bihar",
          "Bihar",
          "Bihar",
          "Bihar",
          "Bihar",
          "Bihar",
          "Bihar",
          "Bihar",
          "Bihar",
          "Bihar",
          "Bihar",
          "Bihar",
          "Bihar",
          "Bihar",
          "Bihar",
          "Bihar",
          "Bihar",
          "Bihar",
          "Bihar",
          "Bihar",
          "Bihar",
          "Bihar",
          "Bihar",
          "Bihar",
          "Bihar",
          "Bihar",
          "Bihar",
          "Bihar",
          "Bihar",
          "Bihar",
          "Bihar",
          "Bihar",
          "Bihar",
          "Bihar",
          "Bihar",
          "Bihar",
          "Bihar",
          "Bihar",
          "Bihar",
          "Bihar",
          "Bihar",
          "Bihar",
          "Bihar",
          "Bihar",
          "Bihar",
          "Bihar",
          "Bihar",
          "Bihar",
          "Bihar",
          "Bihar",
          "Bihar",
          "Bihar",
          "Bihar",
          "Bihar",
          "Bihar",
          "Bihar",
          "Bihar",
          "Bihar",
          "Bihar",
          "Bihar",
          "Bihar",
          "Bihar",
          "Bihar",
          "Bihar",
          "Bihar",
          "Bihar",
          "Bihar",
          "Bihar",
          "Bihar",
          "Bihar",
          "Bihar",
          "Bihar",
          "East Uttar Pradesh",
          "East Uttar Pradesh",
          "East Uttar Pradesh",
          "East Uttar Pradesh",
          "East Uttar Pradesh",
          "East Uttar Pradesh",
          "East Uttar Pradesh",
          "East Uttar Pradesh",
          "East Uttar Pradesh",
          "East Uttar Pradesh",
          "East Uttar Pradesh",
          "East Uttar Pradesh",
          "East Uttar Pradesh",
          "East Uttar Pradesh",
          "East Uttar Pradesh",
          "East Uttar Pradesh",
          "East Uttar Pradesh",
          "East Uttar Pradesh",
          "East Uttar Pradesh",
          "East Uttar Pradesh",
          "East Uttar Pradesh",
          "East Uttar Pradesh",
          "East Uttar Pradesh",
          "East Uttar Pradesh",
          "East Uttar Pradesh",
          "East Uttar Pradesh",
          "East Uttar Pradesh",
          "East Uttar Pradesh",
          "East Uttar Pradesh",
          "East Uttar Pradesh",
          "East Uttar Pradesh",
          "East Uttar Pradesh",
          "East Uttar Pradesh",
          "East Uttar Pradesh",
          "East Uttar Pradesh",
          "East Uttar Pradesh",
          "East Uttar Pradesh",
          "East Uttar Pradesh",
          "East Uttar Pradesh",
          "East Uttar Pradesh",
          "East Uttar Pradesh",
          "East Uttar Pradesh",
          "East Uttar Pradesh",
          "East Uttar Pradesh",
          "East Uttar Pradesh",
          "East Uttar Pradesh",
          "East Uttar Pradesh",
          "East Uttar Pradesh",
          "East Uttar Pradesh",
          "East Uttar Pradesh",
          "East Uttar Pradesh",
          "East Uttar Pradesh",
          "East Uttar Pradesh",
          "East Uttar Pradesh",
          "East Uttar Pradesh",
          "East Uttar Pradesh",
          "East Uttar Pradesh",
          "East Uttar Pradesh",
          "East Uttar Pradesh",
          "East Uttar Pradesh",
          "East Uttar Pradesh",
          "East Uttar Pradesh",
          "East Uttar Pradesh",
          "East Uttar Pradesh",
          "East Uttar Pradesh",
          "East Uttar Pradesh",
          "East Uttar Pradesh",
          "East Uttar Pradesh",
          "East Uttar Pradesh",
          "East Uttar Pradesh",
          "East Uttar Pradesh",
          "East Uttar Pradesh",
          "East Uttar Pradesh",
          "East Uttar Pradesh",
          "East Uttar Pradesh",
          "East Uttar Pradesh",
          "East Uttar Pradesh",
          "East Uttar Pradesh",
          "East Uttar Pradesh",
          "East Uttar Pradesh",
          "East Uttar Pradesh",
          "East Uttar Pradesh",
          "East Uttar Pradesh",
          "East Uttar Pradesh",
          "East Uttar Pradesh",
          "East Uttar Pradesh",
          "East Uttar Pradesh",
          "East Uttar Pradesh",
          "East Uttar Pradesh",
          "East Uttar Pradesh",
          "East Uttar Pradesh",
          "East Uttar Pradesh",
          "East Uttar Pradesh",
          "East Uttar Pradesh",
          "East Uttar Pradesh",
          "East Uttar Pradesh",
          "East Uttar Pradesh",
          "East Uttar Pradesh",
          "East Uttar Pradesh",
          "East Uttar Pradesh",
          "East Uttar Pradesh",
          "East Uttar Pradesh",
          "East Uttar Pradesh",
          "East Uttar Pradesh",
          "East Uttar Pradesh",
          "East Uttar Pradesh",
          "East Uttar Pradesh",
          "East Uttar Pradesh",
          "East Uttar Pradesh",
          "East Uttar Pradesh",
          "East Uttar Pradesh",
          "East Uttar Pradesh",
          "East Uttar Pradesh",
          "East Uttar Pradesh",
          "East Uttar Pradesh",
          "East Uttar Pradesh",
          "East Uttar Pradesh",
          "West Uttar Pradesh",
          "West Uttar Pradesh",
          "West Uttar Pradesh",
          "West Uttar Pradesh",
          "West Uttar Pradesh",
          "West Uttar Pradesh",
          "West Uttar Pradesh",
          "West Uttar Pradesh",
          "West Uttar Pradesh",
          "West Uttar Pradesh",
          "West Uttar Pradesh",
          "West Uttar Pradesh",
          "West Uttar Pradesh",
          "West Uttar Pradesh",
          "West Uttar Pradesh",
          "West Uttar Pradesh",
          "West Uttar Pradesh",
          "West Uttar Pradesh",
          "West Uttar Pradesh",
          "West Uttar Pradesh",
          "West Uttar Pradesh",
          "West Uttar Pradesh",
          "West Uttar Pradesh",
          "West Uttar Pradesh",
          "West Uttar Pradesh",
          "West Uttar Pradesh",
          "West Uttar Pradesh",
          "West Uttar Pradesh",
          "West Uttar Pradesh",
          "West Uttar Pradesh",
          "West Uttar Pradesh",
          "West Uttar Pradesh",
          "West Uttar Pradesh",
          "West Uttar Pradesh",
          "West Uttar Pradesh",
          "West Uttar Pradesh",
          "West Uttar Pradesh",
          "West Uttar Pradesh",
          "West Uttar Pradesh",
          "West Uttar Pradesh",
          "West Uttar Pradesh",
          "West Uttar Pradesh",
          "West Uttar Pradesh",
          "West Uttar Pradesh",
          "West Uttar Pradesh",
          "West Uttar Pradesh",
          "West Uttar Pradesh",
          "West Uttar Pradesh",
          "West Uttar Pradesh",
          "West Uttar Pradesh",
          "West Uttar Pradesh",
          "West Uttar Pradesh",
          "West Uttar Pradesh",
          "West Uttar Pradesh",
          "West Uttar Pradesh",
          "West Uttar Pradesh",
          "West Uttar Pradesh",
          "West Uttar Pradesh",
          "West Uttar Pradesh",
          "West Uttar Pradesh",
          "West Uttar Pradesh",
          "West Uttar Pradesh",
          "West Uttar Pradesh",
          "West Uttar Pradesh",
          "West Uttar Pradesh",
          "West Uttar Pradesh",
          "West Uttar Pradesh",
          "West Uttar Pradesh",
          "West Uttar Pradesh",
          "West Uttar Pradesh",
          "West Uttar Pradesh",
          "West Uttar Pradesh",
          "West Uttar Pradesh",
          "West Uttar Pradesh",
          "West Uttar Pradesh",
          "West Uttar Pradesh",
          "West Uttar Pradesh",
          "West Uttar Pradesh",
          "West Uttar Pradesh",
          "West Uttar Pradesh",
          "West Uttar Pradesh",
          "West Uttar Pradesh",
          "West Uttar Pradesh",
          "West Uttar Pradesh",
          "West Uttar Pradesh",
          "West Uttar Pradesh",
          "West Uttar Pradesh",
          "West Uttar Pradesh",
          "West Uttar Pradesh",
          "West Uttar Pradesh",
          "West Uttar Pradesh",
          "West Uttar Pradesh",
          "West Uttar Pradesh",
          "West Uttar Pradesh",
          "West Uttar Pradesh",
          "West Uttar Pradesh",
          "West Uttar Pradesh",
          "West Uttar Pradesh",
          "West Uttar Pradesh",
          "West Uttar Pradesh",
          "West Uttar Pradesh",
          "West Uttar Pradesh",
          "West Uttar Pradesh",
          "West Uttar Pradesh",
          "West Uttar Pradesh",
          "West Uttar Pradesh",
          "West Uttar Pradesh",
          "West Uttar Pradesh",
          "West Uttar Pradesh",
          "West Uttar Pradesh",
          "West Uttar Pradesh",
          "West Uttar Pradesh",
          "West Uttar Pradesh",
          "West Uttar Pradesh",
          "West Uttar Pradesh",
          "West Uttar Pradesh",
          "West Uttar Pradesh",
          "Uttarakhand",
          "Uttarakhand",
          "Uttarakhand",
          "Uttarakhand",
          "Uttarakhand",
          "Uttarakhand",
          "Uttarakhand",
          "Uttarakhand",
          "Uttarakhand",
          "Uttarakhand",
          "Uttarakhand",
          "Uttarakhand",
          "Uttarakhand",
          "Uttarakhand",
          "Uttarakhand",
          "Uttarakhand",
          "Uttarakhand",
          "Uttarakhand",
          "Uttarakhand",
          "Uttarakhand",
          "Uttarakhand",
          "Uttarakhand",
          "Uttarakhand",
          "Uttarakhand",
          "Uttarakhand",
          "Uttarakhand",
          "Uttarakhand",
          "Uttarakhand",
          "Uttarakhand",
          "Uttarakhand",
          "Uttarakhand",
          "Uttarakhand",
          "Uttarakhand",
          "Uttarakhand",
          "Uttarakhand",
          "Uttarakhand",
          "Uttarakhand",
          "Uttarakhand",
          "Uttarakhand",
          "Uttarakhand",
          "Uttarakhand",
          "Uttarakhand",
          "Uttarakhand",
          "Uttarakhand",
          "Uttarakhand",
          "Uttarakhand",
          "Uttarakhand",
          "Uttarakhand",
          "Uttarakhand",
          "Uttarakhand",
          "Uttarakhand",
          "Uttarakhand",
          "Uttarakhand",
          "Uttarakhand",
          "Uttarakhand",
          "Uttarakhand",
          "Uttarakhand",
          "Uttarakhand",
          "Uttarakhand",
          "Uttarakhand",
          "Uttarakhand",
          "Uttarakhand",
          "Uttarakhand",
          "Uttarakhand",
          "Uttarakhand",
          "Uttarakhand",
          "Uttarakhand",
          "Uttarakhand",
          "Uttarakhand",
          "Uttarakhand",
          "Uttarakhand",
          "Uttarakhand",
          "Uttarakhand",
          "Uttarakhand",
          "Uttarakhand",
          "Uttarakhand",
          "Uttarakhand",
          "Uttarakhand",
          "Uttarakhand",
          "Uttarakhand",
          "Uttarakhand",
          "Uttarakhand",
          "Uttarakhand",
          "Uttarakhand",
          "Uttarakhand",
          "Uttarakhand",
          "Uttarakhand",
          "Uttarakhand",
          "Uttarakhand",
          "Uttarakhand",
          "Uttarakhand",
          "Uttarakhand",
          "Uttarakhand",
          "Uttarakhand",
          "Uttarakhand",
          "Uttarakhand",
          "Uttarakhand",
          "Uttarakhand",
          "Uttarakhand",
          "Uttarakhand",
          "Uttarakhand",
          "Uttarakhand",
          "Uttarakhand",
          "Uttarakhand",
          "Uttarakhand",
          "Uttarakhand",
          "Uttarakhand",
          "Uttarakhand",
          "Uttarakhand",
          "Uttarakhand",
          "Uttarakhand",
          "Uttarakhand",
          "Uttarakhand",
          "Uttarakhand",
          "Uttarakhand",
          "Uttarakhand",
          "Uttarakhand",
          "Haryana Delhi & Chandigarh",
          "Haryana Delhi & Chandigarh",
          "Haryana Delhi & Chandigarh",
          "Haryana Delhi & Chandigarh",
          "Haryana Delhi & Chandigarh",
          "Haryana Delhi & Chandigarh",
          "Haryana Delhi & Chandigarh",
          "Haryana Delhi & Chandigarh",
          "Haryana Delhi & Chandigarh",
          "Haryana Delhi & Chandigarh",
          "Haryana Delhi & Chandigarh",
          "Haryana Delhi & Chandigarh",
          "Haryana Delhi & Chandigarh",
          "Haryana Delhi & Chandigarh",
          "Haryana Delhi & Chandigarh",
          "Haryana Delhi & Chandigarh",
          "Haryana Delhi & Chandigarh",
          "Haryana Delhi & Chandigarh",
          "Haryana Delhi & Chandigarh",
          "Haryana Delhi & Chandigarh",
          "Haryana Delhi & Chandigarh",
          "Haryana Delhi & Chandigarh",
          "Haryana Delhi & Chandigarh",
          "Haryana Delhi & Chandigarh",
          "Haryana Delhi & Chandigarh",
          "Haryana Delhi & Chandigarh",
          "Haryana Delhi & Chandigarh",
          "Haryana Delhi & Chandigarh",
          "Haryana Delhi & Chandigarh",
          "Haryana Delhi & Chandigarh",
          "Haryana Delhi & Chandigarh",
          "Haryana Delhi & Chandigarh",
          "Haryana Delhi & Chandigarh",
          "Haryana Delhi & Chandigarh",
          "Haryana Delhi & Chandigarh",
          "Haryana Delhi & Chandigarh",
          "Haryana Delhi & Chandigarh",
          "Haryana Delhi & Chandigarh",
          "Haryana Delhi & Chandigarh",
          "Haryana Delhi & Chandigarh",
          "Haryana Delhi & Chandigarh",
          "Haryana Delhi & Chandigarh",
          "Haryana Delhi & Chandigarh",
          "Haryana Delhi & Chandigarh",
          "Haryana Delhi & Chandigarh",
          "Haryana Delhi & Chandigarh",
          "Haryana Delhi & Chandigarh",
          "Haryana Delhi & Chandigarh",
          "Haryana Delhi & Chandigarh",
          "Haryana Delhi & Chandigarh",
          "Haryana Delhi & Chandigarh",
          "Haryana Delhi & Chandigarh",
          "Haryana Delhi & Chandigarh",
          "Haryana Delhi & Chandigarh",
          "Haryana Delhi & Chandigarh",
          "Haryana Delhi & Chandigarh",
          "Haryana Delhi & Chandigarh",
          "Haryana Delhi & Chandigarh",
          "Haryana Delhi & Chandigarh",
          "Haryana Delhi & Chandigarh",
          "Haryana Delhi & Chandigarh",
          "Haryana Delhi & Chandigarh",
          "Haryana Delhi & Chandigarh",
          "Haryana Delhi & Chandigarh",
          "Haryana Delhi & Chandigarh",
          "Haryana Delhi & Chandigarh",
          "Haryana Delhi & Chandigarh",
          "Haryana Delhi & Chandigarh",
          "Haryana Delhi & Chandigarh",
          "Haryana Delhi & Chandigarh",
          "Haryana Delhi & Chandigarh",
          "Haryana Delhi & Chandigarh",
          "Haryana Delhi & Chandigarh",
          "Haryana Delhi & Chandigarh",
          "Haryana Delhi & Chandigarh",
          "Haryana Delhi & Chandigarh",
          "Haryana Delhi & Chandigarh",
          "Haryana Delhi & Chandigarh",
          "Haryana Delhi & Chandigarh",
          "Haryana Delhi & Chandigarh",
          "Haryana Delhi & Chandigarh",
          "Haryana Delhi & Chandigarh",
          "Haryana Delhi & Chandigarh",
          "Haryana Delhi & Chandigarh",
          "Haryana Delhi & Chandigarh",
          "Haryana Delhi & Chandigarh",
          "Haryana Delhi & Chandigarh",
          "Haryana Delhi & Chandigarh",
          "Haryana Delhi & Chandigarh",
          "Haryana Delhi & Chandigarh",
          "Haryana Delhi & Chandigarh",
          "Haryana Delhi & Chandigarh",
          "Haryana Delhi & Chandigarh",
          "Haryana Delhi & Chandigarh",
          "Haryana Delhi & Chandigarh",
          "Haryana Delhi & Chandigarh",
          "Haryana Delhi & Chandigarh",
          "Haryana Delhi & Chandigarh",
          "Haryana Delhi & Chandigarh",
          "Haryana Delhi & Chandigarh",
          "Haryana Delhi & Chandigarh",
          "Haryana Delhi & Chandigarh",
          "Haryana Delhi & Chandigarh",
          "Haryana Delhi & Chandigarh",
          "Haryana Delhi & Chandigarh",
          "Haryana Delhi & Chandigarh",
          "Haryana Delhi & Chandigarh",
          "Haryana Delhi & Chandigarh",
          "Haryana Delhi & Chandigarh",
          "Haryana Delhi & Chandigarh",
          "Haryana Delhi & Chandigarh",
          "Haryana Delhi & Chandigarh",
          "Haryana Delhi & Chandigarh",
          "Haryana Delhi & Chandigarh",
          "Haryana Delhi & Chandigarh",
          "Haryana Delhi & Chandigarh",
          "Haryana Delhi & Chandigarh",
          "Punjab",
          "Punjab",
          "Punjab",
          "Punjab",
          "Punjab",
          "Punjab",
          "Punjab",
          "Punjab",
          "Punjab",
          "Punjab",
          "Punjab",
          "Punjab",
          "Punjab",
          "Punjab",
          "Punjab",
          "Punjab",
          "Punjab",
          "Punjab",
          "Punjab",
          "Punjab",
          "Punjab",
          "Punjab",
          "Punjab",
          "Punjab",
          "Punjab",
          "Punjab",
          "Punjab",
          "Punjab",
          "Punjab",
          "Punjab",
          "Punjab",
          "Punjab",
          "Punjab",
          "Punjab",
          "Punjab",
          "Punjab",
          "Punjab",
          "Punjab",
          "Punjab",
          "Punjab",
          "Punjab",
          "Punjab",
          "Punjab",
          "Punjab",
          "Punjab",
          "Punjab",
          "Punjab",
          "Punjab",
          "Punjab",
          "Punjab",
          "Punjab",
          "Punjab",
          "Punjab",
          "Punjab",
          "Punjab",
          "Punjab",
          "Punjab",
          "Punjab",
          "Punjab",
          "Punjab",
          "Punjab",
          "Punjab",
          "Punjab",
          "Punjab",
          "Punjab",
          "Punjab",
          "Punjab",
          "Punjab",
          "Punjab",
          "Punjab",
          "Punjab",
          "Punjab",
          "Punjab",
          "Punjab",
          "Punjab",
          "Punjab",
          "Punjab",
          "Punjab",
          "Punjab",
          "Punjab",
          "Punjab",
          "Punjab",
          "Punjab",
          "Punjab",
          "Punjab",
          "Punjab",
          "Punjab",
          "Punjab",
          "Punjab",
          "Punjab",
          "Punjab",
          "Punjab",
          "Punjab",
          "Punjab",
          "Punjab",
          "Punjab",
          "Punjab",
          "Punjab",
          "Punjab",
          "Punjab",
          "Punjab",
          "Punjab",
          "Punjab",
          "Punjab",
          "Punjab",
          "Punjab",
          "Punjab",
          "Punjab",
          "Punjab",
          "Punjab",
          "Punjab",
          "Punjab",
          "Punjab",
          "Punjab",
          "Punjab",
          "Punjab",
          "Punjab",
          "Himachal Pradesh",
          "Himachal Pradesh",
          "Himachal Pradesh",
          "Himachal Pradesh",
          "Himachal Pradesh",
          "Himachal Pradesh",
          "Himachal Pradesh",
          "Himachal Pradesh",
          "Himachal Pradesh",
          "Himachal Pradesh",
          "Himachal Pradesh",
          "Himachal Pradesh",
          "Himachal Pradesh",
          "Himachal Pradesh",
          "Himachal Pradesh",
          "Himachal Pradesh",
          "Himachal Pradesh",
          "Himachal Pradesh",
          "Himachal Pradesh",
          "Himachal Pradesh",
          "Himachal Pradesh",
          "Himachal Pradesh",
          "Himachal Pradesh",
          "Himachal Pradesh",
          "Himachal Pradesh",
          "Himachal Pradesh",
          "Himachal Pradesh",
          "Himachal Pradesh",
          "Himachal Pradesh",
          "Himachal Pradesh",
          "Himachal Pradesh",
          "Himachal Pradesh",
          "Himachal Pradesh",
          "Himachal Pradesh",
          "Himachal Pradesh",
          "Himachal Pradesh",
          "Himachal Pradesh",
          "Himachal Pradesh",
          "Himachal Pradesh",
          "Himachal Pradesh",
          "Himachal Pradesh",
          "Himachal Pradesh",
          "Himachal Pradesh",
          "Himachal Pradesh",
          "Himachal Pradesh",
          "Himachal Pradesh",
          "Himachal Pradesh",
          "Himachal Pradesh",
          "Himachal Pradesh",
          "Himachal Pradesh",
          "Himachal Pradesh",
          "Himachal Pradesh",
          "Himachal Pradesh",
          "Himachal Pradesh",
          "Himachal Pradesh",
          "Himachal Pradesh",
          "Himachal Pradesh",
          "Himachal Pradesh",
          "Himachal Pradesh",
          "Himachal Pradesh",
          "Himachal Pradesh",
          "Himachal Pradesh",
          "Himachal Pradesh",
          "Himachal Pradesh",
          "Himachal Pradesh",
          "Himachal Pradesh",
          "Himachal Pradesh",
          "Himachal Pradesh",
          "Himachal Pradesh",
          "Himachal Pradesh",
          "Himachal Pradesh",
          "Himachal Pradesh",
          "Himachal Pradesh",
          "Himachal Pradesh",
          "Himachal Pradesh",
          "Himachal Pradesh",
          "Himachal Pradesh",
          "Himachal Pradesh",
          "Himachal Pradesh",
          "Himachal Pradesh",
          "Himachal Pradesh",
          "Himachal Pradesh",
          "Himachal Pradesh",
          "Himachal Pradesh",
          "Himachal Pradesh",
          "Himachal Pradesh",
          "Himachal Pradesh",
          "Himachal Pradesh",
          "Himachal Pradesh",
          "Himachal Pradesh",
          "Himachal Pradesh",
          "Himachal Pradesh",
          "Himachal Pradesh",
          "Himachal Pradesh",
          "Himachal Pradesh",
          "Himachal Pradesh",
          "Himachal Pradesh",
          "Himachal Pradesh",
          "Himachal Pradesh",
          "Himachal Pradesh",
          "Himachal Pradesh",
          "Himachal Pradesh",
          "Himachal Pradesh",
          "Himachal Pradesh",
          "Himachal Pradesh",
          "Himachal Pradesh",
          "Himachal Pradesh",
          "Himachal Pradesh",
          "Himachal Pradesh",
          "Himachal Pradesh",
          "Himachal Pradesh",
          "Himachal Pradesh",
          "Himachal Pradesh",
          "Himachal Pradesh",
          "Himachal Pradesh",
          "Himachal Pradesh",
          "Himachal Pradesh",
          "Jammu & Kashmir",
          "Jammu & Kashmir",
          "Jammu & Kashmir",
          "Jammu & Kashmir",
          "Jammu & Kashmir",
          "Jammu & Kashmir",
          "Jammu & Kashmir",
          "Jammu & Kashmir",
          "Jammu & Kashmir",
          "Jammu & Kashmir",
          "Jammu & Kashmir",
          "Jammu & Kashmir",
          "Jammu & Kashmir",
          "Jammu & Kashmir",
          "Jammu & Kashmir",
          "Jammu & Kashmir",
          "Jammu & Kashmir",
          "Jammu & Kashmir",
          "Jammu & Kashmir",
          "Jammu & Kashmir",
          "Jammu & Kashmir",
          "Jammu & Kashmir",
          "Jammu & Kashmir",
          "Jammu & Kashmir",
          "Jammu & Kashmir",
          "Jammu & Kashmir",
          "Jammu & Kashmir",
          "Jammu & Kashmir",
          "Jammu & Kashmir",
          "Jammu & Kashmir",
          "Jammu & Kashmir",
          "Jammu & Kashmir",
          "Jammu & Kashmir",
          "Jammu & Kashmir",
          "Jammu & Kashmir",
          "Jammu & Kashmir",
          "Jammu & Kashmir",
          "Jammu & Kashmir",
          "Jammu & Kashmir",
          "Jammu & Kashmir",
          "Jammu & Kashmir",
          "Jammu & Kashmir",
          "Jammu & Kashmir",
          "Jammu & Kashmir",
          "Jammu & Kashmir",
          "Jammu & Kashmir",
          "Jammu & Kashmir",
          "Jammu & Kashmir",
          "Jammu & Kashmir",
          "Jammu & Kashmir",
          "Jammu & Kashmir",
          "Jammu & Kashmir",
          "Jammu & Kashmir",
          "Jammu & Kashmir",
          "Jammu & Kashmir",
          "Jammu & Kashmir",
          "Jammu & Kashmir",
          "Jammu & Kashmir",
          "Jammu & Kashmir",
          "Jammu & Kashmir",
          "Jammu & Kashmir",
          "Jammu & Kashmir",
          "Jammu & Kashmir",
          "Jammu & Kashmir",
          "Jammu & Kashmir",
          "Jammu & Kashmir",
          "Jammu & Kashmir",
          "Jammu & Kashmir",
          "Jammu & Kashmir",
          "Jammu & Kashmir",
          "Jammu & Kashmir",
          "Jammu & Kashmir",
          "Jammu & Kashmir",
          "Jammu & Kashmir",
          "Jammu & Kashmir",
          "Jammu & Kashmir",
          "Jammu & Kashmir",
          "Jammu & Kashmir",
          "Jammu & Kashmir",
          "Jammu & Kashmir",
          "Jammu & Kashmir",
          "Jammu & Kashmir",
          "Jammu & Kashmir",
          "Jammu & Kashmir",
          "Jammu & Kashmir",
          "Jammu & Kashmir",
          "Jammu & Kashmir",
          "Jammu & Kashmir",
          "Jammu & Kashmir",
          "Jammu & Kashmir",
          "Jammu & Kashmir",
          "Jammu & Kashmir",
          "Jammu & Kashmir",
          "Jammu & Kashmir",
          "Jammu & Kashmir",
          "Jammu & Kashmir",
          "Jammu & Kashmir",
          "Jammu & Kashmir",
          "Jammu & Kashmir",
          "Jammu & Kashmir",
          "Jammu & Kashmir",
          "Jammu & Kashmir",
          "Jammu & Kashmir",
          "Jammu & Kashmir",
          "Jammu & Kashmir",
          "Jammu & Kashmir",
          "Jammu & Kashmir",
          "Jammu & Kashmir",
          "Jammu & Kashmir",
          "Jammu & Kashmir",
          "Jammu & Kashmir",
          "Jammu & Kashmir",
          "Jammu & Kashmir",
          "Jammu & Kashmir",
          "Jammu & Kashmir",
          "Jammu & Kashmir",
          "Jammu & Kashmir",
          "West Rajasthan",
          "West Rajasthan",
          "West Rajasthan",
          "West Rajasthan",
          "West Rajasthan",
          "West Rajasthan",
          "West Rajasthan",
          "West Rajasthan",
          "West Rajasthan",
          "West Rajasthan",
          "West Rajasthan",
          "West Rajasthan",
          "West Rajasthan",
          "West Rajasthan",
          "West Rajasthan",
          "West Rajasthan",
          "West Rajasthan",
          "West Rajasthan",
          "West Rajasthan",
          "West Rajasthan",
          "West Rajasthan",
          "West Rajasthan",
          "West Rajasthan",
          "West Rajasthan",
          "West Rajasthan",
          "West Rajasthan",
          "West Rajasthan",
          "West Rajasthan",
          "West Rajasthan",
          "West Rajasthan",
          "West Rajasthan",
          "West Rajasthan",
          "West Rajasthan",
          "West Rajasthan",
          "West Rajasthan",
          "West Rajasthan",
          "West Rajasthan",
          "West Rajasthan",
          "West Rajasthan",
          "West Rajasthan",
          "West Rajasthan",
          "West Rajasthan",
          "West Rajasthan",
          "West Rajasthan",
          "West Rajasthan",
          "West Rajasthan",
          "West Rajasthan",
          "West Rajasthan",
          "West Rajasthan",
          "West Rajasthan",
          "West Rajasthan",
          "West Rajasthan",
          "West Rajasthan",
          "West Rajasthan",
          "West Rajasthan",
          "West Rajasthan",
          "West Rajasthan",
          "West Rajasthan",
          "West Rajasthan",
          "West Rajasthan",
          "West Rajasthan",
          "West Rajasthan",
          "West Rajasthan",
          "West Rajasthan",
          "West Rajasthan",
          "West Rajasthan",
          "West Rajasthan",
          "West Rajasthan",
          "West Rajasthan",
          "West Rajasthan",
          "West Rajasthan",
          "West Rajasthan",
          "West Rajasthan",
          "West Rajasthan",
          "West Rajasthan",
          "West Rajasthan",
          "West Rajasthan",
          "West Rajasthan",
          "West Rajasthan",
          "West Rajasthan",
          "West Rajasthan",
          "West Rajasthan",
          "West Rajasthan",
          "West Rajasthan",
          "West Rajasthan",
          "West Rajasthan",
          "West Rajasthan",
          "West Rajasthan",
          "West Rajasthan",
          "West Rajasthan",
          "West Rajasthan",
          "West Rajasthan",
          "West Rajasthan",
          "West Rajasthan",
          "West Rajasthan",
          "West Rajasthan",
          "West Rajasthan",
          "West Rajasthan",
          "West Rajasthan",
          "West Rajasthan",
          "West Rajasthan",
          "West Rajasthan",
          "West Rajasthan",
          "West Rajasthan",
          "West Rajasthan",
          "West Rajasthan",
          "West Rajasthan",
          "West Rajasthan",
          "West Rajasthan",
          "West Rajasthan",
          "West Rajasthan",
          "West Rajasthan",
          "West Rajasthan",
          "West Rajasthan",
          "West Rajasthan",
          "West Rajasthan",
          "West Rajasthan",
          "East Rajasthan",
          "East Rajasthan",
          "East Rajasthan",
          "East Rajasthan",
          "East Rajasthan",
          "East Rajasthan",
          "East Rajasthan",
          "East Rajasthan",
          "East Rajasthan",
          "East Rajasthan",
          "East Rajasthan",
          "East Rajasthan",
          "East Rajasthan",
          "East Rajasthan",
          "East Rajasthan",
          "East Rajasthan",
          "East Rajasthan",
          "East Rajasthan",
          "East Rajasthan",
          "East Rajasthan",
          "East Rajasthan",
          "East Rajasthan",
          "East Rajasthan",
          "East Rajasthan",
          "East Rajasthan",
          "East Rajasthan",
          "East Rajasthan",
          "East Rajasthan",
          "East Rajasthan",
          "East Rajasthan",
          "East Rajasthan",
          "East Rajasthan",
          "East Rajasthan",
          "East Rajasthan",
          "East Rajasthan",
          "East Rajasthan",
          "East Rajasthan",
          "East Rajasthan",
          "East Rajasthan",
          "East Rajasthan",
          "East Rajasthan",
          "East Rajasthan",
          "East Rajasthan",
          "East Rajasthan",
          "East Rajasthan",
          "East Rajasthan",
          "East Rajasthan",
          "East Rajasthan",
          "East Rajasthan",
          "East Rajasthan",
          "East Rajasthan",
          "East Rajasthan",
          "East Rajasthan",
          "East Rajasthan",
          "East Rajasthan",
          "East Rajasthan",
          "East Rajasthan",
          "East Rajasthan",
          "East Rajasthan",
          "East Rajasthan",
          "East Rajasthan",
          "East Rajasthan",
          "East Rajasthan",
          "East Rajasthan",
          "East Rajasthan",
          "East Rajasthan",
          "East Rajasthan",
          "East Rajasthan",
          "East Rajasthan",
          "East Rajasthan",
          "East Rajasthan",
          "East Rajasthan",
          "East Rajasthan",
          "East Rajasthan",
          "East Rajasthan",
          "East Rajasthan",
          "East Rajasthan",
          "East Rajasthan",
          "East Rajasthan",
          "East Rajasthan",
          "East Rajasthan",
          "East Rajasthan",
          "East Rajasthan",
          "East Rajasthan",
          "East Rajasthan",
          "East Rajasthan",
          "East Rajasthan",
          "East Rajasthan",
          "East Rajasthan",
          "East Rajasthan",
          "East Rajasthan",
          "East Rajasthan",
          "East Rajasthan",
          "East Rajasthan",
          "East Rajasthan",
          "East Rajasthan",
          "East Rajasthan",
          "East Rajasthan",
          "East Rajasthan",
          "East Rajasthan",
          "East Rajasthan",
          "East Rajasthan",
          "East Rajasthan",
          "East Rajasthan",
          "East Rajasthan",
          "East Rajasthan",
          "East Rajasthan",
          "East Rajasthan",
          "East Rajasthan",
          "East Rajasthan",
          "East Rajasthan",
          "East Rajasthan",
          "East Rajasthan",
          "East Rajasthan",
          "East Rajasthan",
          "East Rajasthan",
          "East Rajasthan",
          "West Madhya Pradesh",
          "West Madhya Pradesh",
          "West Madhya Pradesh",
          "West Madhya Pradesh",
          "West Madhya Pradesh",
          "West Madhya Pradesh",
          "West Madhya Pradesh",
          "West Madhya Pradesh",
          "West Madhya Pradesh",
          "West Madhya Pradesh",
          "West Madhya Pradesh",
          "West Madhya Pradesh",
          "West Madhya Pradesh",
          "West Madhya Pradesh",
          "West Madhya Pradesh",
          "West Madhya Pradesh",
          "West Madhya Pradesh",
          "West Madhya Pradesh",
          "West Madhya Pradesh",
          "West Madhya Pradesh",
          "West Madhya Pradesh",
          "West Madhya Pradesh",
          "West Madhya Pradesh",
          "West Madhya Pradesh",
          "West Madhya Pradesh",
          "West Madhya Pradesh",
          "West Madhya Pradesh",
          "West Madhya Pradesh",
          "West Madhya Pradesh",
          "West Madhya Pradesh",
          "West Madhya Pradesh",
          "West Madhya Pradesh",
          "West Madhya Pradesh",
          "West Madhya Pradesh",
          "West Madhya Pradesh",
          "West Madhya Pradesh",
          "West Madhya Pradesh",
          "West Madhya Pradesh",
          "West Madhya Pradesh",
          "West Madhya Pradesh",
          "West Madhya Pradesh",
          "West Madhya Pradesh",
          "West Madhya Pradesh",
          "West Madhya Pradesh",
          "West Madhya Pradesh",
          "West Madhya Pradesh",
          "West Madhya Pradesh",
          "West Madhya Pradesh",
          "West Madhya Pradesh",
          "West Madhya Pradesh",
          "West Madhya Pradesh",
          "West Madhya Pradesh",
          "West Madhya Pradesh",
          "West Madhya Pradesh",
          "West Madhya Pradesh",
          "West Madhya Pradesh",
          "West Madhya Pradesh",
          "West Madhya Pradesh",
          "West Madhya Pradesh",
          "West Madhya Pradesh",
          "West Madhya Pradesh",
          "West Madhya Pradesh",
          "West Madhya Pradesh",
          "West Madhya Pradesh",
          "West Madhya Pradesh",
          "West Madhya Pradesh",
          "West Madhya Pradesh",
          "West Madhya Pradesh",
          "West Madhya Pradesh",
          "West Madhya Pradesh",
          "West Madhya Pradesh",
          "West Madhya Pradesh",
          "West Madhya Pradesh",
          "West Madhya Pradesh",
          "West Madhya Pradesh",
          "West Madhya Pradesh",
          "West Madhya Pradesh",
          "West Madhya Pradesh",
          "West Madhya Pradesh",
          "West Madhya Pradesh",
          "West Madhya Pradesh",
          "West Madhya Pradesh",
          "West Madhya Pradesh",
          "West Madhya Pradesh",
          "West Madhya Pradesh",
          "West Madhya Pradesh",
          "West Madhya Pradesh",
          "West Madhya Pradesh",
          "West Madhya Pradesh",
          "West Madhya Pradesh",
          "West Madhya Pradesh",
          "West Madhya Pradesh",
          "West Madhya Pradesh",
          "West Madhya Pradesh",
          "West Madhya Pradesh",
          "West Madhya Pradesh",
          "West Madhya Pradesh",
          "West Madhya Pradesh",
          "West Madhya Pradesh",
          "West Madhya Pradesh",
          "West Madhya Pradesh",
          "West Madhya Pradesh",
          "West Madhya Pradesh",
          "West Madhya Pradesh",
          "West Madhya Pradesh",
          "West Madhya Pradesh",
          "West Madhya Pradesh",
          "West Madhya Pradesh",
          "West Madhya Pradesh",
          "West Madhya Pradesh",
          "West Madhya Pradesh",
          "West Madhya Pradesh",
          "West Madhya Pradesh",
          "West Madhya Pradesh",
          "West Madhya Pradesh",
          "West Madhya Pradesh",
          "West Madhya Pradesh",
          "East Madhya Pradesh",
          "East Madhya Pradesh",
          "East Madhya Pradesh",
          "East Madhya Pradesh",
          "East Madhya Pradesh",
          "East Madhya Pradesh",
          "East Madhya Pradesh",
          "East Madhya Pradesh",
          "East Madhya Pradesh",
          "East Madhya Pradesh",
          "East Madhya Pradesh",
          "East Madhya Pradesh",
          "East Madhya Pradesh",
          "East Madhya Pradesh",
          "East Madhya Pradesh",
          "East Madhya Pradesh",
          "East Madhya Pradesh",
          "East Madhya Pradesh",
          "East Madhya Pradesh",
          "East Madhya Pradesh",
          "East Madhya Pradesh",
          "East Madhya Pradesh",
          "East Madhya Pradesh",
          "East Madhya Pradesh",
          "East Madhya Pradesh",
          "East Madhya Pradesh",
          "East Madhya Pradesh",
          "East Madhya Pradesh",
          "East Madhya Pradesh",
          "East Madhya Pradesh",
          "East Madhya Pradesh",
          "East Madhya Pradesh",
          "East Madhya Pradesh",
          "East Madhya Pradesh",
          "East Madhya Pradesh",
          "East Madhya Pradesh",
          "East Madhya Pradesh",
          "East Madhya Pradesh",
          "East Madhya Pradesh",
          "East Madhya Pradesh",
          "East Madhya Pradesh",
          "East Madhya Pradesh",
          "East Madhya Pradesh",
          "East Madhya Pradesh",
          "East Madhya Pradesh",
          "East Madhya Pradesh",
          "East Madhya Pradesh",
          "East Madhya Pradesh",
          "East Madhya Pradesh",
          "East Madhya Pradesh",
          "East Madhya Pradesh",
          "East Madhya Pradesh",
          "East Madhya Pradesh",
          "East Madhya Pradesh",
          "East Madhya Pradesh",
          "East Madhya Pradesh",
          "East Madhya Pradesh",
          "East Madhya Pradesh",
          "East Madhya Pradesh",
          "East Madhya Pradesh",
          "East Madhya Pradesh",
          "East Madhya Pradesh",
          "East Madhya Pradesh",
          "East Madhya Pradesh",
          "East Madhya Pradesh",
          "East Madhya Pradesh",
          "East Madhya Pradesh",
          "East Madhya Pradesh",
          "East Madhya Pradesh",
          "East Madhya Pradesh",
          "East Madhya Pradesh",
          "East Madhya Pradesh",
          "East Madhya Pradesh",
          "East Madhya Pradesh",
          "East Madhya Pradesh",
          "East Madhya Pradesh",
          "East Madhya Pradesh",
          "East Madhya Pradesh",
          "East Madhya Pradesh",
          "East Madhya Pradesh",
          "East Madhya Pradesh",
          "East Madhya Pradesh",
          "East Madhya Pradesh",
          "East Madhya Pradesh",
          "East Madhya Pradesh",
          "East Madhya Pradesh",
          "East Madhya Pradesh",
          "East Madhya Pradesh",
          "East Madhya Pradesh",
          "East Madhya Pradesh",
          "East Madhya Pradesh",
          "East Madhya Pradesh",
          "East Madhya Pradesh",
          "East Madhya Pradesh",
          "East Madhya Pradesh",
          "East Madhya Pradesh",
          "East Madhya Pradesh",
          "East Madhya Pradesh",
          "East Madhya Pradesh",
          "East Madhya Pradesh",
          "East Madhya Pradesh",
          "East Madhya Pradesh",
          "East Madhya Pradesh",
          "East Madhya Pradesh",
          "East Madhya Pradesh",
          "East Madhya Pradesh",
          "East Madhya Pradesh",
          "East Madhya Pradesh",
          "East Madhya Pradesh",
          "East Madhya Pradesh",
          "East Madhya Pradesh",
          "East Madhya Pradesh",
          "East Madhya Pradesh",
          "East Madhya Pradesh",
          "East Madhya Pradesh",
          "East Madhya Pradesh",
          "East Madhya Pradesh",
          "Gujarat Region",
          "Gujarat Region",
          "Gujarat Region",
          "Gujarat Region",
          "Gujarat Region",
          "Gujarat Region",
          "Gujarat Region",
          "Gujarat Region",
          "Gujarat Region",
          "Gujarat Region",
          "Gujarat Region",
          "Gujarat Region",
          "Gujarat Region",
          "Gujarat Region",
          "Gujarat Region",
          "Gujarat Region",
          "Gujarat Region",
          "Gujarat Region",
          "Gujarat Region",
          "Gujarat Region",
          "Gujarat Region",
          "Gujarat Region",
          "Gujarat Region",
          "Gujarat Region",
          "Gujarat Region",
          "Gujarat Region",
          "Gujarat Region",
          "Gujarat Region",
          "Gujarat Region",
          "Gujarat Region",
          "Gujarat Region",
          "Gujarat Region",
          "Gujarat Region",
          "Gujarat Region",
          "Gujarat Region",
          "Gujarat Region",
          "Gujarat Region",
          "Gujarat Region",
          "Gujarat Region",
          "Gujarat Region",
          "Gujarat Region",
          "Gujarat Region",
          "Gujarat Region",
          "Gujarat Region",
          "Gujarat Region",
          "Gujarat Region",
          "Gujarat Region",
          "Gujarat Region",
          "Gujarat Region",
          "Gujarat Region",
          "Gujarat Region",
          "Gujarat Region",
          "Gujarat Region",
          "Gujarat Region",
          "Gujarat Region",
          "Gujarat Region",
          "Gujarat Region",
          "Gujarat Region",
          "Gujarat Region",
          "Gujarat Region",
          "Gujarat Region",
          "Gujarat Region",
          "Gujarat Region",
          "Gujarat Region",
          "Gujarat Region",
          "Gujarat Region",
          "Gujarat Region",
          "Gujarat Region",
          "Gujarat Region",
          "Gujarat Region",
          "Gujarat Region",
          "Gujarat Region",
          "Gujarat Region",
          "Gujarat Region",
          "Gujarat Region",
          "Gujarat Region",
          "Gujarat Region",
          "Gujarat Region",
          "Gujarat Region",
          "Gujarat Region",
          "Gujarat Region",
          "Gujarat Region",
          "Gujarat Region",
          "Gujarat Region",
          "Gujarat Region",
          "Gujarat Region",
          "Gujarat Region",
          "Gujarat Region",
          "Gujarat Region",
          "Gujarat Region",
          "Gujarat Region",
          "Gujarat Region",
          "Gujarat Region",
          "Gujarat Region",
          "Gujarat Region",
          "Gujarat Region",
          "Gujarat Region",
          "Gujarat Region",
          "Gujarat Region",
          "Gujarat Region",
          "Gujarat Region",
          "Gujarat Region",
          "Gujarat Region",
          "Gujarat Region",
          "Gujarat Region",
          "Gujarat Region",
          "Gujarat Region",
          "Gujarat Region",
          "Gujarat Region",
          "Gujarat Region",
          "Gujarat Region",
          "Gujarat Region",
          "Gujarat Region",
          "Gujarat Region",
          "Gujarat Region",
          "Gujarat Region",
          "Gujarat Region",
          "Saurashtra & Kutch",
          "Saurashtra & Kutch",
          "Saurashtra & Kutch",
          "Saurashtra & Kutch",
          "Saurashtra & Kutch",
          "Saurashtra & Kutch",
          "Saurashtra & Kutch",
          "Saurashtra & Kutch",
          "Saurashtra & Kutch",
          "Saurashtra & Kutch",
          "Saurashtra & Kutch",
          "Saurashtra & Kutch",
          "Saurashtra & Kutch",
          "Saurashtra & Kutch",
          "Saurashtra & Kutch",
          "Saurashtra & Kutch",
          "Saurashtra & Kutch",
          "Saurashtra & Kutch",
          "Saurashtra & Kutch",
          "Saurashtra & Kutch",
          "Saurashtra & Kutch",
          "Saurashtra & Kutch",
          "Saurashtra & Kutch",
          "Saurashtra & Kutch",
          "Saurashtra & Kutch",
          "Saurashtra & Kutch",
          "Saurashtra & Kutch",
          "Saurashtra & Kutch",
          "Saurashtra & Kutch",
          "Saurashtra & Kutch",
          "Saurashtra & Kutch",
          "Saurashtra & Kutch",
          "Saurashtra & Kutch",
          "Saurashtra & Kutch",
          "Saurashtra & Kutch",
          "Saurashtra & Kutch",
          "Saurashtra & Kutch",
          "Saurashtra & Kutch",
          "Saurashtra & Kutch",
          "Saurashtra & Kutch",
          "Saurashtra & Kutch",
          "Saurashtra & Kutch",
          "Saurashtra & Kutch",
          "Saurashtra & Kutch",
          "Saurashtra & Kutch",
          "Saurashtra & Kutch",
          "Saurashtra & Kutch",
          "Saurashtra & Kutch",
          "Saurashtra & Kutch",
          "Saurashtra & Kutch",
          "Saurashtra & Kutch",
          "Saurashtra & Kutch",
          "Saurashtra & Kutch",
          "Saurashtra & Kutch",
          "Saurashtra & Kutch",
          "Saurashtra & Kutch",
          "Saurashtra & Kutch",
          "Saurashtra & Kutch",
          "Saurashtra & Kutch",
          "Saurashtra & Kutch",
          "Saurashtra & Kutch",
          "Saurashtra & Kutch",
          "Saurashtra & Kutch",
          "Saurashtra & Kutch",
          "Saurashtra & Kutch",
          "Saurashtra & Kutch",
          "Saurashtra & Kutch",
          "Saurashtra & Kutch",
          "Saurashtra & Kutch",
          "Saurashtra & Kutch",
          "Saurashtra & Kutch",
          "Saurashtra & Kutch",
          "Saurashtra & Kutch",
          "Saurashtra & Kutch",
          "Saurashtra & Kutch",
          "Saurashtra & Kutch",
          "Saurashtra & Kutch",
          "Saurashtra & Kutch",
          "Saurashtra & Kutch",
          "Saurashtra & Kutch",
          "Saurashtra & Kutch",
          "Saurashtra & Kutch",
          "Saurashtra & Kutch",
          "Saurashtra & Kutch",
          "Saurashtra & Kutch",
          "Saurashtra & Kutch",
          "Saurashtra & Kutch",
          "Saurashtra & Kutch",
          "Saurashtra & Kutch",
          "Saurashtra & Kutch",
          "Saurashtra & Kutch",
          "Saurashtra & Kutch",
          "Saurashtra & Kutch",
          "Saurashtra & Kutch",
          "Saurashtra & Kutch",
          "Saurashtra & Kutch",
          "Saurashtra & Kutch",
          "Saurashtra & Kutch",
          "Saurashtra & Kutch",
          "Saurashtra & Kutch",
          "Saurashtra & Kutch",
          "Saurashtra & Kutch",
          "Saurashtra & Kutch",
          "Saurashtra & Kutch",
          "Saurashtra & Kutch",
          "Saurashtra & Kutch",
          "Saurashtra & Kutch",
          "Saurashtra & Kutch",
          "Saurashtra & Kutch",
          "Saurashtra & Kutch",
          "Saurashtra & Kutch",
          "Saurashtra & Kutch",
          "Saurashtra & Kutch",
          "Saurashtra & Kutch",
          "Saurashtra & Kutch",
          "Saurashtra & Kutch",
          "Saurashtra & Kutch",
          "Konkan & Goa",
          "Konkan & Goa",
          "Konkan & Goa",
          "Konkan & Goa",
          "Konkan & Goa",
          "Konkan & Goa",
          "Konkan & Goa",
          "Konkan & Goa",
          "Konkan & Goa",
          "Konkan & Goa",
          "Konkan & Goa",
          "Konkan & Goa",
          "Konkan & Goa",
          "Konkan & Goa",
          "Konkan & Goa",
          "Konkan & Goa",
          "Konkan & Goa",
          "Konkan & Goa",
          "Konkan & Goa",
          "Konkan & Goa",
          "Konkan & Goa",
          "Konkan & Goa",
          "Konkan & Goa",
          "Konkan & Goa",
          "Konkan & Goa",
          "Konkan & Goa",
          "Konkan & Goa",
          "Konkan & Goa",
          "Konkan & Goa",
          "Konkan & Goa",
          "Konkan & Goa",
          "Konkan & Goa",
          "Konkan & Goa",
          "Konkan & Goa",
          "Konkan & Goa",
          "Konkan & Goa",
          "Konkan & Goa",
          "Konkan & Goa",
          "Konkan & Goa",
          "Konkan & Goa",
          "Konkan & Goa",
          "Konkan & Goa",
          "Konkan & Goa",
          "Konkan & Goa",
          "Konkan & Goa",
          "Konkan & Goa",
          "Konkan & Goa",
          "Konkan & Goa",
          "Konkan & Goa",
          "Konkan & Goa",
          "Konkan & Goa",
          "Konkan & Goa",
          "Konkan & Goa",
          "Konkan & Goa",
          "Konkan & Goa",
          "Konkan & Goa",
          "Konkan & Goa",
          "Konkan & Goa",
          "Konkan & Goa",
          "Konkan & Goa",
          "Konkan & Goa",
          "Konkan & Goa",
          "Konkan & Goa",
          "Konkan & Goa",
          "Konkan & Goa",
          "Konkan & Goa",
          "Konkan & Goa",
          "Konkan & Goa",
          "Konkan & Goa",
          "Konkan & Goa",
          "Konkan & Goa",
          "Konkan & Goa",
          "Konkan & Goa",
          "Konkan & Goa",
          "Konkan & Goa",
          "Konkan & Goa",
          "Konkan & Goa",
          "Konkan & Goa",
          "Konkan & Goa",
          "Konkan & Goa",
          "Konkan & Goa",
          "Konkan & Goa",
          "Konkan & Goa",
          "Konkan & Goa",
          "Konkan & Goa",
          "Konkan & Goa",
          "Konkan & Goa",
          "Konkan & Goa",
          "Konkan & Goa",
          "Konkan & Goa",
          "Konkan & Goa",
          "Konkan & Goa",
          "Konkan & Goa",
          "Konkan & Goa",
          "Konkan & Goa",
          "Konkan & Goa",
          "Konkan & Goa",
          "Konkan & Goa",
          "Konkan & Goa",
          "Konkan & Goa",
          "Konkan & Goa",
          "Konkan & Goa",
          "Konkan & Goa",
          "Konkan & Goa",
          "Konkan & Goa",
          "Konkan & Goa",
          "Konkan & Goa",
          "Konkan & Goa",
          "Konkan & Goa",
          "Konkan & Goa",
          "Konkan & Goa",
          "Konkan & Goa",
          "Konkan & Goa",
          "Konkan & Goa",
          "Konkan & Goa",
          "Konkan & Goa",
          "Konkan & Goa",
          "Madhya Maharashtra",
          "Madhya Maharashtra",
          "Madhya Maharashtra",
          "Madhya Maharashtra",
          "Madhya Maharashtra",
          "Madhya Maharashtra",
          "Madhya Maharashtra",
          "Madhya Maharashtra",
          "Madhya Maharashtra",
          "Madhya Maharashtra",
          "Madhya Maharashtra",
          "Madhya Maharashtra",
          "Madhya Maharashtra",
          "Madhya Maharashtra",
          "Madhya Maharashtra",
          "Madhya Maharashtra",
          "Madhya Maharashtra",
          "Madhya Maharashtra",
          "Madhya Maharashtra",
          "Madhya Maharashtra",
          "Madhya Maharashtra",
          "Madhya Maharashtra",
          "Madhya Maharashtra",
          "Madhya Maharashtra",
          "Madhya Maharashtra",
          "Madhya Maharashtra",
          "Madhya Maharashtra",
          "Madhya Maharashtra",
          "Madhya Maharashtra",
          "Madhya Maharashtra",
          "Madhya Maharashtra",
          "Madhya Maharashtra",
          "Madhya Maharashtra",
          "Madhya Maharashtra",
          "Madhya Maharashtra",
          "Madhya Maharashtra",
          "Madhya Maharashtra",
          "Madhya Maharashtra",
          "Madhya Maharashtra",
          "Madhya Maharashtra",
          "Madhya Maharashtra",
          "Madhya Maharashtra",
          "Madhya Maharashtra",
          "Madhya Maharashtra",
          "Madhya Maharashtra",
          "Madhya Maharashtra",
          "Madhya Maharashtra",
          "Madhya Maharashtra",
          "Madhya Maharashtra",
          "Madhya Maharashtra",
          "Madhya Maharashtra",
          "Madhya Maharashtra",
          "Madhya Maharashtra",
          "Madhya Maharashtra",
          "Madhya Maharashtra",
          "Madhya Maharashtra",
          "Madhya Maharashtra",
          "Madhya Maharashtra",
          "Madhya Maharashtra",
          "Madhya Maharashtra",
          "Madhya Maharashtra",
          "Madhya Maharashtra",
          "Madhya Maharashtra",
          "Madhya Maharashtra",
          "Madhya Maharashtra",
          "Madhya Maharashtra",
          "Madhya Maharashtra",
          "Madhya Maharashtra",
          "Madhya Maharashtra",
          "Madhya Maharashtra",
          "Madhya Maharashtra",
          "Madhya Maharashtra",
          "Madhya Maharashtra",
          "Madhya Maharashtra",
          "Madhya Maharashtra",
          "Madhya Maharashtra",
          "Madhya Maharashtra",
          "Madhya Maharashtra",
          "Madhya Maharashtra",
          "Madhya Maharashtra",
          "Madhya Maharashtra",
          "Madhya Maharashtra",
          "Madhya Maharashtra",
          "Madhya Maharashtra",
          "Madhya Maharashtra",
          "Madhya Maharashtra",
          "Madhya Maharashtra",
          "Madhya Maharashtra",
          "Madhya Maharashtra",
          "Madhya Maharashtra",
          "Madhya Maharashtra",
          "Madhya Maharashtra",
          "Madhya Maharashtra",
          "Madhya Maharashtra",
          "Madhya Maharashtra",
          "Madhya Maharashtra",
          "Madhya Maharashtra",
          "Madhya Maharashtra",
          "Madhya Maharashtra",
          "Madhya Maharashtra",
          "Madhya Maharashtra",
          "Madhya Maharashtra",
          "Madhya Maharashtra",
          "Madhya Maharashtra",
          "Madhya Maharashtra",
          "Madhya Maharashtra",
          "Madhya Maharashtra",
          "Madhya Maharashtra",
          "Madhya Maharashtra",
          "Madhya Maharashtra",
          "Madhya Maharashtra",
          "Madhya Maharashtra",
          "Madhya Maharashtra",
          "Madhya Maharashtra",
          "Madhya Maharashtra",
          "Madhya Maharashtra",
          "Madhya Maharashtra",
          "Matathwada",
          "Matathwada",
          "Matathwada",
          "Matathwada",
          "Matathwada",
          "Matathwada",
          "Matathwada",
          "Matathwada",
          "Matathwada",
          "Matathwada",
          "Matathwada",
          "Matathwada",
          "Matathwada",
          "Matathwada",
          "Matathwada",
          "Matathwada",
          "Matathwada",
          "Matathwada",
          "Matathwada",
          "Matathwada",
          "Matathwada",
          "Matathwada",
          "Matathwada",
          "Matathwada",
          "Matathwada",
          "Matathwada",
          "Matathwada",
          "Matathwada",
          "Matathwada",
          "Matathwada",
          "Matathwada",
          "Matathwada",
          "Matathwada",
          "Matathwada",
          "Matathwada",
          "Matathwada",
          "Matathwada",
          "Matathwada",
          "Matathwada",
          "Matathwada",
          "Matathwada",
          "Matathwada",
          "Matathwada",
          "Matathwada",
          "Matathwada",
          "Matathwada",
          "Matathwada",
          "Matathwada",
          "Matathwada",
          "Matathwada",
          "Matathwada",
          "Matathwada",
          "Matathwada",
          "Matathwada",
          "Matathwada",
          "Matathwada",
          "Matathwada",
          "Matathwada",
          "Matathwada",
          "Matathwada",
          "Matathwada",
          "Matathwada",
          "Matathwada",
          "Matathwada",
          "Matathwada",
          "Matathwada",
          "Matathwada",
          "Matathwada",
          "Matathwada",
          "Matathwada",
          "Matathwada",
          "Matathwada",
          "Matathwada",
          "Matathwada",
          "Matathwada",
          "Matathwada",
          "Matathwada",
          "Matathwada",
          "Matathwada",
          "Matathwada",
          "Matathwada",
          "Matathwada",
          "Matathwada",
          "Matathwada",
          "Matathwada",
          "Matathwada",
          "Matathwada",
          "Matathwada",
          "Matathwada",
          "Matathwada",
          "Matathwada",
          "Matathwada",
          "Matathwada",
          "Matathwada",
          "Matathwada",
          "Matathwada",
          "Matathwada",
          "Matathwada",
          "Matathwada",
          "Matathwada",
          "Matathwada",
          "Matathwada",
          "Matathwada",
          "Matathwada",
          "Matathwada",
          "Matathwada",
          "Matathwada",
          "Matathwada",
          "Matathwada",
          "Matathwada",
          "Matathwada",
          "Matathwada",
          "Matathwada",
          "Matathwada",
          "Matathwada",
          "Matathwada",
          "Matathwada",
          "Vidarbha",
          "Vidarbha",
          "Vidarbha",
          "Vidarbha",
          "Vidarbha",
          "Vidarbha",
          "Vidarbha",
          "Vidarbha",
          "Vidarbha",
          "Vidarbha",
          "Vidarbha",
          "Vidarbha",
          "Vidarbha",
          "Vidarbha",
          "Vidarbha",
          "Vidarbha",
          "Vidarbha",
          "Vidarbha",
          "Vidarbha",
          "Vidarbha",
          "Vidarbha",
          "Vidarbha",
          "Vidarbha",
          "Vidarbha",
          "Vidarbha",
          "Vidarbha",
          "Vidarbha",
          "Vidarbha",
          "Vidarbha",
          "Vidarbha",
          "Vidarbha",
          "Vidarbha",
          "Vidarbha",
          "Vidarbha",
          "Vidarbha",
          "Vidarbha",
          "Vidarbha",
          "Vidarbha",
          "Vidarbha",
          "Vidarbha",
          "Vidarbha",
          "Vidarbha",
          "Vidarbha",
          "Vidarbha",
          "Vidarbha",
          "Vidarbha",
          "Vidarbha",
          "Vidarbha",
          "Vidarbha",
          "Vidarbha",
          "Vidarbha",
          "Vidarbha",
          "Vidarbha",
          "Vidarbha",
          "Vidarbha",
          "Vidarbha",
          "Vidarbha",
          "Vidarbha",
          "Vidarbha",
          "Vidarbha",
          "Vidarbha",
          "Vidarbha",
          "Vidarbha",
          "Vidarbha",
          "Vidarbha",
          "Vidarbha",
          "Vidarbha",
          "Vidarbha",
          "Vidarbha",
          "Vidarbha",
          "Vidarbha",
          "Vidarbha",
          "Vidarbha",
          "Vidarbha",
          "Vidarbha",
          "Vidarbha",
          "Vidarbha",
          "Vidarbha",
          "Vidarbha",
          "Vidarbha",
          "Vidarbha",
          "Vidarbha",
          "Vidarbha",
          "Vidarbha",
          "Vidarbha",
          "Vidarbha",
          "Vidarbha",
          "Vidarbha",
          "Vidarbha",
          "Vidarbha",
          "Vidarbha",
          "Vidarbha",
          "Vidarbha",
          "Vidarbha",
          "Vidarbha",
          "Vidarbha",
          "Vidarbha",
          "Vidarbha",
          "Vidarbha",
          "Vidarbha",
          "Vidarbha",
          "Vidarbha",
          "Vidarbha",
          "Vidarbha",
          "Vidarbha",
          "Vidarbha",
          "Vidarbha",
          "Vidarbha",
          "Vidarbha",
          "Vidarbha",
          "Vidarbha",
          "Vidarbha",
          "Vidarbha",
          "Vidarbha",
          "Vidarbha",
          "Vidarbha",
          "Vidarbha",
          "Chhattisgarh",
          "Chhattisgarh",
          "Chhattisgarh",
          "Chhattisgarh",
          "Chhattisgarh",
          "Chhattisgarh",
          "Chhattisgarh",
          "Chhattisgarh",
          "Chhattisgarh",
          "Chhattisgarh",
          "Chhattisgarh",
          "Chhattisgarh",
          "Chhattisgarh",
          "Chhattisgarh",
          "Chhattisgarh",
          "Chhattisgarh",
          "Chhattisgarh",
          "Chhattisgarh",
          "Chhattisgarh",
          "Chhattisgarh",
          "Chhattisgarh",
          "Chhattisgarh",
          "Chhattisgarh",
          "Chhattisgarh",
          "Chhattisgarh",
          "Chhattisgarh",
          "Chhattisgarh",
          "Chhattisgarh",
          "Chhattisgarh",
          "Chhattisgarh",
          "Chhattisgarh",
          "Chhattisgarh",
          "Chhattisgarh",
          "Chhattisgarh",
          "Chhattisgarh",
          "Chhattisgarh",
          "Chhattisgarh",
          "Chhattisgarh",
          "Chhattisgarh",
          "Chhattisgarh",
          "Chhattisgarh",
          "Chhattisgarh",
          "Chhattisgarh",
          "Chhattisgarh",
          "Chhattisgarh",
          "Chhattisgarh",
          "Chhattisgarh",
          "Chhattisgarh",
          "Chhattisgarh",
          "Chhattisgarh",
          "Chhattisgarh",
          "Chhattisgarh",
          "Chhattisgarh",
          "Chhattisgarh",
          "Chhattisgarh",
          "Chhattisgarh",
          "Chhattisgarh",
          "Chhattisgarh",
          "Chhattisgarh",
          "Chhattisgarh",
          "Chhattisgarh",
          "Chhattisgarh",
          "Chhattisgarh",
          "Chhattisgarh",
          "Chhattisgarh",
          "Chhattisgarh",
          "Chhattisgarh",
          "Chhattisgarh",
          "Chhattisgarh",
          "Chhattisgarh",
          "Chhattisgarh",
          "Chhattisgarh",
          "Chhattisgarh",
          "Chhattisgarh",
          "Chhattisgarh",
          "Chhattisgarh",
          "Chhattisgarh",
          "Chhattisgarh",
          "Chhattisgarh",
          "Chhattisgarh",
          "Chhattisgarh",
          "Chhattisgarh",
          "Chhattisgarh",
          "Chhattisgarh",
          "Chhattisgarh",
          "Chhattisgarh",
          "Chhattisgarh",
          "Chhattisgarh",
          "Chhattisgarh",
          "Chhattisgarh",
          "Chhattisgarh",
          "Chhattisgarh",
          "Chhattisgarh",
          "Chhattisgarh",
          "Chhattisgarh",
          "Chhattisgarh",
          "Chhattisgarh",
          "Chhattisgarh",
          "Chhattisgarh",
          "Chhattisgarh",
          "Chhattisgarh",
          "Chhattisgarh",
          "Chhattisgarh",
          "Chhattisgarh",
          "Chhattisgarh",
          "Chhattisgarh",
          "Chhattisgarh",
          "Chhattisgarh",
          "Chhattisgarh",
          "Chhattisgarh",
          "Chhattisgarh",
          "Chhattisgarh",
          "Chhattisgarh",
          "Chhattisgarh",
          "Chhattisgarh",
          "Chhattisgarh",
          "Chhattisgarh",
          "Coastal Andhra Pradesh",
          "Coastal Andhra Pradesh",
          "Coastal Andhra Pradesh",
          "Coastal Andhra Pradesh",
          "Coastal Andhra Pradesh",
          "Coastal Andhra Pradesh",
          "Coastal Andhra Pradesh",
          "Coastal Andhra Pradesh",
          "Coastal Andhra Pradesh",
          "Coastal Andhra Pradesh",
          "Coastal Andhra Pradesh",
          "Coastal Andhra Pradesh",
          "Coastal Andhra Pradesh",
          "Coastal Andhra Pradesh",
          "Coastal Andhra Pradesh",
          "Coastal Andhra Pradesh",
          "Coastal Andhra Pradesh",
          "Coastal Andhra Pradesh",
          "Coastal Andhra Pradesh",
          "Coastal Andhra Pradesh",
          "Coastal Andhra Pradesh",
          "Coastal Andhra Pradesh",
          "Coastal Andhra Pradesh",
          "Coastal Andhra Pradesh",
          "Coastal Andhra Pradesh",
          "Coastal Andhra Pradesh",
          "Coastal Andhra Pradesh",
          "Coastal Andhra Pradesh",
          "Coastal Andhra Pradesh",
          "Coastal Andhra Pradesh",
          "Coastal Andhra Pradesh",
          "Coastal Andhra Pradesh",
          "Coastal Andhra Pradesh",
          "Coastal Andhra Pradesh",
          "Coastal Andhra Pradesh",
          "Coastal Andhra Pradesh",
          "Coastal Andhra Pradesh",
          "Coastal Andhra Pradesh",
          "Coastal Andhra Pradesh",
          "Coastal Andhra Pradesh",
          "Coastal Andhra Pradesh",
          "Coastal Andhra Pradesh",
          "Coastal Andhra Pradesh",
          "Coastal Andhra Pradesh",
          "Coastal Andhra Pradesh",
          "Coastal Andhra Pradesh",
          "Coastal Andhra Pradesh",
          "Coastal Andhra Pradesh",
          "Coastal Andhra Pradesh",
          "Coastal Andhra Pradesh",
          "Coastal Andhra Pradesh",
          "Coastal Andhra Pradesh",
          "Coastal Andhra Pradesh",
          "Coastal Andhra Pradesh",
          "Coastal Andhra Pradesh",
          "Coastal Andhra Pradesh",
          "Coastal Andhra Pradesh",
          "Coastal Andhra Pradesh",
          "Coastal Andhra Pradesh",
          "Coastal Andhra Pradesh",
          "Coastal Andhra Pradesh",
          "Coastal Andhra Pradesh",
          "Coastal Andhra Pradesh",
          "Coastal Andhra Pradesh",
          "Coastal Andhra Pradesh",
          "Coastal Andhra Pradesh",
          "Coastal Andhra Pradesh",
          "Coastal Andhra Pradesh",
          "Coastal Andhra Pradesh",
          "Coastal Andhra Pradesh",
          "Coastal Andhra Pradesh",
          "Coastal Andhra Pradesh",
          "Coastal Andhra Pradesh",
          "Coastal Andhra Pradesh",
          "Coastal Andhra Pradesh",
          "Coastal Andhra Pradesh",
          "Coastal Andhra Pradesh",
          "Coastal Andhra Pradesh",
          "Coastal Andhra Pradesh",
          "Coastal Andhra Pradesh",
          "Coastal Andhra Pradesh",
          "Coastal Andhra Pradesh",
          "Coastal Andhra Pradesh",
          "Coastal Andhra Pradesh",
          "Coastal Andhra Pradesh",
          "Coastal Andhra Pradesh",
          "Coastal Andhra Pradesh",
          "Coastal Andhra Pradesh",
          "Coastal Andhra Pradesh",
          "Coastal Andhra Pradesh",
          "Coastal Andhra Pradesh",
          "Coastal Andhra Pradesh",
          "Coastal Andhra Pradesh",
          "Coastal Andhra Pradesh",
          "Coastal Andhra Pradesh",
          "Coastal Andhra Pradesh",
          "Coastal Andhra Pradesh",
          "Coastal Andhra Pradesh",
          "Coastal Andhra Pradesh",
          "Coastal Andhra Pradesh",
          "Coastal Andhra Pradesh",
          "Coastal Andhra Pradesh",
          "Coastal Andhra Pradesh",
          "Coastal Andhra Pradesh",
          "Coastal Andhra Pradesh",
          "Coastal Andhra Pradesh",
          "Coastal Andhra Pradesh",
          "Coastal Andhra Pradesh",
          "Coastal Andhra Pradesh",
          "Coastal Andhra Pradesh",
          "Coastal Andhra Pradesh",
          "Coastal Andhra Pradesh",
          "Coastal Andhra Pradesh",
          "Coastal Andhra Pradesh",
          "Coastal Andhra Pradesh",
          "Coastal Andhra Pradesh",
          "Coastal Andhra Pradesh",
          "Telangana",
          "Telangana",
          "Telangana",
          "Telangana",
          "Telangana",
          "Telangana",
          "Telangana",
          "Telangana",
          "Telangana",
          "Telangana",
          "Telangana",
          "Telangana",
          "Telangana",
          "Telangana",
          "Telangana",
          "Telangana",
          "Telangana",
          "Telangana",
          "Telangana",
          "Telangana",
          "Telangana",
          "Telangana",
          "Telangana",
          "Telangana",
          "Telangana",
          "Telangana",
          "Telangana",
          "Telangana",
          "Telangana",
          "Telangana",
          "Telangana",
          "Telangana",
          "Telangana",
          "Telangana",
          "Telangana",
          "Telangana",
          "Telangana",
          "Telangana",
          "Telangana",
          "Telangana",
          "Telangana",
          "Telangana",
          "Telangana",
          "Telangana",
          "Telangana",
          "Telangana",
          "Telangana",
          "Telangana",
          "Telangana",
          "Telangana",
          "Telangana",
          "Telangana",
          "Telangana",
          "Telangana",
          "Telangana",
          "Telangana",
          "Telangana",
          "Telangana",
          "Telangana",
          "Telangana",
          "Telangana",
          "Telangana",
          "Telangana",
          "Telangana",
          "Telangana",
          "Telangana",
          "Telangana",
          "Telangana",
          "Telangana",
          "Telangana",
          "Telangana",
          "Telangana",
          "Telangana",
          "Telangana",
          "Telangana",
          "Telangana",
          "Telangana",
          "Telangana",
          "Telangana",
          "Telangana",
          "Telangana",
          "Telangana",
          "Telangana",
          "Telangana",
          "Telangana",
          "Telangana",
          "Telangana",
          "Telangana",
          "Telangana",
          "Telangana",
          "Telangana",
          "Telangana",
          "Telangana",
          "Telangana",
          "Telangana",
          "Telangana",
          "Telangana",
          "Telangana",
          "Telangana",
          "Telangana",
          "Telangana",
          "Telangana",
          "Telangana",
          "Telangana",
          "Telangana",
          "Telangana",
          "Telangana",
          "Telangana",
          "Telangana",
          "Telangana",
          "Telangana",
          "Telangana",
          "Telangana",
          "Telangana",
          "Telangana",
          "Telangana",
          "Telangana",
          "Rayalseema",
          "Rayalseema",
          "Rayalseema",
          "Rayalseema",
          "Rayalseema",
          "Rayalseema",
          "Rayalseema",
          "Rayalseema",
          "Rayalseema",
          "Rayalseema",
          "Rayalseema",
          "Rayalseema",
          "Rayalseema",
          "Rayalseema",
          "Rayalseema",
          "Rayalseema",
          "Rayalseema",
          "Rayalseema",
          "Rayalseema",
          "Rayalseema",
          "Rayalseema",
          "Rayalseema",
          "Rayalseema",
          "Rayalseema",
          "Rayalseema",
          "Rayalseema",
          "Rayalseema",
          "Rayalseema",
          "Rayalseema",
          "Rayalseema",
          "Rayalseema",
          "Rayalseema",
          "Rayalseema",
          "Rayalseema",
          "Rayalseema",
          "Rayalseema",
          "Rayalseema",
          "Rayalseema",
          "Rayalseema",
          "Rayalseema",
          "Rayalseema",
          "Rayalseema",
          "Rayalseema",
          "Rayalseema",
          "Rayalseema",
          "Rayalseema",
          "Rayalseema",
          "Rayalseema",
          "Rayalseema",
          "Rayalseema",
          "Rayalseema",
          "Rayalseema",
          "Rayalseema",
          "Rayalseema",
          "Rayalseema",
          "Rayalseema",
          "Rayalseema",
          "Rayalseema",
          "Rayalseema",
          "Rayalseema",
          "Rayalseema",
          "Rayalseema",
          "Rayalseema",
          "Rayalseema",
          "Rayalseema",
          "Rayalseema",
          "Rayalseema",
          "Rayalseema",
          "Rayalseema",
          "Rayalseema",
          "Rayalseema",
          "Rayalseema",
          "Rayalseema",
          "Rayalseema",
          "Rayalseema",
          "Rayalseema",
          "Rayalseema",
          "Rayalseema",
          "Rayalseema",
          "Rayalseema",
          "Rayalseema",
          "Rayalseema",
          "Rayalseema",
          "Rayalseema",
          "Rayalseema",
          "Rayalseema",
          "Rayalseema",
          "Rayalseema",
          "Rayalseema",
          "Rayalseema",
          "Rayalseema",
          "Rayalseema",
          "Rayalseema",
          "Rayalseema",
          "Rayalseema",
          "Rayalseema",
          "Rayalseema",
          "Rayalseema",
          "Rayalseema",
          "Rayalseema",
          "Rayalseema",
          "Rayalseema",
          "Rayalseema",
          "Rayalseema",
          "Rayalseema",
          "Rayalseema",
          "Rayalseema",
          "Rayalseema",
          "Rayalseema",
          "Rayalseema",
          "Rayalseema",
          "Rayalseema",
          "Rayalseema",
          "Rayalseema",
          "Rayalseema",
          "Rayalseema",
          "Rayalseema",
          "Tamil Nadu",
          "Tamil Nadu",
          "Tamil Nadu",
          "Tamil Nadu",
          "Tamil Nadu",
          "Tamil Nadu",
          "Tamil Nadu",
          "Tamil Nadu",
          "Tamil Nadu",
          "Tamil Nadu",
          "Tamil Nadu",
          "Tamil Nadu",
          "Tamil Nadu",
          "Tamil Nadu",
          "Tamil Nadu",
          "Tamil Nadu",
          "Tamil Nadu",
          "Tamil Nadu",
          "Tamil Nadu",
          "Tamil Nadu",
          "Tamil Nadu",
          "Tamil Nadu",
          "Tamil Nadu",
          "Tamil Nadu",
          "Tamil Nadu",
          "Tamil Nadu",
          "Tamil Nadu",
          "Tamil Nadu",
          "Tamil Nadu",
          "Tamil Nadu",
          "Tamil Nadu",
          "Tamil Nadu",
          "Tamil Nadu",
          "Tamil Nadu",
          "Tamil Nadu",
          "Tamil Nadu",
          "Tamil Nadu",
          "Tamil Nadu",
          "Tamil Nadu",
          "Tamil Nadu",
          "Tamil Nadu",
          "Tamil Nadu",
          "Tamil Nadu",
          "Tamil Nadu",
          "Tamil Nadu",
          "Tamil Nadu",
          "Tamil Nadu",
          "Tamil Nadu",
          "Tamil Nadu",
          "Tamil Nadu",
          "Tamil Nadu",
          "Tamil Nadu",
          "Tamil Nadu",
          "Tamil Nadu",
          "Tamil Nadu",
          "Tamil Nadu",
          "Tamil Nadu",
          "Tamil Nadu",
          "Tamil Nadu",
          "Tamil Nadu",
          "Tamil Nadu",
          "Tamil Nadu",
          "Tamil Nadu",
          "Tamil Nadu",
          "Tamil Nadu",
          "Tamil Nadu",
          "Tamil Nadu",
          "Tamil Nadu",
          "Tamil Nadu",
          "Tamil Nadu",
          "Tamil Nadu",
          "Tamil Nadu",
          "Tamil Nadu",
          "Tamil Nadu",
          "Tamil Nadu",
          "Tamil Nadu",
          "Tamil Nadu",
          "Tamil Nadu",
          "Tamil Nadu",
          "Tamil Nadu",
          "Tamil Nadu",
          "Tamil Nadu",
          "Tamil Nadu",
          "Tamil Nadu",
          "Tamil Nadu",
          "Tamil Nadu",
          "Tamil Nadu",
          "Tamil Nadu",
          "Tamil Nadu",
          "Tamil Nadu",
          "Tamil Nadu",
          "Tamil Nadu",
          "Tamil Nadu",
          "Tamil Nadu",
          "Tamil Nadu",
          "Tamil Nadu",
          "Tamil Nadu",
          "Tamil Nadu",
          "Tamil Nadu",
          "Tamil Nadu",
          "Tamil Nadu",
          "Tamil Nadu",
          "Tamil Nadu",
          "Tamil Nadu",
          "Tamil Nadu",
          "Tamil Nadu",
          "Tamil Nadu",
          "Tamil Nadu",
          "Tamil Nadu",
          "Tamil Nadu",
          "Tamil Nadu",
          "Tamil Nadu",
          "Tamil Nadu",
          "Tamil Nadu",
          "Tamil Nadu",
          "Tamil Nadu",
          "Tamil Nadu",
          "Coastal Karnataka",
          "Coastal Karnataka",
          "Coastal Karnataka",
          "Coastal Karnataka",
          "Coastal Karnataka",
          "Coastal Karnataka",
          "Coastal Karnataka",
          "Coastal Karnataka",
          "Coastal Karnataka",
          "Coastal Karnataka",
          "Coastal Karnataka",
          "Coastal Karnataka",
          "Coastal Karnataka",
          "Coastal Karnataka",
          "Coastal Karnataka",
          "Coastal Karnataka",
          "Coastal Karnataka",
          "Coastal Karnataka",
          "Coastal Karnataka",
          "Coastal Karnataka",
          "Coastal Karnataka",
          "Coastal Karnataka",
          "Coastal Karnataka",
          "Coastal Karnataka",
          "Coastal Karnataka",
          "Coastal Karnataka",
          "Coastal Karnataka",
          "Coastal Karnataka",
          "Coastal Karnataka",
          "Coastal Karnataka",
          "Coastal Karnataka",
          "Coastal Karnataka",
          "Coastal Karnataka",
          "Coastal Karnataka",
          "Coastal Karnataka",
          "Coastal Karnataka",
          "Coastal Karnataka",
          "Coastal Karnataka",
          "Coastal Karnataka",
          "Coastal Karnataka",
          "Coastal Karnataka",
          "Coastal Karnataka",
          "Coastal Karnataka",
          "Coastal Karnataka",
          "Coastal Karnataka",
          "Coastal Karnataka",
          "Coastal Karnataka",
          "Coastal Karnataka",
          "Coastal Karnataka",
          "Coastal Karnataka",
          "Coastal Karnataka",
          "Coastal Karnataka",
          "Coastal Karnataka",
          "Coastal Karnataka",
          "Coastal Karnataka",
          "Coastal Karnataka",
          "Coastal Karnataka",
          "Coastal Karnataka",
          "Coastal Karnataka",
          "Coastal Karnataka",
          "Coastal Karnataka",
          "Coastal Karnataka",
          "Coastal Karnataka",
          "Coastal Karnataka",
          "Coastal Karnataka",
          "Coastal Karnataka",
          "Coastal Karnataka",
          "Coastal Karnataka",
          "Coastal Karnataka",
          "Coastal Karnataka",
          "Coastal Karnataka",
          "Coastal Karnataka",
          "Coastal Karnataka",
          "Coastal Karnataka",
          "Coastal Karnataka",
          "Coastal Karnataka",
          "Coastal Karnataka",
          "Coastal Karnataka",
          "Coastal Karnataka",
          "Coastal Karnataka",
          "Coastal Karnataka",
          "Coastal Karnataka",
          "Coastal Karnataka",
          "Coastal Karnataka",
          "Coastal Karnataka",
          "Coastal Karnataka",
          "Coastal Karnataka",
          "Coastal Karnataka",
          "Coastal Karnataka",
          "Coastal Karnataka",
          "Coastal Karnataka",
          "Coastal Karnataka",
          "Coastal Karnataka",
          "Coastal Karnataka",
          "Coastal Karnataka",
          "Coastal Karnataka",
          "Coastal Karnataka",
          "Coastal Karnataka",
          "Coastal Karnataka",
          "Coastal Karnataka",
          "Coastal Karnataka",
          "Coastal Karnataka",
          "Coastal Karnataka",
          "Coastal Karnataka",
          "Coastal Karnataka",
          "Coastal Karnataka",
          "Coastal Karnataka",
          "Coastal Karnataka",
          "Coastal Karnataka",
          "Coastal Karnataka",
          "Coastal Karnataka",
          "Coastal Karnataka",
          "Coastal Karnataka",
          "Coastal Karnataka",
          "Coastal Karnataka",
          "Coastal Karnataka",
          "Coastal Karnataka",
          "North Interior Karnataka",
          "North Interior Karnataka",
          "North Interior Karnataka",
          "North Interior Karnataka",
          "North Interior Karnataka",
          "North Interior Karnataka",
          "North Interior Karnataka",
          "North Interior Karnataka",
          "North Interior Karnataka",
          "North Interior Karnataka",
          "North Interior Karnataka",
          "North Interior Karnataka",
          "North Interior Karnataka",
          "North Interior Karnataka",
          "North Interior Karnataka",
          "North Interior Karnataka",
          "North Interior Karnataka",
          "North Interior Karnataka",
          "North Interior Karnataka",
          "North Interior Karnataka",
          "North Interior Karnataka",
          "North Interior Karnataka",
          "North Interior Karnataka",
          "North Interior Karnataka",
          "North Interior Karnataka",
          "North Interior Karnataka",
          "North Interior Karnataka",
          "North Interior Karnataka",
          "North Interior Karnataka",
          "North Interior Karnataka",
          "North Interior Karnataka",
          "North Interior Karnataka",
          "North Interior Karnataka",
          "North Interior Karnataka",
          "North Interior Karnataka",
          "North Interior Karnataka",
          "North Interior Karnataka",
          "North Interior Karnataka",
          "North Interior Karnataka",
          "North Interior Karnataka",
          "North Interior Karnataka",
          "North Interior Karnataka",
          "North Interior Karnataka",
          "North Interior Karnataka",
          "North Interior Karnataka",
          "North Interior Karnataka",
          "North Interior Karnataka",
          "North Interior Karnataka",
          "North Interior Karnataka",
          "North Interior Karnataka",
          "North Interior Karnataka",
          "North Interior Karnataka",
          "North Interior Karnataka",
          "North Interior Karnataka",
          "North Interior Karnataka",
          "North Interior Karnataka",
          "North Interior Karnataka",
          "North Interior Karnataka",
          "North Interior Karnataka",
          "North Interior Karnataka",
          "North Interior Karnataka",
          "North Interior Karnataka",
          "North Interior Karnataka",
          "North Interior Karnataka",
          "North Interior Karnataka",
          "North Interior Karnataka",
          "North Interior Karnataka",
          "North Interior Karnataka",
          "North Interior Karnataka",
          "North Interior Karnataka",
          "North Interior Karnataka",
          "North Interior Karnataka",
          "North Interior Karnataka",
          "North Interior Karnataka",
          "North Interior Karnataka",
          "North Interior Karnataka",
          "North Interior Karnataka",
          "North Interior Karnataka",
          "North Interior Karnataka",
          "North Interior Karnataka",
          "North Interior Karnataka",
          "North Interior Karnataka",
          "North Interior Karnataka",
          "North Interior Karnataka",
          "North Interior Karnataka",
          "North Interior Karnataka",
          "North Interior Karnataka",
          "North Interior Karnataka",
          "North Interior Karnataka",
          "North Interior Karnataka",
          "North Interior Karnataka",
          "North Interior Karnataka",
          "North Interior Karnataka",
          "North Interior Karnataka",
          "North Interior Karnataka",
          "North Interior Karnataka",
          "North Interior Karnataka",
          "North Interior Karnataka",
          "North Interior Karnataka",
          "North Interior Karnataka",
          "North Interior Karnataka",
          "North Interior Karnataka",
          "North Interior Karnataka",
          "North Interior Karnataka",
          "North Interior Karnataka",
          "North Interior Karnataka",
          "North Interior Karnataka",
          "North Interior Karnataka",
          "North Interior Karnataka",
          "North Interior Karnataka",
          "North Interior Karnataka",
          "North Interior Karnataka",
          "North Interior Karnataka",
          "North Interior Karnataka",
          "North Interior Karnataka",
          "North Interior Karnataka",
          "North Interior Karnataka",
          "South Interior Karnataka",
          "South Interior Karnataka",
          "South Interior Karnataka",
          "South Interior Karnataka",
          "South Interior Karnataka",
          "South Interior Karnataka",
          "South Interior Karnataka",
          "South Interior Karnataka",
          "South Interior Karnataka",
          "South Interior Karnataka",
          "South Interior Karnataka",
          "South Interior Karnataka",
          "South Interior Karnataka",
          "South Interior Karnataka",
          "South Interior Karnataka",
          "South Interior Karnataka",
          "South Interior Karnataka",
          "South Interior Karnataka",
          "South Interior Karnataka",
          "South Interior Karnataka",
          "South Interior Karnataka",
          "South Interior Karnataka",
          "South Interior Karnataka",
          "South Interior Karnataka",
          "South Interior Karnataka",
          "South Interior Karnataka",
          "South Interior Karnataka",
          "South Interior Karnataka",
          "South Interior Karnataka",
          "South Interior Karnataka",
          "South Interior Karnataka",
          "South Interior Karnataka",
          "South Interior Karnataka",
          "South Interior Karnataka",
          "South Interior Karnataka",
          "South Interior Karnataka",
          "South Interior Karnataka",
          "South Interior Karnataka",
          "South Interior Karnataka",
          "South Interior Karnataka",
          "South Interior Karnataka",
          "South Interior Karnataka",
          "South Interior Karnataka",
          "South Interior Karnataka",
          "South Interior Karnataka",
          "South Interior Karnataka",
          "South Interior Karnataka",
          "South Interior Karnataka",
          "South Interior Karnataka",
          "South Interior Karnataka",
          "South Interior Karnataka",
          "South Interior Karnataka",
          "South Interior Karnataka",
          "South Interior Karnataka",
          "South Interior Karnataka",
          "South Interior Karnataka",
          "South Interior Karnataka",
          "South Interior Karnataka",
          "South Interior Karnataka",
          "South Interior Karnataka",
          "South Interior Karnataka",
          "South Interior Karnataka",
          "South Interior Karnataka",
          "South Interior Karnataka",
          "South Interior Karnataka",
          "South Interior Karnataka",
          "South Interior Karnataka",
          "South Interior Karnataka",
          "South Interior Karnataka",
          "South Interior Karnataka",
          "South Interior Karnataka",
          "South Interior Karnataka",
          "South Interior Karnataka",
          "South Interior Karnataka",
          "South Interior Karnataka",
          "South Interior Karnataka",
          "South Interior Karnataka",
          "South Interior Karnataka",
          "South Interior Karnataka",
          "South Interior Karnataka",
          "South Interior Karnataka",
          "South Interior Karnataka",
          "South Interior Karnataka",
          "South Interior Karnataka",
          "South Interior Karnataka",
          "South Interior Karnataka",
          "South Interior Karnataka",
          "South Interior Karnataka",
          "South Interior Karnataka",
          "South Interior Karnataka",
          "South Interior Karnataka",
          "South Interior Karnataka",
          "South Interior Karnataka",
          "South Interior Karnataka",
          "South Interior Karnataka",
          "South Interior Karnataka",
          "South Interior Karnataka",
          "South Interior Karnataka",
          "South Interior Karnataka",
          "South Interior Karnataka",
          "South Interior Karnataka",
          "South Interior Karnataka",
          "South Interior Karnataka",
          "South Interior Karnataka",
          "South Interior Karnataka",
          "South Interior Karnataka",
          "South Interior Karnataka",
          "South Interior Karnataka",
          "South Interior Karnataka",
          "South Interior Karnataka",
          "South Interior Karnataka",
          "South Interior Karnataka",
          "South Interior Karnataka",
          "South Interior Karnataka",
          "South Interior Karnataka",
          "South Interior Karnataka",
          "South Interior Karnataka",
          "Kerala",
          "Kerala",
          "Kerala",
          "Kerala",
          "Kerala",
          "Kerala",
          "Kerala",
          "Kerala",
          "Kerala",
          "Kerala",
          "Kerala",
          "Kerala",
          "Kerala",
          "Kerala",
          "Kerala",
          "Kerala",
          "Kerala",
          "Kerala",
          "Kerala",
          "Kerala",
          "Kerala",
          "Kerala",
          "Kerala",
          "Kerala",
          "Kerala",
          "Kerala",
          "Kerala",
          "Kerala",
          "Kerala",
          "Kerala",
          "Kerala",
          "Kerala",
          "Kerala",
          "Kerala",
          "Kerala",
          "Kerala",
          "Kerala",
          "Kerala",
          "Kerala",
          "Kerala",
          "Kerala",
          "Kerala",
          "Kerala",
          "Kerala",
          "Kerala",
          "Kerala",
          "Kerala",
          "Kerala",
          "Kerala",
          "Kerala",
          "Kerala",
          "Kerala",
          "Kerala",
          "Kerala",
          "Kerala",
          "Kerala",
          "Kerala",
          "Kerala",
          "Kerala",
          "Kerala",
          "Kerala",
          "Kerala",
          "Kerala",
          "Kerala",
          "Kerala",
          "Kerala",
          "Kerala",
          "Kerala",
          "Kerala",
          "Kerala",
          "Kerala",
          "Kerala",
          "Kerala",
          "Kerala",
          "Kerala",
          "Kerala",
          "Kerala",
          "Kerala",
          "Kerala",
          "Kerala",
          "Kerala",
          "Kerala",
          "Kerala",
          "Kerala",
          "Kerala",
          "Kerala",
          "Kerala",
          "Kerala",
          "Kerala",
          "Kerala",
          "Kerala",
          "Kerala",
          "Kerala",
          "Kerala",
          "Kerala",
          "Kerala",
          "Kerala",
          "Kerala",
          "Kerala",
          "Kerala",
          "Kerala",
          "Kerala",
          "Kerala",
          "Kerala",
          "Kerala",
          "Kerala",
          "Kerala",
          "Kerala",
          "Kerala",
          "Kerala",
          "Kerala",
          "Kerala",
          "Kerala",
          "Kerala",
          "Kerala",
          "Kerala",
          "Kerala",
          "Lakshadweep",
          "Lakshadweep",
          "Lakshadweep",
          "Lakshadweep",
          "Lakshadweep",
          "Lakshadweep",
          "Lakshadweep",
          "Lakshadweep",
          "Lakshadweep",
          "Lakshadweep",
          "Lakshadweep",
          "Lakshadweep",
          "Lakshadweep",
          "Lakshadweep",
          "Lakshadweep",
          "Lakshadweep",
          "Lakshadweep",
          "Lakshadweep",
          "Lakshadweep",
          "Lakshadweep",
          "Lakshadweep",
          "Lakshadweep",
          "Lakshadweep",
          "Lakshadweep",
          "Lakshadweep",
          "Lakshadweep",
          "Lakshadweep",
          "Lakshadweep",
          "Lakshadweep",
          "Lakshadweep",
          "Lakshadweep",
          "Lakshadweep",
          "Lakshadweep",
          "Lakshadweep",
          "Lakshadweep",
          "Lakshadweep",
          "Lakshadweep",
          "Lakshadweep",
          "Lakshadweep",
          "Lakshadweep",
          "Lakshadweep",
          "Lakshadweep",
          "Lakshadweep",
          "Lakshadweep",
          "Lakshadweep",
          "Lakshadweep",
          "Lakshadweep",
          "Lakshadweep",
          "Lakshadweep",
          "Lakshadweep",
          "Lakshadweep",
          "Lakshadweep",
          "Lakshadweep",
          "Lakshadweep",
          "Lakshadweep",
          "Lakshadweep",
          "Lakshadweep",
          "Lakshadweep",
          "Lakshadweep",
          "Lakshadweep",
          "Lakshadweep",
          "Lakshadweep",
          "Lakshadweep",
          "Lakshadweep",
          "Lakshadweep",
          "Lakshadweep",
          "Lakshadweep",
          "Lakshadweep",
          "Lakshadweep",
          "Lakshadweep",
          "Lakshadweep",
          "Lakshadweep",
          "Lakshadweep",
          "Lakshadweep",
          "Lakshadweep",
          "Lakshadweep",
          "Lakshadweep",
          "Lakshadweep",
          "Lakshadweep",
          "Lakshadweep",
          "Lakshadweep",
          "Lakshadweep",
          "Lakshadweep",
          "Lakshadweep",
          "Lakshadweep",
          "Lakshadweep",
          "Lakshadweep",
          "Lakshadweep",
          "Lakshadweep",
          "Lakshadweep",
          "Lakshadweep",
          "Lakshadweep",
          "Lakshadweep",
          "Lakshadweep",
          "Lakshadweep",
          "Lakshadweep",
          "Lakshadweep",
          "Lakshadweep",
          "Lakshadweep",
          "Lakshadweep",
          "Lakshadweep",
          "Lakshadweep",
          "Lakshadweep",
          "Lakshadweep",
          "Lakshadweep",
          "Lakshadweep",
          "Lakshadweep",
          "Lakshadweep",
          "Lakshadweep",
          "Lakshadweep",
          "Lakshadweep",
          "Lakshadweep",
          "Lakshadweep",
          "Lakshadweep",
          "Lakshadweep"
         ],
         "xaxis": "x",
         "y": [
          3373.2,
          3520.7,
          2957.4,
          3079.5999999999995,
          2566.7,
          2534.4,
          3347.9,
          3576.4,
          2899.4,
          2687.2,
          2960.4999999999995,
          2365.8,
          2957.8,
          2741.3,
          2937.4999999999995,
          2612.4000000000005,
          3275.0000000000005,
          2352.1,
          2943.200000000001,
          2606.4,
          3554.2,
          3079.5955034680696,
          2349.6348575532675,
          2480.5,
          3282.200000000001,
          2442.9,
          2998.3,
          2926.6,
          3075.1000000000013,
          2357.7000000000007,
          1771.2257592275105,
          2987.5000000000005,
          3722.8,
          3154.0000000000005,
          3081.781711690175,
          3591.1,
          3264.4,
          2782.5,
          3007.5,
          2898.200000000001,
          1420.6494849020075,
          2791.6000000000013,
          3092.1118631906243,
          3489.5999999999995,
          2422.2000000000007,
          3275.1,
          3079.9,
          2722,
          3449,
          3349.6000000000013,
          3079.9,
          2507.2,
          2807.4,
          3343.4,
          3025.1,
          3938.2,
          2959.7,
          2981.700000000001,
          3054.8,
          3163.9000000000005,
          2701.2000000000007,
          3216.5999999999995,
          2762.8,
          2619.2000000000007,
          3370.9,
          2998.700000000001,
          3323.1000000000013,
          2990.9999999999995,
          2962.1000000000013,
          3085.5999999999995,
          3275.9999999999995,
          2388.2,
          2712.4,
          1849.3,
          3625.3,
          3074.7,
          2384.5,
          2792.5000000000005,
          2820.3,
          2630.8,
          2187.9,
          2763.9,
          3323.1000000000013,
          2533.7000000000007,
          2183.2,
          2535.6,
          2098.6,
          2237.4,
          3263.1000000000013,
          3115.4999999999995,
          2996.9,
          2755.1,
          2846.4,
          2699.7,
          2763.1,
          3080.8,
          2620.1,
          2355.7000000000007,
          2460.0000000000005,
          2954.5,
          2404.7,
          2748.2000000000007,
          3374.9,
          2538.6,
          3157.1,
          3828.000000000002,
          3497.6,
          3757.7,
          2622.5,
          2904.5,
          2851.9,
          2890,
          3519.004035242135,
          3626.395503468071,
          5486.3,
          4693.9000000000015,
          4106.7,
          5691.4,
          4187.2,
          3507.5,
          4450.5,
          4439.8,
          3521.6,
          5253.200000000002,
          5272.700000000002,
          4320.1,
          4334.299999999998,
          4872.099999999999,
          4850.899999999999,
          3773.4,
          4575.6,
          4173.499999999999,
          4788.700000000002,
          3375.1,
          6129.100000000001,
          3898.6,
          4099.5,
          4220.2,
          3828.299999999999,
          4326.6,
          3904.3,
          3649.2,
          4011.2,
          4369.099999999999,
          6331.099999999999,
          4874.8,
          2621.247704447633,
          3354.3,
          2396.1,
          2675.714712918661,
          3843.93764920706,
          5063.5,
          4195.5,
          3709.400000000001,
          3676.5,
          4810.825542419168,
          4138,
          4959.299999999998,
          2196.8,
          2209.7000000000007,
          1668.5,
          2138.9,
          1877.8,
          1973.4,
          2184.600000000001,
          2281.3,
          2457.6,
          3064,
          2213.4,
          2419.6,
          3774.4,
          2531,
          2773.7,
          3215.4000000000005,
          2790.8,
          2779.4,
          3335.1,
          3278.0999999999995,
          3266.4,
          2495.6,
          3433.2999999999997,
          4155.4,
          3281.7,
          3604.1,
          3434.5000000000005,
          2706.8,
          3348.9,
          2287.3,
          3068.8,
          2520.6,
          2274.9,
          3616.7,
          2316.7000000000007,
          2596.9000000000005,
          2035.9,
          2389.3,
          2451.7,
          2545.8,
          2335.5,
          2259.399999999999,
          3020.6000000000013,
          2244.4999999999995,
          1750.0000000000002,
          2855.5999999999995,
          2193.5999999999995,
          3440.4999999999995,
          2042.9,
          2403.0999999999995,
          2767.5,
          2706.8,
          2745.5,
          2498.7,
          2952.1000000000013,
          2544.600000000001,
          2664.2000000000007,
          2790.700000000001,
          2663.2,
          2521.3,
          2277.8,
          2377,
          2887.3,
          3096.1000000000013,
          2743.4,
          2760.4999999999995,
          2343.9,
          3165.2,
          2601.0000000000005,
          2520,
          3106.8,
          2344.0999999999995,
          2623.7000000000007,
          2999.5,
          2262.0000000000005,
          2440.4,
          2691.6,
          2550.4999999999995,
          2511.5999999999995,
          2792.9,
          2634.1,
          2953.8,
          2550.8,
          2800.1,
          2888.6000000000013,
          2339.1,
          3074.800000000001,
          2678.5,
          2671.3,
          2324.600000000001,
          2786.5,
          2401.5000000000005,
          2451.7,
          2709.4,
          2677.100000000001,
          2703.8,
          2524.4,
          2665.7,
          2679.5000000000005,
          2643.2000000000007,
          3185.5000000000005,
          2983.3,
          2392.4,
          2613.9,
          2851.2999999999997,
          2560,
          2859.200000000001,
          2761.200000000001,
          2802.9000000000005,
          2256.9999999999995,
          2626.5,
          2535.7,
          2342.2000000000007,
          2195.4,
          2296,
          2511.7,
          2729.7000000000007,
          2398.9,
          2789.3,
          2123.3,
          2530.8,
          2332.3,
          3048.5,
          2315.1,
          2379.100000000001,
          2672.1,
          3403.6,
          2270.6,
          1956,
          2616.7,
          2011.8,
          2188.4,
          2289.2,
          2079.3,
          2382.3,
          2620.2,
          3156.8999999999987,
          2801.700000000001,
          2592.7,
          2921.6000000000013,
          3261.700000000001,
          2682.3,
          2771.200000000001,
          2838,
          2259.7,
          2879.2,
          2121.3,
          2885.9999999999995,
          2466.8,
          2372.2000000000007,
          2803.1000000000013,
          2594.1,
          2486.8,
          2178.6,
          2392.6,
          2434.2000000000007,
          2994.2,
          2468.2000000000007,
          1898.7,
          2752.7,
          2339.6,
          2068.2,
          2711.4,
          1743.5000000000002,
          2609.4,
          1816.5,
          2206.2,
          2471,
          2266.7,
          2711.600000000001,
          2168.3,
          2174.9,
          2230.9,
          2519.600000000001,
          2527.5,
          2514.5,
          2121.8,
          2319.2000000000007,
          2308.8,
          2268.1,
          2479.800000000001,
          2308.9,
          2613.1,
          2529.100000000001,
          2819.9,
          2554.9,
          2222.2000000000007,
          3013.200000000001,
          2048.1,
          2375.7,
          2638.2,
          2462.7000000000007,
          2685.5,
          2701.7,
          2447.4,
          2463.2,
          2887.3,
          2472.4,
          2859.4000000000005,
          2487.4,
          2461.2,
          2761.8,
          2451.8,
          3040.800000000001,
          2543.3,
          2917.2,
          2741.7,
          2971.7,
          2608.4,
          2526.9,
          2966.1,
          2680.8,
          2427.9999999999995,
          2877.2,
          3051.8,
          3036.1,
          3210.4999999999995,
          2821.9999999999995,
          2976.3,
          2422.9,
          2609.4,
          2810.9,
          2661.7,
          2904.9999999999995,
          2865.3,
          3022.7,
          2303.9,
          1968.5,
          2327.6,
          1800,
          1901.2,
          1822.5,
          2970,
          2328.8,
          2031,
          2478.7,
          2230,
          2109.9999999999995,
          3610.1,
          4316.3,
          3080.9,
          1353.9,
          2106.1,
          2329.600000000001,
          2209.8,
          2651.3,
          2358.5999999999995,
          2150.6,
          1749.1999999999994,
          2304.9,
          2072.3,
          2027.5,
          2588.0999999999995,
          2454,
          2105.3,
          2342.2,
          2361.2,
          2820.200000000001,
          2359.100000000001,
          2582.2,
          2851.9000000000005,
          2221.5,
          2881.700000000001,
          1712.5,
          2340.1,
          2194.6,
          2212.100000000001,
          2225.4000000000005,
          2232.9,
          2363.9,
          2149.2,
          2242.4,
          2162.3,
          2353.7000000000007,
          1836.7,
          1872.2,
          2538.3,
          1748.9,
          1737.7,
          2295.2,
          1892.2,
          1923.000000000001,
          1557.1,
          1599.9,
          1922.2000000000005,
          1956.4,
          2805.3,
          2113.100000000001,
          3180.3,
          2404.3,
          2169.9,
          3004.9999999999995,
          2617.9,
          2530,
          1988.2,
          2670.2000000000007,
          3046.0999999999995,
          3194.1000000000013,
          2793.7,
          2934.9,
          2414.300000000001,
          2504.9999999999995,
          3476.8,
          2841.8,
          2981.7,
          2544.4,
          2884.1,
          3513.3,
          3001.7,
          2488.9,
          2950.8,
          2886.5000000000005,
          2637.600000000001,
          2732.2000000000007,
          2869.0000000000005,
          2931.3,
          2184.2000000000007,
          2876.3999999999987,
          2715.6,
          2514.1,
          2612.9000000000005,
          2785.1000000000013,
          2660.3,
          2568.3,
          3249.200000000001,
          2591.0000000000005,
          2320.2,
          2717.9,
          2365.3,
          2917.6000000000013,
          2583.2,
          2755.4000000000005,
          2768.4,
          2534.2,
          2936.5,
          3287.6,
          2762.6,
          2683.2,
          3270.9,
          2594,
          3055.7,
          2992.8,
          2885.4,
          2225.5,
          2820.2,
          2580.2,
          2610.4,
          2304.2,
          2521.8,
          2604.8,
          2981.5,
          2762.7999999999997,
          2515.4000000000005,
          2860.5,
          3378.8,
          2424.8,
          2702.2,
          3226.9,
          2414.600000000001,
          2804.6000000000013,
          3341.5000000000005,
          2663.8,
          2793.9999999999995,
          2906.4000000000005,
          2377.9000000000005,
          2511.7,
          3148.6,
          2969.3,
          2337.5,
          2838.7,
          2748.4,
          3037.9,
          2365.4,
          3185.4999999999995,
          3141.5,
          2854.5999999999995,
          3565.4,
          3072.200000000001,
          2358.9,
          2895.9,
          2127.1,
          3557.7,
          2800.200000000001,
          2551.4000000000005,
          3655.2,
          3323.3,
          2908.1,
          2612.600000000001,
          2546.9,
          2723,
          2714.8,
          2807.7,
          2262.100000000001,
          2638.7000000000007,
          2689.8,
          2324.7,
          2612.5,
          2418.8,
          2632.3,
          2406.1,
          2322.5000000000005,
          2518.5,
          2624.8,
          2684.8,
          1487.7,
          1347.6,
          1354.3,
          1383.0999999999997,
          1667,
          1395.5000000000002,
          1337.1,
          1399.8000000000006,
          1697.7,
          1385.9,
          1264.9,
          1347.4,
          1826.8,
          1383.8000000000006,
          1310.3,
          1600.5,
          1775.7,
          1395.3,
          1482.3,
          1363.4999999999998,
          1300.2,
          1655.7,
          1285.2000000000005,
          1266.4999999999998,
          1273.7,
          1705.2,
          1190.6999999999996,
          1625,
          1557.4,
          1380.999999999999,
          1475.7,
          1306.8000000000004,
          1867.0999999999997,
          1117.6,
          1015.1,
          1505.7,
          1522.5000000000002,
          1337.8,
          1698.5,
          1358.6999999999996,
          1801.1,
          1615.6999999999994,
          1446.3,
          1406.3999999999994,
          1271.4999999999998,
          1714.1999999999994,
          1363.1,
          1532,
          1493.5,
          1615.8,
          1214,
          1395.6999999999994,
          1505.8,
          1080,
          1268.3000000000004,
          1714.2,
          1130.6,
          1151.1,
          1812.6,
          1245.4999999999998,
          1290.4999999999998,
          1173.4,
          1289.6,
          1278.4,
          1263.9,
          1118.7,
          1348.4,
          1597.8,
          1404.1000000000006,
          1648.4,
          2099.8,
          1333.2,
          1735.1,
          1470.6,
          1466.1999999999994,
          1240.6,
          1840.6,
          1872.7,
          1157.8000000000004,
          1520.8,
          1909.1,
          1111,
          1463.6,
          1831.7,
          1413.4999999999998,
          1790.8,
          1591.5,
          1681.5,
          1626.2,
          1961.3,
          1609.2999999999995,
          1414.6,
          1759.7000000000005,
          1530.8,
          1936.1,
          1504.1,
          1657.9,
          1632.8,
          1957,
          1571.9999999999998,
          1540.7,
          1613.4,
          1496.7,
          1569.4,
          1604.8000000000006,
          1660.4,
          1941.5,
          1555.4,
          1314.9,
          1064.9,
          1686.4,
          1268,
          1764.0000000000002,
          1261.2999999999995,
          1530.2,
          1427,
          1568.7000000000005,
          1284.1999999999996,
          1348.9,
          1568.2,
          1514.8,
          1357.3000000000004,
          1408.2000000000005,
          1447.2,
          1430.6,
          1535.2999999999995,
          1598.5000000000002,
          1417.3000000000006,
          1397.2000000000005,
          1544.3000000000006,
          1598.6,
          1436.9,
          1479.4999999999998,
          1850,
          1297.4999999999998,
          1757.9,
          1402.5,
          1324.1,
          1466.6,
          1258.6,
          1263.5,
          1807.9,
          1535.6999999999994,
          1525.6,
          1585.4999999999998,
          1637.8000000000006,
          1446.1,
          1477.0000000000002,
          1440.2,
          1851,
          1488.9,
          1219.2999999999995,
          1875.9000000000003,
          1567.4,
          1441.6,
          1563.6,
          1687.7,
          1435.3,
          1448.0000000000002,
          1586.5,
          1608.2,
          1538.6,
          1614.9,
          1410.9,
          1333.9,
          1348.9,
          1392.7999999999995,
          1396.2999999999995,
          1516.9,
          1437.8000000000006,
          1208,
          1597.1,
          1885.4,
          1277.5,
          1624,
          1495.8,
          1593,
          1945.2000000000005,
          1346.6,
          1562.1000000000006,
          1354.4999999999998,
          1174.6,
          1286.9000000000003,
          1427.5,
          1464.1,
          1283.1,
          1412.3000000000006,
          1596.8,
          1324.9999999999998,
          1573.5,
          987,
          1391.9999999999998,
          1179,
          1477.9,
          1438.8999999999994,
          996,
          1462.9,
          1295.6,
          1258.6,
          1432.1,
          1377.4,
          1607.2999999999995,
          1559.9,
          1097.7,
          1306.9,
          1299.6999999999996,
          1905.1,
          1472.6,
          1329.4,
          1448.1,
          1744.6999999999994,
          1614.0000000000002,
          1061.6,
          1504.6,
          1357.1999999999996,
          1484.4,
          1097.1999999999996,
          1672.5,
          1102.8,
          1648.2,
          1290.4,
          1503.4,
          1716.9,
          1633.8000000000006,
          1539,
          1330.2999999999995,
          1292.2,
          1346.3,
          1405.9,
          1632.3,
          1537,
          1210,
          1253.5,
          1344.4,
          1274.5,
          1197.6,
          1174.3,
          1480.8,
          1354.7,
          1314.3,
          1455.6,
          1214.1999999999996,
          1447.9,
          1297.4,
          1475.4,
          1142.8,
          1585.7999999999995,
          1215.4,
          1102.2,
          1364.3,
          1724.3,
          1162.7,
          1633.4000000000003,
          1415,
          1233.6999999999996,
          1443.2,
          1431.8,
          1431.9,
          1327.6,
          1478.4,
          1283.1,
          1384,
          1611.5,
          1433.9999999999998,
          1350.5000000000002,
          1193.7,
          1535.6999999999994,
          1197.4,
          1151.6,
          1664.4,
          1450.4,
          1229.7,
          1519.8,
          1231.9,
          1513.5999999999997,
          1589,
          1556.1,
          1386.5,
          1308.7,
          1553.1999999999994,
          1234.6,
          1402.7000000000005,
          1436.7,
          1392.9,
          1071.6,
          1387.3000000000006,
          1509.4,
          1059.4999999999998,
          1080.8,
          1555.7,
          1377.4,
          1180.5,
          1599.9,
          1248.8,
          1560.6,
          1047.7,
          1314.9,
          1150.4,
          1012.4,
          879.6999999999997,
          1225.2999999999995,
          1293.2,
          1158.1,
          1291.4,
          1898.7,
          996.2,
          1441.1999999999994,
          1126.9999999999998,
          1361.5,
          1191.7,
          1521.5,
          1556.3,
          882.8000000000003,
          1340.4,
          1167.1999999999996,
          1085.3,
          1261.8000000000004,
          1529.7999999999995,
          1240.3000000000004,
          1335.5,
          1332.7000000000005,
          1153.6,
          1148.9,
          1404.4999999999998,
          1251.0000000000002,
          933.2,
          1203.9999999999998,
          1579.4,
          1366.6,
          1191.6,
          1461.3,
          1353.7,
          1586.9,
          1191.5000000000002,
          1254.5,
          1034.9,
          1244.9000000000003,
          1136.7999999999995,
          960.5,
          1459.3000000000006,
          1437.3,
          1325.4,
          996.3,
          697.1,
          1374.6,
          1064.9,
          1253.5,
          1156.6,
          1081.8000000000004,
          1264.1,
          1165.7,
          952.4,
          1206.1999999999996,
          1016.4,
          1269.6999999999996,
          1498.6,
          1265.1,
          1126.4,
          737.5,
          1390.6,
          1398.4,
          1449,
          1129.4,
          1529.9,
          1059.9,
          1349.4999999999998,
          1504.6,
          1334.0000000000002,
          1411.6,
          1252.6,
          1123.8,
          1272.4,
          1449.2,
          982.7,
          1456.2,
          1191.5,
          1121.6999999999996,
          1100.3,
          1249.6,
          1359.2000000000005,
          1114.3000000000004,
          1146.4,
          927,
          1392.5999999999997,
          1226.3,
          1240.2999999999995,
          1572.5,
          1306.3999999999996,
          1506.7,
          1243.2000000000005,
          1088.2,
          1222.9999999999998,
          1252.6,
          1169.8,
          1228.9,
          1242.8000000000004,
          1393.8,
          1092.1999999999996,
          1299.3000000000004,
          1444.4,
          1124.6,
          850.2,
          1206.9000000000003,
          1378.8000000000006,
          1050.6,
          1244.3,
          1493.2999999999995,
          966.8,
          1167.5,
          1179.7,
          1247.8000000000004,
          1257.9999999999998,
          1178,
          1326.2,
          1122.3,
          1002.8,
          767.0000000000001,
          999.8,
          1140.0000000000002,
          1288.4999999999995,
          1074.6,
          1432.5,
          717.9000000000003,
          1189.1,
          1235.2,
          1069.1,
          1161.7,
          1147.6999999999996,
          1290.8,
          1001.8,
          1252,
          1364.6,
          933.6,
          1104.3,
          1426.2,
          1455,
          1322.1,
          1660.5,
          1337.5,
          1269.9,
          1239.2,
          1045.8,
          797.5,
          1208.4,
          969.3,
          1112.0000000000002,
          1107.3,
          1303.6999999999996,
          1332.6,
          1402.6999999999994,
          1206.9999999999998,
          1247.1,
          1105.8000000000004,
          1353.8000000000004,
          1147.6,
          907.8,
          1052.7999999999995,
          1600.1,
          1197.6,
          889.5,
          629.2,
          1097.3,
          1032.4,
          1069.8,
          1061,
          872.7,
          1157.9999999999998,
          1111.9999999999998,
          873.2,
          905.2,
          1216.4,
          1071.2999999999995,
          891.4999999999999,
          997.5,
          666.4,
          744.6999999999997,
          1106.6,
          1116.3,
          1113.9,
          879.5000000000001,
          861.6,
          988.8000000000004,
          1409.8000000000006,
          1201.8,
          1216.5,
          650.7,
          1023.5,
          860.2,
          1114.8,
          1364,
          1076.0000000000002,
          1119.9999999999998,
          1114.2,
          989.4,
          1031.1,
          804.8000000000003,
          1014.9,
          1069.4,
          1047.1,
          738.4999999999999,
          977.6,
          1068.3000000000004,
          919.8,
          1545.4,
          1035.3,
          1374.1,
          945,
          866.9999999999999,
          798.1000000000001,
          1028.7,
          1101,
          1061.4,
          980.5,
          1038.9,
          1006.3,
          1323.1,
          1131.1,
          951.4,
          752.6,
          936,
          1266.8,
          969.7,
          1424.2999999999995,
          1254.1,
          955.7,
          1016.9,
          869.1999999999997,
          1170,
          1214.1,
          1072.0000000000002,
          996.5,
          1036.8,
          685.5000000000001,
          707.7,
          1029.3000000000004,
          839.9,
          1024.7,
          1132.3,
          1311.1,
          666.8,
          955.6,
          882.1000000000001,
          1225.5,
          923.6,
          914.1,
          1116.5,
          696.5000000000001,
          1488.6,
          1110.3000000000004,
          1110.6,
          1205,
          1076.6,
          1175.9,
          935.6,
          824.6,
          1085.1,
          969.9,
          1106.2000000000005,
          875.3000000000003,
          863.3999999999999,
          833.8,
          910.3,
          860.2,
          1010.4,
          493.50000000000006,
          661,
          952.7,
          946.9,
          973.8,
          689.2,
          1096.2999999999995,
          746.9000000000003,
          770.1,
          632.1,
          741.3000000000003,
          953.3,
          610,
          692.1,
          781.2,
          602.7,
          1041.2,
          701.2,
          603.3,
          871.6,
          694.9,
          776,
          736.6,
          808.5000000000001,
          945.3000000000004,
          433.4,
          978.6,
          589.7,
          866.1,
          903,
          875.7,
          751.7,
          804.3,
          495.19999999999993,
          887.5,
          802.4999999999999,
          1114.2000000000005,
          1120.1999999999996,
          371.9,
          968.9,
          622.8,
          992.2,
          1000.7999999999996,
          902.2,
          1064.1,
          943.9,
          917.1,
          934.2,
          644.6000000000001,
          650.4,
          788.4000000000003,
          930.8000000000004,
          705.9,
          1035.5000000000002,
          897.7,
          784.6999999999997,
          1218.6,
          676.9000000000002,
          730.4,
          721.1,
          783.9,
          516.3,
          1088.2,
          850.4,
          770.4000000000003,
          966,
          896.8000000000003,
          809.0000000000001,
          1028.1,
          906.6,
          834.1,
          728.8000000000003,
          875.3000000000003,
          761.6000000000001,
          879.1999999999997,
          1060.9,
          1064.4999999999998,
          1005.2,
          1165.4000000000003,
          768.3,
          1129.6,
          1198.1,
          798.2,
          929.7,
          1002,
          673.6,
          756.0999999999997,
          1157.0999999999997,
          693.1,
          878.0999999999997,
          863.9,
          1002.9,
          585.1,
          806.0000000000001,
          668.9000000000002,
          989.4,
          653.0000000000001,
          994.4,
          1244.0000000000002,
          558,
          984.6,
          739.5000000000001,
          969,
          1191.7,
          781.2,
          957.2,
          715.3000000000003,
          466.9,
          1035.5,
          657.4,
          958.2,
          748.8000000000003,
          820.6999999999997,
          772.1000000000001,
          807.0000000000001,
          826.9,
          941.1,
          445.2,
          867.3000000000003,
          786.4000000000003,
          771.3,
          661.7,
          625.2,
          1047.4,
          642.4000000000002,
          725.6,
          529.2,
          572.4999999999999,
          799.6,
          549.1999999999998,
          820.6,
          777.3000000000003,
          389.6,
          932.7000000000004,
          486.8,
          582.8,
          693.0000000000001,
          585.3000000000002,
          1562.4,
          1324.1,
          1306.6999999999996,
          1492.0999999999997,
          1302.2,
          1538,
          1194.3,
          1256.1,
          1717.8000000000006,
          1963.9,
          1542.9,
          1394.3,
          1137.6,
          1940.9,
          1601.2,
          1678.7,
          2103.0000000000005,
          1215.4,
          1583.2999999999995,
          1328.5,
          1848.8,
          1860.1,
          1582.9,
          1927.1,
          1535,
          1381.3,
          1649.8,
          1241.8000000000004,
          1212.1,
          1271.1999999999996,
          1334.2,
          1369.7,
          1595.8000000000006,
          1339.1,
          1137.1,
          1912.3,
          1533.5,
          1529.1999999999994,
          1142.7,
          1223.8,
          1061.6,
          1711.4999999999998,
          1366.5,
          1198.8,
          1647.9,
          1526.7,
          1360,
          1535.5,
          1412.2,
          1584.1,
          1174.4999999999998,
          1477.8000000000006,
          1565.9,
          1862.8,
          1667,
          1942.9,
          1780.7,
          1499.0000000000002,
          1742.9000000000003,
          1540.1,
          1948.2,
          1647.6,
          1801.9,
          1769.5,
          1305.7,
          1465.9,
          1556.1,
          1478.5,
          1635.8000000000006,
          1293.4,
          1803.6,
          1077.9,
          1239.5999999999997,
          1161.6,
          1580.1999999999994,
          986.3,
          1416.3,
          2031.4,
          1072.3000000000004,
          1333.4,
          1356.2999999999995,
          1372.1,
          1525.1999999999994,
          1339.1,
          1653.6,
          1514.4,
          987.2,
          1602.4,
          1263.6,
          1564.999999999999,
          1020.7,
          1108.1,
          1594,
          1441.8,
          1616.1,
          1401.4,
          803.4999999999999,
          1198.6,
          1185.6,
          1712.8,
          1544.4,
          1574.7000000000005,
          1734.4,
          1219.6,
          1348.1999999999996,
          1178.9,
          1924.4,
          1363.5999999999997,
          847.6,
          1424,
          1564.6,
          1223.9,
          1735.3,
          1287.5,
          1247.6,
          1308.6,
          1475.8,
          390.20000000000016,
          419.70000000000016,
          428.9,
          527.5,
          322.8,
          593.7,
          443.9,
          689,
          769.4,
          605.1999999999998,
          509.7,
          529.2,
          508.50000000000006,
          664.7,
          422.4,
          629.1999999999998,
          986.8,
          234.6,
          553.8,
          368.8,
          446.4,
          552.7,
          581.4999999999999,
          654.8,
          557.1000000000001,
          616,
          502.4,
          388.20000000000016,
          306.6,
          500.6,
          519,
          439.9,
          856.9,
          501.3,
          568.4000000000002,
          511.1,
          481.6,
          278.90000000000003,
          310.2999999999999,
          395.7,
          363.9,
          804.4,
          407.9,
          484.30000000000007,
          654.7,
          437.70000000000016,
          464.6,
          591.9999999999999,
          485.3,
          551.2,
          338.2,
          556.5,
          561.8,
          536.9,
          694,
          653.7,
          617.2000000000003,
          672.9999999999999,
          485.00000000000006,
          722.9000000000003,
          627.8,
          511,
          521.7,
          711,
          381.9,
          707.9000000000003,
          839.8999999999999,
          388.3,
          477.20000000000016,
          538.1999999999998,
          636.7999999999997,
          440.8,
          527.1,
          384.9,
          622,
          726.6999999999997,
          740.0999999999997,
          651.3000000000002,
          341.5,
          513.3,
          493.3,
          506.6,
          744.4999999999999,
          479.2,
          572.4,
          451,
          318.6,
          845.1,
          416.5,
          703.2000000000003,
          393.8,
          429.5,
          523.7,
          564.3000000000002,
          819.1999999999997,
          644.6999999999998,
          668.5999999999998,
          685.3,
          344.49999999999994,
          384.3999999999999,
          485.4,
          357.3,
          597.4000000000002,
          487.20000000000016,
          519.3999999999999,
          330.99999999999994,
          446.6,
          710.3000000000003,
          395.3,
          640.4,
          512.1,
          391.3,
          461.3,
          305.5,
          435.5,
          398.70000000000016,
          421.7,
          523.3,
          397.9,
          570.9,
          451.5,
          434.1,
          677.5,
          588.9999999999999,
          740.5,
          845.7,
          616.4,
          505.8,
          536.4000000000002,
          561.1,
          794.4000000000003,
          421.6,
          588.4,
          1126.7,
          339.6,
          549.8,
          383.1,
          370.30000000000007,
          513.6,
          737.8000000000003,
          590.9,
          629.6999999999998,
          607.4,
          481.1,
          437.3,
          423.00000000000006,
          557.4,
          588.6999999999998,
          490.3,
          860.4999999999999,
          429.19999999999993,
          598.0000000000001,
          626.4000000000002,
          571.1,
          430.8,
          403.80000000000007,
          532.3000000000002,
          506.4,
          871.4999999999999,
          422.4,
          626.7000000000003,
          805.3000000000003,
          478,
          600.9,
          620.3,
          585,
          992,
          499.5,
          566,
          611.5999999999998,
          633.1999999999998,
          974.1,
          750.5000000000001,
          710.5,
          827.9999999999999,
          699.6999999999997,
          607,
          690.1,
          769.4,
          476.1,
          708.9,
          423.29999999999984,
          638.0999999999998,
          680.3,
          536.2,
          494.8,
          650.6,
          748.1000000000001,
          471.10000000000014,
          743.0999999999997,
          356.3,
          705.8,
          794.6,
          712.7,
          720.7,
          463.90000000000015,
          661.7000000000003,
          503.8,
          571.4,
          751.0000000000003,
          710.4000000000003,
          753.0000000000001,
          612.0000000000001,
          409.50000000000006,
          1222.6,
          480.4,
          754.7,
          475.8,
          478.1,
          582.9,
          580.9,
          869.1999999999997,
          589.6,
          690.0999999999997,
          588.6,
          364.6,
          405.3,
          441,
          274.7,
          424.8,
          351.79999999999984,
          552,
          647.7,
          594.8000000000002,
          717.1999999999997,
          361.1,
          451.5,
          705.1,
          493.5,
          586.6000000000001,
          382.9,
          510.8,
          444.1,
          497.5,
          1345,
          951.6,
          993.4,
          987.5,
          930.2,
          1317.4000000000003,
          875.2000000000003,
          987.5,
          1077.1,
          1406.9,
          1333.9,
          1207.6,
          1119.2999999999995,
          1735.9,
          1236.8000000000004,
          1172.1,
          1703.5,
          984.8,
          1213.3,
          1084.8,
          1311.4,
          1718.6,
          1621,
          1660.6,
          1509.4,
          1449.8,
          1434.6999999999994,
          1308.8000000000004,
          1424.6999999999994,
          1305.4,
          1266.4,
          1418.6,
          1240.4,
          982,
          1028,
          1157.9,
          1464.9,
          927.4,
          877.6,
          1088.6,
          895.5000000000001,
          1328.1999999999996,
          1223.1,
          1128.7000000000005,
          1647.0000000000002,
          1539,
          1313.4,
          1758.7000000000005,
          1311.1,
          1684.5,
          1238.4999999999998,
          1263.6,
          1425.6,
          1717.5,
          1919.2,
          1541.5999999999997,
          1822.6,
          1572.2999999999995,
          1640.4,
          1115.3000000000004,
          1515.6,
          1393.6,
          1354.6,
          1353.9999999999998,
          1220.3,
          1371,
          1558.6,
          1168.1999999999996,
          1127.7000000000005,
          1082.6999999999996,
          1274.9,
          842.3000000000003,
          955.1999999999996,
          776.3,
          1054,
          1179.5,
          1245,
          1371.2,
          1021,
          1154.9,
          1147.2000000000005,
          1423,
          1189.6,
          968.3,
          1194,
          1322.6,
          1035.4999999999998,
          1881.1,
          1177.2000000000005,
          1462.7999999999995,
          1104.8000000000004,
          1383.1,
          1128.3,
          1410.3,
          1493.7,
          1384.4,
          1454.5000000000002,
          1381.5000000000002,
          1144.9000000000003,
          1068.1,
          991.7999999999996,
          990.5,
          1034.4,
          878.3,
          1248.5,
          1218.4,
          1034.4,
          1114.3000000000004,
          956.5,
          1259.4,
          1108.2,
          951.7,
          1211.9999999999998,
          1008.9,
          1210.5,
          921.5,
          1182.2,
          980,
          760.4,
          1286.7,
          982.1,
          1157.6,
          1193.1,
          1069.6,
          1227.4,
          1339.9,
          1109.6,
          1280.1,
          936.7,
          1000.2,
          1692.1999999999994,
          963.8,
          1034.3000000000004,
          1386.1,
          916.5,
          1189.2,
          889.9000000000003,
          1057.6999999999996,
          890.8000000000003,
          1264.3,
          1181.9999999999998,
          1013.3,
          1123.4999999999998,
          973,
          1291.1,
          1102.6999999999996,
          1168.0000000000002,
          954.9,
          1039.4,
          1187.7,
          803.0999999999997,
          1085.4,
          1140.9,
          939.8,
          1061.8,
          1003.3000000000004,
          878.4000000000003,
          871.6999999999997,
          1239.9,
          1167.6999999999996,
          1050.9,
          856.3,
          922.3,
          913.9,
          1183.1,
          947,
          1523.0999999999997,
          962.7999999999996,
          1069.5,
          1229.6999999999996,
          1307.3000000000004,
          1156.5000000000002,
          1520.7,
          1520.3,
          1350.4,
          1550.2,
          766.4000000000003,
          1137.9,
          930.3,
          909.1,
          946.2,
          912.5,
          1378.9,
          1091.4,
          1065.5,
          1095.5999999999997,
          656.9,
          764.5,
          1145.6999999999996,
          1100.5,
          802.5000000000001,
          1180.4999999999998,
          1023.4,
          955.1,
          1061.6,
          1077.4,
          1017.7,
          1135.5,
          1202.1,
          1485.1999999999994,
          1157.3000000000004,
          1167.2,
          1521.1,
          1216,
          1671,
          1216,
          1573.8,
          1449,
          1478,
          1243.7000000000005,
          1732.4,
          1619.5999999999997,
          1620.4999999999998,
          1295.9,
          1325.8000000000004,
          890.6,
          984.6,
          952.7,
          903.4,
          1311.1,
          944.8,
          1692.5999999999997,
          1519.9,
          1023.6,
          1224.5000000000002,
          1104.3893223234738,
          997.8000000000004,
          887.5999999999997,
          1034.7,
          859.3,
          1093.5,
          1572.9,
          902.9,
          1279.1,
          158.8,
          195.5,
          307.2000000000001,
          167.9,
          114.4,
          269.6,
          353.3,
          582,
          426.2,
          293.4,
          138.9,
          279.79999999999995,
          248.1,
          302.3,
          147.3,
          421.7,
          768.8,
          62.2,
          305,
          248.6,
          218,
          244.9,
          273.3999999999999,
          297,
          169.60000000000005,
          440.2,
          332.49999999999994,
          272.1,
          303.2999999999999,
          230,
          395.3,
          265.1,
          376.20000000000016,
          322.4,
          256.7,
          265.40000000000003,
          292.4000000000001,
          183.5,
          137.4,
          292.4,
          224.6,
          338.9000000000001,
          295.5,
          525.0000000000001,
          363.9,
          223,
          253.2,
          233.5,
          224.7,
          278.29999999999995,
          179.90000000000003,
          267.20000000000005,
          304.30000000000007,
          250.5,
          391.3,
          374.1,
          267.29999999999995,
          264.1,
          335.4000000000001,
          217.8,
          400.3,
          262.40000000000003,
          174.5,
          337.4000000000001,
          215.2,
          252.90000000000003,
          340.3,
          141.99999999999997,
          118.9,
          355.7,
          251.7,
          185.9,
          454.8,
          164.3,
          553.9000000000002,
          425.1,
          389.20000000000016,
          379.5999999999999,
          308.4,
          238.3,
          248.5,
          311.7999999999999,
          469.30000000000007,
          203.3,
          197.3,
          204.2,
          143,
          280.4,
          248.2,
          445,
          179.09999999999997,
          425.8,
          293.5,
          415.4,
          367.8,
          307.7999999999999,
          345.20000000000016,
          279.6,
          204.3,
          235.4,
          285.3,
          92.2,
          368.1,
          196.79999999999995,
          260.6,
          361.3,
          310.7000000000001,
          324.1,
          160.5,
          473.3,
          418.70000000000016,
          327.2999999999999,
          389.5,
          302.4,
          458.50000000000006,
          347,
          408.20000000000016,
          412.6,
          578.1999999999998,
          686.0999999999998,
          694.5,
          279.90000000000003,
          647.3,
          551.6999999999998,
          870.1000000000001,
          781.8,
          685.3,
          420.3,
          655.3,
          498.2,
          676.4999999999999,
          401.6,
          845.1999999999997,
          1350.5,
          273.6,
          786.8999999999999,
          596.4999999999999,
          547.7,
          669.9000000000002,
          690,
          924.4,
          483.69999999999993,
          832.3000000000003,
          725.9999999999999,
          608.3,
          575.8000000000002,
          661.1999999999998,
          774.3999999999999,
          543.8,
          937.9,
          808.8,
          684.8000000000002,
          542.2,
          670.3999999999999,
          503.1,
          400.70000000000016,
          652.9999999999999,
          505.70000000000016,
          939.3,
          716.6,
          906.9,
          861.8000000000003,
          887.6000000000001,
          714.9,
          663.4999999999999,
          509.2,
          739.9000000000003,
          362.9,
          712.6,
          585.8,
          666,
          844.6,
          928.9,
          662.3000000000002,
          742.7,
          786.3,
          591.6,
          884.3000000000003,
          604.1,
          577.5999999999998,
          646.2000000000003,
          423.9,
          473.3,
          760.1,
          519.5,
          634.1000000000001,
          718.4,
          784.4000000000003,
          454.3,
          948.2,
          611.9000000000002,
          897.9,
          815.4000000000003,
          887.5,
          727.2,
          515.2,
          547.3999999999999,
          615.3000000000002,
          660.3,
          795.3,
          563.4,
          588.1,
          590.0000000000001,
          435.8999999999999,
          640.1,
          510.5,
          780.0999999999997,
          578.7,
          723.5,
          595.1999999999998,
          839.1999999999997,
          754.1999999999997,
          715.6,
          573.8,
          475.7,
          408.5,
          440.1,
          551.3000000000002,
          285.3,
          626.6,
          606.2,
          567.8,
          748.5,
          575.6,
          644.5,
          414.2,
          689.4999999999999,
          802,
          693.6,
          835.9999999999999,
          683.3000000000002,
          650.6999999999998,
          860.6,
          600.4,
          718.1999999999997,
          911.8,
          949.5,
          774.3,
          696.6,
          1010.2,
          650.4999999999999,
          832.5999999999997,
          830.2999999999997,
          959.4,
          676.3,
          807.1999999999997,
          790.4999999999999,
          836.4000000000003,
          772.7,
          1219.1,
          1309.3000000000004,
          509.50000000000006,
          1232.9,
          714.8000000000003,
          808.4999999999999,
          918.1,
          1071.1,
          1031.1,
          693.4000000000003,
          913.8,
          872.8000000000003,
          895.6999999999997,
          728.6,
          888.1999999999997,
          1131.7,
          988.2999999999996,
          1211.6,
          1164.9,
          871.2,
          901.1,
          1053.5,
          1001,
          802.5999999999997,
          1064.9,
          739.4,
          1201.6999999999996,
          962.8,
          1347.6999999999996,
          1047.3,
          1250.7,
          1064.7,
          1247.6999999999996,
          966.1,
          904.4,
          649.6999999999998,
          829.3,
          793.7,
          1100.5000000000002,
          1149.2,
          1065.8,
          833.0000000000001,
          1099.7,
          1181.5,
          882.5,
          1433.5,
          905.9,
          905.3,
          879.9000000000003,
          594.6,
          680,
          945.6,
          861.3000000000003,
          1116.7999999999995,
          1113.1,
          1135.6,
          770.2,
          1406.9000000000003,
          876.5999999999997,
          1064.6999999999996,
          1027.6,
          1002.8,
          1003.2,
          781.8,
          873.9999999999999,
          890.1999999999997,
          934.0999999999996,
          1071.8,
          859.5,
          874.7,
          937.1,
          784,
          951.1,
          758.4,
          1143.9999999999998,
          745.4,
          754.3000000000003,
          1031.7999999999995,
          1179.6,
          864.6,
          1085.5,
          1058.4,
          926.9,
          1052.7,
          635.1043738049715,
          787,
          684.3,
          946.3,
          848,
          752.3,
          1169.1999999999996,
          806.5000000000001,
          791.1,
          876.9000000000003,
          776.2,
          1063.9,
          1035.1999999999996,
          1396.2000000000005,
          864.8,
          1042.2,
          1097.9999999999998,
          768.8999999999999,
          1332.7000000000005,
          984.3,
          1178.1,
          1144.3000000000004,
          886.1999999999997,
          1369.6999999999996,
          1009.6,
          1430.5,
          1122,
          1222.2,
          1197.1,
          1150.5,
          936.2000000000004,
          1250.0000000000002,
          1382.4,
          1480.2000000000005,
          1639.3,
          930.5,
          1747.2999999999995,
          899.5999999999997,
          1132,
          1237.9,
          1443.8000000000006,
          1315.4,
          1354.4,
          1727.0000000000002,
          1235.9,
          1107,
          1247.5000000000002,
          1203.9,
          1342.2,
          1151.1,
          1368.4000000000003,
          1473.1999999999994,
          1279.9000000000003,
          1504.1999999999994,
          1398.1,
          1373.6999999999996,
          1347.3,
          1192.8000000000004,
          828.1,
          1508.3,
          1382.4999999999998,
          1427.1,
          1286.2,
          1494.4999999999998,
          1419.6,
          1430.4999999999998,
          1235.4,
          1177.8999999999996,
          1175.4,
          1155.4,
          1007,
          1076.4999999999998,
          1420.9,
          1515.9,
          1000.8,
          1171.4999999999998,
          1302.2,
          1252,
          1598.7000000000005,
          1068.4,
          1120.2,
          1187.3000000000004,
          697.9000000000003,
          849.3,
          1407.8,
          973.7,
          1241.9,
          1342.2999999999995,
          1518.8000000000006,
          1038.2,
          1252.4,
          971.2,
          1434.3,
          1055.7,
          1372.2,
          1392.4999999999998,
          809.7,
          1369.1,
          1036.1,
          1297.2,
          1275.5,
          1110.7,
          1115.3000000000004,
          1029.2,
          1116.1,
          1069.5000000000002,
          921,
          1379.9,
          1016.8,
          1051.1,
          1118.8,
          1533.8,
          1032.3000000000004,
          986.7,
          1357,
          1013.4,
          1443.9,
          874.2999999999997,
          1170.1,
          950,
          1438,
          955.3,
          1366.4,
          943.3,
          653.7,
          1003.2,
          944,
          960.6,
          1275.1999999999996,
          1053.2,
          1521.9,
          925,
          939.2000000000004,
          1340,
          840.1,
          554.3,
          863.9999999999999,
          887.6999999999997,
          492.6,
          811.4999999999999,
          890.5,
          996.9,
          1027.5,
          977.8000000000004,
          974.6,
          403.5,
          1118.6,
          1162.5999999999997,
          1107.5000000000002,
          567.3,
          952.9,
          1524.9,
          392.7,
          1067.4,
          708.8000000000003,
          1172.7,
          878.6,
          553.1999999999998,
          909.6,
          593.0000000000001,
          1274.4,
          1422.1,
          821,
          676.3000000000002,
          894.5999999999997,
          1104.5,
          906.6,
          1137,
          979.5,
          757,
          609.2,
          1203,
          814.6999999999997,
          605.6,
          870,
          961.7,
          1186.6,
          912.8,
          1340.4,
          1276.8,
          1147.6,
          783.3,
          473.80000000000007,
          800.4,
          1129.3,
          478.4,
          776.3999999999999,
          1055.4,
          1247.9,
          975.5,
          1366.7000000000005,
          647.8000000000002,
          1123.3000000000004,
          1560.6000000000006,
          649.6,
          945,
          773,
          997.7,
          892.7,
          656.8,
          696.4999999999999,
          938.6,
          667.9,
          788.9000000000003,
          1353.9,
          769.1999999999997,
          503.7,
          1159.6999999999996,
          421.3,
          1192.6,
          1620.1,
          1307.6,
          935.8,
          904.4,
          822.1,
          1114.2,
          758.1999999999997,
          1214,
          853.7,
          589.7,
          501.9,
          401.79999999999984,
          1097.4,
          822.9000000000003,
          1118.3,
          672.7,
          901,
          941.3,
          1534.5,
          684.1999999999998,
          902.7,
          1069,
          1070,
          568.6,
          550.5000000000001,
          848.9999999999999,
          637.2000000000003,
          1160.2000000000005,
          1005.8,
          1316.3,
          1478,
          1179,
          911.1,
          641.5,
          1088.7,
          890.3,
          713.9,
          1118.4,
          705.6999999999997,
          623,
          764.6999999999997,
          1024.4,
          181.3,
          401,
          522.8,
          185.7,
          289.9,
          540.4,
          509.5,
          527.9000000000002,
          586.4,
          549.8000000000002,
          140.29999999999998,
          652.6,
          751.8000000000003,
          577.3000000000002,
          245.8,
          495.9,
          886.7,
          117.7,
          445.1,
          490,
          598.0000000000001,
          334.7000000000001,
          204.90000000000003,
          310.6,
          340.7000000000001,
          901.5,
          639.5,
          426.9,
          421.7,
          450.2,
          329.7000000000001,
          492.4,
          758.0000000000001,
          398.3,
          523.9999999999999,
          371.1,
          533.6,
          345.9,
          179.4,
          356.6,
          401.8,
          342.2,
          526.6,
          717.5999999999997,
          633.1,
          473.3,
          558.8,
          247.6,
          542.1999999999998,
          473.6,
          285.1,
          400.9,
          706.5,
          599.8,
          385.1,
          738.9999999999999,
          398.50000000000006,
          551.7,
          1020.9,
          337.19999999999993,
          753.0000000000001,
          371.8,
          379.1,
          539.5,
          421.19999999999993,
          326.50000000000006,
          738.4000000000003,
          314.6,
          290,
          835.6,
          513.7,
          222.1,
          390.3,
          184.7,
          682,
          625.4999999999999,
          564.0999999999998,
          488.50000000000006,
          955.5,
          635.9,
          705,
          401.19999999999993,
          758.5,
          443.70000000000016,
          298.8,
          298.50000000000006,
          92.5,
          752.3,
          498.10000000000014,
          407.9,
          218.80000000000004,
          600.7,
          312.6,
          872.8000000000003,
          374.1,
          374.4,
          600.1999999999998,
          566.8000000000002,
          380.8,
          286,
          510.20000000000016,
          308,
          686.2,
          482.3,
          631.5000000000001,
          701.8,
          890.8000000000003,
          607.9000000000002,
          596.8,
          1119.9,
          742.4000000000003,
          323.7999999999999,
          681.6,
          383.9,
          441.6,
          483,
          651.9999999999999,
          2792.8,
          2674,
          3084.2,
          2393.7000000000007,
          1682.9,
          2418.7999999999997,
          2766.5000000000005,
          2735.4999999999995,
          2860.5,
          2544,
          2134.7,
          2793.200000000001,
          2617.5,
          3464.6,
          2525.8,
          3402.5999999999995,
          3430.9,
          1867.2,
          2851.8,
          1924,
          2899.200000000001,
          2817.6,
          2770.4,
          2444.2000000000007,
          2305.2,
          3165.8,
          2747.0000000000005,
          3172.5,
          2509.3,
          2845.8,
          3999.3,
          2962.8999999999987,
          3343.4,
          3272.3,
          2542.6,
          2783.3,
          3191.9,
          3495.5,
          2758.6,
          3313.7,
          1889.7,
          3279.4,
          3251.200000000001,
          2952.2,
          3244.5,
          3359.0000000000005,
          3090.1000000000013,
          3119.5999999999995,
          3213.700000000001,
          2929.2,
          2849.3,
          2521.9,
          3327.7,
          3790.4,
          3897.4,
          3663.7,
          3123.5,
          4000.3,
          3588.6000000000013,
          3027.800000000001,
          3921,
          3485.200000000001,
          3606.8,
          3192.700000000001,
          3071.6,
          2427.6,
          2752.4,
          2359.3,
          3127.3,
          3596.5999999999995,
          2754,
          1873,
          2836.2,
          3086.7,
          3515.4999999999995,
          3062.9,
          3103.4,
          2885.5000000000005,
          2509.2000000000007,
          2724.2,
          3124.7,
          2698.8,
          3814.5,
          2583.8,
          2968.5,
          2127.6,
          2635.0000000000005,
          3293,
          2771.4,
          3568,
          2954.6000000000013,
          2840.4,
          3480.8,
          3179.8,
          2766.1,
          2920.8,
          3027.2,
          3234.6,
          2912.099999999999,
          3133.2,
          2395.4,
          2537.3,
          2842.2,
          2986.1,
          3615.800000000001,
          3482.200000000001,
          3468.3,
          3053,
          2716.600000000001,
          3778.1,
          3825.2,
          3018.4,
          3523.9,
          2757.7,
          2081.8,
          3663.9,
          3443.4,
          769.1000000000001,
          784,
          837.9000000000003,
          603.6,
          537.6999999999998,
          744.3,
          815.1000000000001,
          722,
          755.2,
          915.2,
          544.5,
          764.9000000000003,
          732.5,
          1038.9,
          907.9,
          1072.4999999999998,
          938.2,
          438.20000000000016,
          878.9,
          600.3,
          734.3000000000003,
          805.1,
          680.9,
          748.3000000000003,
          661.7,
          787.1999999999997,
          925,
          831.7,
          690.4,
          929.1,
          1132.3,
          1045,
          1152.4,
          858.4000000000003,
          819,
          735.4999999999999,
          914.4,
          1126.3,
          821.6999999999997,
          893.3000000000003,
          774.3,
          941.2,
          993.1,
          1086,
          793.3,
          1103.6,
          905.6,
          1016.2,
          953.5,
          932.5,
          796.7,
          683.4,
          893.6999999999997,
          985,
          981.1,
          1233.7999999999995,
          849.8,
          1054.1,
          1118.9,
          885.8999999999999,
          1070.6,
          898.9999999999999,
          899.9000000000003,
          945.6,
          790.6,
          837.5000000000001,
          913.2000000000004,
          824.0000000000001,
          984.2,
          941.2,
          773.3000000000003,
          519.9,
          980.6,
          911.8,
          1040.6999999999996,
          1025.9,
          947.1,
          883.7,
          1026.7,
          939.5,
          929.8,
          752,
          918.6,
          779.8000000000003,
          655.9999999999999,
          644.3,
          807.5,
          976.5,
          816.5,
          1022.5,
          880.7,
          791.1,
          1019.9,
          1021.6,
          776.4,
          975.2999999999996,
          1000.9,
          1101.1,
          965.8,
          701.5000000000001,
          784.9000000000003,
          740.1999999999997,
          772.5000000000001,
          1029.5,
          1221.4,
          1395.6,
          1040.4000000000003,
          916.8,
          941.9,
          1027.6,
          852.4999999999999,
          690.0000000000001,
          962.5,
          838,
          644.5,
          906.2,
          994.3,
          908.8,
          744.0999999999997,
          1032.7,
          690.6000000000001,
          505.8,
          770.6999999999997,
          557.9000000000002,
          682.5,
          892.8,
          1134.1999999999996,
          612.4,
          488.4,
          656.7,
          989.1,
          1001.6,
          1177.9,
          1168.2,
          486,
          662.8,
          361,
          562.4,
          835.9,
          764.9,
          662.6999999999998,
          604.9,
          715.5,
          744.5999999999997,
          825.6,
          609.4000000000002,
          640.3,
          1088.6999999999996,
          844.2,
          1122.9,
          876.6,
          922,
          727.7,
          738.3,
          1072.7,
          580.1999999999998,
          855.6,
          540.9,
          1003,
          852.4,
          758.9000000000003,
          622.1999999999998,
          848.7,
          855.0000000000001,
          946.4,
          914.2,
          657.5,
          731.3999999999999,
          545.9999999999999,
          891.2,
          899.7,
          1151.3,
          1037.3,
          900.6000000000001,
          1024.4,
          950.3,
          738.3000000000003,
          959,
          945.7,
          1001.1,
          780.5999999999997,
          631.3,
          747.1999999999997,
          759.8,
          712.3,
          824.6,
          910.8,
          607.9,
          347.1,
          871.3,
          650.5,
          1050.8,
          622.9999999999999,
          767.8,
          784.8000000000003,
          807.4,
          812.8000000000003,
          786.7,
          636.5000000000001,
          1187.7,
          552.8,
          575.5,
          562.9000000000002,
          786.1999999999997,
          1169.9,
          1068.4,
          1198.1,
          601,
          726.6,
          806.4,
          583.5999999999998,
          809.5,
          854.9,
          790.3999999999999,
          1126.6999999999996,
          767.5,
          684.5,
          732.4,
          722.0999999999997,
          720,
          678.6,
          940.5,
          872.9000000000003,
          714.6,
          646.3,
          668.8999999999999,
          1011.7,
          663.6999999999998,
          526.6999999999998,
          887.9,
          548.9,
          532.0999999999998,
          949.1,
          755.6,
          1093.4,
          749.0000000000001,
          1229.4,
          753.1,
          941.9,
          1191.3,
          1010.7000000000004,
          1243.5000000000002,
          1061.8,
          1294.1,
          982.7,
          1014,
          1052.6,
          1199,
          1199.7,
          1362.2,
          1396.8000000000006,
          801.5,
          1212.5999999999997,
          578.3,
          1085.7,
          1109.9,
          941.3,
          994.2000000000004,
          941.1999999999996,
          1071.3,
          1167.4,
          1017.3,
          912.5,
          983.0999999999996,
          1404.1,
          1130.6,
          1502.2,
          1218.2999999999995,
          1158.0000000000002,
          1451,
          1319.2000000000005,
          1460.9,
          881.8,
          1357.5,
          828.9999999999999,
          1341.6,
          1018.2,
          1367.7,
          1199.5999999999997,
          1172.9999999999998,
          1168.2,
          1182.7,
          1398.3,
          793.6999999999997,
          1082.2,
          807.8000000000003,
          1137.8,
          1100.4,
          1368.6999999999996,
          1124.6,
          1071,
          1172.1,
          1606.2999999999995,
          1065.1,
          1440.7,
          1152.6,
          1147.7,
          1010.7999999999996,
          743.6,
          1002.8,
          1128.2,
          922.9,
          992.9,
          1240.5,
          882.3,
          740.9000000000003,
          1162.5,
          840.8000000000003,
          1324,
          974.8,
          1068,
          1249.4,
          1087.3,
          1042.4999999999998,
          1218.6,
          856.1,
          1240.5,
          810.6000000000001,
          876.9,
          1157.1,
          822.6,
          1308.6,
          997.8,
          1504.7999999999995,
          838.7,
          1148.8000000000004,
          1023.1,
          1427.1,
          1077.4999999999998,
          854.9,
          1039.3,
          1061.8,
          1165,
          1105.2,
          1122.1,
          926.1,
          1018.5,
          731.9,
          1214.6,
          1215.5,
          1167,
          866.6,
          770.8,
          1338.1,
          893.1000000000001,
          1107.8000000000004,
          1520.2,
          919,
          993.6,
          1163.8,
          803,
          1386.9,
          923.9000000000004,
          1331.1,
          1492.4,
          1250.9,
          1394.6,
          1308.7999999999995,
          1488.8,
          1284.1,
          1407.3,
          1504.2999999999995,
          1226.9,
          1234.7000000000005,
          1418,
          1455.9,
          1443.1,
          1727.6999999999994,
          1377.3,
          1859,
          1203.4,
          1319.2,
          1308.8,
          1387.2000000000005,
          1334.3,
          1736.9999999999998,
          1634.8000000000006,
          1537.2,
          1219.1,
          1663.8000000000006,
          1383.6,
          1466.9,
          1357.4,
          1650.8000000000006,
          1529,
          1269.1999999999996,
          1826.2,
          1616.6999999999994,
          1505.8,
          1480.4,
          1448.5,
          1005.1,
          1598.1,
          1644.9999999999998,
          1792.6,
          1585.500000000001,
          1599.1,
          1599.7,
          1491.7000000000005,
          1499.5,
          1292.2,
          1411.6,
          1396.4,
          1370.2,
          1193.8000000000004,
          1440.7,
          1557,
          1222.4,
          1520.9,
          1544.3,
          1364.4000000000003,
          1973.9,
          1124.7,
          1337.1,
          1508.9,
          941.5,
          1087,
          1472.4,
          1168,
          1172.5,
          1501.5000000000002,
          1533.8000000000006,
          1199.0000000000002,
          1467.3,
          951.0999999999996,
          1475.3000000000006,
          1379.4,
          1465.3000000000006,
          1370.3000000000004,
          904.6,
          1495.4,
          1216.4,
          1197.3,
          1372.1,
          1254.7,
          1237.5,
          1368.6,
          1142.8,
          1206.3000000000004,
          1187.2000000000005,
          1643.9,
          1220.9,
          1156.6,
          1205.4,
          1754.6,
          1280.7,
          1187.1,
          1317.2000000000005,
          1332.6999999999996,
          1322.7,
          906.4,
          1600.1,
          990.4,
          1694.2,
          1144.7,
          1287.3,
          1317.8,
          1281.2,
          1108.6,
          956.7,
          1306.6,
          1302.6,
          1377.4,
          1420.0000000000002,
          1278.6,
          1117.7,
          1315.9,
          1124.5,
          993.7,
          1063.5,
          1316.1,
          860.1,
          795.0000000000001,
          1021.4,
          817.9000000000003,
          842.1999999999997,
          867.5,
          1254.7,
          819.4000000000003,
          903.6,
          840.9,
          1013.1,
          1347.3,
          1351.2999999999995,
          1289.6999999999996,
          778,
          1141.4,
          723.4000000000003,
          1015.2000000000004,
          853.2,
          1126.3,
          1181.9,
          1238.5,
          870.7,
          1052.9,
          1101.4,
          859.0999999999997,
          1222.8000000000004,
          1287,
          971.6,
          1087.3,
          884.1000000000001,
          751.2000000000003,
          1328.6999999999996,
          892.1,
          1206.2000000000005,
          1070.3,
          1069.1,
          1026.4,
          879.8,
          977.8,
          1155.8,
          991.6,
          970.2999999999996,
          1126.1,
          1024.5,
          1217.4,
          986,
          1096.2,
          916.6,
          990,
          1153.5,
          1379,
          1408.6,
          1017.7,
          1605.4,
          1120.7,
          943.6999999999996,
          1119.3,
          1345.5,
          1023.9000000000004,
          1061,
          754.3,
          954.7,
          843.1999999999997,
          838.9999999999999,
          1279.7,
          1064,
          1033.2,
          1028.4,
          859,
          944.9,
          1192.4,
          1090.1,
          1132.8,
          1038.2,
          934.2,
          1014.8,
          929.3,
          888.5,
          1195.9,
          785.3,
          967.6,
          1009.9,
          1079.8,
          1164.9,
          1030.1,
          1611.3,
          1122.2,
          1000.9,
          869.7,
          1154.9,
          1352,
          1210.8000000000004,
          971.9,
          1310.6999999999996,
          825.1999999999997,
          992.3,
          1009.5,
          703.2,
          1096.9999999999998,
          873.8000000000003,
          1221.6,
          1159.6,
          1099.4,
          1107.5,
          790.5,
          1712.5000000000002,
          861.8,
          1318.3,
          1120.4,
          875.1000000000001,
          1011,
          909,
          892.7,
          827.7,
          630.4000000000002,
          1283.5,
          526.7,
          724.8000000000003,
          855.2999999999997,
          843.6,
          982.8,
          769.5000000000001,
          975.7999999999996,
          662,
          743.8,
          732.1000000000001,
          1083.4,
          1022,
          1162.6999999999996,
          1205.9,
          554.8,
          894.4999999999999,
          436.8,
          1003.4,
          767.7,
          786.3,
          944.4,
          1167.8999999999996,
          763.5,
          1005.6,
          1006.3,
          790.6999999999997,
          835.9,
          1183,
          949.9,
          1396.1,
          928,
          898.5000000000001,
          1156.9,
          866,
          1175.4,
          740.0999999999997,
          1082.6,
          594.4000000000002,
          907,
          899.4,
          960.4,
          1027.5,
          822.9,
          1005.5,
          915,
          1038.6,
          761.4,
          900.8,
          729.7999999999997,
          1272,
          928.4,
          1203.2,
          1120.6,
          983.2,
          1113.8000000000004,
          1224.1999999999996,
          839.5,
          1146.6,
          1138.7,
          1010.2,
          887.5000000000001,
          778.8000000000003,
          971,
          942.1,
          748.5,
          1047.1,
          970.2,
          729.1999999999997,
          670.8,
          1042.4,
          830.1999999999997,
          1215.7,
          1035.7,
          808.5000000000001,
          1311.8,
          791.7,
          922.5,
          1143.8,
          933.2,
          1497.4,
          742.6,
          785.8,
          1007.3,
          977,
          1544.8,
          1161.0000000000002,
          1425.4999999999998,
          848.9999999999999,
          863.5000000000001,
          885.6,
          975.9,
          1285.9,
          986.8,
          855.8999999999999,
          1093.1,
          863.6000000000001,
          1077.9,
          922.2,
          765.3,
          963.3,
          667.1,
          1163,
          1052.9,
          843.3,
          1035.3,
          666.2000000000003,
          1276.5,
          753.1,
          1008.6,
          1348.7000000000005,
          746.4,
          857.1999999999997,
          1043.4,
          815.6999999999997,
          714,
          818.3999999999999,
          1138.1999999999996,
          433.4,
          703.1999999999997,
          912.7,
          640.4,
          617.1999999999998,
          870.6999999999997,
          1001.2,
          590.6,
          745.5,
          616.3,
          678.3999999999999,
          923,
          1047.2,
          933.1,
          646.1,
          890.5000000000001,
          674.8,
          743.6000000000001,
          770.2,
          515.8000000000002,
          684.3,
          865.5,
          682.5000000000001,
          682,
          711.1999999999997,
          696.6999999999997,
          995.5,
          719.1,
          635.8000000000002,
          678.2,
          611.4,
          782.3,
          695.5999999999997,
          775.3999999999999,
          674.5,
          798.2,
          904.6,
          653.3000000000002,
          536.9,
          1036.7,
          917.6,
          604.0000000000001,
          953.7,
          624.4,
          608.7,
          826.6,
          510.8999999999999,
          538.4000000000002,
          701.4000000000003,
          795.6,
          785.2,
          816.3999999999999,
          930.8,
          571.8,
          808.2,
          635.6999999999998,
          744.2,
          651.4,
          816.1999999999997,
          709,
          791.5999999999997,
          596.1999999999998,
          904.1,
          737.8000000000003,
          623.9999999999999,
          842.3,
          776.4,
          621.1999999999998,
          826.0999999999997,
          689.4000000000003,
          728.3000000000003,
          1041.5,
          817.0000000000001,
          866.5,
          869.0999999999997,
          813.4999999999999,
          573.5999999999998,
          785.3,
          595.4,
          943,
          733,
          685.9,
          580.9,
          769.4,
          842.1999999999997,
          693.6000000000001,
          930.7,
          967.6,
          596.1,
          886.8999999999999,
          690.5,
          874.3,
          1277.6999999999996,
          835.0999999999997,
          947.9,
          537.1999999999998,
          871.3,
          924.6,
          615.3000000000002,
          725.4000000000003,
          741.7,
          1066.4,
          638.1,
          980.6,
          797.9,
          688.3,
          963.5,
          738.2,
          715.1,
          762.5999999999997,
          551.8999999999999,
          1047.1,
          555.4,
          834.5,
          960.4,
          1138.4,
          1163.8,
          663.3,
          821.1000000000001,
          990.1,
          885.6,
          765,
          954.5,
          943.6,
          815.1,
          904.1,
          879.0000000000001,
          953.3,
          988.6,
          897.5,
          948.3,
          871.8000000000003,
          1028.6,
          1154.3,
          979.3,
          1080.3,
          834.1,
          895.2,
          1013.5,
          815.7,
          830,
          970.9,
          977.7,
          1275.4,
          1039.8,
          1109.8,
          1010.9,
          839.6999999999997,
          893.8,
          944.5,
          1020,
          782.9999999999999,
          1055.8,
          1178.5000000000002,
          1006.8,
          847.3000000000003,
          1187.4,
          1227.6,
          784,
          1294.1,
          939.4,
          906.6,
          840.4999999999999,
          747.5,
          854.9999999999999,
          716.2,
          968,
          1016.3,
          1060.6,
          989.8,
          867,
          852.4999999999999,
          894.3,
          1013.8,
          910.8,
          941.6,
          1072.6999999999996,
          910.6,
          921.7,
          1166.9,
          899.2,
          789.4000000000003,
          961.8,
          942,
          1047.6,
          1093.3,
          858.7,
          652.8,
          923.7,
          859,
          1246,
          998.9,
          1103.3,
          709.2,
          1046,
          678.8000000000002,
          1007.9,
          1023.7,
          1063.4,
          953,
          963.4,
          837.1999999999997,
          856.6999999999997,
          903.2,
          954.8,
          918.8,
          1082.3,
          905.9,
          843.4,
          1069.3,
          950.5,
          1079.8,
          922.6,
          972.2,
          483.50000000000006,
          317.99999999999994,
          348.5,
          1037.6,
          1365.4,
          927.8,
          1067.1,
          1203.4,
          928.5,
          1095.3000000000004,
          926.7,
          636.2,
          742,
          913,
          1204.6,
          535.2,
          973,
          3056.8,
          3699.2,
          3317.4,
          3141.1,
          2652.4,
          2836.0000000000005,
          3535.2,
          3655.500000000002,
          3173.0000000000005,
          3020.8,
          2522.300000000001,
          3396.1,
          2836.2,
          3872.8,
          2648.9,
          3467.8,
          3424,
          2510.9,
          2918.1000000000013,
          2789.200000000001,
          3007.4,
          3332.6000000000013,
          3681.1,
          3528.8,
          3581.4,
          2956.4,
          3216.300000000001,
          3339.6000000000013,
          3663.4,
          2912.7999999999997,
          3842.5,
          3423.4,
          4139.4000000000015,
          3011.7999999999997,
          2886.1000000000013,
          3324.7999999999997,
          3314.2,
          3150.9000000000005,
          2744.2000000000007,
          3724.000000000002,
          2515.100000000001,
          3502.800000000001,
          3577.1,
          2984.6,
          3079.3999999999987,
          4041.4,
          3338.3,
          3626.6,
          3362.5000000000005,
          3766.1,
          3124.3,
          2896.6,
          3463.3,
          3821.6,
          3552.5,
          3856.4,
          3174.8,
          3687.500000000002,
          4330.9,
          3504.3,
          5553.900000000002,
          4017.6,
          3171.4999999999995,
          3140.4,
          2831.2,
          2976.700000000001,
          3181.700000000001,
          3461.1000000000013,
          3342.9,
          4041.9,
          3235.4,
          2856.9999999999995,
          3126,
          3433.5,
          4300,
          2934.0000000000005,
          3378.9,
          3863.000000000002,
          2823.5000000000005,
          3762.1,
          3848.6,
          4090.7,
          3942.1,
          3359.1,
          3015.7999999999997,
          2934.5,
          2716.2,
          3466.6,
          3215.6000000000013,
          4120.5,
          3719.7,
          3882.1,
          3481.300000000001,
          4636.3,
          3357.8,
          3188.8,
          3953.5,
          3708.000000000002,
          3779.8,
          3351.4,
          3111.7,
          2793.2,
          3071.9,
          3069.8,
          3470.9,
          3837.3,
          3860.300000000001,
          3206.4,
          3862.000000000002,
          3686.7,
          3908.6,
          3137.1377719340185,
          4229.499999999999,
          3684.500000000002,
          3105.9000000000005,
          2619.7000000000007,
          2947.6,
          772.9000000000003,
          716.1,
          928.5,
          578.6,
          506.3,
          783.9,
          746.6999999999997,
          595.1,
          675.8000000000002,
          759.5,
          510,
          758.8,
          572.3,
          824.9000000000003,
          753.3,
          1087.9,
          823.9,
          528.1,
          727.0999999999997,
          470.4,
          583,
          508.9,
          602.6999999999998,
          591.1999999999998,
          642.8,
          580.9999999999999,
          680.8000000000002,
          768.6,
          598.1,
          632.5999999999998,
          719.2,
          808.6999999999997,
          947.2,
          591.0999999999998,
          714.9000000000003,
          564.6,
          552.4,
          815.1,
          653.9000000000002,
          736.7,
          535.6999999999998,
          585.5,
          879.2,
          722.1999999999997,
          544,
          809,
          786.4,
          778.6,
          763.3000000000003,
          706.4,
          708.4,
          628.6,
          891.0999999999997,
          683.3000000000002,
          967.1,
          1038.9,
          837.9,
          751.9000000000003,
          698.5000000000001,
          691.5999999999997,
          748.6,
          838.8999999999999,
          783.2,
          899.8,
          632.7999999999997,
          723.5999999999997,
          645.8,
          727.3,
          729.3,
          790.6000000000001,
          612.1,
          499.3,
          750.7,
          817.1,
          1093.6999999999996,
          561.4,
          849.9,
          904.8,
          963.2,
          691.6999999999997,
          877.2,
          681.3999999999999,
          777.8,
          618.2,
          501.1,
          620.4,
          747.0999999999997,
          795.6,
          676.0999999999998,
          719,
          720,
          668.3,
          731.8,
          643.1000000000001,
          662.4000000000002,
          811.8000000000003,
          1095.6999999999996,
          852.5999999999997,
          660.8,
          712.5,
          597.9,
          530.4,
          473.5,
          641.9,
          807.6,
          650.5000000000001,
          836.8000000000003,
          712.4,
          913.4,
          853.1000000000001,
          655.1,
          583.8,
          723.4000000000003,
          756.6999999999997,
          551.9000000000002,
          625.0000000000001,
          739.5999999999997,
          1002.9,
          1020.2,
          1269.8999999999996,
          845.9,
          759.4999999999999,
          1004.7,
          998.4,
          790.1000000000001,
          1087.3,
          1157.1,
          906.2999999999996,
          1149.8999999999996,
          876.3000000000003,
          926.7,
          1031.7000000000005,
          1230.6,
          1094.3,
          733.4,
          1011.3,
          828.8,
          986.1,
          897.1000000000001,
          990.4,
          1127.1,
          982.4,
          897.0000000000001,
          863.8000000000003,
          950.4,
          1035,
          993.4,
          1012.5,
          1270.1999999999996,
          1329,
          786.3,
          954.7,
          958.3,
          911.1,
          871.4,
          1024.5,
          1180.0000000000002,
          937.6,
          932.8,
          1137.1,
          1025.6,
          792.4000000000003,
          1245.1,
          958.3000000000004,
          1074.1,
          876.4999999999999,
          956.4,
          925.3,
          871.8000000000003,
          1256,
          1031.1,
          1002,
          1243.6,
          1064.8,
          1209.9,
          1280.8000000000004,
          990.1,
          1409.5,
          1306.9,
          992.9,
          1169.4,
          735.1,
          1010.9,
          940.2,
          1001,
          1106.5,
          1073.9,
          1020.2,
          1064.1,
          1086.5,
          1051.4,
          1334.3,
          761.3000000000003,
          1207.7999999999995,
          1231.4999999999998,
          1120.7000000000005,
          1225,
          1184.5,
          1003.5,
          1111.1,
          1063.9,
          859.4,
          1030.2,
          934.6,
          1022.2,
          913.4,
          848.5,
          1221.1999999999996,
          1201.1,
          1038.1,
          1157.6999999999996,
          883.2,
          1044.1,
          1180.0999999999997,
          1113,
          1149.7,
          1207.3,
          926.4,
          755.8,
          762.7,
          1133.5,
          1319.3,
          1030.5,
          1231,
          1140.6,
          1158.4,
          1239.8,
          1087.3000000000004,
          878,
          1110.6,
          1184.1,
          1112.5,
          687.4,
          1061.8,
          3248.6000000000013,
          3326.5000000000005,
          3271.4,
          3129.6000000000013,
          2741.7,
          2708.1,
          3670.9,
          2648.300000000001,
          3050.1,
          2848.6,
          2726.8,
          3451.3,
          2610.7000000000007,
          2899.2,
          3024.700000000001,
          2945.4000000000005,
          2704.8,
          2501.9,
          3003.0999999999995,
          3303.2,
          2720,
          3267.7,
          3484.9,
          4226.299999999998,
          3062.200000000001,
          2965.4,
          2994.8,
          2502.7,
          3361.6000000000013,
          3018,
          3259.5,
          3403.1000000000013,
          4072.8,
          2410.7000000000007,
          2498.1,
          3043.0999999999995,
          2818.1,
          2634.1,
          2937.5,
          3117.8,
          3111.2,
          3051,
          3464.3,
          2489.9,
          2432.3,
          3565.5000000000005,
          2998,
          3039.2,
          2942.5,
          3146.7,
          2705.6,
          2334.8,
          2544.8,
          2937.9,
          3134.6,
          2798.3,
          3103.200000000001,
          2923.1,
          3746.2,
          3385.6,
          4257.9,
          3375.8,
          2651,
          2869.2,
          2342.4999999999995,
          2621.8,
          2569.1,
          3392.700000000001,
          2664.9,
          2703.3,
          3076.700000000001,
          2739.2000000000007,
          2412.4,
          2767.4999999999995,
          3498.4,
          2068.8,
          3047.6,
          3176.7,
          2503.100000000001,
          2803.4000000000005,
          3005.8,
          2223.3,
          2320.4999999999995,
          2762.2,
          2390.8,
          2093.4,
          2137.6,
          2403.4,
          2422.6,
          2693.3,
          3184.5000000000005,
          3239.3999999999987,
          2717.7,
          3410.8,
          2858.8,
          2609.9,
          3252.5,
          3151.4,
          2914.700000000001,
          2412.4999999999995,
          2931,
          2507.5,
          2394.8,
          2886,
          3031.2,
          3420.6000000000013,
          3489.6000000000013,
          2524.7000000000007,
          2810.7,
          3131.9,
          3035.2999999999997,
          2151.2000000000007,
          3255.5,
          3046.6,
          2600.7,
          1870.8,
          2664.8,
          1459.2,
          2158.8,
          1437.9255424191683,
          1176.9,
          1574.9,
          1811.6,
          1458.8000000000006,
          1959.1,
          1463.4999999999998,
          1849.2,
          1687.6999999999994,
          1654.9,
          1518.5,
          2034,
          1545.4999999999998,
          1398.5,
          1461.5872568360262,
          1926.5,
          2072.5043738049712,
          1589.4118631906244,
          1928.5,
          1572.2000000000005,
          1972,
          1676.9,
          1836.2000000000005,
          1413.0040352421345,
          1434.2955034680697,
          1562.1906848659005,
          1258.4,
          1625.8377719340183,
          1893.7,
          2314.1,
          1087.9,
          1529.2000000000005,
          1744.0999999999997,
          1443.6,
          1547.5999999999997,
          1207.3,
          1406.6999999999994,
          1163.4,
          1786.2,
          1992.8817116901744,
          1668.1000000000006,
          1321.2999999999995,
          1362.2722697437632,
          1755.9000000000003,
          1325.3,
          1794.6906848659005,
          1494.1,
          1715.3,
          1124.5,
          1606.2,
          1555.5,
          1548.3000000000006,
          1287.4,
          1347.2,
          992.6,
          1583.6,
          1901.8,
          2235.3,
          1586.6,
          1902.1,
          1651.7,
          1405.9,
          1741.5,
          1287.3,
          1344.4000000000003,
          1416.1,
          1783.0000000000002,
          1901.4,
          1287.6,
          1557.4,
          1511.3,
          1890.5,
          1502.0999999999997,
          1848.2,
          1967.4,
          1825.4,
          1211.6999999999996,
          1617.4,
          1392.0000000000002,
          1403.2,
          1591.6,
          1303.4,
          1465.9,
          1288.6,
          1450.8000000000006,
          1714.4,
          1310.5,
          1583,
          1534.9,
          1449.7,
          1547.1,
          2030.9,
          1606,
          1764.7,
          1986.9,
          1857.3,
          1372.1,
          1380.6,
          1033.5,
          1532.9,
          1553.2,
          1575.4,
          1598.6,
          2361.6,
          1726.8,
          1570.1,
          1725.2000000000005,
          1533.7000000000005,
          1405.5,
          1426.3,
          1395,
          1642.9,
          1065.7
         ],
         "yaxis": "y"
        }
       ],
       "layout": {
        "annotations": [
         {
          "showarrow": false,
          "text": "Average Rain = 1415",
          "x": 0.1,
          "xref": "paper",
          "y": 1,
          "yref": "paper"
         }
        ],
        "legend": {
         "title": {
          "text": "variable"
         },
         "tracegroupgap": 0
        },
        "template": {
         "data": {
          "bar": [
           {
            "error_x": {
             "color": "#2a3f5f"
            },
            "error_y": {
             "color": "#2a3f5f"
            },
            "marker": {
             "line": {
              "color": "#E5ECF6",
              "width": 0.5
             },
             "pattern": {
              "fillmode": "overlay",
              "size": 10,
              "solidity": 0.2
             }
            },
            "type": "bar"
           }
          ],
          "barpolar": [
           {
            "marker": {
             "line": {
              "color": "#E5ECF6",
              "width": 0.5
             },
             "pattern": {
              "fillmode": "overlay",
              "size": 10,
              "solidity": 0.2
             }
            },
            "type": "barpolar"
           }
          ],
          "carpet": [
           {
            "aaxis": {
             "endlinecolor": "#2a3f5f",
             "gridcolor": "white",
             "linecolor": "white",
             "minorgridcolor": "white",
             "startlinecolor": "#2a3f5f"
            },
            "baxis": {
             "endlinecolor": "#2a3f5f",
             "gridcolor": "white",
             "linecolor": "white",
             "minorgridcolor": "white",
             "startlinecolor": "#2a3f5f"
            },
            "type": "carpet"
           }
          ],
          "choropleth": [
           {
            "colorbar": {
             "outlinewidth": 0,
             "ticks": ""
            },
            "type": "choropleth"
           }
          ],
          "contour": [
           {
            "colorbar": {
             "outlinewidth": 0,
             "ticks": ""
            },
            "colorscale": [
             [
              0,
              "#0d0887"
             ],
             [
              0.1111111111111111,
              "#46039f"
             ],
             [
              0.2222222222222222,
              "#7201a8"
             ],
             [
              0.3333333333333333,
              "#9c179e"
             ],
             [
              0.4444444444444444,
              "#bd3786"
             ],
             [
              0.5555555555555556,
              "#d8576b"
             ],
             [
              0.6666666666666666,
              "#ed7953"
             ],
             [
              0.7777777777777778,
              "#fb9f3a"
             ],
             [
              0.8888888888888888,
              "#fdca26"
             ],
             [
              1,
              "#f0f921"
             ]
            ],
            "type": "contour"
           }
          ],
          "contourcarpet": [
           {
            "colorbar": {
             "outlinewidth": 0,
             "ticks": ""
            },
            "type": "contourcarpet"
           }
          ],
          "heatmap": [
           {
            "colorbar": {
             "outlinewidth": 0,
             "ticks": ""
            },
            "colorscale": [
             [
              0,
              "#0d0887"
             ],
             [
              0.1111111111111111,
              "#46039f"
             ],
             [
              0.2222222222222222,
              "#7201a8"
             ],
             [
              0.3333333333333333,
              "#9c179e"
             ],
             [
              0.4444444444444444,
              "#bd3786"
             ],
             [
              0.5555555555555556,
              "#d8576b"
             ],
             [
              0.6666666666666666,
              "#ed7953"
             ],
             [
              0.7777777777777778,
              "#fb9f3a"
             ],
             [
              0.8888888888888888,
              "#fdca26"
             ],
             [
              1,
              "#f0f921"
             ]
            ],
            "type": "heatmap"
           }
          ],
          "heatmapgl": [
           {
            "colorbar": {
             "outlinewidth": 0,
             "ticks": ""
            },
            "colorscale": [
             [
              0,
              "#0d0887"
             ],
             [
              0.1111111111111111,
              "#46039f"
             ],
             [
              0.2222222222222222,
              "#7201a8"
             ],
             [
              0.3333333333333333,
              "#9c179e"
             ],
             [
              0.4444444444444444,
              "#bd3786"
             ],
             [
              0.5555555555555556,
              "#d8576b"
             ],
             [
              0.6666666666666666,
              "#ed7953"
             ],
             [
              0.7777777777777778,
              "#fb9f3a"
             ],
             [
              0.8888888888888888,
              "#fdca26"
             ],
             [
              1,
              "#f0f921"
             ]
            ],
            "type": "heatmapgl"
           }
          ],
          "histogram": [
           {
            "marker": {
             "pattern": {
              "fillmode": "overlay",
              "size": 10,
              "solidity": 0.2
             }
            },
            "type": "histogram"
           }
          ],
          "histogram2d": [
           {
            "colorbar": {
             "outlinewidth": 0,
             "ticks": ""
            },
            "colorscale": [
             [
              0,
              "#0d0887"
             ],
             [
              0.1111111111111111,
              "#46039f"
             ],
             [
              0.2222222222222222,
              "#7201a8"
             ],
             [
              0.3333333333333333,
              "#9c179e"
             ],
             [
              0.4444444444444444,
              "#bd3786"
             ],
             [
              0.5555555555555556,
              "#d8576b"
             ],
             [
              0.6666666666666666,
              "#ed7953"
             ],
             [
              0.7777777777777778,
              "#fb9f3a"
             ],
             [
              0.8888888888888888,
              "#fdca26"
             ],
             [
              1,
              "#f0f921"
             ]
            ],
            "type": "histogram2d"
           }
          ],
          "histogram2dcontour": [
           {
            "colorbar": {
             "outlinewidth": 0,
             "ticks": ""
            },
            "colorscale": [
             [
              0,
              "#0d0887"
             ],
             [
              0.1111111111111111,
              "#46039f"
             ],
             [
              0.2222222222222222,
              "#7201a8"
             ],
             [
              0.3333333333333333,
              "#9c179e"
             ],
             [
              0.4444444444444444,
              "#bd3786"
             ],
             [
              0.5555555555555556,
              "#d8576b"
             ],
             [
              0.6666666666666666,
              "#ed7953"
             ],
             [
              0.7777777777777778,
              "#fb9f3a"
             ],
             [
              0.8888888888888888,
              "#fdca26"
             ],
             [
              1,
              "#f0f921"
             ]
            ],
            "type": "histogram2dcontour"
           }
          ],
          "mesh3d": [
           {
            "colorbar": {
             "outlinewidth": 0,
             "ticks": ""
            },
            "type": "mesh3d"
           }
          ],
          "parcoords": [
           {
            "line": {
             "colorbar": {
              "outlinewidth": 0,
              "ticks": ""
             }
            },
            "type": "parcoords"
           }
          ],
          "pie": [
           {
            "automargin": true,
            "type": "pie"
           }
          ],
          "scatter": [
           {
            "fillpattern": {
             "fillmode": "overlay",
             "size": 10,
             "solidity": 0.2
            },
            "type": "scatter"
           }
          ],
          "scatter3d": [
           {
            "line": {
             "colorbar": {
              "outlinewidth": 0,
              "ticks": ""
             }
            },
            "marker": {
             "colorbar": {
              "outlinewidth": 0,
              "ticks": ""
             }
            },
            "type": "scatter3d"
           }
          ],
          "scattercarpet": [
           {
            "marker": {
             "colorbar": {
              "outlinewidth": 0,
              "ticks": ""
             }
            },
            "type": "scattercarpet"
           }
          ],
          "scattergeo": [
           {
            "marker": {
             "colorbar": {
              "outlinewidth": 0,
              "ticks": ""
             }
            },
            "type": "scattergeo"
           }
          ],
          "scattergl": [
           {
            "marker": {
             "colorbar": {
              "outlinewidth": 0,
              "ticks": ""
             }
            },
            "type": "scattergl"
           }
          ],
          "scattermapbox": [
           {
            "marker": {
             "colorbar": {
              "outlinewidth": 0,
              "ticks": ""
             }
            },
            "type": "scattermapbox"
           }
          ],
          "scatterpolar": [
           {
            "marker": {
             "colorbar": {
              "outlinewidth": 0,
              "ticks": ""
             }
            },
            "type": "scatterpolar"
           }
          ],
          "scatterpolargl": [
           {
            "marker": {
             "colorbar": {
              "outlinewidth": 0,
              "ticks": ""
             }
            },
            "type": "scatterpolargl"
           }
          ],
          "scatterternary": [
           {
            "marker": {
             "colorbar": {
              "outlinewidth": 0,
              "ticks": ""
             }
            },
            "type": "scatterternary"
           }
          ],
          "surface": [
           {
            "colorbar": {
             "outlinewidth": 0,
             "ticks": ""
            },
            "colorscale": [
             [
              0,
              "#0d0887"
             ],
             [
              0.1111111111111111,
              "#46039f"
             ],
             [
              0.2222222222222222,
              "#7201a8"
             ],
             [
              0.3333333333333333,
              "#9c179e"
             ],
             [
              0.4444444444444444,
              "#bd3786"
             ],
             [
              0.5555555555555556,
              "#d8576b"
             ],
             [
              0.6666666666666666,
              "#ed7953"
             ],
             [
              0.7777777777777778,
              "#fb9f3a"
             ],
             [
              0.8888888888888888,
              "#fdca26"
             ],
             [
              1,
              "#f0f921"
             ]
            ],
            "type": "surface"
           }
          ],
          "table": [
           {
            "cells": {
             "fill": {
              "color": "#EBF0F8"
             },
             "line": {
              "color": "white"
             }
            },
            "header": {
             "fill": {
              "color": "#C8D4E3"
             },
             "line": {
              "color": "white"
             }
            },
            "type": "table"
           }
          ]
         },
         "layout": {
          "annotationdefaults": {
           "arrowcolor": "#2a3f5f",
           "arrowhead": 0,
           "arrowwidth": 1
          },
          "autotypenumbers": "strict",
          "coloraxis": {
           "colorbar": {
            "outlinewidth": 0,
            "ticks": ""
           }
          },
          "colorscale": {
           "diverging": [
            [
             0,
             "#8e0152"
            ],
            [
             0.1,
             "#c51b7d"
            ],
            [
             0.2,
             "#de77ae"
            ],
            [
             0.3,
             "#f1b6da"
            ],
            [
             0.4,
             "#fde0ef"
            ],
            [
             0.5,
             "#f7f7f7"
            ],
            [
             0.6,
             "#e6f5d0"
            ],
            [
             0.7,
             "#b8e186"
            ],
            [
             0.8,
             "#7fbc41"
            ],
            [
             0.9,
             "#4d9221"
            ],
            [
             1,
             "#276419"
            ]
           ],
           "sequential": [
            [
             0,
             "#0d0887"
            ],
            [
             0.1111111111111111,
             "#46039f"
            ],
            [
             0.2222222222222222,
             "#7201a8"
            ],
            [
             0.3333333333333333,
             "#9c179e"
            ],
            [
             0.4444444444444444,
             "#bd3786"
            ],
            [
             0.5555555555555556,
             "#d8576b"
            ],
            [
             0.6666666666666666,
             "#ed7953"
            ],
            [
             0.7777777777777778,
             "#fb9f3a"
            ],
            [
             0.8888888888888888,
             "#fdca26"
            ],
            [
             1,
             "#f0f921"
            ]
           ],
           "sequentialminus": [
            [
             0,
             "#0d0887"
            ],
            [
             0.1111111111111111,
             "#46039f"
            ],
            [
             0.2222222222222222,
             "#7201a8"
            ],
            [
             0.3333333333333333,
             "#9c179e"
            ],
            [
             0.4444444444444444,
             "#bd3786"
            ],
            [
             0.5555555555555556,
             "#d8576b"
            ],
            [
             0.6666666666666666,
             "#ed7953"
            ],
            [
             0.7777777777777778,
             "#fb9f3a"
            ],
            [
             0.8888888888888888,
             "#fdca26"
            ],
            [
             1,
             "#f0f921"
            ]
           ]
          },
          "colorway": [
           "#636efa",
           "#EF553B",
           "#00cc96",
           "#ab63fa",
           "#FFA15A",
           "#19d3f3",
           "#FF6692",
           "#B6E880",
           "#FF97FF",
           "#FECB52"
          ],
          "font": {
           "color": "#2a3f5f"
          },
          "geo": {
           "bgcolor": "white",
           "lakecolor": "white",
           "landcolor": "#E5ECF6",
           "showlakes": true,
           "showland": true,
           "subunitcolor": "white"
          },
          "hoverlabel": {
           "align": "left"
          },
          "hovermode": "closest",
          "mapbox": {
           "style": "light"
          },
          "paper_bgcolor": "white",
          "plot_bgcolor": "#E5ECF6",
          "polar": {
           "angularaxis": {
            "gridcolor": "white",
            "linecolor": "white",
            "ticks": ""
           },
           "bgcolor": "#E5ECF6",
           "radialaxis": {
            "gridcolor": "white",
            "linecolor": "white",
            "ticks": ""
           }
          },
          "scene": {
           "xaxis": {
            "backgroundcolor": "#E5ECF6",
            "gridcolor": "white",
            "gridwidth": 2,
            "linecolor": "white",
            "showbackground": true,
            "ticks": "",
            "zerolinecolor": "white"
           },
           "yaxis": {
            "backgroundcolor": "#E5ECF6",
            "gridcolor": "white",
            "gridwidth": 2,
            "linecolor": "white",
            "showbackground": true,
            "ticks": "",
            "zerolinecolor": "white"
           },
           "zaxis": {
            "backgroundcolor": "#E5ECF6",
            "gridcolor": "white",
            "gridwidth": 2,
            "linecolor": "white",
            "showbackground": true,
            "ticks": "",
            "zerolinecolor": "white"
           }
          },
          "shapedefaults": {
           "line": {
            "color": "#2a3f5f"
           }
          },
          "ternary": {
           "aaxis": {
            "gridcolor": "white",
            "linecolor": "white",
            "ticks": ""
           },
           "baxis": {
            "gridcolor": "white",
            "linecolor": "white",
            "ticks": ""
           },
           "bgcolor": "#E5ECF6",
           "caxis": {
            "gridcolor": "white",
            "linecolor": "white",
            "ticks": ""
           }
          },
          "title": {
           "x": 0.05
          },
          "xaxis": {
           "automargin": true,
           "gridcolor": "white",
           "linecolor": "white",
           "ticks": "",
           "title": {
            "standoff": 15
           },
           "zerolinecolor": "white",
           "zerolinewidth": 2
          },
          "yaxis": {
           "automargin": true,
           "gridcolor": "white",
           "linecolor": "white",
           "ticks": "",
           "title": {
            "standoff": 15
           },
           "zerolinecolor": "white",
           "zerolinewidth": 2
          }
         }
        },
        "title": {
         "text": "Average Rainfall "
        },
        "xaxis": {
         "anchor": "y",
         "domain": [
          0,
          1
         ],
         "title": {
          "text": "SUBDIVISION"
         }
        },
        "yaxis": {
         "anchor": "x",
         "domain": [
          0,
          1
         ],
         "title": {
          "text": "value"
         }
        }
       }
      }
     },
     "metadata": {},
     "output_type": "display_data"
    }
   ],
   "source": [
    "fig = px.area(rain, x='SUBDIVISION', y=['ANNUAL'], title='Average Rainfall ')\n",
    "mean_rainfall = rain['ANNUAL'].mean()\n",
    "fig.add_annotation(xref='paper', yref='paper', x=0.1, y=1, text=f\"Average Rain = {mean_rainfall:.0f}\",showarrow=False)\n",
    "fig.show()"
   ]
  },
  {
   "cell_type": "code",
   "execution_count": 77,
   "metadata": {},
   "outputs": [
    {
     "data": {
      "application/vnd.plotly.v1+json": {
       "config": {
        "plotlyServerURL": "https://plot.ly"
       },
       "data": [
        {
         "alignmentgroup": "True",
         "hovertemplate": "SUBDIVISION=%{x}<br>ANNUAL=%{y}<extra></extra>",
         "legendgroup": "",
         "marker": {
          "color": "#636efa",
          "pattern": {
           "shape": ""
          }
         },
         "name": "",
         "offsetgroup": "",
         "orientation": "v",
         "showlegend": false,
         "textposition": "auto",
         "type": "bar",
         "x": [
          "Andaman & Nicobar Islands",
          "Arunachal Pradesh",
          "Assam & Meghalaya",
          "Bihar",
          "Chhattisgarh",
          "Coastal Andhra Pradesh",
          "Coastal Karnataka",
          "East Madhya Pradesh",
          "East Rajasthan",
          "East Uttar Pradesh",
          "Gangetic West Bengal",
          "Gujarat Region",
          "Haryana Delhi & Chandigarh",
          "Himachal Pradesh",
          "Jammu & Kashmir",
          "Jharkhand",
          "Kerala",
          "Konkan & Goa",
          "Lakshadweep",
          "Madhya Maharashtra",
          "Matathwada",
          "Naga Mani Mizo Tripura",
          "North Interior Karnataka",
          "Orissa",
          "Punjab",
          "Rayalseema",
          "Saurashtra & Kutch",
          "South Interior Karnataka",
          "Sub Himalayan West Bengal & Sikkim",
          "Tamil Nadu",
          "Telangana",
          "Uttarakhand",
          "Vidarbha",
          "West Madhya Pradesh",
          "West Rajasthan",
          "West Uttar Pradesh"
         ],
         "xaxis": "x",
         "y": [
          324990.8991800317,
          337666.5251477027,
          301758.60000000003,
          139998.3,
          160189.6,
          122885.6,
          397264.7377719341,
          140755.5,
          76810.1,
          114175.6,
          174402.5,
          107381.8,
          61826.8,
          147042.8,
          133209.48932232347,
          152999.8,
          340968,
          349540.2,
          182673.60169806075,
          103126.2,
          92632.59999999999,
          284630.10000000003,
          83910.9,
          170287.6,
          69198.7,
          89503.59999999999,
          58076.5,
          121392.9,
          321813,
          110036.9,
          111496.9,
          171339.1,
          127945,
          110157.20437380497,
          34411.5,
          96396
         ],
         "yaxis": "y"
        }
       ],
       "layout": {
        "annotations": [
         {
          "bgcolor": "grey",
          "font": {
           "size": 12
          },
          "showarrow": false,
          "text": "The graph shows rainfall from every State and UT.",
          "x": 0.5,
          "xref": "paper",
          "y": 1,
          "yref": "paper"
         }
        ],
        "barmode": "relative",
        "legend": {
         "tracegroupgap": 0
        },
        "template": {
         "data": {
          "bar": [
           {
            "error_x": {
             "color": "#2a3f5f"
            },
            "error_y": {
             "color": "#2a3f5f"
            },
            "marker": {
             "line": {
              "color": "#E5ECF6",
              "width": 0.5
             },
             "pattern": {
              "fillmode": "overlay",
              "size": 10,
              "solidity": 0.2
             }
            },
            "type": "bar"
           }
          ],
          "barpolar": [
           {
            "marker": {
             "line": {
              "color": "#E5ECF6",
              "width": 0.5
             },
             "pattern": {
              "fillmode": "overlay",
              "size": 10,
              "solidity": 0.2
             }
            },
            "type": "barpolar"
           }
          ],
          "carpet": [
           {
            "aaxis": {
             "endlinecolor": "#2a3f5f",
             "gridcolor": "white",
             "linecolor": "white",
             "minorgridcolor": "white",
             "startlinecolor": "#2a3f5f"
            },
            "baxis": {
             "endlinecolor": "#2a3f5f",
             "gridcolor": "white",
             "linecolor": "white",
             "minorgridcolor": "white",
             "startlinecolor": "#2a3f5f"
            },
            "type": "carpet"
           }
          ],
          "choropleth": [
           {
            "colorbar": {
             "outlinewidth": 0,
             "ticks": ""
            },
            "type": "choropleth"
           }
          ],
          "contour": [
           {
            "colorbar": {
             "outlinewidth": 0,
             "ticks": ""
            },
            "colorscale": [
             [
              0,
              "#0d0887"
             ],
             [
              0.1111111111111111,
              "#46039f"
             ],
             [
              0.2222222222222222,
              "#7201a8"
             ],
             [
              0.3333333333333333,
              "#9c179e"
             ],
             [
              0.4444444444444444,
              "#bd3786"
             ],
             [
              0.5555555555555556,
              "#d8576b"
             ],
             [
              0.6666666666666666,
              "#ed7953"
             ],
             [
              0.7777777777777778,
              "#fb9f3a"
             ],
             [
              0.8888888888888888,
              "#fdca26"
             ],
             [
              1,
              "#f0f921"
             ]
            ],
            "type": "contour"
           }
          ],
          "contourcarpet": [
           {
            "colorbar": {
             "outlinewidth": 0,
             "ticks": ""
            },
            "type": "contourcarpet"
           }
          ],
          "heatmap": [
           {
            "colorbar": {
             "outlinewidth": 0,
             "ticks": ""
            },
            "colorscale": [
             [
              0,
              "#0d0887"
             ],
             [
              0.1111111111111111,
              "#46039f"
             ],
             [
              0.2222222222222222,
              "#7201a8"
             ],
             [
              0.3333333333333333,
              "#9c179e"
             ],
             [
              0.4444444444444444,
              "#bd3786"
             ],
             [
              0.5555555555555556,
              "#d8576b"
             ],
             [
              0.6666666666666666,
              "#ed7953"
             ],
             [
              0.7777777777777778,
              "#fb9f3a"
             ],
             [
              0.8888888888888888,
              "#fdca26"
             ],
             [
              1,
              "#f0f921"
             ]
            ],
            "type": "heatmap"
           }
          ],
          "heatmapgl": [
           {
            "colorbar": {
             "outlinewidth": 0,
             "ticks": ""
            },
            "colorscale": [
             [
              0,
              "#0d0887"
             ],
             [
              0.1111111111111111,
              "#46039f"
             ],
             [
              0.2222222222222222,
              "#7201a8"
             ],
             [
              0.3333333333333333,
              "#9c179e"
             ],
             [
              0.4444444444444444,
              "#bd3786"
             ],
             [
              0.5555555555555556,
              "#d8576b"
             ],
             [
              0.6666666666666666,
              "#ed7953"
             ],
             [
              0.7777777777777778,
              "#fb9f3a"
             ],
             [
              0.8888888888888888,
              "#fdca26"
             ],
             [
              1,
              "#f0f921"
             ]
            ],
            "type": "heatmapgl"
           }
          ],
          "histogram": [
           {
            "marker": {
             "pattern": {
              "fillmode": "overlay",
              "size": 10,
              "solidity": 0.2
             }
            },
            "type": "histogram"
           }
          ],
          "histogram2d": [
           {
            "colorbar": {
             "outlinewidth": 0,
             "ticks": ""
            },
            "colorscale": [
             [
              0,
              "#0d0887"
             ],
             [
              0.1111111111111111,
              "#46039f"
             ],
             [
              0.2222222222222222,
              "#7201a8"
             ],
             [
              0.3333333333333333,
              "#9c179e"
             ],
             [
              0.4444444444444444,
              "#bd3786"
             ],
             [
              0.5555555555555556,
              "#d8576b"
             ],
             [
              0.6666666666666666,
              "#ed7953"
             ],
             [
              0.7777777777777778,
              "#fb9f3a"
             ],
             [
              0.8888888888888888,
              "#fdca26"
             ],
             [
              1,
              "#f0f921"
             ]
            ],
            "type": "histogram2d"
           }
          ],
          "histogram2dcontour": [
           {
            "colorbar": {
             "outlinewidth": 0,
             "ticks": ""
            },
            "colorscale": [
             [
              0,
              "#0d0887"
             ],
             [
              0.1111111111111111,
              "#46039f"
             ],
             [
              0.2222222222222222,
              "#7201a8"
             ],
             [
              0.3333333333333333,
              "#9c179e"
             ],
             [
              0.4444444444444444,
              "#bd3786"
             ],
             [
              0.5555555555555556,
              "#d8576b"
             ],
             [
              0.6666666666666666,
              "#ed7953"
             ],
             [
              0.7777777777777778,
              "#fb9f3a"
             ],
             [
              0.8888888888888888,
              "#fdca26"
             ],
             [
              1,
              "#f0f921"
             ]
            ],
            "type": "histogram2dcontour"
           }
          ],
          "mesh3d": [
           {
            "colorbar": {
             "outlinewidth": 0,
             "ticks": ""
            },
            "type": "mesh3d"
           }
          ],
          "parcoords": [
           {
            "line": {
             "colorbar": {
              "outlinewidth": 0,
              "ticks": ""
             }
            },
            "type": "parcoords"
           }
          ],
          "pie": [
           {
            "automargin": true,
            "type": "pie"
           }
          ],
          "scatter": [
           {
            "fillpattern": {
             "fillmode": "overlay",
             "size": 10,
             "solidity": 0.2
            },
            "type": "scatter"
           }
          ],
          "scatter3d": [
           {
            "line": {
             "colorbar": {
              "outlinewidth": 0,
              "ticks": ""
             }
            },
            "marker": {
             "colorbar": {
              "outlinewidth": 0,
              "ticks": ""
             }
            },
            "type": "scatter3d"
           }
          ],
          "scattercarpet": [
           {
            "marker": {
             "colorbar": {
              "outlinewidth": 0,
              "ticks": ""
             }
            },
            "type": "scattercarpet"
           }
          ],
          "scattergeo": [
           {
            "marker": {
             "colorbar": {
              "outlinewidth": 0,
              "ticks": ""
             }
            },
            "type": "scattergeo"
           }
          ],
          "scattergl": [
           {
            "marker": {
             "colorbar": {
              "outlinewidth": 0,
              "ticks": ""
             }
            },
            "type": "scattergl"
           }
          ],
          "scattermapbox": [
           {
            "marker": {
             "colorbar": {
              "outlinewidth": 0,
              "ticks": ""
             }
            },
            "type": "scattermapbox"
           }
          ],
          "scatterpolar": [
           {
            "marker": {
             "colorbar": {
              "outlinewidth": 0,
              "ticks": ""
             }
            },
            "type": "scatterpolar"
           }
          ],
          "scatterpolargl": [
           {
            "marker": {
             "colorbar": {
              "outlinewidth": 0,
              "ticks": ""
             }
            },
            "type": "scatterpolargl"
           }
          ],
          "scatterternary": [
           {
            "marker": {
             "colorbar": {
              "outlinewidth": 0,
              "ticks": ""
             }
            },
            "type": "scatterternary"
           }
          ],
          "surface": [
           {
            "colorbar": {
             "outlinewidth": 0,
             "ticks": ""
            },
            "colorscale": [
             [
              0,
              "#0d0887"
             ],
             [
              0.1111111111111111,
              "#46039f"
             ],
             [
              0.2222222222222222,
              "#7201a8"
             ],
             [
              0.3333333333333333,
              "#9c179e"
             ],
             [
              0.4444444444444444,
              "#bd3786"
             ],
             [
              0.5555555555555556,
              "#d8576b"
             ],
             [
              0.6666666666666666,
              "#ed7953"
             ],
             [
              0.7777777777777778,
              "#fb9f3a"
             ],
             [
              0.8888888888888888,
              "#fdca26"
             ],
             [
              1,
              "#f0f921"
             ]
            ],
            "type": "surface"
           }
          ],
          "table": [
           {
            "cells": {
             "fill": {
              "color": "#EBF0F8"
             },
             "line": {
              "color": "white"
             }
            },
            "header": {
             "fill": {
              "color": "#C8D4E3"
             },
             "line": {
              "color": "white"
             }
            },
            "type": "table"
           }
          ]
         },
         "layout": {
          "annotationdefaults": {
           "arrowcolor": "#2a3f5f",
           "arrowhead": 0,
           "arrowwidth": 1
          },
          "autotypenumbers": "strict",
          "coloraxis": {
           "colorbar": {
            "outlinewidth": 0,
            "ticks": ""
           }
          },
          "colorscale": {
           "diverging": [
            [
             0,
             "#8e0152"
            ],
            [
             0.1,
             "#c51b7d"
            ],
            [
             0.2,
             "#de77ae"
            ],
            [
             0.3,
             "#f1b6da"
            ],
            [
             0.4,
             "#fde0ef"
            ],
            [
             0.5,
             "#f7f7f7"
            ],
            [
             0.6,
             "#e6f5d0"
            ],
            [
             0.7,
             "#b8e186"
            ],
            [
             0.8,
             "#7fbc41"
            ],
            [
             0.9,
             "#4d9221"
            ],
            [
             1,
             "#276419"
            ]
           ],
           "sequential": [
            [
             0,
             "#0d0887"
            ],
            [
             0.1111111111111111,
             "#46039f"
            ],
            [
             0.2222222222222222,
             "#7201a8"
            ],
            [
             0.3333333333333333,
             "#9c179e"
            ],
            [
             0.4444444444444444,
             "#bd3786"
            ],
            [
             0.5555555555555556,
             "#d8576b"
            ],
            [
             0.6666666666666666,
             "#ed7953"
            ],
            [
             0.7777777777777778,
             "#fb9f3a"
            ],
            [
             0.8888888888888888,
             "#fdca26"
            ],
            [
             1,
             "#f0f921"
            ]
           ],
           "sequentialminus": [
            [
             0,
             "#0d0887"
            ],
            [
             0.1111111111111111,
             "#46039f"
            ],
            [
             0.2222222222222222,
             "#7201a8"
            ],
            [
             0.3333333333333333,
             "#9c179e"
            ],
            [
             0.4444444444444444,
             "#bd3786"
            ],
            [
             0.5555555555555556,
             "#d8576b"
            ],
            [
             0.6666666666666666,
             "#ed7953"
            ],
            [
             0.7777777777777778,
             "#fb9f3a"
            ],
            [
             0.8888888888888888,
             "#fdca26"
            ],
            [
             1,
             "#f0f921"
            ]
           ]
          },
          "colorway": [
           "#636efa",
           "#EF553B",
           "#00cc96",
           "#ab63fa",
           "#FFA15A",
           "#19d3f3",
           "#FF6692",
           "#B6E880",
           "#FF97FF",
           "#FECB52"
          ],
          "font": {
           "color": "#2a3f5f"
          },
          "geo": {
           "bgcolor": "white",
           "lakecolor": "white",
           "landcolor": "#E5ECF6",
           "showlakes": true,
           "showland": true,
           "subunitcolor": "white"
          },
          "hoverlabel": {
           "align": "left"
          },
          "hovermode": "closest",
          "mapbox": {
           "style": "light"
          },
          "paper_bgcolor": "white",
          "plot_bgcolor": "#E5ECF6",
          "polar": {
           "angularaxis": {
            "gridcolor": "white",
            "linecolor": "white",
            "ticks": ""
           },
           "bgcolor": "#E5ECF6",
           "radialaxis": {
            "gridcolor": "white",
            "linecolor": "white",
            "ticks": ""
           }
          },
          "scene": {
           "xaxis": {
            "backgroundcolor": "#E5ECF6",
            "gridcolor": "white",
            "gridwidth": 2,
            "linecolor": "white",
            "showbackground": true,
            "ticks": "",
            "zerolinecolor": "white"
           },
           "yaxis": {
            "backgroundcolor": "#E5ECF6",
            "gridcolor": "white",
            "gridwidth": 2,
            "linecolor": "white",
            "showbackground": true,
            "ticks": "",
            "zerolinecolor": "white"
           },
           "zaxis": {
            "backgroundcolor": "#E5ECF6",
            "gridcolor": "white",
            "gridwidth": 2,
            "linecolor": "white",
            "showbackground": true,
            "ticks": "",
            "zerolinecolor": "white"
           }
          },
          "shapedefaults": {
           "line": {
            "color": "#2a3f5f"
           }
          },
          "ternary": {
           "aaxis": {
            "gridcolor": "white",
            "linecolor": "white",
            "ticks": ""
           },
           "baxis": {
            "gridcolor": "white",
            "linecolor": "white",
            "ticks": ""
           },
           "bgcolor": "#E5ECF6",
           "caxis": {
            "gridcolor": "white",
            "linecolor": "white",
            "ticks": ""
           }
          },
          "title": {
           "x": 0.05
          },
          "xaxis": {
           "automargin": true,
           "gridcolor": "white",
           "linecolor": "white",
           "ticks": "",
           "title": {
            "standoff": 15
           },
           "zerolinecolor": "white",
           "zerolinewidth": 2
          },
          "yaxis": {
           "automargin": true,
           "gridcolor": "white",
           "linecolor": "white",
           "ticks": "",
           "title": {
            "standoff": 15
           },
           "zerolinecolor": "white",
           "zerolinewidth": 2
          }
         }
        },
        "title": {
         "text": "Rainfall year-wise"
        },
        "xaxis": {
         "anchor": "y",
         "domain": [
          0,
          1
         ],
         "title": {
          "text": "SUBDIVISION"
         }
        },
        "yaxis": {
         "anchor": "x",
         "domain": [
          0,
          1
         ],
         "title": {
          "text": "ANNUAL"
         }
        }
       }
      }
     },
     "metadata": {},
     "output_type": "display_data"
    }
   ],
   "source": [
    "# rainfall state-wise\n",
    "fig = px.bar(grouped_obj, x=grouped_obj.index, y='ANNUAL', title='State-wise')\n",
    "conclusion = 'The graph shows rainfall from every State and UT.'\n",
    "fig.add_annotation(text=conclusion, xref='paper', yref='paper', x=.5, y=1, bgcolor='grey', showarrow=False, font=dict(size=12))\n",
    "fig.show()"
   ]
  },
  {
   "cell_type": "code",
   "execution_count": 68,
   "metadata": {},
   "outputs": [
    {
     "data": {
      "application/vnd.plotly.v1+json": {
       "config": {
        "plotlyServerURL": "https://plot.ly"
       },
       "data": [
        {
         "hovertemplate": "SUBDIVISION=%{x}<br>ANNUAL=%{y}<extra></extra>",
         "legendgroup": "",
         "line": {
          "color": "#636efa",
          "dash": "solid"
         },
         "marker": {
          "symbol": "circle"
         },
         "mode": "lines",
         "name": "",
         "orientation": "v",
         "showlegend": false,
         "type": "scatter",
         "x": [
          "Andaman & Nicobar Islands",
          "Arunachal Pradesh",
          "Assam & Meghalaya",
          "Bihar",
          "Chhattisgarh",
          "Coastal Andhra Pradesh",
          "Coastal Karnataka",
          "East Madhya Pradesh",
          "East Rajasthan",
          "East Uttar Pradesh",
          "Gangetic West Bengal",
          "Gujarat Region",
          "Haryana Delhi & Chandigarh",
          "Himachal Pradesh",
          "Jammu & Kashmir",
          "Jharkhand",
          "Kerala",
          "Konkan & Goa",
          "Lakshadweep",
          "Madhya Maharashtra",
          "Matathwada",
          "Naga Mani Mizo Tripura",
          "North Interior Karnataka",
          "Orissa",
          "Punjab",
          "Rayalseema",
          "Saurashtra & Kutch",
          "South Interior Karnataka",
          "Sub Himalayan West Bengal & Sikkim",
          "Tamil Nadu",
          "Telangana",
          "Uttarakhand",
          "Vidarbha",
          "West Madhya Pradesh",
          "West Rajasthan",
          "West Uttar Pradesh"
         ],
         "xaxis": "x",
         "y": [
          324990.8991800317,
          337666.5251477027,
          301758.60000000003,
          139998.3,
          160189.6,
          122885.6,
          397264.7377719341,
          140755.5,
          76810.1,
          114175.6,
          174402.5,
          107381.8,
          61826.8,
          147042.8,
          133209.48932232347,
          152999.8,
          340968,
          349540.2,
          182673.60169806075,
          103126.2,
          92632.59999999999,
          284630.10000000003,
          83910.9,
          170287.6,
          69198.7,
          89503.59999999999,
          58076.5,
          121392.9,
          321813,
          110036.9,
          111496.9,
          171339.1,
          127945,
          110157.20437380497,
          34411.5,
          96396
         ],
         "yaxis": "y"
        }
       ],
       "layout": {
        "annotations": [
         {
          "bgcolor": "grey",
          "font": {
           "size": 12
          },
          "showarrow": false,
          "text": "The graph shows rainfall from every State and UT.",
          "x": 0.5,
          "xref": "paper",
          "y": 1,
          "yref": "paper"
         }
        ],
        "legend": {
         "tracegroupgap": 0
        },
        "template": {
         "data": {
          "bar": [
           {
            "error_x": {
             "color": "#2a3f5f"
            },
            "error_y": {
             "color": "#2a3f5f"
            },
            "marker": {
             "line": {
              "color": "#E5ECF6",
              "width": 0.5
             },
             "pattern": {
              "fillmode": "overlay",
              "size": 10,
              "solidity": 0.2
             }
            },
            "type": "bar"
           }
          ],
          "barpolar": [
           {
            "marker": {
             "line": {
              "color": "#E5ECF6",
              "width": 0.5
             },
             "pattern": {
              "fillmode": "overlay",
              "size": 10,
              "solidity": 0.2
             }
            },
            "type": "barpolar"
           }
          ],
          "carpet": [
           {
            "aaxis": {
             "endlinecolor": "#2a3f5f",
             "gridcolor": "white",
             "linecolor": "white",
             "minorgridcolor": "white",
             "startlinecolor": "#2a3f5f"
            },
            "baxis": {
             "endlinecolor": "#2a3f5f",
             "gridcolor": "white",
             "linecolor": "white",
             "minorgridcolor": "white",
             "startlinecolor": "#2a3f5f"
            },
            "type": "carpet"
           }
          ],
          "choropleth": [
           {
            "colorbar": {
             "outlinewidth": 0,
             "ticks": ""
            },
            "type": "choropleth"
           }
          ],
          "contour": [
           {
            "colorbar": {
             "outlinewidth": 0,
             "ticks": ""
            },
            "colorscale": [
             [
              0,
              "#0d0887"
             ],
             [
              0.1111111111111111,
              "#46039f"
             ],
             [
              0.2222222222222222,
              "#7201a8"
             ],
             [
              0.3333333333333333,
              "#9c179e"
             ],
             [
              0.4444444444444444,
              "#bd3786"
             ],
             [
              0.5555555555555556,
              "#d8576b"
             ],
             [
              0.6666666666666666,
              "#ed7953"
             ],
             [
              0.7777777777777778,
              "#fb9f3a"
             ],
             [
              0.8888888888888888,
              "#fdca26"
             ],
             [
              1,
              "#f0f921"
             ]
            ],
            "type": "contour"
           }
          ],
          "contourcarpet": [
           {
            "colorbar": {
             "outlinewidth": 0,
             "ticks": ""
            },
            "type": "contourcarpet"
           }
          ],
          "heatmap": [
           {
            "colorbar": {
             "outlinewidth": 0,
             "ticks": ""
            },
            "colorscale": [
             [
              0,
              "#0d0887"
             ],
             [
              0.1111111111111111,
              "#46039f"
             ],
             [
              0.2222222222222222,
              "#7201a8"
             ],
             [
              0.3333333333333333,
              "#9c179e"
             ],
             [
              0.4444444444444444,
              "#bd3786"
             ],
             [
              0.5555555555555556,
              "#d8576b"
             ],
             [
              0.6666666666666666,
              "#ed7953"
             ],
             [
              0.7777777777777778,
              "#fb9f3a"
             ],
             [
              0.8888888888888888,
              "#fdca26"
             ],
             [
              1,
              "#f0f921"
             ]
            ],
            "type": "heatmap"
           }
          ],
          "heatmapgl": [
           {
            "colorbar": {
             "outlinewidth": 0,
             "ticks": ""
            },
            "colorscale": [
             [
              0,
              "#0d0887"
             ],
             [
              0.1111111111111111,
              "#46039f"
             ],
             [
              0.2222222222222222,
              "#7201a8"
             ],
             [
              0.3333333333333333,
              "#9c179e"
             ],
             [
              0.4444444444444444,
              "#bd3786"
             ],
             [
              0.5555555555555556,
              "#d8576b"
             ],
             [
              0.6666666666666666,
              "#ed7953"
             ],
             [
              0.7777777777777778,
              "#fb9f3a"
             ],
             [
              0.8888888888888888,
              "#fdca26"
             ],
             [
              1,
              "#f0f921"
             ]
            ],
            "type": "heatmapgl"
           }
          ],
          "histogram": [
           {
            "marker": {
             "pattern": {
              "fillmode": "overlay",
              "size": 10,
              "solidity": 0.2
             }
            },
            "type": "histogram"
           }
          ],
          "histogram2d": [
           {
            "colorbar": {
             "outlinewidth": 0,
             "ticks": ""
            },
            "colorscale": [
             [
              0,
              "#0d0887"
             ],
             [
              0.1111111111111111,
              "#46039f"
             ],
             [
              0.2222222222222222,
              "#7201a8"
             ],
             [
              0.3333333333333333,
              "#9c179e"
             ],
             [
              0.4444444444444444,
              "#bd3786"
             ],
             [
              0.5555555555555556,
              "#d8576b"
             ],
             [
              0.6666666666666666,
              "#ed7953"
             ],
             [
              0.7777777777777778,
              "#fb9f3a"
             ],
             [
              0.8888888888888888,
              "#fdca26"
             ],
             [
              1,
              "#f0f921"
             ]
            ],
            "type": "histogram2d"
           }
          ],
          "histogram2dcontour": [
           {
            "colorbar": {
             "outlinewidth": 0,
             "ticks": ""
            },
            "colorscale": [
             [
              0,
              "#0d0887"
             ],
             [
              0.1111111111111111,
              "#46039f"
             ],
             [
              0.2222222222222222,
              "#7201a8"
             ],
             [
              0.3333333333333333,
              "#9c179e"
             ],
             [
              0.4444444444444444,
              "#bd3786"
             ],
             [
              0.5555555555555556,
              "#d8576b"
             ],
             [
              0.6666666666666666,
              "#ed7953"
             ],
             [
              0.7777777777777778,
              "#fb9f3a"
             ],
             [
              0.8888888888888888,
              "#fdca26"
             ],
             [
              1,
              "#f0f921"
             ]
            ],
            "type": "histogram2dcontour"
           }
          ],
          "mesh3d": [
           {
            "colorbar": {
             "outlinewidth": 0,
             "ticks": ""
            },
            "type": "mesh3d"
           }
          ],
          "parcoords": [
           {
            "line": {
             "colorbar": {
              "outlinewidth": 0,
              "ticks": ""
             }
            },
            "type": "parcoords"
           }
          ],
          "pie": [
           {
            "automargin": true,
            "type": "pie"
           }
          ],
          "scatter": [
           {
            "fillpattern": {
             "fillmode": "overlay",
             "size": 10,
             "solidity": 0.2
            },
            "type": "scatter"
           }
          ],
          "scatter3d": [
           {
            "line": {
             "colorbar": {
              "outlinewidth": 0,
              "ticks": ""
             }
            },
            "marker": {
             "colorbar": {
              "outlinewidth": 0,
              "ticks": ""
             }
            },
            "type": "scatter3d"
           }
          ],
          "scattercarpet": [
           {
            "marker": {
             "colorbar": {
              "outlinewidth": 0,
              "ticks": ""
             }
            },
            "type": "scattercarpet"
           }
          ],
          "scattergeo": [
           {
            "marker": {
             "colorbar": {
              "outlinewidth": 0,
              "ticks": ""
             }
            },
            "type": "scattergeo"
           }
          ],
          "scattergl": [
           {
            "marker": {
             "colorbar": {
              "outlinewidth": 0,
              "ticks": ""
             }
            },
            "type": "scattergl"
           }
          ],
          "scattermapbox": [
           {
            "marker": {
             "colorbar": {
              "outlinewidth": 0,
              "ticks": ""
             }
            },
            "type": "scattermapbox"
           }
          ],
          "scatterpolar": [
           {
            "marker": {
             "colorbar": {
              "outlinewidth": 0,
              "ticks": ""
             }
            },
            "type": "scatterpolar"
           }
          ],
          "scatterpolargl": [
           {
            "marker": {
             "colorbar": {
              "outlinewidth": 0,
              "ticks": ""
             }
            },
            "type": "scatterpolargl"
           }
          ],
          "scatterternary": [
           {
            "marker": {
             "colorbar": {
              "outlinewidth": 0,
              "ticks": ""
             }
            },
            "type": "scatterternary"
           }
          ],
          "surface": [
           {
            "colorbar": {
             "outlinewidth": 0,
             "ticks": ""
            },
            "colorscale": [
             [
              0,
              "#0d0887"
             ],
             [
              0.1111111111111111,
              "#46039f"
             ],
             [
              0.2222222222222222,
              "#7201a8"
             ],
             [
              0.3333333333333333,
              "#9c179e"
             ],
             [
              0.4444444444444444,
              "#bd3786"
             ],
             [
              0.5555555555555556,
              "#d8576b"
             ],
             [
              0.6666666666666666,
              "#ed7953"
             ],
             [
              0.7777777777777778,
              "#fb9f3a"
             ],
             [
              0.8888888888888888,
              "#fdca26"
             ],
             [
              1,
              "#f0f921"
             ]
            ],
            "type": "surface"
           }
          ],
          "table": [
           {
            "cells": {
             "fill": {
              "color": "#EBF0F8"
             },
             "line": {
              "color": "white"
             }
            },
            "header": {
             "fill": {
              "color": "#C8D4E3"
             },
             "line": {
              "color": "white"
             }
            },
            "type": "table"
           }
          ]
         },
         "layout": {
          "annotationdefaults": {
           "arrowcolor": "#2a3f5f",
           "arrowhead": 0,
           "arrowwidth": 1
          },
          "autotypenumbers": "strict",
          "coloraxis": {
           "colorbar": {
            "outlinewidth": 0,
            "ticks": ""
           }
          },
          "colorscale": {
           "diverging": [
            [
             0,
             "#8e0152"
            ],
            [
             0.1,
             "#c51b7d"
            ],
            [
             0.2,
             "#de77ae"
            ],
            [
             0.3,
             "#f1b6da"
            ],
            [
             0.4,
             "#fde0ef"
            ],
            [
             0.5,
             "#f7f7f7"
            ],
            [
             0.6,
             "#e6f5d0"
            ],
            [
             0.7,
             "#b8e186"
            ],
            [
             0.8,
             "#7fbc41"
            ],
            [
             0.9,
             "#4d9221"
            ],
            [
             1,
             "#276419"
            ]
           ],
           "sequential": [
            [
             0,
             "#0d0887"
            ],
            [
             0.1111111111111111,
             "#46039f"
            ],
            [
             0.2222222222222222,
             "#7201a8"
            ],
            [
             0.3333333333333333,
             "#9c179e"
            ],
            [
             0.4444444444444444,
             "#bd3786"
            ],
            [
             0.5555555555555556,
             "#d8576b"
            ],
            [
             0.6666666666666666,
             "#ed7953"
            ],
            [
             0.7777777777777778,
             "#fb9f3a"
            ],
            [
             0.8888888888888888,
             "#fdca26"
            ],
            [
             1,
             "#f0f921"
            ]
           ],
           "sequentialminus": [
            [
             0,
             "#0d0887"
            ],
            [
             0.1111111111111111,
             "#46039f"
            ],
            [
             0.2222222222222222,
             "#7201a8"
            ],
            [
             0.3333333333333333,
             "#9c179e"
            ],
            [
             0.4444444444444444,
             "#bd3786"
            ],
            [
             0.5555555555555556,
             "#d8576b"
            ],
            [
             0.6666666666666666,
             "#ed7953"
            ],
            [
             0.7777777777777778,
             "#fb9f3a"
            ],
            [
             0.8888888888888888,
             "#fdca26"
            ],
            [
             1,
             "#f0f921"
            ]
           ]
          },
          "colorway": [
           "#636efa",
           "#EF553B",
           "#00cc96",
           "#ab63fa",
           "#FFA15A",
           "#19d3f3",
           "#FF6692",
           "#B6E880",
           "#FF97FF",
           "#FECB52"
          ],
          "font": {
           "color": "#2a3f5f"
          },
          "geo": {
           "bgcolor": "white",
           "lakecolor": "white",
           "landcolor": "#E5ECF6",
           "showlakes": true,
           "showland": true,
           "subunitcolor": "white"
          },
          "hoverlabel": {
           "align": "left"
          },
          "hovermode": "closest",
          "mapbox": {
           "style": "light"
          },
          "paper_bgcolor": "white",
          "plot_bgcolor": "#E5ECF6",
          "polar": {
           "angularaxis": {
            "gridcolor": "white",
            "linecolor": "white",
            "ticks": ""
           },
           "bgcolor": "#E5ECF6",
           "radialaxis": {
            "gridcolor": "white",
            "linecolor": "white",
            "ticks": ""
           }
          },
          "scene": {
           "xaxis": {
            "backgroundcolor": "#E5ECF6",
            "gridcolor": "white",
            "gridwidth": 2,
            "linecolor": "white",
            "showbackground": true,
            "ticks": "",
            "zerolinecolor": "white"
           },
           "yaxis": {
            "backgroundcolor": "#E5ECF6",
            "gridcolor": "white",
            "gridwidth": 2,
            "linecolor": "white",
            "showbackground": true,
            "ticks": "",
            "zerolinecolor": "white"
           },
           "zaxis": {
            "backgroundcolor": "#E5ECF6",
            "gridcolor": "white",
            "gridwidth": 2,
            "linecolor": "white",
            "showbackground": true,
            "ticks": "",
            "zerolinecolor": "white"
           }
          },
          "shapedefaults": {
           "line": {
            "color": "#2a3f5f"
           }
          },
          "ternary": {
           "aaxis": {
            "gridcolor": "white",
            "linecolor": "white",
            "ticks": ""
           },
           "baxis": {
            "gridcolor": "white",
            "linecolor": "white",
            "ticks": ""
           },
           "bgcolor": "#E5ECF6",
           "caxis": {
            "gridcolor": "white",
            "linecolor": "white",
            "ticks": ""
           }
          },
          "title": {
           "x": 0.05
          },
          "xaxis": {
           "automargin": true,
           "gridcolor": "white",
           "linecolor": "white",
           "ticks": "",
           "title": {
            "standoff": 15
           },
           "zerolinecolor": "white",
           "zerolinewidth": 2
          },
          "yaxis": {
           "automargin": true,
           "gridcolor": "white",
           "linecolor": "white",
           "ticks": "",
           "title": {
            "standoff": 15
           },
           "zerolinecolor": "white",
           "zerolinewidth": 2
          }
         }
        },
        "title": {
         "text": "Rainfall year-wise"
        },
        "xaxis": {
         "anchor": "y",
         "domain": [
          0,
          1
         ],
         "title": {
          "text": "SUBDIVISION"
         }
        },
        "yaxis": {
         "anchor": "x",
         "domain": [
          0,
          1
         ],
         "title": {
          "text": "ANNUAL"
         }
        }
       }
      }
     },
     "metadata": {},
     "output_type": "display_data"
    }
   ],
   "source": [
    "# rainfall state-wise\n",
    "fig = px.line(grouped_obj, x=grouped_obj.index, y='ANNUAL', title='Rainfall year-wise')\n",
    "conclusion = 'The graph shows rainfall from every State and UT.'\n",
    "fig.add_annotation(text=conclusion, xref='paper', yref='paper', x=.5, y=1, bgcolor='grey', showarrow=False, font=dict(size=12))\n",
    "fig.show()"
   ]
  },
  {
   "cell_type": "code",
   "execution_count": 76,
   "metadata": {},
   "outputs": [
    {
     "data": {
      "application/vnd.plotly.v1+json": {
       "config": {
        "plotlyServerURL": "https://plot.ly"
       },
       "data": [
        {
         "alignmentgroup": "True",
         "bingroup": "x",
         "histfunc": "sum",
         "hovertemplate": "SUBDIVISION=%{x}<br>sum of ANNUAL=%{y}<extra></extra>",
         "legendgroup": "",
         "marker": {
          "color": "#636efa",
          "pattern": {
           "shape": ""
          }
         },
         "name": "",
         "offsetgroup": "",
         "orientation": "v",
         "showlegend": false,
         "type": "histogram",
         "x": [
          "Andaman & Nicobar Islands",
          "Arunachal Pradesh",
          "Assam & Meghalaya",
          "Bihar",
          "Chhattisgarh",
          "Coastal Andhra Pradesh",
          "Coastal Karnataka",
          "East Madhya Pradesh",
          "East Rajasthan",
          "East Uttar Pradesh",
          "Gangetic West Bengal",
          "Gujarat Region",
          "Haryana Delhi & Chandigarh",
          "Himachal Pradesh",
          "Jammu & Kashmir",
          "Jharkhand",
          "Kerala",
          "Konkan & Goa",
          "Lakshadweep",
          "Madhya Maharashtra",
          "Matathwada",
          "Naga Mani Mizo Tripura",
          "North Interior Karnataka",
          "Orissa",
          "Punjab",
          "Rayalseema",
          "Saurashtra & Kutch",
          "South Interior Karnataka",
          "Sub Himalayan West Bengal & Sikkim",
          "Tamil Nadu",
          "Telangana",
          "Uttarakhand",
          "Vidarbha",
          "West Madhya Pradesh",
          "West Rajasthan",
          "West Uttar Pradesh"
         ],
         "xaxis": "x",
         "y": [
          324990.8991800317,
          337666.5251477027,
          301758.60000000003,
          139998.3,
          160189.6,
          122885.6,
          397264.7377719341,
          140755.5,
          76810.1,
          114175.6,
          174402.5,
          107381.8,
          61826.8,
          147042.8,
          133209.48932232347,
          152999.8,
          340968,
          349540.2,
          182673.60169806075,
          103126.2,
          92632.59999999999,
          284630.10000000003,
          83910.9,
          170287.6,
          69198.7,
          89503.59999999999,
          58076.5,
          121392.9,
          321813,
          110036.9,
          111496.9,
          171339.1,
          127945,
          110157.20437380497,
          34411.5,
          96396
         ],
         "yaxis": "y"
        }
       ],
       "layout": {
        "annotations": [
         {
          "bgcolor": "grey",
          "font": {
           "size": 12
          },
          "showarrow": false,
          "text": "The graph shows rainfall from every State and UT.",
          "x": 0.5,
          "xref": "paper",
          "y": 1,
          "yref": "paper"
         }
        ],
        "barmode": "relative",
        "legend": {
         "tracegroupgap": 0
        },
        "template": {
         "data": {
          "bar": [
           {
            "error_x": {
             "color": "#2a3f5f"
            },
            "error_y": {
             "color": "#2a3f5f"
            },
            "marker": {
             "line": {
              "color": "#E5ECF6",
              "width": 0.5
             },
             "pattern": {
              "fillmode": "overlay",
              "size": 10,
              "solidity": 0.2
             }
            },
            "type": "bar"
           }
          ],
          "barpolar": [
           {
            "marker": {
             "line": {
              "color": "#E5ECF6",
              "width": 0.5
             },
             "pattern": {
              "fillmode": "overlay",
              "size": 10,
              "solidity": 0.2
             }
            },
            "type": "barpolar"
           }
          ],
          "carpet": [
           {
            "aaxis": {
             "endlinecolor": "#2a3f5f",
             "gridcolor": "white",
             "linecolor": "white",
             "minorgridcolor": "white",
             "startlinecolor": "#2a3f5f"
            },
            "baxis": {
             "endlinecolor": "#2a3f5f",
             "gridcolor": "white",
             "linecolor": "white",
             "minorgridcolor": "white",
             "startlinecolor": "#2a3f5f"
            },
            "type": "carpet"
           }
          ],
          "choropleth": [
           {
            "colorbar": {
             "outlinewidth": 0,
             "ticks": ""
            },
            "type": "choropleth"
           }
          ],
          "contour": [
           {
            "colorbar": {
             "outlinewidth": 0,
             "ticks": ""
            },
            "colorscale": [
             [
              0,
              "#0d0887"
             ],
             [
              0.1111111111111111,
              "#46039f"
             ],
             [
              0.2222222222222222,
              "#7201a8"
             ],
             [
              0.3333333333333333,
              "#9c179e"
             ],
             [
              0.4444444444444444,
              "#bd3786"
             ],
             [
              0.5555555555555556,
              "#d8576b"
             ],
             [
              0.6666666666666666,
              "#ed7953"
             ],
             [
              0.7777777777777778,
              "#fb9f3a"
             ],
             [
              0.8888888888888888,
              "#fdca26"
             ],
             [
              1,
              "#f0f921"
             ]
            ],
            "type": "contour"
           }
          ],
          "contourcarpet": [
           {
            "colorbar": {
             "outlinewidth": 0,
             "ticks": ""
            },
            "type": "contourcarpet"
           }
          ],
          "heatmap": [
           {
            "colorbar": {
             "outlinewidth": 0,
             "ticks": ""
            },
            "colorscale": [
             [
              0,
              "#0d0887"
             ],
             [
              0.1111111111111111,
              "#46039f"
             ],
             [
              0.2222222222222222,
              "#7201a8"
             ],
             [
              0.3333333333333333,
              "#9c179e"
             ],
             [
              0.4444444444444444,
              "#bd3786"
             ],
             [
              0.5555555555555556,
              "#d8576b"
             ],
             [
              0.6666666666666666,
              "#ed7953"
             ],
             [
              0.7777777777777778,
              "#fb9f3a"
             ],
             [
              0.8888888888888888,
              "#fdca26"
             ],
             [
              1,
              "#f0f921"
             ]
            ],
            "type": "heatmap"
           }
          ],
          "heatmapgl": [
           {
            "colorbar": {
             "outlinewidth": 0,
             "ticks": ""
            },
            "colorscale": [
             [
              0,
              "#0d0887"
             ],
             [
              0.1111111111111111,
              "#46039f"
             ],
             [
              0.2222222222222222,
              "#7201a8"
             ],
             [
              0.3333333333333333,
              "#9c179e"
             ],
             [
              0.4444444444444444,
              "#bd3786"
             ],
             [
              0.5555555555555556,
              "#d8576b"
             ],
             [
              0.6666666666666666,
              "#ed7953"
             ],
             [
              0.7777777777777778,
              "#fb9f3a"
             ],
             [
              0.8888888888888888,
              "#fdca26"
             ],
             [
              1,
              "#f0f921"
             ]
            ],
            "type": "heatmapgl"
           }
          ],
          "histogram": [
           {
            "marker": {
             "pattern": {
              "fillmode": "overlay",
              "size": 10,
              "solidity": 0.2
             }
            },
            "type": "histogram"
           }
          ],
          "histogram2d": [
           {
            "colorbar": {
             "outlinewidth": 0,
             "ticks": ""
            },
            "colorscale": [
             [
              0,
              "#0d0887"
             ],
             [
              0.1111111111111111,
              "#46039f"
             ],
             [
              0.2222222222222222,
              "#7201a8"
             ],
             [
              0.3333333333333333,
              "#9c179e"
             ],
             [
              0.4444444444444444,
              "#bd3786"
             ],
             [
              0.5555555555555556,
              "#d8576b"
             ],
             [
              0.6666666666666666,
              "#ed7953"
             ],
             [
              0.7777777777777778,
              "#fb9f3a"
             ],
             [
              0.8888888888888888,
              "#fdca26"
             ],
             [
              1,
              "#f0f921"
             ]
            ],
            "type": "histogram2d"
           }
          ],
          "histogram2dcontour": [
           {
            "colorbar": {
             "outlinewidth": 0,
             "ticks": ""
            },
            "colorscale": [
             [
              0,
              "#0d0887"
             ],
             [
              0.1111111111111111,
              "#46039f"
             ],
             [
              0.2222222222222222,
              "#7201a8"
             ],
             [
              0.3333333333333333,
              "#9c179e"
             ],
             [
              0.4444444444444444,
              "#bd3786"
             ],
             [
              0.5555555555555556,
              "#d8576b"
             ],
             [
              0.6666666666666666,
              "#ed7953"
             ],
             [
              0.7777777777777778,
              "#fb9f3a"
             ],
             [
              0.8888888888888888,
              "#fdca26"
             ],
             [
              1,
              "#f0f921"
             ]
            ],
            "type": "histogram2dcontour"
           }
          ],
          "mesh3d": [
           {
            "colorbar": {
             "outlinewidth": 0,
             "ticks": ""
            },
            "type": "mesh3d"
           }
          ],
          "parcoords": [
           {
            "line": {
             "colorbar": {
              "outlinewidth": 0,
              "ticks": ""
             }
            },
            "type": "parcoords"
           }
          ],
          "pie": [
           {
            "automargin": true,
            "type": "pie"
           }
          ],
          "scatter": [
           {
            "fillpattern": {
             "fillmode": "overlay",
             "size": 10,
             "solidity": 0.2
            },
            "type": "scatter"
           }
          ],
          "scatter3d": [
           {
            "line": {
             "colorbar": {
              "outlinewidth": 0,
              "ticks": ""
             }
            },
            "marker": {
             "colorbar": {
              "outlinewidth": 0,
              "ticks": ""
             }
            },
            "type": "scatter3d"
           }
          ],
          "scattercarpet": [
           {
            "marker": {
             "colorbar": {
              "outlinewidth": 0,
              "ticks": ""
             }
            },
            "type": "scattercarpet"
           }
          ],
          "scattergeo": [
           {
            "marker": {
             "colorbar": {
              "outlinewidth": 0,
              "ticks": ""
             }
            },
            "type": "scattergeo"
           }
          ],
          "scattergl": [
           {
            "marker": {
             "colorbar": {
              "outlinewidth": 0,
              "ticks": ""
             }
            },
            "type": "scattergl"
           }
          ],
          "scattermapbox": [
           {
            "marker": {
             "colorbar": {
              "outlinewidth": 0,
              "ticks": ""
             }
            },
            "type": "scattermapbox"
           }
          ],
          "scatterpolar": [
           {
            "marker": {
             "colorbar": {
              "outlinewidth": 0,
              "ticks": ""
             }
            },
            "type": "scatterpolar"
           }
          ],
          "scatterpolargl": [
           {
            "marker": {
             "colorbar": {
              "outlinewidth": 0,
              "ticks": ""
             }
            },
            "type": "scatterpolargl"
           }
          ],
          "scatterternary": [
           {
            "marker": {
             "colorbar": {
              "outlinewidth": 0,
              "ticks": ""
             }
            },
            "type": "scatterternary"
           }
          ],
          "surface": [
           {
            "colorbar": {
             "outlinewidth": 0,
             "ticks": ""
            },
            "colorscale": [
             [
              0,
              "#0d0887"
             ],
             [
              0.1111111111111111,
              "#46039f"
             ],
             [
              0.2222222222222222,
              "#7201a8"
             ],
             [
              0.3333333333333333,
              "#9c179e"
             ],
             [
              0.4444444444444444,
              "#bd3786"
             ],
             [
              0.5555555555555556,
              "#d8576b"
             ],
             [
              0.6666666666666666,
              "#ed7953"
             ],
             [
              0.7777777777777778,
              "#fb9f3a"
             ],
             [
              0.8888888888888888,
              "#fdca26"
             ],
             [
              1,
              "#f0f921"
             ]
            ],
            "type": "surface"
           }
          ],
          "table": [
           {
            "cells": {
             "fill": {
              "color": "#EBF0F8"
             },
             "line": {
              "color": "white"
             }
            },
            "header": {
             "fill": {
              "color": "#C8D4E3"
             },
             "line": {
              "color": "white"
             }
            },
            "type": "table"
           }
          ]
         },
         "layout": {
          "annotationdefaults": {
           "arrowcolor": "#2a3f5f",
           "arrowhead": 0,
           "arrowwidth": 1
          },
          "autotypenumbers": "strict",
          "coloraxis": {
           "colorbar": {
            "outlinewidth": 0,
            "ticks": ""
           }
          },
          "colorscale": {
           "diverging": [
            [
             0,
             "#8e0152"
            ],
            [
             0.1,
             "#c51b7d"
            ],
            [
             0.2,
             "#de77ae"
            ],
            [
             0.3,
             "#f1b6da"
            ],
            [
             0.4,
             "#fde0ef"
            ],
            [
             0.5,
             "#f7f7f7"
            ],
            [
             0.6,
             "#e6f5d0"
            ],
            [
             0.7,
             "#b8e186"
            ],
            [
             0.8,
             "#7fbc41"
            ],
            [
             0.9,
             "#4d9221"
            ],
            [
             1,
             "#276419"
            ]
           ],
           "sequential": [
            [
             0,
             "#0d0887"
            ],
            [
             0.1111111111111111,
             "#46039f"
            ],
            [
             0.2222222222222222,
             "#7201a8"
            ],
            [
             0.3333333333333333,
             "#9c179e"
            ],
            [
             0.4444444444444444,
             "#bd3786"
            ],
            [
             0.5555555555555556,
             "#d8576b"
            ],
            [
             0.6666666666666666,
             "#ed7953"
            ],
            [
             0.7777777777777778,
             "#fb9f3a"
            ],
            [
             0.8888888888888888,
             "#fdca26"
            ],
            [
             1,
             "#f0f921"
            ]
           ],
           "sequentialminus": [
            [
             0,
             "#0d0887"
            ],
            [
             0.1111111111111111,
             "#46039f"
            ],
            [
             0.2222222222222222,
             "#7201a8"
            ],
            [
             0.3333333333333333,
             "#9c179e"
            ],
            [
             0.4444444444444444,
             "#bd3786"
            ],
            [
             0.5555555555555556,
             "#d8576b"
            ],
            [
             0.6666666666666666,
             "#ed7953"
            ],
            [
             0.7777777777777778,
             "#fb9f3a"
            ],
            [
             0.8888888888888888,
             "#fdca26"
            ],
            [
             1,
             "#f0f921"
            ]
           ]
          },
          "colorway": [
           "#636efa",
           "#EF553B",
           "#00cc96",
           "#ab63fa",
           "#FFA15A",
           "#19d3f3",
           "#FF6692",
           "#B6E880",
           "#FF97FF",
           "#FECB52"
          ],
          "font": {
           "color": "#2a3f5f"
          },
          "geo": {
           "bgcolor": "white",
           "lakecolor": "white",
           "landcolor": "#E5ECF6",
           "showlakes": true,
           "showland": true,
           "subunitcolor": "white"
          },
          "hoverlabel": {
           "align": "left"
          },
          "hovermode": "closest",
          "mapbox": {
           "style": "light"
          },
          "paper_bgcolor": "white",
          "plot_bgcolor": "#E5ECF6",
          "polar": {
           "angularaxis": {
            "gridcolor": "white",
            "linecolor": "white",
            "ticks": ""
           },
           "bgcolor": "#E5ECF6",
           "radialaxis": {
            "gridcolor": "white",
            "linecolor": "white",
            "ticks": ""
           }
          },
          "scene": {
           "xaxis": {
            "backgroundcolor": "#E5ECF6",
            "gridcolor": "white",
            "gridwidth": 2,
            "linecolor": "white",
            "showbackground": true,
            "ticks": "",
            "zerolinecolor": "white"
           },
           "yaxis": {
            "backgroundcolor": "#E5ECF6",
            "gridcolor": "white",
            "gridwidth": 2,
            "linecolor": "white",
            "showbackground": true,
            "ticks": "",
            "zerolinecolor": "white"
           },
           "zaxis": {
            "backgroundcolor": "#E5ECF6",
            "gridcolor": "white",
            "gridwidth": 2,
            "linecolor": "white",
            "showbackground": true,
            "ticks": "",
            "zerolinecolor": "white"
           }
          },
          "shapedefaults": {
           "line": {
            "color": "#2a3f5f"
           }
          },
          "ternary": {
           "aaxis": {
            "gridcolor": "white",
            "linecolor": "white",
            "ticks": ""
           },
           "baxis": {
            "gridcolor": "white",
            "linecolor": "white",
            "ticks": ""
           },
           "bgcolor": "#E5ECF6",
           "caxis": {
            "gridcolor": "white",
            "linecolor": "white",
            "ticks": ""
           }
          },
          "title": {
           "x": 0.05
          },
          "xaxis": {
           "automargin": true,
           "gridcolor": "white",
           "linecolor": "white",
           "ticks": "",
           "title": {
            "standoff": 15
           },
           "zerolinecolor": "white",
           "zerolinewidth": 2
          },
          "yaxis": {
           "automargin": true,
           "gridcolor": "white",
           "linecolor": "white",
           "ticks": "",
           "title": {
            "standoff": 15
           },
           "zerolinecolor": "white",
           "zerolinewidth": 2
          }
         }
        },
        "title": {
         "text": "Rainfall year-wise"
        },
        "xaxis": {
         "anchor": "y",
         "domain": [
          0,
          1
         ],
         "title": {
          "text": "SUBDIVISION"
         }
        },
        "yaxis": {
         "anchor": "x",
         "domain": [
          0,
          1
         ],
         "title": {
          "text": "sum of ANNUAL"
         }
        }
       }
      }
     },
     "metadata": {},
     "output_type": "display_data"
    }
   ],
   "source": [
    "# rainfall state-wise\n",
    "fig = px.histogram(grouped_obj, x=grouped_obj.index, y='ANNUAL', title='Rainfall year-wise')\n",
    "conclusion = 'The graph shows rainfall from every State and UT.'\n",
    "fig.add_annotation(text=conclusion, xref='paper', yref='paper', x=.5, y=1, bgcolor='grey', showarrow=False, font=dict(size=12))\n",
    "fig.show()"
   ]
  },
  {
   "cell_type": "code",
   "execution_count": null,
   "metadata": {},
   "outputs": [],
   "source": []
  }
 ],
 "metadata": {
  "kernelspec": {
   "display_name": "base",
   "language": "python",
   "name": "python3"
  },
  "language_info": {
   "codemirror_mode": {
    "name": "ipython",
    "version": 3
   },
   "file_extension": ".py",
   "mimetype": "text/x-python",
   "name": "python",
   "nbconvert_exporter": "python",
   "pygments_lexer": "ipython3",
   "version": "3.10.8"
  },
  "orig_nbformat": 4
 },
 "nbformat": 4,
 "nbformat_minor": 2
}
